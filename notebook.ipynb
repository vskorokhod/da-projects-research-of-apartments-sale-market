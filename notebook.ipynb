{
 "cells": [
  {
   "cell_type": "markdown",
   "metadata": {},
   "source": [
    "# Исследование объявлений о продаже квартир\n",
    "\n",
    "В вашем распоряжении данные сервиса Яндекс.Недвижимость — архив объявлений о продаже квартир в Санкт-Петербурге и соседних населённых пунктов за несколько лет. Нужно научиться определять рыночную стоимость объектов недвижимости. Ваша задача — установить параметры. Это позволит построить автоматизированную систему: она отследит аномалии и мошенническую деятельность. \n",
    "\n",
    "По каждой квартире на продажу доступны два вида данных. Первые вписаны пользователем, вторые — получены автоматически на основе картографических данных. Например, расстояние до центра, аэропорта, ближайшего парка и водоёма. "
   ]
  },
  {
   "cell_type": "markdown",
   "metadata": {},
   "source": [
    "### Откройте файл с данными и изучите общую информацию. "
   ]
  },
  {
   "cell_type": "code",
   "execution_count": 1,
   "metadata": {},
   "outputs": [],
   "source": [
    "import pandas as pd\n",
    "df = pd.read_csv('real_estate_data.csv', sep='\\t')"
   ]
  },
  {
   "cell_type": "markdown",
   "metadata": {},
   "source": [
    "<i>Посмотрим на датасет в целом</i>"
   ]
  },
  {
   "cell_type": "code",
   "execution_count": 2,
   "metadata": {
    "scrolled": false
   },
   "outputs": [
    {
     "data": {
      "text/html": [
       "<div>\n",
       "<style scoped>\n",
       "    .dataframe tbody tr th:only-of-type {\n",
       "        vertical-align: middle;\n",
       "    }\n",
       "\n",
       "    .dataframe tbody tr th {\n",
       "        vertical-align: top;\n",
       "    }\n",
       "\n",
       "    .dataframe thead th {\n",
       "        text-align: right;\n",
       "    }\n",
       "</style>\n",
       "<table border=\"1\" class=\"dataframe\">\n",
       "  <thead>\n",
       "    <tr style=\"text-align: right;\">\n",
       "      <th></th>\n",
       "      <th>total_images</th>\n",
       "      <th>last_price</th>\n",
       "      <th>total_area</th>\n",
       "      <th>first_day_exposition</th>\n",
       "      <th>rooms</th>\n",
       "      <th>ceiling_height</th>\n",
       "      <th>floors_total</th>\n",
       "      <th>living_area</th>\n",
       "      <th>floor</th>\n",
       "      <th>is_apartment</th>\n",
       "      <th>...</th>\n",
       "      <th>kitchen_area</th>\n",
       "      <th>balcony</th>\n",
       "      <th>locality_name</th>\n",
       "      <th>airports_nearest</th>\n",
       "      <th>cityCenters_nearest</th>\n",
       "      <th>parks_around3000</th>\n",
       "      <th>parks_nearest</th>\n",
       "      <th>ponds_around3000</th>\n",
       "      <th>ponds_nearest</th>\n",
       "      <th>days_exposition</th>\n",
       "    </tr>\n",
       "  </thead>\n",
       "  <tbody>\n",
       "    <tr>\n",
       "      <th>0</th>\n",
       "      <td>20</td>\n",
       "      <td>13000000.0</td>\n",
       "      <td>108.00</td>\n",
       "      <td>2019-03-07T00:00:00</td>\n",
       "      <td>3</td>\n",
       "      <td>2.70</td>\n",
       "      <td>16.0</td>\n",
       "      <td>51.00</td>\n",
       "      <td>8</td>\n",
       "      <td>NaN</td>\n",
       "      <td>...</td>\n",
       "      <td>25.00</td>\n",
       "      <td>NaN</td>\n",
       "      <td>Санкт-Петербург</td>\n",
       "      <td>18863.0</td>\n",
       "      <td>16028.0</td>\n",
       "      <td>1.0</td>\n",
       "      <td>482.0</td>\n",
       "      <td>2.0</td>\n",
       "      <td>755.0</td>\n",
       "      <td>NaN</td>\n",
       "    </tr>\n",
       "    <tr>\n",
       "      <th>1</th>\n",
       "      <td>7</td>\n",
       "      <td>3350000.0</td>\n",
       "      <td>40.40</td>\n",
       "      <td>2018-12-04T00:00:00</td>\n",
       "      <td>1</td>\n",
       "      <td>NaN</td>\n",
       "      <td>11.0</td>\n",
       "      <td>18.60</td>\n",
       "      <td>1</td>\n",
       "      <td>NaN</td>\n",
       "      <td>...</td>\n",
       "      <td>11.00</td>\n",
       "      <td>2.0</td>\n",
       "      <td>посёлок Шушары</td>\n",
       "      <td>12817.0</td>\n",
       "      <td>18603.0</td>\n",
       "      <td>0.0</td>\n",
       "      <td>NaN</td>\n",
       "      <td>0.0</td>\n",
       "      <td>NaN</td>\n",
       "      <td>81.0</td>\n",
       "    </tr>\n",
       "    <tr>\n",
       "      <th>2</th>\n",
       "      <td>10</td>\n",
       "      <td>5196000.0</td>\n",
       "      <td>56.00</td>\n",
       "      <td>2015-08-20T00:00:00</td>\n",
       "      <td>2</td>\n",
       "      <td>NaN</td>\n",
       "      <td>5.0</td>\n",
       "      <td>34.30</td>\n",
       "      <td>4</td>\n",
       "      <td>NaN</td>\n",
       "      <td>...</td>\n",
       "      <td>8.30</td>\n",
       "      <td>0.0</td>\n",
       "      <td>Санкт-Петербург</td>\n",
       "      <td>21741.0</td>\n",
       "      <td>13933.0</td>\n",
       "      <td>1.0</td>\n",
       "      <td>90.0</td>\n",
       "      <td>2.0</td>\n",
       "      <td>574.0</td>\n",
       "      <td>558.0</td>\n",
       "    </tr>\n",
       "    <tr>\n",
       "      <th>3</th>\n",
       "      <td>0</td>\n",
       "      <td>64900000.0</td>\n",
       "      <td>159.00</td>\n",
       "      <td>2015-07-24T00:00:00</td>\n",
       "      <td>3</td>\n",
       "      <td>NaN</td>\n",
       "      <td>14.0</td>\n",
       "      <td>NaN</td>\n",
       "      <td>9</td>\n",
       "      <td>NaN</td>\n",
       "      <td>...</td>\n",
       "      <td>NaN</td>\n",
       "      <td>0.0</td>\n",
       "      <td>Санкт-Петербург</td>\n",
       "      <td>28098.0</td>\n",
       "      <td>6800.0</td>\n",
       "      <td>2.0</td>\n",
       "      <td>84.0</td>\n",
       "      <td>3.0</td>\n",
       "      <td>234.0</td>\n",
       "      <td>424.0</td>\n",
       "    </tr>\n",
       "    <tr>\n",
       "      <th>4</th>\n",
       "      <td>2</td>\n",
       "      <td>10000000.0</td>\n",
       "      <td>100.00</td>\n",
       "      <td>2018-06-19T00:00:00</td>\n",
       "      <td>2</td>\n",
       "      <td>3.03</td>\n",
       "      <td>14.0</td>\n",
       "      <td>32.00</td>\n",
       "      <td>13</td>\n",
       "      <td>NaN</td>\n",
       "      <td>...</td>\n",
       "      <td>41.00</td>\n",
       "      <td>NaN</td>\n",
       "      <td>Санкт-Петербург</td>\n",
       "      <td>31856.0</td>\n",
       "      <td>8098.0</td>\n",
       "      <td>2.0</td>\n",
       "      <td>112.0</td>\n",
       "      <td>1.0</td>\n",
       "      <td>48.0</td>\n",
       "      <td>121.0</td>\n",
       "    </tr>\n",
       "    <tr>\n",
       "      <th>5</th>\n",
       "      <td>10</td>\n",
       "      <td>2890000.0</td>\n",
       "      <td>30.40</td>\n",
       "      <td>2018-09-10T00:00:00</td>\n",
       "      <td>1</td>\n",
       "      <td>NaN</td>\n",
       "      <td>12.0</td>\n",
       "      <td>14.40</td>\n",
       "      <td>5</td>\n",
       "      <td>NaN</td>\n",
       "      <td>...</td>\n",
       "      <td>9.10</td>\n",
       "      <td>NaN</td>\n",
       "      <td>городской посёлок Янино-1</td>\n",
       "      <td>NaN</td>\n",
       "      <td>NaN</td>\n",
       "      <td>NaN</td>\n",
       "      <td>NaN</td>\n",
       "      <td>NaN</td>\n",
       "      <td>NaN</td>\n",
       "      <td>55.0</td>\n",
       "    </tr>\n",
       "    <tr>\n",
       "      <th>6</th>\n",
       "      <td>6</td>\n",
       "      <td>3700000.0</td>\n",
       "      <td>37.30</td>\n",
       "      <td>2017-11-02T00:00:00</td>\n",
       "      <td>1</td>\n",
       "      <td>NaN</td>\n",
       "      <td>26.0</td>\n",
       "      <td>10.60</td>\n",
       "      <td>6</td>\n",
       "      <td>NaN</td>\n",
       "      <td>...</td>\n",
       "      <td>14.40</td>\n",
       "      <td>1.0</td>\n",
       "      <td>посёлок Парголово</td>\n",
       "      <td>52996.0</td>\n",
       "      <td>19143.0</td>\n",
       "      <td>0.0</td>\n",
       "      <td>NaN</td>\n",
       "      <td>0.0</td>\n",
       "      <td>NaN</td>\n",
       "      <td>155.0</td>\n",
       "    </tr>\n",
       "    <tr>\n",
       "      <th>7</th>\n",
       "      <td>5</td>\n",
       "      <td>7915000.0</td>\n",
       "      <td>71.60</td>\n",
       "      <td>2019-04-18T00:00:00</td>\n",
       "      <td>2</td>\n",
       "      <td>NaN</td>\n",
       "      <td>24.0</td>\n",
       "      <td>NaN</td>\n",
       "      <td>22</td>\n",
       "      <td>NaN</td>\n",
       "      <td>...</td>\n",
       "      <td>18.90</td>\n",
       "      <td>2.0</td>\n",
       "      <td>Санкт-Петербург</td>\n",
       "      <td>23982.0</td>\n",
       "      <td>11634.0</td>\n",
       "      <td>0.0</td>\n",
       "      <td>NaN</td>\n",
       "      <td>0.0</td>\n",
       "      <td>NaN</td>\n",
       "      <td>NaN</td>\n",
       "    </tr>\n",
       "    <tr>\n",
       "      <th>8</th>\n",
       "      <td>20</td>\n",
       "      <td>2900000.0</td>\n",
       "      <td>33.16</td>\n",
       "      <td>2018-05-23T00:00:00</td>\n",
       "      <td>1</td>\n",
       "      <td>NaN</td>\n",
       "      <td>27.0</td>\n",
       "      <td>15.43</td>\n",
       "      <td>26</td>\n",
       "      <td>NaN</td>\n",
       "      <td>...</td>\n",
       "      <td>8.81</td>\n",
       "      <td>NaN</td>\n",
       "      <td>посёлок Мурино</td>\n",
       "      <td>NaN</td>\n",
       "      <td>NaN</td>\n",
       "      <td>NaN</td>\n",
       "      <td>NaN</td>\n",
       "      <td>NaN</td>\n",
       "      <td>NaN</td>\n",
       "      <td>189.0</td>\n",
       "    </tr>\n",
       "    <tr>\n",
       "      <th>9</th>\n",
       "      <td>18</td>\n",
       "      <td>5400000.0</td>\n",
       "      <td>61.00</td>\n",
       "      <td>2017-02-26T00:00:00</td>\n",
       "      <td>3</td>\n",
       "      <td>2.50</td>\n",
       "      <td>9.0</td>\n",
       "      <td>43.60</td>\n",
       "      <td>7</td>\n",
       "      <td>NaN</td>\n",
       "      <td>...</td>\n",
       "      <td>6.50</td>\n",
       "      <td>2.0</td>\n",
       "      <td>Санкт-Петербург</td>\n",
       "      <td>50898.0</td>\n",
       "      <td>15008.0</td>\n",
       "      <td>0.0</td>\n",
       "      <td>NaN</td>\n",
       "      <td>0.0</td>\n",
       "      <td>NaN</td>\n",
       "      <td>289.0</td>\n",
       "    </tr>\n",
       "  </tbody>\n",
       "</table>\n",
       "<p>10 rows × 22 columns</p>\n",
       "</div>"
      ],
      "text/plain": [
       "   total_images  last_price  total_area first_day_exposition  rooms  \\\n",
       "0            20  13000000.0      108.00  2019-03-07T00:00:00      3   \n",
       "1             7   3350000.0       40.40  2018-12-04T00:00:00      1   \n",
       "2            10   5196000.0       56.00  2015-08-20T00:00:00      2   \n",
       "3             0  64900000.0      159.00  2015-07-24T00:00:00      3   \n",
       "4             2  10000000.0      100.00  2018-06-19T00:00:00      2   \n",
       "5            10   2890000.0       30.40  2018-09-10T00:00:00      1   \n",
       "6             6   3700000.0       37.30  2017-11-02T00:00:00      1   \n",
       "7             5   7915000.0       71.60  2019-04-18T00:00:00      2   \n",
       "8            20   2900000.0       33.16  2018-05-23T00:00:00      1   \n",
       "9            18   5400000.0       61.00  2017-02-26T00:00:00      3   \n",
       "\n",
       "   ceiling_height  floors_total  living_area  floor is_apartment  ...  \\\n",
       "0            2.70          16.0        51.00      8          NaN  ...   \n",
       "1             NaN          11.0        18.60      1          NaN  ...   \n",
       "2             NaN           5.0        34.30      4          NaN  ...   \n",
       "3             NaN          14.0          NaN      9          NaN  ...   \n",
       "4            3.03          14.0        32.00     13          NaN  ...   \n",
       "5             NaN          12.0        14.40      5          NaN  ...   \n",
       "6             NaN          26.0        10.60      6          NaN  ...   \n",
       "7             NaN          24.0          NaN     22          NaN  ...   \n",
       "8             NaN          27.0        15.43     26          NaN  ...   \n",
       "9            2.50           9.0        43.60      7          NaN  ...   \n",
       "\n",
       "   kitchen_area  balcony              locality_name  airports_nearest  \\\n",
       "0         25.00      NaN            Санкт-Петербург           18863.0   \n",
       "1         11.00      2.0             посёлок Шушары           12817.0   \n",
       "2          8.30      0.0            Санкт-Петербург           21741.0   \n",
       "3           NaN      0.0            Санкт-Петербург           28098.0   \n",
       "4         41.00      NaN            Санкт-Петербург           31856.0   \n",
       "5          9.10      NaN  городской посёлок Янино-1               NaN   \n",
       "6         14.40      1.0          посёлок Парголово           52996.0   \n",
       "7         18.90      2.0            Санкт-Петербург           23982.0   \n",
       "8          8.81      NaN             посёлок Мурино               NaN   \n",
       "9          6.50      2.0            Санкт-Петербург           50898.0   \n",
       "\n",
       "  cityCenters_nearest  parks_around3000  parks_nearest  ponds_around3000  \\\n",
       "0             16028.0               1.0          482.0               2.0   \n",
       "1             18603.0               0.0            NaN               0.0   \n",
       "2             13933.0               1.0           90.0               2.0   \n",
       "3              6800.0               2.0           84.0               3.0   \n",
       "4              8098.0               2.0          112.0               1.0   \n",
       "5                 NaN               NaN            NaN               NaN   \n",
       "6             19143.0               0.0            NaN               0.0   \n",
       "7             11634.0               0.0            NaN               0.0   \n",
       "8                 NaN               NaN            NaN               NaN   \n",
       "9             15008.0               0.0            NaN               0.0   \n",
       "\n",
       "   ponds_nearest  days_exposition  \n",
       "0          755.0              NaN  \n",
       "1            NaN             81.0  \n",
       "2          574.0            558.0  \n",
       "3          234.0            424.0  \n",
       "4           48.0            121.0  \n",
       "5            NaN             55.0  \n",
       "6            NaN            155.0  \n",
       "7            NaN              NaN  \n",
       "8            NaN            189.0  \n",
       "9            NaN            289.0  \n",
       "\n",
       "[10 rows x 22 columns]"
      ]
     },
     "execution_count": 2,
     "metadata": {},
     "output_type": "execute_result"
    }
   ],
   "source": [
    "df.head(10)"
   ]
  },
  {
   "cell_type": "markdown",
   "metadata": {},
   "source": [
    "<i>И на общую информацию о нём</i>"
   ]
  },
  {
   "cell_type": "code",
   "execution_count": 3,
   "metadata": {
    "scrolled": false
   },
   "outputs": [
    {
     "name": "stdout",
     "output_type": "stream",
     "text": [
      "<class 'pandas.core.frame.DataFrame'>\n",
      "RangeIndex: 23699 entries, 0 to 23698\n",
      "Data columns (total 22 columns):\n",
      " #   Column                Non-Null Count  Dtype  \n",
      "---  ------                --------------  -----  \n",
      " 0   total_images          23699 non-null  int64  \n",
      " 1   last_price            23699 non-null  float64\n",
      " 2   total_area            23699 non-null  float64\n",
      " 3   first_day_exposition  23699 non-null  object \n",
      " 4   rooms                 23699 non-null  int64  \n",
      " 5   ceiling_height        14504 non-null  float64\n",
      " 6   floors_total          23613 non-null  float64\n",
      " 7   living_area           21796 non-null  float64\n",
      " 8   floor                 23699 non-null  int64  \n",
      " 9   is_apartment          2775 non-null   object \n",
      " 10  studio                23699 non-null  bool   \n",
      " 11  open_plan             23699 non-null  bool   \n",
      " 12  kitchen_area          21421 non-null  float64\n",
      " 13  balcony               12180 non-null  float64\n",
      " 14  locality_name         23650 non-null  object \n",
      " 15  airports_nearest      18157 non-null  float64\n",
      " 16  cityCenters_nearest   18180 non-null  float64\n",
      " 17  parks_around3000      18181 non-null  float64\n",
      " 18  parks_nearest         8079 non-null   float64\n",
      " 19  ponds_around3000      18181 non-null  float64\n",
      " 20  ponds_nearest         9110 non-null   float64\n",
      " 21  days_exposition       20518 non-null  float64\n",
      "dtypes: bool(2), float64(14), int64(3), object(3)\n",
      "memory usage: 3.7+ MB\n"
     ]
    }
   ],
   "source": [
    "df.info()"
   ]
  },
  {
   "cell_type": "markdown",
   "metadata": {},
   "source": [
    "<i>Переименуем некоторые столбцы для удобства (приведём их к общему виду)</i>"
   ]
  },
  {
   "cell_type": "code",
   "execution_count": 4,
   "metadata": {},
   "outputs": [],
   "source": [
    "df.rename(columns={'cityCenters_nearest' : 'city_centers_nearest', 'parks_around3000' : 'parks_around_3000', 'ponds_around3000' : 'ponds_around_3000'}, inplace=True)"
   ]
  },
  {
   "cell_type": "markdown",
   "metadata": {},
   "source": [
    "<i>Построим гистограммы для всех столбцов датафрейма</i>"
   ]
  },
  {
   "cell_type": "code",
   "execution_count": 5,
   "metadata": {
    "scrolled": false
   },
   "outputs": [
    {
     "data": {
      "image/png": "[encoded data removed]",
      "text/plain": [
       "<Figure size 1080x1440 with 20 Axes>"
      ]
     },
     "metadata": {
      "needs_background": "light"
     },
     "output_type": "display_data"
    }
   ],
   "source": [
    "df.hist(figsize=(15, 20));"
   ]
  },
  {
   "cell_type": "markdown",
   "metadata": {},
   "source": [
    "\n",
    "<div style=\"font-size:2rem; font-weight:bold\">Вывод</div>\n",
    "<p></p>\n",
    "<div style=\"border:solid green 2px; padding: 20px\">\n",
    "    <i><b>На первый взгляд, в датафрейме много пропусков в разных столбцах (это видно из вывода info - много значений меньше 23699. Детальнее займёмся этим в следующем разделе. Что касается гистограмм - большинство данных имеет пуассоновское распределение, что, в целом, соответствует здравому смыслу. Крайне неинформативно выглядят гистограммы для переменных last_price и ceiling_height, видимо, в этих данных есть существенные выбросы. Примерно то же можно сказать и про столбцы total_area, rooms, kitchen_area, living_area (видимо, в данных есть либо квартиры очень большого размера, либо ошибки в данных - в любом случае, это тоже выбросы). Обработкой и анализом займёмся далее.</b></i>\n",
    "</div>"
   ]
  },
  {
   "cell_type": "markdown",
   "metadata": {},
   "source": [
    "### Предобработка данных"
   ]
  },
  {
   "cell_type": "markdown",
   "metadata": {},
   "source": [
    "<h4>Изменение типов данных</h4>"
   ]
  },
  {
   "cell_type": "markdown",
   "metadata": {},
   "source": [
    "<div style=\"border:solid black 1px; padding: 10px\">\n",
    "    <i>У некоторых данных можно изменить тип:\n",
    "        <ul>\n",
    "            <li>столбец first_day_exposition - это явно дата, можно привести к datetime (вероятно, понадобится нам для дальнейших расчётов, учитывая наличие переменной days_exposition в датасете</li>\n",
    "            <li>is_apartment - явно булева переменная (возможно, пригодится в фильтрах)</li>\n",
    "            <li>столбцы floors_total, balcony, days_exposition, parks_around_3000 и ponds_around_3000 по смыслу можно было бы привести к int64, но прямое приведение даст ошибку из-за наличия пустот в этих столбцах, да и какого-то существенного выигрыша это нам не даст, так что это оставим как есть</li>\n",
    "        </ul>\n",
    "    </i>\n",
    "</div>"
   ]
  },
  {
   "cell_type": "code",
   "execution_count": 6,
   "metadata": {},
   "outputs": [],
   "source": [
    "df['first_day_exposition'] = pd.to_datetime(df['first_day_exposition'], format='%Y-%m-%dT%H:%M:%S')"
   ]
  },
  {
   "cell_type": "code",
   "execution_count": 7,
   "metadata": {},
   "outputs": [],
   "source": [
    "df['is_apartment'] = df['is_apartment'].astype('bool')"
   ]
  },
  {
   "cell_type": "markdown",
   "metadata": {},
   "source": [
    "<h4>Работа с пропусками</h4>"
   ]
  },
  {
   "cell_type": "markdown",
   "metadata": {},
   "source": [
    "<i>Посчитаем общее количество пропусков в столбцах датафрейма</i>"
   ]
  },
  {
   "cell_type": "code",
   "execution_count": 8,
   "metadata": {},
   "outputs": [
    {
     "data": {
      "text/plain": [
       "total_images                0\n",
       "last_price                  0\n",
       "total_area                  0\n",
       "first_day_exposition        0\n",
       "rooms                       0\n",
       "ceiling_height           9195\n",
       "floors_total               86\n",
       "living_area              1903\n",
       "floor                       0\n",
       "is_apartment                0\n",
       "studio                      0\n",
       "open_plan                   0\n",
       "kitchen_area             2278\n",
       "balcony                 11519\n",
       "locality_name              49\n",
       "airports_nearest         5542\n",
       "city_centers_nearest     5519\n",
       "parks_around_3000        5518\n",
       "parks_nearest           15620\n",
       "ponds_around_3000        5518\n",
       "ponds_nearest           14589\n",
       "days_exposition          3181\n",
       "dtype: int64"
      ]
     },
     "execution_count": 8,
     "metadata": {},
     "output_type": "execute_result"
    }
   ],
   "source": [
    "df.isna().sum()"
   ]
  },
  {
   "cell_type": "code",
   "execution_count": 9,
   "metadata": {},
   "outputs": [
    {
     "data": {
      "text/html": [
       "<style type=\"text/css\">\n",
       "#T_bdc23_row0_col0, #T_bdc23_row1_col0, #T_bdc23_row2_col0, #T_bdc23_row3_col0, #T_bdc23_row4_col0, #T_bdc23_row6_col0, #T_bdc23_row8_col0, #T_bdc23_row9_col0, #T_bdc23_row10_col0, #T_bdc23_row11_col0, #T_bdc23_row14_col0 {\n",
       "  background-color: #3b4cc0;\n",
       "  color: #f1f1f1;\n",
       "}\n",
       "#T_bdc23_row5_col0 {\n",
       "  background-color: #f1cdba;\n",
       "  color: #000000;\n",
       "}\n",
       "#T_bdc23_row7_col0 {\n",
       "  background-color: #6180e9;\n",
       "  color: #f1f1f1;\n",
       "}\n",
       "#T_bdc23_row12_col0 {\n",
       "  background-color: #6a8bef;\n",
       "  color: #f1f1f1;\n",
       "}\n",
       "#T_bdc23_row13_col0 {\n",
       "  background-color: #f59c7d;\n",
       "  color: #000000;\n",
       "}\n",
       "#T_bdc23_row15_col0, #T_bdc23_row16_col0, #T_bdc23_row17_col0, #T_bdc23_row19_col0 {\n",
       "  background-color: #afcafc;\n",
       "  color: #000000;\n",
       "}\n",
       "#T_bdc23_row18_col0 {\n",
       "  background-color: #b40426;\n",
       "  color: #f1f1f1;\n",
       "}\n",
       "#T_bdc23_row20_col0 {\n",
       "  background-color: #ca3b37;\n",
       "  color: #f1f1f1;\n",
       "}\n",
       "#T_bdc23_row21_col0 {\n",
       "  background-color: #7a9df8;\n",
       "  color: #f1f1f1;\n",
       "}\n",
       "</style>\n",
       "<table id=\"T_bdc23\">\n",
       "  <thead>\n",
       "    <tr>\n",
       "      <th class=\"blank level0\" >&nbsp;</th>\n",
       "      <th id=\"T_bdc23_level0_col0\" class=\"col_heading level0 col0\" >0</th>\n",
       "    </tr>\n",
       "  </thead>\n",
       "  <tbody>\n",
       "    <tr>\n",
       "      <th id=\"T_bdc23_level0_row0\" class=\"row_heading level0 row0\" >total_images</th>\n",
       "      <td id=\"T_bdc23_row0_col0\" class=\"data row0 col0\" >0.000000</td>\n",
       "    </tr>\n",
       "    <tr>\n",
       "      <th id=\"T_bdc23_level0_row1\" class=\"row_heading level0 row1\" >last_price</th>\n",
       "      <td id=\"T_bdc23_row1_col0\" class=\"data row1 col0\" >0.000000</td>\n",
       "    </tr>\n",
       "    <tr>\n",
       "      <th id=\"T_bdc23_level0_row2\" class=\"row_heading level0 row2\" >total_area</th>\n",
       "      <td id=\"T_bdc23_row2_col0\" class=\"data row2 col0\" >0.000000</td>\n",
       "    </tr>\n",
       "    <tr>\n",
       "      <th id=\"T_bdc23_level0_row3\" class=\"row_heading level0 row3\" >first_day_exposition</th>\n",
       "      <td id=\"T_bdc23_row3_col0\" class=\"data row3 col0\" >0.000000</td>\n",
       "    </tr>\n",
       "    <tr>\n",
       "      <th id=\"T_bdc23_level0_row4\" class=\"row_heading level0 row4\" >rooms</th>\n",
       "      <td id=\"T_bdc23_row4_col0\" class=\"data row4 col0\" >0.000000</td>\n",
       "    </tr>\n",
       "    <tr>\n",
       "      <th id=\"T_bdc23_level0_row5\" class=\"row_heading level0 row5\" >ceiling_height</th>\n",
       "      <td id=\"T_bdc23_row5_col0\" class=\"data row5 col0\" >39.000000</td>\n",
       "    </tr>\n",
       "    <tr>\n",
       "      <th id=\"T_bdc23_level0_row6\" class=\"row_heading level0 row6\" >floors_total</th>\n",
       "      <td id=\"T_bdc23_row6_col0\" class=\"data row6 col0\" >0.000000</td>\n",
       "    </tr>\n",
       "    <tr>\n",
       "      <th id=\"T_bdc23_level0_row7\" class=\"row_heading level0 row7\" >living_area</th>\n",
       "      <td id=\"T_bdc23_row7_col0\" class=\"data row7 col0\" >8.000000</td>\n",
       "    </tr>\n",
       "    <tr>\n",
       "      <th id=\"T_bdc23_level0_row8\" class=\"row_heading level0 row8\" >floor</th>\n",
       "      <td id=\"T_bdc23_row8_col0\" class=\"data row8 col0\" >0.000000</td>\n",
       "    </tr>\n",
       "    <tr>\n",
       "      <th id=\"T_bdc23_level0_row9\" class=\"row_heading level0 row9\" >is_apartment</th>\n",
       "      <td id=\"T_bdc23_row9_col0\" class=\"data row9 col0\" >0.000000</td>\n",
       "    </tr>\n",
       "    <tr>\n",
       "      <th id=\"T_bdc23_level0_row10\" class=\"row_heading level0 row10\" >studio</th>\n",
       "      <td id=\"T_bdc23_row10_col0\" class=\"data row10 col0\" >0.000000</td>\n",
       "    </tr>\n",
       "    <tr>\n",
       "      <th id=\"T_bdc23_level0_row11\" class=\"row_heading level0 row11\" >open_plan</th>\n",
       "      <td id=\"T_bdc23_row11_col0\" class=\"data row11 col0\" >0.000000</td>\n",
       "    </tr>\n",
       "    <tr>\n",
       "      <th id=\"T_bdc23_level0_row12\" class=\"row_heading level0 row12\" >kitchen_area</th>\n",
       "      <td id=\"T_bdc23_row12_col0\" class=\"data row12 col0\" >10.000000</td>\n",
       "    </tr>\n",
       "    <tr>\n",
       "      <th id=\"T_bdc23_level0_row13\" class=\"row_heading level0 row13\" >balcony</th>\n",
       "      <td id=\"T_bdc23_row13_col0\" class=\"data row13 col0\" >49.000000</td>\n",
       "    </tr>\n",
       "    <tr>\n",
       "      <th id=\"T_bdc23_level0_row14\" class=\"row_heading level0 row14\" >locality_name</th>\n",
       "      <td id=\"T_bdc23_row14_col0\" class=\"data row14 col0\" >0.000000</td>\n",
       "    </tr>\n",
       "    <tr>\n",
       "      <th id=\"T_bdc23_level0_row15\" class=\"row_heading level0 row15\" >airports_nearest</th>\n",
       "      <td id=\"T_bdc23_row15_col0\" class=\"data row15 col0\" >23.000000</td>\n",
       "    </tr>\n",
       "    <tr>\n",
       "      <th id=\"T_bdc23_level0_row16\" class=\"row_heading level0 row16\" >city_centers_nearest</th>\n",
       "      <td id=\"T_bdc23_row16_col0\" class=\"data row16 col0\" >23.000000</td>\n",
       "    </tr>\n",
       "    <tr>\n",
       "      <th id=\"T_bdc23_level0_row17\" class=\"row_heading level0 row17\" >parks_around_3000</th>\n",
       "      <td id=\"T_bdc23_row17_col0\" class=\"data row17 col0\" >23.000000</td>\n",
       "    </tr>\n",
       "    <tr>\n",
       "      <th id=\"T_bdc23_level0_row18\" class=\"row_heading level0 row18\" >parks_nearest</th>\n",
       "      <td id=\"T_bdc23_row18_col0\" class=\"data row18 col0\" >66.000000</td>\n",
       "    </tr>\n",
       "    <tr>\n",
       "      <th id=\"T_bdc23_level0_row19\" class=\"row_heading level0 row19\" >ponds_around_3000</th>\n",
       "      <td id=\"T_bdc23_row19_col0\" class=\"data row19 col0\" >23.000000</td>\n",
       "    </tr>\n",
       "    <tr>\n",
       "      <th id=\"T_bdc23_level0_row20\" class=\"row_heading level0 row20\" >ponds_nearest</th>\n",
       "      <td id=\"T_bdc23_row20_col0\" class=\"data row20 col0\" >62.000000</td>\n",
       "    </tr>\n",
       "    <tr>\n",
       "      <th id=\"T_bdc23_level0_row21\" class=\"row_heading level0 row21\" >days_exposition</th>\n",
       "      <td id=\"T_bdc23_row21_col0\" class=\"data row21 col0\" >13.000000</td>\n",
       "    </tr>\n",
       "  </tbody>\n",
       "</table>\n"
      ],
      "text/plain": [
       "<pandas.io.formats.style.Styler at 0x17084b6c370>"
      ]
     },
     "execution_count": 9,
     "metadata": {},
     "output_type": "execute_result"
    }
   ],
   "source": [
    "pd.DataFrame(round(df.isna().mean()*100,)).style.background_gradient('coolwarm')"
   ]
  },
  {
   "cell_type": "markdown",
   "metadata": {},
   "source": [
    "<div style=\"border:solid black 1px; padding: 10px\">\n",
    "    <i>Попробуем разобраться с причинами пропусков.\n",
    "        <ul>\n",
    "            <li>Информация о размерах квартиры (жилая площадь, площадь кухни, высота потолков) могла быть не указана самими пользователями, так как эта информация, возможно, не являлась необходимой (особенно высота потолков - мало кто мог бы сразу её назвать без измерений, а они и не требуются). То же самое относится и к общему количеству этажей в доме - возможно, где-то эту информацию посчитали избыточной, а возможно, её можно было бы получить из другой (например, если было указано, что квартира находится на последнем этаже). Логичного единого способа заполнить такие данные нет, поэтому оставим их, как есть (по общему количеству этажей - отбросим)</li>\n",
    "            <li>Насчёт населенного пункта - здесь причины выявить трудно, вероятнее всего, их так же просто не указали пользователи. К счастью, таких пропусков немного, поэтому эти строки можно отбросить</li>\n",
    "            <li>Является ли помещение апартаментами - больше всего пропусков. Предполагаю, это связано с тем, что в большинстве случаев и так очевидно, жилое это помещение или апартаменты (часто указывают прямо в заголовке объявления), поэтому не считают нужным заполнять этот пункт. Конечно, вероятность того, что объявление относится к жилым помещениям, а не апартаментам, гораздо выше (среди тех объявлений, где параметр непустой, доля апартаментов - примерно 2%), однако заполнить все пропуски значением False было бы тоже неверным, тем более что этот столбец не является определяющим в нашем исследовании</li>\n",
    "            <li>Количество балконов может быть не указано по простой причине - их просто могло не быть в продаваемой квартире, поэтому здесь заполним пустые значения нулями</li>\n",
    "            <li>Причин отсутствия картографических данных может быть несколько. Это как и невозможность их предоставления в силу отсутствия подробных геоданных (особенно в отдалённых посёлках), так и технические ошибки в процессе выгрузки. Эти данные тоже не являются определяющими для нашего исследования, поэтому обрабатывать все пропуски здесь тоже не будем. Можно попробовать восстановить некоторые данные, руководствуясь здравым смыслом, однако успех здесь не гарантирован</li>\n",
    "        </ul>\n",
    "    </i>\n",
    "</div>"
   ]
  },
  {
   "cell_type": "markdown",
   "metadata": {},
   "source": [
    "<i>Данные с пропусками в столбцах floors_total и locality_name составляют очень малую часть выборки (сильно меньше 5%), поэтому от них можно избавиться, тем более что разумный способ заполнения пустот здесь придумать сложно</i>"
   ]
  },
  {
   "cell_type": "code",
   "execution_count": 10,
   "metadata": {},
   "outputs": [],
   "source": [
    "df.dropna(subset=['floors_total', 'locality_name'], inplace=True)"
   ]
  },
  {
   "cell_type": "markdown",
   "metadata": {},
   "source": [
    "<i>Заполним отсутствующие данные о количестве балконов в помещении нулями</i>"
   ]
  },
  {
   "cell_type": "code",
   "execution_count": 11,
   "metadata": {},
   "outputs": [],
   "source": [
    "df['balcony'].fillna(0, inplace=True)"
   ]
  },
  {
   "cell_type": "markdown",
   "metadata": {},
   "source": [
    "<i>Посмотрим, есть ли записи, где расстояние до ближайшего парка/водоёма больше 3000, а значение столбца с количеством парков/водоёмов в радиусе 3 км пустое. Если таковые имеются, логично заполнить эти поля нулями (спойлер: таковых не оказалось)</i>"
   ]
  },
  {
   "cell_type": "code",
   "execution_count": 12,
   "metadata": {},
   "outputs": [
    {
     "data": {
      "text/plain": [
       "0"
      ]
     },
     "execution_count": 12,
     "metadata": {},
     "output_type": "execute_result"
    }
   ],
   "source": [
    "len(df[(df['parks_nearest'] >= 3000) & (df['parks_around_3000'].isna()) | \n",
    "       (df['ponds_nearest'] >= 3000) & (df['ponds_around_3000'].isna())])"
   ]
  },
  {
   "cell_type": "markdown",
   "metadata": {},
   "source": [
    "<i>Теперь пойдём от обратного: если в радиусе 3 км есть как минимум 1 парк/водоём, а значение в поле parks/ponds_nearest пустое, можно заполнить эти пустоты значением 3000</i>"
   ]
  },
  {
   "cell_type": "code",
   "execution_count": 13,
   "metadata": {},
   "outputs": [
    {
     "data": {
      "text/plain": [
       "0"
      ]
     },
     "execution_count": 13,
     "metadata": {},
     "output_type": "execute_result"
    }
   ],
   "source": [
    "len(df[(df['parks_around_3000'] > 0) & (df['parks_nearest'].isna()) | \n",
    "       (df['ponds_around_3000'] > 0) & (df['ponds_nearest'].isna())])"
   ]
  },
  {
   "cell_type": "markdown",
   "metadata": {},
   "source": [
    "<i>К сожалению, и это не снискало успеха. На этом закончим с обработкой пропусков. Последним шагом проверим, что изменения были внесены в датафрейм</i>"
   ]
  },
  {
   "cell_type": "code",
   "execution_count": 14,
   "metadata": {},
   "outputs": [
    {
     "data": {
      "text/plain": [
       "total_images                0\n",
       "last_price                  0\n",
       "total_area                  0\n",
       "first_day_exposition        0\n",
       "rooms                       0\n",
       "ceiling_height           9084\n",
       "floors_total                0\n",
       "living_area              1865\n",
       "floor                       0\n",
       "is_apartment                0\n",
       "studio                      0\n",
       "open_plan                   0\n",
       "kitchen_area             2222\n",
       "balcony                     0\n",
       "locality_name               0\n",
       "airports_nearest         5524\n",
       "city_centers_nearest     5501\n",
       "parks_around_3000        5500\n",
       "parks_nearest           15535\n",
       "ponds_around_3000        5500\n",
       "ponds_nearest           14529\n",
       "days_exposition          3171\n",
       "dtype: int64"
      ]
     },
     "execution_count": 14,
     "metadata": {},
     "output_type": "execute_result"
    }
   ],
   "source": [
    "df.isna().sum()"
   ]
  },
  {
   "cell_type": "code",
   "execution_count": 15,
   "metadata": {},
   "outputs": [],
   "source": [
    "import warnings"
   ]
  },
  {
   "cell_type": "code",
   "execution_count": 16,
   "metadata": {},
   "outputs": [],
   "source": [
    "with warnings.catch_warnings():\n",
    "    warnings.simplefilter(\"ignore\", category=RuntimeWarning)\n",
    "    for name in df['locality_name'].unique():\n",
    "        median = df.loc[df['locality_name'] == name, 'ceiling_height'].median()\n",
    "        df.loc[((df['ceiling_height'].isna()) & (df['locality_name'] == name)), 'ceiling_height'] = median\n",
    "    \n",
    "df.loc[df['ceiling_height'].isna(), 'ceiling_height'] = df['ceiling_height'].median()"
   ]
  },
  {
   "cell_type": "code",
   "execution_count": 17,
   "metadata": {},
   "outputs": [],
   "source": [
    "with warnings.catch_warnings():\n",
    "    warnings.simplefilter(\"ignore\", category=RuntimeWarning)\n",
    "    for name in df['locality_name'].unique():\n",
    "        median = df.loc[df['locality_name'] == name, 'city_centers_nearest'].median()\n",
    "        df.loc[((df['city_centers_nearest'].isna()) & (df['locality_name'] == name)), 'city_centers_nearest'] = median"
   ]
  },
  {
   "cell_type": "markdown",
   "metadata": {},
   "source": [
    "<h4>Обработка дубликатов</h4>"
   ]
  },
  {
   "cell_type": "markdown",
   "metadata": {},
   "source": [
    "<i>Посчитаем количество полных дубликатов</i>"
   ]
  },
  {
   "cell_type": "code",
   "execution_count": 18,
   "metadata": {},
   "outputs": [
    {
     "data": {
      "text/plain": [
       "0"
      ]
     },
     "execution_count": 18,
     "metadata": {},
     "output_type": "execute_result"
    }
   ],
   "source": [
    "df.duplicated().sum()"
   ]
  },
  {
   "cell_type": "markdown",
   "metadata": {},
   "source": [
    "<i>Полных дубликатов нет, это хорошо. Согласно задаче посмотрим уникальные значения в столбце с названиями населённого пункта</i>"
   ]
  },
  {
   "cell_type": "code",
   "execution_count": 19,
   "metadata": {
    "scrolled": true
   },
   "outputs": [
    {
     "data": {
      "text/plain": [
       "array(['Бокситогорск', 'Волосово', 'Волхов', 'Всеволожск', 'Выборг',\n",
       "       'Высоцк', 'Гатчина', 'Зеленогорск', 'Ивангород', 'Каменногорск',\n",
       "       'Кингисепп', 'Кириши', 'Кировск', 'Колпино', 'Коммунар',\n",
       "       'Красное Село', 'Кронштадт', 'Кудрово', 'Лодейное Поле',\n",
       "       'Ломоносов', 'Луга', 'Любань', 'Мурино', 'Никольское',\n",
       "       'Новая Ладога', 'Отрадное', 'Павловск', 'Петергоф', 'Пикалёво',\n",
       "       'Подпорожье', 'Приморск', 'Приозерск', 'Пушкин', 'Санкт-Петербург',\n",
       "       'Светогорск', 'Сертолово', 'Сестрорецк', 'Сланцы', 'Сосновый Бор',\n",
       "       'Сясьстрой', 'Тихвин', 'Тосно', 'Шлиссельбург',\n",
       "       'городской поселок Большая Ижора', 'городской поселок Янино-1',\n",
       "       'городской посёлок Будогощь', 'городской посёлок Виллози',\n",
       "       'городской посёлок Лесогорский', 'городской посёлок Мга',\n",
       "       'городской посёлок Назия', 'городской посёлок Новоселье',\n",
       "       'городской посёлок Павлово', 'городской посёлок Рощино',\n",
       "       'городской посёлок Свирьстрой', 'городской посёлок Советский',\n",
       "       'городской посёлок Фёдоровское', 'городской посёлок Янино-1',\n",
       "       'деревня Агалатово', 'деревня Аро', 'деревня Батово',\n",
       "       'деревня Бегуницы', 'деревня Белогорка', 'деревня Большая Вруда',\n",
       "       'деревня Большая Пустомержа', 'деревня Большие Колпаны',\n",
       "       'деревня Большое Рейзино', 'деревня Большой Сабск', 'деревня Бор',\n",
       "       'деревня Борисова Грива', 'деревня Ваганово', 'деревня Вартемяги',\n",
       "       'деревня Вахнова Кара', 'деревня Выскатка', 'деревня Гарболово',\n",
       "       'деревня Глинка', 'деревня Горбунки', 'деревня Гостилицы',\n",
       "       'деревня Заклинье', 'деревня Заневка', 'деревня Зимитицы',\n",
       "       'деревня Извара', 'деревня Иссад', 'деревня Калитино',\n",
       "       'деревня Кальтино', 'деревня Камышовка', 'деревня Каськово',\n",
       "       'деревня Келози', 'деревня Кипень', 'деревня Кисельня',\n",
       "       'деревня Колтуши', 'деревня Коркино', 'деревня Котлы',\n",
       "       'деревня Кривко', 'деревня Кудрово', 'деревня Кузьмолово',\n",
       "       'деревня Курковицы', 'деревня Куровицы', 'деревня Куттузи',\n",
       "       'деревня Лаврики', 'деревня Лаголово', 'деревня Лампово',\n",
       "       'деревня Лесколово', 'деревня Лопухинка', 'деревня Лупполово',\n",
       "       'деревня Малая Романовка', 'деревня Малое Верево',\n",
       "       'деревня Малое Карлино', 'деревня Малые Колпаны',\n",
       "       'деревня Мануйлово', 'деревня Меньково', 'деревня Мины',\n",
       "       'деревня Мистолово', 'деревня Ненимяки', 'деревня Нижние Осельки',\n",
       "       'деревня Нижняя', 'деревня Низино', 'деревня Новое Девяткино',\n",
       "       'деревня Новолисино', 'деревня Нурма', 'деревня Оржицы',\n",
       "       'деревня Парицы', 'деревня Пельгора', 'деревня Пеники',\n",
       "       'деревня Пижма', 'деревня Пикколово', 'деревня Пудомяги',\n",
       "       'деревня Пустынка', 'деревня Пчева', 'деревня Рабитицы',\n",
       "       'деревня Разбегаево', 'деревня Раздолье', 'деревня Разметелево',\n",
       "       'деревня Рапполово', 'деревня Реброво', 'деревня Русско',\n",
       "       'деревня Сижно', 'деревня Снегирёвка', 'деревня Старая',\n",
       "       'деревня Старая Пустошь', 'деревня Старое Хинколово',\n",
       "       'деревня Старополье', 'деревня Старосиверская',\n",
       "       'деревня Старые Бегуницы', 'деревня Суоранда',\n",
       "       'деревня Сяськелево', 'деревня Тарасово', 'деревня Терпилицы',\n",
       "       'деревня Тихковицы', 'деревня Тойворово', 'деревня Торосово',\n",
       "       'деревня Торошковичи', 'деревня Трубников Бор',\n",
       "       'деревня Фалилеево', 'деревня Фёдоровское', 'деревня Хапо-Ое',\n",
       "       'деревня Хязельки', 'деревня Чудской Бор', 'деревня Шпаньково',\n",
       "       'деревня Щеглово', 'деревня Юкки', 'деревня Ялгино',\n",
       "       'деревня Яльгелево', 'деревня Ям-Тесово',\n",
       "       'коттеджный поселок Кивеннапа Север', 'коттеджный поселок Счастье',\n",
       "       'коттеджный посёлок Лесное', 'поселок Аннино', 'поселок Барышево',\n",
       "       'поселок Бугры', 'поселок Возрождение', 'поселок Войсковицы',\n",
       "       'поселок Володарское', 'поселок Гаврилово', 'поселок Гарболово',\n",
       "       'поселок Гладкое', 'поселок Глажево', 'поселок Глебычево',\n",
       "       'поселок Гончарово', 'поселок Громово', 'поселок Дружноселье',\n",
       "       'поселок Елизаветино', 'поселок Жилгородок', 'поселок Жилпосёлок',\n",
       "       'поселок Житково', 'поселок Заводской', 'поселок Запорожское',\n",
       "       'поселок Зимитицы', 'поселок Ильичёво', 'поселок Калитино',\n",
       "       'поселок Каложицы', 'поселок Кингисеппский', 'поселок Кирпичное',\n",
       "       'поселок Кобралово', 'поселок Кобринское', 'поселок Коммунары',\n",
       "       'поселок Коробицыно', 'поселок Котельский',\n",
       "       'поселок Красная Долина', 'поселок Красносельское',\n",
       "       'поселок Лесное', 'поселок Лисий Нос', 'поселок Лукаши',\n",
       "       'поселок Любань', 'поселок Мельниково', 'поселок Мичуринское',\n",
       "       'поселок Молодцово', 'поселок Мурино', 'поселок Новый Свет',\n",
       "       'поселок Новый Учхоз', 'поселок Оредеж',\n",
       "       'поселок Пансионат Зелёный Бор', 'поселок Первомайское',\n",
       "       'поселок Перово', 'поселок Петровское', 'поселок Победа',\n",
       "       'поселок Поляны', 'поселок Почап', 'поселок Починок',\n",
       "       'поселок Пушное', 'поселок Пчевжа', 'поселок Рабитицы',\n",
       "       'поселок Романовка', 'поселок Ромашки', 'поселок Рябово',\n",
       "       'поселок Севастьяново', 'поселок Селезнёво', 'поселок Сельцо',\n",
       "       'поселок Семиозерье', 'поселок Семрино', 'поселок Серебрянский',\n",
       "       'поселок Совхозный', 'поселок Старая Малукса',\n",
       "       'поселок Стеклянный', 'поселок Сумино', 'поселок Суходолье',\n",
       "       'поселок Тельмана', 'поселок Терволово', 'поселок Торковичи',\n",
       "       'поселок Тёсово-4', 'поселок Углово', 'поселок Усть-Луга',\n",
       "       'поселок Ушаки', 'поселок Цвелодубово', 'поселок Цвылёво',\n",
       "       'поселок городского типа Большая Ижора',\n",
       "       'поселок городского типа Вырица',\n",
       "       'поселок городского типа Дружная Горка',\n",
       "       'поселок городского типа Дубровка',\n",
       "       'поселок городского типа Ефимовский',\n",
       "       'поселок городского типа Кондратьево',\n",
       "       'поселок городского типа Красный Бор',\n",
       "       'поселок городского типа Кузьмоловский',\n",
       "       'поселок городского типа Лебяжье',\n",
       "       'поселок городского типа Лесогорский',\n",
       "       'поселок городского типа Назия',\n",
       "       'поселок городского типа Никольский',\n",
       "       'поселок городского типа Приладожский',\n",
       "       'поселок городского типа Рахья', 'поселок городского типа Рощино',\n",
       "       'поселок городского типа Рябово',\n",
       "       'поселок городского типа Синявино',\n",
       "       'поселок городского типа Советский',\n",
       "       'поселок городского типа Токсово',\n",
       "       'поселок городского типа Форносово',\n",
       "       'поселок городского типа имени Свердлова',\n",
       "       'поселок станции Вещево', 'поселок станции Корнево',\n",
       "       'поселок станции Лужайка', 'поселок станции Приветнинское',\n",
       "       'посёлок Александровская', 'посёлок Алексеевка', 'посёлок Аннино',\n",
       "       'посёлок Белоостров', 'посёлок Бугры', 'посёлок Возрождение',\n",
       "       'посёлок Войскорово', 'посёлок Высокоключевой',\n",
       "       'посёлок Гаврилово', 'посёлок Дзержинского', 'посёлок Жилгородок',\n",
       "       'посёлок Ильичёво', 'посёлок Кикерино', 'посёлок Кобралово',\n",
       "       'посёлок Коробицыно', 'посёлок Левашово', 'посёлок Ленинское',\n",
       "       'посёлок Лисий Нос', 'посёлок Мельниково', 'посёлок Металлострой',\n",
       "       'посёлок Мичуринское', 'посёлок Молодёжное', 'посёлок Мурино',\n",
       "       'посёлок Мыза-Ивановка', 'посёлок Новогорелово',\n",
       "       'посёлок Новый Свет', 'посёлок Пансионат Зелёный Бор',\n",
       "       'посёлок Парголово', 'посёлок Перово', 'посёлок Песочный',\n",
       "       'посёлок Петро-Славянка', 'посёлок Петровское',\n",
       "       'посёлок Платформа 69-й километр', 'посёлок Плодовое',\n",
       "       'посёлок Плоское', 'посёлок Победа', 'посёлок Поляны',\n",
       "       'посёлок Понтонный', 'посёлок Пригородный', 'посёлок Пудость',\n",
       "       'посёлок Репино', 'посёлок Ропша', 'посёлок Сапёрное',\n",
       "       'посёлок Сапёрный', 'посёлок Сосново', 'посёлок Старая Малукса',\n",
       "       'посёлок Стеклянный', 'посёлок Стрельна', 'посёлок Суйда',\n",
       "       'посёлок Сумино', 'посёлок Тельмана', 'посёлок Терволово',\n",
       "       'посёлок Торфяное', 'посёлок Усть-Ижора', 'посёлок Усть-Луга',\n",
       "       'посёлок Форт Красная Горка', 'посёлок Шугозеро', 'посёлок Шушары',\n",
       "       'посёлок Щеглово', 'посёлок городского типа Важины',\n",
       "       'посёлок городского типа Вознесенье',\n",
       "       'посёлок городского типа Вырица',\n",
       "       'посёлок городского типа Красный Бор',\n",
       "       'посёлок городского типа Кузнечное',\n",
       "       'посёлок городского типа Кузьмоловский',\n",
       "       'посёлок городского типа Лебяжье', 'посёлок городского типа Мга',\n",
       "       'посёлок городского типа Павлово',\n",
       "       'посёлок городского типа Рощино', 'посёлок городского типа Рябово',\n",
       "       'посёлок городского типа Сиверский',\n",
       "       'посёлок городского типа Тайцы', 'посёлок городского типа Токсово',\n",
       "       'посёлок городского типа Ульяновка',\n",
       "       'посёлок городского типа Форносово',\n",
       "       'посёлок городского типа имени Морозова',\n",
       "       'посёлок городского типа имени Свердлова',\n",
       "       'посёлок при железнодорожной станции Вещево',\n",
       "       'посёлок при железнодорожной станции Приветнинское',\n",
       "       'посёлок станции Громово', 'посёлок станции Свирь',\n",
       "       'садоводческое некоммерческое товарищество Лесная Поляна',\n",
       "       'садовое товарищество Новая Ропша',\n",
       "       'садовое товарищество Приладожский', 'садовое товарищество Рахья',\n",
       "       'садовое товарищество Садко', 'село Копорье', 'село Никольское',\n",
       "       'село Павлово', 'село Паша', 'село Путилово', 'село Рождествено',\n",
       "       'село Русско-Высоцкое', 'село Старая Ладога', 'село Шум'],\n",
       "      dtype=object)"
      ]
     },
     "execution_count": 19,
     "metadata": {},
     "output_type": "execute_result"
    }
   ],
   "source": [
    "df['locality_name'].sort_values().unique()"
   ]
  },
  {
   "cell_type": "markdown",
   "metadata": {},
   "source": [
    "<i>В столбце точно есть неявные дубликаты. Унифицируем названия населённых пунктов: заменим везде букву \"ё\" на \"е\" во избежание путаницы, а также уберём не являющиеся необходимыми для идентификации населённого пункта обозначения (как \"деревня\" или \"село\"), где это возможно. Результат сохраним в столбце new_locality_name</i>"
   ]
  },
  {
   "cell_type": "code",
   "execution_count": 20,
   "metadata": {},
   "outputs": [],
   "source": [
    "def keep_names_only(fullname):\n",
    "    result = fullname.replace('ё', 'е')\n",
    "    prefixes = ['городской поселок ', 'деревня ', 'коттеджный поселок ', 'поселок городского типа ', \n",
    "                'поселок при железнодорожной станции ', 'поселок станции ', 'поселок ',\n",
    "                'садоводческое некоммерческое товарищество ', 'садовое товарищество ', 'село ']\n",
    "    for prefix in prefixes:\n",
    "        if (prefix in result) and (not 'имени' in result):\n",
    "            return result.replace(prefix, '')\n",
    "    return result"
   ]
  },
  {
   "cell_type": "code",
   "execution_count": 21,
   "metadata": {
    "scrolled": true
   },
   "outputs": [
    {
     "data": {
      "text/plain": [
       "array(['Агалатово', 'Александровская', 'Алексеевка', 'Аннино', 'Аро',\n",
       "       'Барышево', 'Батово', 'Бегуницы', 'Белогорка', 'Белоостров',\n",
       "       'Бокситогорск', 'Большая Вруда', 'Большая Ижора',\n",
       "       'Большая Пустомержа', 'Большие Колпаны', 'Большое Рейзино',\n",
       "       'Большой Сабск', 'Бор', 'Борисова Грива', 'Бугры', 'Будогощь',\n",
       "       'Ваганово', 'Важины', 'Вартемяги', 'Вахнова Кара', 'Вещево',\n",
       "       'Виллози', 'Вознесенье', 'Возрождение', 'Войсковицы', 'Войскорово',\n",
       "       'Володарское', 'Волосово', 'Волхов', 'Всеволожск', 'Выборг',\n",
       "       'Вырица', 'Выскатка', 'Высокоключевой', 'Высоцк', 'Гаврилово',\n",
       "       'Гарболово', 'Гатчина', 'Гладкое', 'Глажево', 'Глебычево',\n",
       "       'Глинка', 'Гончарово', 'Горбунки', 'Гостилицы', 'Громово',\n",
       "       'Дзержинского', 'Дружная Горка', 'Дружноселье', 'Дубровка',\n",
       "       'Елизаветино', 'Ефимовский', 'Жилгородок', 'Жилпоселок', 'Житково',\n",
       "       'Заводской', 'Заклинье', 'Заневка', 'Запорожское', 'Зеленогорск',\n",
       "       'Зимитицы', 'Ивангород', 'Извара', 'Ильичево', 'Иссад', 'Калитино',\n",
       "       'Каложицы', 'Кальтино', 'Каменногорск', 'Камышовка', 'Каськово',\n",
       "       'Келози', 'Кивеннапа Север', 'Кикерино', 'Кингисепп',\n",
       "       'Кингисеппский', 'Кипень', 'Кириши', 'Кировск', 'Кирпичное',\n",
       "       'Кисельня', 'Кобралово', 'Кобринское', 'Колпино', 'Колтуши',\n",
       "       'Коммунар', 'Коммунары', 'Кондратьево', 'Копорье', 'Коркино',\n",
       "       'Корнево', 'Коробицыно', 'Котельский', 'Котлы', 'Красная Долина',\n",
       "       'Красное Село', 'Красносельское', 'Красный Бор', 'Кривко',\n",
       "       'Кронштадт', 'Кудрово', 'Кузнечное', 'Кузьмолово', 'Кузьмоловский',\n",
       "       'Курковицы', 'Куровицы', 'Куттузи', 'Лаврики', 'Лаголово',\n",
       "       'Лампово', 'Лебяжье', 'Левашово', 'Ленинское', 'Лесколово',\n",
       "       'Лесная Поляна', 'Лесное', 'Лесогорский', 'Лисий Нос',\n",
       "       'Лодейное Поле', 'Ломоносов', 'Лопухинка', 'Луга', 'Лужайка',\n",
       "       'Лукаши', 'Лупполово', 'Любань', 'Малая Романовка', 'Малое Верево',\n",
       "       'Малое Карлино', 'Малые Колпаны', 'Мануйлово', 'Мга', 'Мельниково',\n",
       "       'Меньково', 'Металлострой', 'Мины', 'Мистолово', 'Мичуринское',\n",
       "       'Молодежное', 'Молодцово', 'Мурино', 'Мыза-Ивановка', 'Назия',\n",
       "       'Ненимяки', 'Нижние Осельки', 'Нижняя', 'Низино', 'Никольский',\n",
       "       'Никольское', 'Новая Ладога', 'Новая Ропша', 'Новогорелово',\n",
       "       'Новое Девяткино', 'Новолисино', 'Новоселье', 'Новый Свет',\n",
       "       'Новый Учхоз', 'Нурма', 'Оредеж', 'Оржицы', 'Отрадное', 'Павлово',\n",
       "       'Павловск', 'Пансионат Зеленый Бор', 'Парголово', 'Парицы', 'Паша',\n",
       "       'Пельгора', 'Пеники', 'Первомайское', 'Перово', 'Песочный',\n",
       "       'Петергоф', 'Петро-Славянка', 'Петровское', 'Пижма', 'Пикалево',\n",
       "       'Пикколово', 'Платформа 69-й километр', 'Плодовое', 'Плоское',\n",
       "       'Победа', 'Подпорожье', 'Поляны', 'Понтонный', 'Почап', 'Починок',\n",
       "       'Приветнинское', 'Пригородный', 'Приладожский', 'Приморск',\n",
       "       'Приозерск', 'Пудомяги', 'Пудость', 'Пустынка', 'Путилово',\n",
       "       'Пушкин', 'Пушное', 'Пчева', 'Пчевжа', 'Рабитицы', 'Разбегаево',\n",
       "       'Раздолье', 'Разметелево', 'Рапполово', 'Рахья', 'Реброво',\n",
       "       'Репино', 'Рождествено', 'Романовка', 'Ромашки', 'Ропша', 'Рощино',\n",
       "       'Русско', 'Русско-Высоцкое', 'Рябово', 'Садко', 'Санкт-Петербург',\n",
       "       'Саперное', 'Саперный', 'Светогорск', 'Свирь', 'Свирьстрой',\n",
       "       'Севастьяново', 'Селезнево', 'Сельцо', 'Семиозерье', 'Семрино',\n",
       "       'Серебрянский', 'Сертолово', 'Сестрорецк', 'Сиверский', 'Сижно',\n",
       "       'Синявино', 'Сланцы', 'Снегиревка', 'Советский', 'Совхозный',\n",
       "       'Сосново', 'Сосновый Бор', 'Старая', 'Старая Ладога',\n",
       "       'Старая Малукса', 'Старая Пустошь', 'Старое Хинколово',\n",
       "       'Старополье', 'Старосиверская', 'Старые Бегуницы', 'Стеклянный',\n",
       "       'Стрельна', 'Суйда', 'Сумино', 'Суоранда', 'Суходолье', 'Счастье',\n",
       "       'Сяськелево', 'Сясьстрой', 'Тайцы', 'Тарасово', 'Тельмана',\n",
       "       'Терволово', 'Терпилицы', 'Тесово-4', 'Тихвин', 'Тихковицы',\n",
       "       'Тойворово', 'Токсово', 'Торковичи', 'Торосово', 'Торошковичи',\n",
       "       'Торфяное', 'Тосно', 'Трубников Бор', 'Углово', 'Ульяновка',\n",
       "       'Усть-Ижора', 'Усть-Луга', 'Ушаки', 'Фалилеево', 'Федоровское',\n",
       "       'Форносово', 'Форт Красная Горка', 'Хапо-Ое', 'Хязельки',\n",
       "       'Цвелодубово', 'Цвылево', 'Чудской Бор', 'Шлиссельбург',\n",
       "       'Шпаньково', 'Шугозеро', 'Шум', 'Шушары', 'Щеглово', 'Юкки',\n",
       "       'Ялгино', 'Яльгелево', 'Ям-Тесово', 'Янино-1',\n",
       "       'поселок городского типа имени Морозова',\n",
       "       'поселок городского типа имени Свердлова'], dtype=object)"
      ]
     },
     "execution_count": 21,
     "metadata": {},
     "output_type": "execute_result"
    }
   ],
   "source": [
    "df['new_locality_name'] = df['locality_name'].apply(func=keep_names_only)\n",
    "df['new_locality_name'].sort_values().unique()"
   ]
  },
  {
   "cell_type": "markdown",
   "metadata": {},
   "source": [
    "<i>Названия населённых пунктов в таком виде выглядят гораздо лучше. Перейдём к устранению аномалий в датасете</i>"
   ]
  },
  {
   "cell_type": "markdown",
   "metadata": {},
   "source": [
    "<h4>Устранение аномалий</h4>"
   ]
  },
  {
   "cell_type": "markdown",
   "metadata": {},
   "source": [
    "<div style=\"border:solid black 1px; padding: 10px\"><i>Посмотрим основные статистики для столбцов</i></div>"
   ]
  },
  {
   "cell_type": "code",
   "execution_count": 22,
   "metadata": {
    "scrolled": false
   },
   "outputs": [
    {
     "data": {
      "text/html": [
       "<div>\n",
       "<style scoped>\n",
       "    .dataframe tbody tr th:only-of-type {\n",
       "        vertical-align: middle;\n",
       "    }\n",
       "\n",
       "    .dataframe tbody tr th {\n",
       "        vertical-align: top;\n",
       "    }\n",
       "\n",
       "    .dataframe thead th {\n",
       "        text-align: right;\n",
       "    }\n",
       "</style>\n",
       "<table border=\"1\" class=\"dataframe\">\n",
       "  <thead>\n",
       "    <tr style=\"text-align: right;\">\n",
       "      <th></th>\n",
       "      <th>total_images</th>\n",
       "      <th>last_price</th>\n",
       "      <th>total_area</th>\n",
       "      <th>rooms</th>\n",
       "      <th>ceiling_height</th>\n",
       "      <th>floors_total</th>\n",
       "      <th>living_area</th>\n",
       "      <th>floor</th>\n",
       "      <th>kitchen_area</th>\n",
       "      <th>balcony</th>\n",
       "      <th>airports_nearest</th>\n",
       "      <th>city_centers_nearest</th>\n",
       "      <th>parks_around_3000</th>\n",
       "      <th>parks_nearest</th>\n",
       "      <th>ponds_around_3000</th>\n",
       "      <th>ponds_nearest</th>\n",
       "      <th>days_exposition</th>\n",
       "    </tr>\n",
       "  </thead>\n",
       "  <tbody>\n",
       "    <tr>\n",
       "      <th>count</th>\n",
       "      <td>23565.000000</td>\n",
       "      <td>2.356500e+04</td>\n",
       "      <td>23565.000000</td>\n",
       "      <td>23565.000000</td>\n",
       "      <td>23565.000000</td>\n",
       "      <td>23565.000000</td>\n",
       "      <td>21700.000000</td>\n",
       "      <td>23565.000000</td>\n",
       "      <td>21343.000000</td>\n",
       "      <td>23565.000000</td>\n",
       "      <td>18041.000000</td>\n",
       "      <td>18133.000000</td>\n",
       "      <td>18065.000000</td>\n",
       "      <td>8030.000000</td>\n",
       "      <td>18065.000000</td>\n",
       "      <td>9036.000000</td>\n",
       "      <td>20394.000000</td>\n",
       "    </tr>\n",
       "    <tr>\n",
       "      <th>mean</th>\n",
       "      <td>9.878421</td>\n",
       "      <td>6.540058e+06</td>\n",
       "      <td>60.322824</td>\n",
       "      <td>2.070656</td>\n",
       "      <td>2.733740</td>\n",
       "      <td>10.675875</td>\n",
       "      <td>34.454822</td>\n",
       "      <td>5.878124</td>\n",
       "      <td>10.560994</td>\n",
       "      <td>0.593677</td>\n",
       "      <td>28797.082701</td>\n",
       "      <td>14195.267882</td>\n",
       "      <td>0.611569</td>\n",
       "      <td>490.580448</td>\n",
       "      <td>0.769499</td>\n",
       "      <td>518.289509</td>\n",
       "      <td>180.741395</td>\n",
       "    </tr>\n",
       "    <tr>\n",
       "      <th>std</th>\n",
       "      <td>5.681156</td>\n",
       "      <td>1.091093e+07</td>\n",
       "      <td>35.657060</td>\n",
       "      <td>1.078591</td>\n",
       "      <td>1.012203</td>\n",
       "      <td>6.594823</td>\n",
       "      <td>22.045359</td>\n",
       "      <td>4.871485</td>\n",
       "      <td>5.900630</td>\n",
       "      <td>0.960660</td>\n",
       "      <td>12632.499735</td>\n",
       "      <td>8610.213514</td>\n",
       "      <td>0.802088</td>\n",
       "      <td>341.572956</td>\n",
       "      <td>0.938669</td>\n",
       "      <td>278.009558</td>\n",
       "      <td>219.732782</td>\n",
       "    </tr>\n",
       "    <tr>\n",
       "      <th>min</th>\n",
       "      <td>0.000000</td>\n",
       "      <td>1.219000e+04</td>\n",
       "      <td>12.000000</td>\n",
       "      <td>0.000000</td>\n",
       "      <td>1.000000</td>\n",
       "      <td>1.000000</td>\n",
       "      <td>2.000000</td>\n",
       "      <td>1.000000</td>\n",
       "      <td>1.300000</td>\n",
       "      <td>0.000000</td>\n",
       "      <td>0.000000</td>\n",
       "      <td>181.000000</td>\n",
       "      <td>0.000000</td>\n",
       "      <td>1.000000</td>\n",
       "      <td>0.000000</td>\n",
       "      <td>13.000000</td>\n",
       "      <td>1.000000</td>\n",
       "    </tr>\n",
       "    <tr>\n",
       "      <th>25%</th>\n",
       "      <td>6.000000</td>\n",
       "      <td>3.400000e+06</td>\n",
       "      <td>40.000000</td>\n",
       "      <td>1.000000</td>\n",
       "      <td>2.550000</td>\n",
       "      <td>5.000000</td>\n",
       "      <td>18.600000</td>\n",
       "      <td>2.000000</td>\n",
       "      <td>7.000000</td>\n",
       "      <td>0.000000</td>\n",
       "      <td>18565.000000</td>\n",
       "      <td>9265.000000</td>\n",
       "      <td>0.000000</td>\n",
       "      <td>288.000000</td>\n",
       "      <td>0.000000</td>\n",
       "      <td>293.000000</td>\n",
       "      <td>45.000000</td>\n",
       "    </tr>\n",
       "    <tr>\n",
       "      <th>50%</th>\n",
       "      <td>9.000000</td>\n",
       "      <td>4.646000e+06</td>\n",
       "      <td>52.000000</td>\n",
       "      <td>2.000000</td>\n",
       "      <td>2.700000</td>\n",
       "      <td>9.000000</td>\n",
       "      <td>30.000000</td>\n",
       "      <td>4.000000</td>\n",
       "      <td>9.100000</td>\n",
       "      <td>0.000000</td>\n",
       "      <td>26757.000000</td>\n",
       "      <td>13073.000000</td>\n",
       "      <td>0.000000</td>\n",
       "      <td>455.000000</td>\n",
       "      <td>1.000000</td>\n",
       "      <td>503.000000</td>\n",
       "      <td>95.000000</td>\n",
       "    </tr>\n",
       "    <tr>\n",
       "      <th>75%</th>\n",
       "      <td>14.000000</td>\n",
       "      <td>6.790000e+06</td>\n",
       "      <td>69.700000</td>\n",
       "      <td>3.000000</td>\n",
       "      <td>2.700000</td>\n",
       "      <td>16.000000</td>\n",
       "      <td>42.300000</td>\n",
       "      <td>8.000000</td>\n",
       "      <td>12.000000</td>\n",
       "      <td>1.000000</td>\n",
       "      <td>37273.000000</td>\n",
       "      <td>16275.000000</td>\n",
       "      <td>1.000000</td>\n",
       "      <td>612.000000</td>\n",
       "      <td>1.000000</td>\n",
       "      <td>730.000000</td>\n",
       "      <td>231.000000</td>\n",
       "    </tr>\n",
       "    <tr>\n",
       "      <th>max</th>\n",
       "      <td>50.000000</td>\n",
       "      <td>7.630000e+08</td>\n",
       "      <td>900.000000</td>\n",
       "      <td>19.000000</td>\n",
       "      <td>100.000000</td>\n",
       "      <td>60.000000</td>\n",
       "      <td>409.700000</td>\n",
       "      <td>33.000000</td>\n",
       "      <td>112.000000</td>\n",
       "      <td>5.000000</td>\n",
       "      <td>84869.000000</td>\n",
       "      <td>65968.000000</td>\n",
       "      <td>3.000000</td>\n",
       "      <td>3190.000000</td>\n",
       "      <td>3.000000</td>\n",
       "      <td>1344.000000</td>\n",
       "      <td>1580.000000</td>\n",
       "    </tr>\n",
       "  </tbody>\n",
       "</table>\n",
       "</div>"
      ],
      "text/plain": [
       "       total_images    last_price    total_area         rooms  ceiling_height  \\\n",
       "count  23565.000000  2.356500e+04  23565.000000  23565.000000    23565.000000   \n",
       "mean       9.878421  6.540058e+06     60.322824      2.070656        2.733740   \n",
       "std        5.681156  1.091093e+07     35.657060      1.078591        1.012203   \n",
       "min        0.000000  1.219000e+04     12.000000      0.000000        1.000000   \n",
       "25%        6.000000  3.400000e+06     40.000000      1.000000        2.550000   \n",
       "50%        9.000000  4.646000e+06     52.000000      2.000000        2.700000   \n",
       "75%       14.000000  6.790000e+06     69.700000      3.000000        2.700000   \n",
       "max       50.000000  7.630000e+08    900.000000     19.000000      100.000000   \n",
       "\n",
       "       floors_total   living_area         floor  kitchen_area       balcony  \\\n",
       "count  23565.000000  21700.000000  23565.000000  21343.000000  23565.000000   \n",
       "mean      10.675875     34.454822      5.878124     10.560994      0.593677   \n",
       "std        6.594823     22.045359      4.871485      5.900630      0.960660   \n",
       "min        1.000000      2.000000      1.000000      1.300000      0.000000   \n",
       "25%        5.000000     18.600000      2.000000      7.000000      0.000000   \n",
       "50%        9.000000     30.000000      4.000000      9.100000      0.000000   \n",
       "75%       16.000000     42.300000      8.000000     12.000000      1.000000   \n",
       "max       60.000000    409.700000     33.000000    112.000000      5.000000   \n",
       "\n",
       "       airports_nearest  city_centers_nearest  parks_around_3000  \\\n",
       "count      18041.000000          18133.000000       18065.000000   \n",
       "mean       28797.082701          14195.267882           0.611569   \n",
       "std        12632.499735           8610.213514           0.802088   \n",
       "min            0.000000            181.000000           0.000000   \n",
       "25%        18565.000000           9265.000000           0.000000   \n",
       "50%        26757.000000          13073.000000           0.000000   \n",
       "75%        37273.000000          16275.000000           1.000000   \n",
       "max        84869.000000          65968.000000           3.000000   \n",
       "\n",
       "       parks_nearest  ponds_around_3000  ponds_nearest  days_exposition  \n",
       "count    8030.000000       18065.000000    9036.000000     20394.000000  \n",
       "mean      490.580448           0.769499     518.289509       180.741395  \n",
       "std       341.572956           0.938669     278.009558       219.732782  \n",
       "min         1.000000           0.000000      13.000000         1.000000  \n",
       "25%       288.000000           0.000000     293.000000        45.000000  \n",
       "50%       455.000000           1.000000     503.000000        95.000000  \n",
       "75%       612.000000           1.000000     730.000000       231.000000  \n",
       "max      3190.000000           3.000000    1344.000000      1580.000000  "
      ]
     },
     "execution_count": 22,
     "metadata": {},
     "output_type": "execute_result"
    }
   ],
   "source": [
    "df.describe()"
   ]
  },
  {
   "cell_type": "markdown",
   "metadata": {},
   "source": [
    "<i>Начнём с количества комнат. Уберём из датафрейма данные, где указано 0 комнат - это явно ошибочные данные</i>"
   ]
  },
  {
   "cell_type": "code",
   "execution_count": 23,
   "metadata": {},
   "outputs": [],
   "source": [
    "df = df.query('rooms > 0')"
   ]
  },
  {
   "cell_type": "markdown",
   "metadata": {},
   "source": [
    "<i>Теперь наоборот посмотрим на объявления с очень большим количеством комнат. Выведем, какие квартиры имеют 7 и более комнат</i>"
   ]
  },
  {
   "cell_type": "code",
   "execution_count": 24,
   "metadata": {},
   "outputs": [
    {
     "data": {
      "text/html": [
       "<div>\n",
       "<style scoped>\n",
       "    .dataframe tbody tr th:only-of-type {\n",
       "        vertical-align: middle;\n",
       "    }\n",
       "\n",
       "    .dataframe tbody tr th {\n",
       "        vertical-align: top;\n",
       "    }\n",
       "\n",
       "    .dataframe thead th {\n",
       "        text-align: right;\n",
       "    }\n",
       "</style>\n",
       "<table border=\"1\" class=\"dataframe\">\n",
       "  <thead>\n",
       "    <tr style=\"text-align: right;\">\n",
       "      <th></th>\n",
       "      <th>total_images</th>\n",
       "      <th>last_price</th>\n",
       "      <th>total_area</th>\n",
       "      <th>first_day_exposition</th>\n",
       "      <th>rooms</th>\n",
       "      <th>ceiling_height</th>\n",
       "      <th>floors_total</th>\n",
       "      <th>living_area</th>\n",
       "      <th>floor</th>\n",
       "      <th>is_apartment</th>\n",
       "      <th>...</th>\n",
       "      <th>balcony</th>\n",
       "      <th>locality_name</th>\n",
       "      <th>airports_nearest</th>\n",
       "      <th>city_centers_nearest</th>\n",
       "      <th>parks_around_3000</th>\n",
       "      <th>parks_nearest</th>\n",
       "      <th>ponds_around_3000</th>\n",
       "      <th>ponds_nearest</th>\n",
       "      <th>days_exposition</th>\n",
       "      <th>new_locality_name</th>\n",
       "    </tr>\n",
       "  </thead>\n",
       "  <tbody>\n",
       "    <tr>\n",
       "      <th>581</th>\n",
       "      <td>20</td>\n",
       "      <td>65000000.0</td>\n",
       "      <td>365.0</td>\n",
       "      <td>2019-03-18</td>\n",
       "      <td>7</td>\n",
       "      <td>2.90</td>\n",
       "      <td>7.0</td>\n",
       "      <td>NaN</td>\n",
       "      <td>7</td>\n",
       "      <td>True</td>\n",
       "      <td>...</td>\n",
       "      <td>0.0</td>\n",
       "      <td>Санкт-Петербург</td>\n",
       "      <td>19827.0</td>\n",
       "      <td>1690.0</td>\n",
       "      <td>3.0</td>\n",
       "      <td>378.0</td>\n",
       "      <td>3.0</td>\n",
       "      <td>58.0</td>\n",
       "      <td>NaN</td>\n",
       "      <td>Санкт-Петербург</td>\n",
       "    </tr>\n",
       "    <tr>\n",
       "      <th>648</th>\n",
       "      <td>3</td>\n",
       "      <td>17500000.0</td>\n",
       "      <td>183.7</td>\n",
       "      <td>2018-07-01</td>\n",
       "      <td>11</td>\n",
       "      <td>3.40</td>\n",
       "      <td>7.0</td>\n",
       "      <td>138.8</td>\n",
       "      <td>7</td>\n",
       "      <td>True</td>\n",
       "      <td>...</td>\n",
       "      <td>0.0</td>\n",
       "      <td>Санкт-Петербург</td>\n",
       "      <td>23606.0</td>\n",
       "      <td>3148.0</td>\n",
       "      <td>0.0</td>\n",
       "      <td>NaN</td>\n",
       "      <td>0.0</td>\n",
       "      <td>NaN</td>\n",
       "      <td>NaN</td>\n",
       "      <td>Санкт-Петербург</td>\n",
       "    </tr>\n",
       "    <tr>\n",
       "      <th>660</th>\n",
       "      <td>3</td>\n",
       "      <td>49950000.0</td>\n",
       "      <td>483.9</td>\n",
       "      <td>2017-10-04</td>\n",
       "      <td>7</td>\n",
       "      <td>3.20</td>\n",
       "      <td>6.0</td>\n",
       "      <td>312.5</td>\n",
       "      <td>4</td>\n",
       "      <td>True</td>\n",
       "      <td>...</td>\n",
       "      <td>0.0</td>\n",
       "      <td>Санкт-Петербург</td>\n",
       "      <td>23079.0</td>\n",
       "      <td>945.0</td>\n",
       "      <td>3.0</td>\n",
       "      <td>461.0</td>\n",
       "      <td>3.0</td>\n",
       "      <td>22.0</td>\n",
       "      <td>391.0</td>\n",
       "      <td>Санкт-Петербург</td>\n",
       "    </tr>\n",
       "    <tr>\n",
       "      <th>681</th>\n",
       "      <td>20</td>\n",
       "      <td>24900000.0</td>\n",
       "      <td>249.0</td>\n",
       "      <td>2015-08-13</td>\n",
       "      <td>7</td>\n",
       "      <td>2.70</td>\n",
       "      <td>5.0</td>\n",
       "      <td>180.0</td>\n",
       "      <td>4</td>\n",
       "      <td>True</td>\n",
       "      <td>...</td>\n",
       "      <td>1.0</td>\n",
       "      <td>Санкт-Петербург</td>\n",
       "      <td>24810.0</td>\n",
       "      <td>6108.0</td>\n",
       "      <td>0.0</td>\n",
       "      <td>NaN</td>\n",
       "      <td>0.0</td>\n",
       "      <td>NaN</td>\n",
       "      <td>781.0</td>\n",
       "      <td>Санкт-Петербург</td>\n",
       "    </tr>\n",
       "    <tr>\n",
       "      <th>750</th>\n",
       "      <td>9</td>\n",
       "      <td>29500000.0</td>\n",
       "      <td>188.8</td>\n",
       "      <td>2017-03-04</td>\n",
       "      <td>7</td>\n",
       "      <td>2.70</td>\n",
       "      <td>2.0</td>\n",
       "      <td>119.3</td>\n",
       "      <td>1</td>\n",
       "      <td>True</td>\n",
       "      <td>...</td>\n",
       "      <td>0.0</td>\n",
       "      <td>Санкт-Петербург</td>\n",
       "      <td>20965.0</td>\n",
       "      <td>814.0</td>\n",
       "      <td>0.0</td>\n",
       "      <td>NaN</td>\n",
       "      <td>2.0</td>\n",
       "      <td>267.0</td>\n",
       "      <td>246.0</td>\n",
       "      <td>Санкт-Петербург</td>\n",
       "    </tr>\n",
       "    <tr>\n",
       "      <th>...</th>\n",
       "      <td>...</td>\n",
       "      <td>...</td>\n",
       "      <td>...</td>\n",
       "      <td>...</td>\n",
       "      <td>...</td>\n",
       "      <td>...</td>\n",
       "      <td>...</td>\n",
       "      <td>...</td>\n",
       "      <td>...</td>\n",
       "      <td>...</td>\n",
       "      <td>...</td>\n",
       "      <td>...</td>\n",
       "      <td>...</td>\n",
       "      <td>...</td>\n",
       "      <td>...</td>\n",
       "      <td>...</td>\n",
       "      <td>...</td>\n",
       "      <td>...</td>\n",
       "      <td>...</td>\n",
       "      <td>...</td>\n",
       "      <td>...</td>\n",
       "    </tr>\n",
       "    <tr>\n",
       "      <th>22264</th>\n",
       "      <td>20</td>\n",
       "      <td>22000000.0</td>\n",
       "      <td>141.0</td>\n",
       "      <td>2019-01-24</td>\n",
       "      <td>7</td>\n",
       "      <td>2.70</td>\n",
       "      <td>5.0</td>\n",
       "      <td>84.0</td>\n",
       "      <td>2</td>\n",
       "      <td>True</td>\n",
       "      <td>...</td>\n",
       "      <td>0.0</td>\n",
       "      <td>Санкт-Петербург</td>\n",
       "      <td>20243.0</td>\n",
       "      <td>3334.0</td>\n",
       "      <td>2.0</td>\n",
       "      <td>447.0</td>\n",
       "      <td>1.0</td>\n",
       "      <td>468.0</td>\n",
       "      <td>90.0</td>\n",
       "      <td>Санкт-Петербург</td>\n",
       "    </tr>\n",
       "    <tr>\n",
       "      <th>22420</th>\n",
       "      <td>12</td>\n",
       "      <td>25000000.0</td>\n",
       "      <td>196.0</td>\n",
       "      <td>2016-11-04</td>\n",
       "      <td>7</td>\n",
       "      <td>3.50</td>\n",
       "      <td>6.0</td>\n",
       "      <td>145.0</td>\n",
       "      <td>5</td>\n",
       "      <td>True</td>\n",
       "      <td>...</td>\n",
       "      <td>1.0</td>\n",
       "      <td>Санкт-Петербург</td>\n",
       "      <td>25083.0</td>\n",
       "      <td>3658.0</td>\n",
       "      <td>1.0</td>\n",
       "      <td>552.0</td>\n",
       "      <td>0.0</td>\n",
       "      <td>NaN</td>\n",
       "      <td>NaN</td>\n",
       "      <td>Санкт-Петербург</td>\n",
       "    </tr>\n",
       "    <tr>\n",
       "      <th>22649</th>\n",
       "      <td>18</td>\n",
       "      <td>22900000.0</td>\n",
       "      <td>206.0</td>\n",
       "      <td>2016-04-04</td>\n",
       "      <td>7</td>\n",
       "      <td>2.70</td>\n",
       "      <td>6.0</td>\n",
       "      <td>142.0</td>\n",
       "      <td>2</td>\n",
       "      <td>True</td>\n",
       "      <td>...</td>\n",
       "      <td>0.0</td>\n",
       "      <td>Санкт-Петербург</td>\n",
       "      <td>25079.0</td>\n",
       "      <td>5544.0</td>\n",
       "      <td>0.0</td>\n",
       "      <td>NaN</td>\n",
       "      <td>1.0</td>\n",
       "      <td>251.0</td>\n",
       "      <td>75.0</td>\n",
       "      <td>Санкт-Петербург</td>\n",
       "    </tr>\n",
       "    <tr>\n",
       "      <th>23400</th>\n",
       "      <td>17</td>\n",
       "      <td>30000000.0</td>\n",
       "      <td>213.0</td>\n",
       "      <td>2017-09-28</td>\n",
       "      <td>7</td>\n",
       "      <td>3.40</td>\n",
       "      <td>5.0</td>\n",
       "      <td>151.4</td>\n",
       "      <td>5</td>\n",
       "      <td>True</td>\n",
       "      <td>...</td>\n",
       "      <td>0.0</td>\n",
       "      <td>Санкт-Петербург</td>\n",
       "      <td>21146.0</td>\n",
       "      <td>1225.0</td>\n",
       "      <td>2.0</td>\n",
       "      <td>342.0</td>\n",
       "      <td>3.0</td>\n",
       "      <td>30.0</td>\n",
       "      <td>299.0</td>\n",
       "      <td>Санкт-Петербург</td>\n",
       "    </tr>\n",
       "    <tr>\n",
       "      <th>23555</th>\n",
       "      <td>5</td>\n",
       "      <td>15350000.0</td>\n",
       "      <td>158.5</td>\n",
       "      <td>2019-03-07</td>\n",
       "      <td>7</td>\n",
       "      <td>2.95</td>\n",
       "      <td>7.0</td>\n",
       "      <td>57.4</td>\n",
       "      <td>7</td>\n",
       "      <td>True</td>\n",
       "      <td>...</td>\n",
       "      <td>1.0</td>\n",
       "      <td>Санкт-Петербург</td>\n",
       "      <td>23546.0</td>\n",
       "      <td>3088.0</td>\n",
       "      <td>1.0</td>\n",
       "      <td>347.0</td>\n",
       "      <td>0.0</td>\n",
       "      <td>NaN</td>\n",
       "      <td>NaN</td>\n",
       "      <td>Санкт-Петербург</td>\n",
       "    </tr>\n",
       "  </tbody>\n",
       "</table>\n",
       "<p>90 rows × 23 columns</p>\n",
       "</div>"
      ],
      "text/plain": [
       "       total_images  last_price  total_area first_day_exposition  rooms  \\\n",
       "581              20  65000000.0       365.0           2019-03-18      7   \n",
       "648               3  17500000.0       183.7           2018-07-01     11   \n",
       "660               3  49950000.0       483.9           2017-10-04      7   \n",
       "681              20  24900000.0       249.0           2015-08-13      7   \n",
       "750               9  29500000.0       188.8           2017-03-04      7   \n",
       "...             ...         ...         ...                  ...    ...   \n",
       "22264            20  22000000.0       141.0           2019-01-24      7   \n",
       "22420            12  25000000.0       196.0           2016-11-04      7   \n",
       "22649            18  22900000.0       206.0           2016-04-04      7   \n",
       "23400            17  30000000.0       213.0           2017-09-28      7   \n",
       "23555             5  15350000.0       158.5           2019-03-07      7   \n",
       "\n",
       "       ceiling_height  floors_total  living_area  floor  is_apartment  ...  \\\n",
       "581              2.90           7.0          NaN      7          True  ...   \n",
       "648              3.40           7.0        138.8      7          True  ...   \n",
       "660              3.20           6.0        312.5      4          True  ...   \n",
       "681              2.70           5.0        180.0      4          True  ...   \n",
       "750              2.70           2.0        119.3      1          True  ...   \n",
       "...               ...           ...          ...    ...           ...  ...   \n",
       "22264            2.70           5.0         84.0      2          True  ...   \n",
       "22420            3.50           6.0        145.0      5          True  ...   \n",
       "22649            2.70           6.0        142.0      2          True  ...   \n",
       "23400            3.40           5.0        151.4      5          True  ...   \n",
       "23555            2.95           7.0         57.4      7          True  ...   \n",
       "\n",
       "       balcony    locality_name  airports_nearest  city_centers_nearest  \\\n",
       "581        0.0  Санкт-Петербург           19827.0                1690.0   \n",
       "648        0.0  Санкт-Петербург           23606.0                3148.0   \n",
       "660        0.0  Санкт-Петербург           23079.0                 945.0   \n",
       "681        1.0  Санкт-Петербург           24810.0                6108.0   \n",
       "750        0.0  Санкт-Петербург           20965.0                 814.0   \n",
       "...        ...              ...               ...                   ...   \n",
       "22264      0.0  Санкт-Петербург           20243.0                3334.0   \n",
       "22420      1.0  Санкт-Петербург           25083.0                3658.0   \n",
       "22649      0.0  Санкт-Петербург           25079.0                5544.0   \n",
       "23400      0.0  Санкт-Петербург           21146.0                1225.0   \n",
       "23555      1.0  Санкт-Петербург           23546.0                3088.0   \n",
       "\n",
       "      parks_around_3000  parks_nearest  ponds_around_3000  ponds_nearest  \\\n",
       "581                 3.0          378.0                3.0           58.0   \n",
       "648                 0.0            NaN                0.0            NaN   \n",
       "660                 3.0          461.0                3.0           22.0   \n",
       "681                 0.0            NaN                0.0            NaN   \n",
       "750                 0.0            NaN                2.0          267.0   \n",
       "...                 ...            ...                ...            ...   \n",
       "22264               2.0          447.0                1.0          468.0   \n",
       "22420               1.0          552.0                0.0            NaN   \n",
       "22649               0.0            NaN                1.0          251.0   \n",
       "23400               2.0          342.0                3.0           30.0   \n",
       "23555               1.0          347.0                0.0            NaN   \n",
       "\n",
       "       days_exposition  new_locality_name  \n",
       "581                NaN    Санкт-Петербург  \n",
       "648                NaN    Санкт-Петербург  \n",
       "660              391.0    Санкт-Петербург  \n",
       "681              781.0    Санкт-Петербург  \n",
       "750              246.0    Санкт-Петербург  \n",
       "...                ...                ...  \n",
       "22264             90.0    Санкт-Петербург  \n",
       "22420              NaN    Санкт-Петербург  \n",
       "22649             75.0    Санкт-Петербург  \n",
       "23400            299.0    Санкт-Петербург  \n",
       "23555              NaN    Санкт-Петербург  \n",
       "\n",
       "[90 rows x 23 columns]"
      ]
     },
     "execution_count": 24,
     "metadata": {},
     "output_type": "execute_result"
    }
   ],
   "source": [
    "df.query('rooms >= 7')"
   ]
  },
  {
   "cell_type": "markdown",
   "metadata": {},
   "source": [
    "<i>Почти везде указано, что это апартаменты - это явно не то, что мы хотим видеть (вероятно, офисные помещения или помещения иного коммерческого назначения?). Посчитаем долю апартаментов от таких квартир:</i>"
   ]
  },
  {
   "cell_type": "code",
   "execution_count": 25,
   "metadata": {
    "scrolled": false
   },
   "outputs": [
    {
     "data": {
      "text/plain": [
       "0.9555555555555556"
      ]
     },
     "execution_count": 25,
     "metadata": {},
     "output_type": "execute_result"
    }
   ],
   "source": [
    "len(df[(df['rooms'] >= 7) & df['is_apartment']]) / len(df[(df['rooms'] >= 7)])"
   ]
  },
  {
   "cell_type": "markdown",
   "metadata": {},
   "source": [
    "<i>Апартаментов среди таких \"квартир\" больше 95%, поэтому можем смело удалять эти строки</i>"
   ]
  },
  {
   "cell_type": "code",
   "execution_count": 26,
   "metadata": {},
   "outputs": [],
   "source": [
    "df = df.query('rooms < 7')"
   ]
  },
  {
   "cell_type": "code",
   "execution_count": 27,
   "metadata": {
    "scrolled": false
   },
   "outputs": [
    {
     "data": {
      "text/html": [
       "<div>\n",
       "<style scoped>\n",
       "    .dataframe tbody tr th:only-of-type {\n",
       "        vertical-align: middle;\n",
       "    }\n",
       "\n",
       "    .dataframe tbody tr th {\n",
       "        vertical-align: top;\n",
       "    }\n",
       "\n",
       "    .dataframe thead th {\n",
       "        text-align: right;\n",
       "    }\n",
       "</style>\n",
       "<table border=\"1\" class=\"dataframe\">\n",
       "  <thead>\n",
       "    <tr style=\"text-align: right;\">\n",
       "      <th></th>\n",
       "      <th>total_images</th>\n",
       "      <th>last_price</th>\n",
       "      <th>total_area</th>\n",
       "      <th>first_day_exposition</th>\n",
       "      <th>rooms</th>\n",
       "      <th>ceiling_height</th>\n",
       "      <th>floors_total</th>\n",
       "      <th>living_area</th>\n",
       "      <th>floor</th>\n",
       "      <th>is_apartment</th>\n",
       "      <th>...</th>\n",
       "      <th>balcony</th>\n",
       "      <th>locality_name</th>\n",
       "      <th>airports_nearest</th>\n",
       "      <th>city_centers_nearest</th>\n",
       "      <th>parks_around_3000</th>\n",
       "      <th>parks_nearest</th>\n",
       "      <th>ponds_around_3000</th>\n",
       "      <th>ponds_nearest</th>\n",
       "      <th>days_exposition</th>\n",
       "      <th>new_locality_name</th>\n",
       "    </tr>\n",
       "  </thead>\n",
       "  <tbody>\n",
       "  </tbody>\n",
       "</table>\n",
       "<p>0 rows × 23 columns</p>\n",
       "</div>"
      ],
      "text/plain": [
       "Empty DataFrame\n",
       "Columns: [total_images, last_price, total_area, first_day_exposition, rooms, ceiling_height, floors_total, living_area, floor, is_apartment, studio, open_plan, kitchen_area, balcony, locality_name, airports_nearest, city_centers_nearest, parks_around_3000, parks_nearest, ponds_around_3000, ponds_nearest, days_exposition, new_locality_name]\n",
       "Index: []\n",
       "\n",
       "[0 rows x 23 columns]"
      ]
     },
     "execution_count": 27,
     "metadata": {},
     "output_type": "execute_result"
    }
   ],
   "source": [
    "df.query('last_price.round() != last_price')"
   ]
  },
  {
   "cell_type": "code",
   "execution_count": 28,
   "metadata": {},
   "outputs": [],
   "source": [
    "df['last_price'] = df['last_price'].astype('int64')"
   ]
  },
  {
   "cell_type": "markdown",
   "metadata": {},
   "source": [
    "<i>В обычной квартире вряд ли может быть больше 2 балконов. Посмотрим, какую долю составляют квартиры с 3 и более балконами</i>"
   ]
  },
  {
   "cell_type": "code",
   "execution_count": 29,
   "metadata": {},
   "outputs": [
    {
     "data": {
      "text/plain": [
       "0.024225763498131523"
      ]
     },
     "execution_count": 29,
     "metadata": {},
     "output_type": "execute_result"
    }
   ],
   "source": [
    "len(df.query('balcony >= 3')) / len(df)"
   ]
  },
  {
   "cell_type": "markdown",
   "metadata": {},
   "source": [
    "<i>Получаем меньше 3% - убираем и эти аномальные значения</i>"
   ]
  },
  {
   "cell_type": "code",
   "execution_count": 30,
   "metadata": {
    "scrolled": true
   },
   "outputs": [],
   "source": [
    "df = df.query('balcony < 3')"
   ]
  },
  {
   "cell_type": "markdown",
   "metadata": {},
   "source": [
    "<i>Высота потолков больше 5 метров в квартире - это явно что-то странное. Посмотрим на эти строки</i>"
   ]
  },
  {
   "cell_type": "code",
   "execution_count": 31,
   "metadata": {
    "scrolled": true
   },
   "outputs": [
    {
     "data": {
      "text/html": [
       "<div>\n",
       "<style scoped>\n",
       "    .dataframe tbody tr th:only-of-type {\n",
       "        vertical-align: middle;\n",
       "    }\n",
       "\n",
       "    .dataframe tbody tr th {\n",
       "        vertical-align: top;\n",
       "    }\n",
       "\n",
       "    .dataframe thead th {\n",
       "        text-align: right;\n",
       "    }\n",
       "</style>\n",
       "<table border=\"1\" class=\"dataframe\">\n",
       "  <thead>\n",
       "    <tr style=\"text-align: right;\">\n",
       "      <th></th>\n",
       "      <th>total_images</th>\n",
       "      <th>last_price</th>\n",
       "      <th>total_area</th>\n",
       "      <th>first_day_exposition</th>\n",
       "      <th>rooms</th>\n",
       "      <th>ceiling_height</th>\n",
       "      <th>floors_total</th>\n",
       "      <th>living_area</th>\n",
       "      <th>floor</th>\n",
       "      <th>is_apartment</th>\n",
       "      <th>...</th>\n",
       "      <th>balcony</th>\n",
       "      <th>locality_name</th>\n",
       "      <th>airports_nearest</th>\n",
       "      <th>city_centers_nearest</th>\n",
       "      <th>parks_around_3000</th>\n",
       "      <th>parks_nearest</th>\n",
       "      <th>ponds_around_3000</th>\n",
       "      <th>ponds_nearest</th>\n",
       "      <th>days_exposition</th>\n",
       "      <th>new_locality_name</th>\n",
       "    </tr>\n",
       "  </thead>\n",
       "  <tbody>\n",
       "    <tr>\n",
       "      <th>313</th>\n",
       "      <td>1</td>\n",
       "      <td>2450000</td>\n",
       "      <td>49.0</td>\n",
       "      <td>2016-03-09</td>\n",
       "      <td>3</td>\n",
       "      <td>13.85</td>\n",
       "      <td>5.0</td>\n",
       "      <td>34.0</td>\n",
       "      <td>2</td>\n",
       "      <td>True</td>\n",
       "      <td>...</td>\n",
       "      <td>1.0</td>\n",
       "      <td>поселок Новый Свет</td>\n",
       "      <td>NaN</td>\n",
       "      <td>NaN</td>\n",
       "      <td>NaN</td>\n",
       "      <td>NaN</td>\n",
       "      <td>NaN</td>\n",
       "      <td>NaN</td>\n",
       "      <td>189.0</td>\n",
       "      <td>Новый Свет</td>\n",
       "    </tr>\n",
       "    <tr>\n",
       "      <th>355</th>\n",
       "      <td>17</td>\n",
       "      <td>3600000</td>\n",
       "      <td>55.2</td>\n",
       "      <td>2018-07-12</td>\n",
       "      <td>2</td>\n",
       "      <td>25.00</td>\n",
       "      <td>5.0</td>\n",
       "      <td>32.0</td>\n",
       "      <td>2</td>\n",
       "      <td>False</td>\n",
       "      <td>...</td>\n",
       "      <td>2.0</td>\n",
       "      <td>Гатчина</td>\n",
       "      <td>NaN</td>\n",
       "      <td>NaN</td>\n",
       "      <td>NaN</td>\n",
       "      <td>NaN</td>\n",
       "      <td>NaN</td>\n",
       "      <td>NaN</td>\n",
       "      <td>259.0</td>\n",
       "      <td>Гатчина</td>\n",
       "    </tr>\n",
       "    <tr>\n",
       "      <th>464</th>\n",
       "      <td>15</td>\n",
       "      <td>66571000</td>\n",
       "      <td>280.3</td>\n",
       "      <td>2015-06-11</td>\n",
       "      <td>6</td>\n",
       "      <td>5.20</td>\n",
       "      <td>8.0</td>\n",
       "      <td>159.5</td>\n",
       "      <td>7</td>\n",
       "      <td>True</td>\n",
       "      <td>...</td>\n",
       "      <td>0.0</td>\n",
       "      <td>Санкт-Петербург</td>\n",
       "      <td>26316.0</td>\n",
       "      <td>6655.0</td>\n",
       "      <td>3.0</td>\n",
       "      <td>187.0</td>\n",
       "      <td>1.0</td>\n",
       "      <td>616.0</td>\n",
       "      <td>578.0</td>\n",
       "      <td>Санкт-Петербург</td>\n",
       "    </tr>\n",
       "    <tr>\n",
       "      <th>1026</th>\n",
       "      <td>20</td>\n",
       "      <td>155000000</td>\n",
       "      <td>310.0</td>\n",
       "      <td>2018-10-12</td>\n",
       "      <td>5</td>\n",
       "      <td>5.30</td>\n",
       "      <td>3.0</td>\n",
       "      <td>190.0</td>\n",
       "      <td>3</td>\n",
       "      <td>True</td>\n",
       "      <td>...</td>\n",
       "      <td>2.0</td>\n",
       "      <td>Санкт-Петербург</td>\n",
       "      <td>24899.0</td>\n",
       "      <td>4785.0</td>\n",
       "      <td>0.0</td>\n",
       "      <td>NaN</td>\n",
       "      <td>1.0</td>\n",
       "      <td>603.0</td>\n",
       "      <td>NaN</td>\n",
       "      <td>Санкт-Петербург</td>\n",
       "    </tr>\n",
       "    <tr>\n",
       "      <th>1388</th>\n",
       "      <td>20</td>\n",
       "      <td>59800000</td>\n",
       "      <td>399.0</td>\n",
       "      <td>2015-01-21</td>\n",
       "      <td>5</td>\n",
       "      <td>5.60</td>\n",
       "      <td>6.0</td>\n",
       "      <td>NaN</td>\n",
       "      <td>6</td>\n",
       "      <td>True</td>\n",
       "      <td>...</td>\n",
       "      <td>0.0</td>\n",
       "      <td>Санкт-Петербург</td>\n",
       "      <td>26204.0</td>\n",
       "      <td>6934.0</td>\n",
       "      <td>2.0</td>\n",
       "      <td>149.0</td>\n",
       "      <td>2.0</td>\n",
       "      <td>577.0</td>\n",
       "      <td>719.0</td>\n",
       "      <td>Санкт-Петербург</td>\n",
       "    </tr>\n",
       "    <tr>\n",
       "      <th>2158</th>\n",
       "      <td>15</td>\n",
       "      <td>1500000</td>\n",
       "      <td>42.0</td>\n",
       "      <td>2017-12-23</td>\n",
       "      <td>2</td>\n",
       "      <td>27.00</td>\n",
       "      <td>2.0</td>\n",
       "      <td>29.0</td>\n",
       "      <td>2</td>\n",
       "      <td>True</td>\n",
       "      <td>...</td>\n",
       "      <td>0.0</td>\n",
       "      <td>деревня Мины</td>\n",
       "      <td>NaN</td>\n",
       "      <td>NaN</td>\n",
       "      <td>NaN</td>\n",
       "      <td>NaN</td>\n",
       "      <td>NaN</td>\n",
       "      <td>NaN</td>\n",
       "      <td>NaN</td>\n",
       "      <td>Мины</td>\n",
       "    </tr>\n",
       "    <tr>\n",
       "      <th>3148</th>\n",
       "      <td>14</td>\n",
       "      <td>2900000</td>\n",
       "      <td>75.0</td>\n",
       "      <td>2018-11-12</td>\n",
       "      <td>3</td>\n",
       "      <td>32.00</td>\n",
       "      <td>3.0</td>\n",
       "      <td>53.0</td>\n",
       "      <td>2</td>\n",
       "      <td>True</td>\n",
       "      <td>...</td>\n",
       "      <td>0.0</td>\n",
       "      <td>Волхов</td>\n",
       "      <td>NaN</td>\n",
       "      <td>NaN</td>\n",
       "      <td>NaN</td>\n",
       "      <td>NaN</td>\n",
       "      <td>NaN</td>\n",
       "      <td>NaN</td>\n",
       "      <td>NaN</td>\n",
       "      <td>Волхов</td>\n",
       "    </tr>\n",
       "    <tr>\n",
       "      <th>3474</th>\n",
       "      <td>3</td>\n",
       "      <td>1400000</td>\n",
       "      <td>30.0</td>\n",
       "      <td>2018-03-16</td>\n",
       "      <td>1</td>\n",
       "      <td>8.00</td>\n",
       "      <td>5.0</td>\n",
       "      <td>15.3</td>\n",
       "      <td>2</td>\n",
       "      <td>False</td>\n",
       "      <td>...</td>\n",
       "      <td>0.0</td>\n",
       "      <td>деревня Нурма</td>\n",
       "      <td>NaN</td>\n",
       "      <td>NaN</td>\n",
       "      <td>NaN</td>\n",
       "      <td>NaN</td>\n",
       "      <td>NaN</td>\n",
       "      <td>NaN</td>\n",
       "      <td>125.0</td>\n",
       "      <td>Нурма</td>\n",
       "    </tr>\n",
       "    <tr>\n",
       "      <th>4643</th>\n",
       "      <td>0</td>\n",
       "      <td>4300000</td>\n",
       "      <td>45.0</td>\n",
       "      <td>2018-02-01</td>\n",
       "      <td>2</td>\n",
       "      <td>25.00</td>\n",
       "      <td>9.0</td>\n",
       "      <td>30.0</td>\n",
       "      <td>2</td>\n",
       "      <td>True</td>\n",
       "      <td>...</td>\n",
       "      <td>1.0</td>\n",
       "      <td>Санкт-Петербург</td>\n",
       "      <td>12016.0</td>\n",
       "      <td>13256.0</td>\n",
       "      <td>1.0</td>\n",
       "      <td>658.0</td>\n",
       "      <td>1.0</td>\n",
       "      <td>331.0</td>\n",
       "      <td>181.0</td>\n",
       "      <td>Санкт-Петербург</td>\n",
       "    </tr>\n",
       "    <tr>\n",
       "      <th>5076</th>\n",
       "      <td>0</td>\n",
       "      <td>3850000</td>\n",
       "      <td>30.5</td>\n",
       "      <td>2018-10-03</td>\n",
       "      <td>1</td>\n",
       "      <td>24.00</td>\n",
       "      <td>5.0</td>\n",
       "      <td>19.5</td>\n",
       "      <td>1</td>\n",
       "      <td>True</td>\n",
       "      <td>...</td>\n",
       "      <td>0.0</td>\n",
       "      <td>Санкт-Петербург</td>\n",
       "      <td>29686.0</td>\n",
       "      <td>8389.0</td>\n",
       "      <td>3.0</td>\n",
       "      <td>397.0</td>\n",
       "      <td>1.0</td>\n",
       "      <td>578.0</td>\n",
       "      <td>7.0</td>\n",
       "      <td>Санкт-Петербург</td>\n",
       "    </tr>\n",
       "    <tr>\n",
       "      <th>5246</th>\n",
       "      <td>0</td>\n",
       "      <td>2500000</td>\n",
       "      <td>54.0</td>\n",
       "      <td>2017-10-13</td>\n",
       "      <td>2</td>\n",
       "      <td>27.00</td>\n",
       "      <td>5.0</td>\n",
       "      <td>30.0</td>\n",
       "      <td>3</td>\n",
       "      <td>True</td>\n",
       "      <td>...</td>\n",
       "      <td>2.0</td>\n",
       "      <td>деревня Мины</td>\n",
       "      <td>NaN</td>\n",
       "      <td>NaN</td>\n",
       "      <td>NaN</td>\n",
       "      <td>NaN</td>\n",
       "      <td>NaN</td>\n",
       "      <td>NaN</td>\n",
       "      <td>540.0</td>\n",
       "      <td>Мины</td>\n",
       "    </tr>\n",
       "    <tr>\n",
       "      <th>5669</th>\n",
       "      <td>4</td>\n",
       "      <td>4400000</td>\n",
       "      <td>50.0</td>\n",
       "      <td>2017-08-08</td>\n",
       "      <td>2</td>\n",
       "      <td>26.00</td>\n",
       "      <td>9.0</td>\n",
       "      <td>21.3</td>\n",
       "      <td>3</td>\n",
       "      <td>True</td>\n",
       "      <td>...</td>\n",
       "      <td>2.0</td>\n",
       "      <td>Санкт-Петербург</td>\n",
       "      <td>28981.0</td>\n",
       "      <td>10912.0</td>\n",
       "      <td>1.0</td>\n",
       "      <td>305.0</td>\n",
       "      <td>0.0</td>\n",
       "      <td>NaN</td>\n",
       "      <td>267.0</td>\n",
       "      <td>Санкт-Петербург</td>\n",
       "    </tr>\n",
       "    <tr>\n",
       "      <th>5863</th>\n",
       "      <td>20</td>\n",
       "      <td>5650000</td>\n",
       "      <td>45.0</td>\n",
       "      <td>2018-08-15</td>\n",
       "      <td>1</td>\n",
       "      <td>8.30</td>\n",
       "      <td>16.0</td>\n",
       "      <td>19.3</td>\n",
       "      <td>14</td>\n",
       "      <td>True</td>\n",
       "      <td>...</td>\n",
       "      <td>1.0</td>\n",
       "      <td>Санкт-Петербург</td>\n",
       "      <td>13069.0</td>\n",
       "      <td>10763.0</td>\n",
       "      <td>0.0</td>\n",
       "      <td>NaN</td>\n",
       "      <td>1.0</td>\n",
       "      <td>613.0</td>\n",
       "      <td>14.0</td>\n",
       "      <td>Санкт-Петербург</td>\n",
       "    </tr>\n",
       "    <tr>\n",
       "      <th>6246</th>\n",
       "      <td>6</td>\n",
       "      <td>3300000</td>\n",
       "      <td>44.4</td>\n",
       "      <td>2019-03-25</td>\n",
       "      <td>2</td>\n",
       "      <td>25.00</td>\n",
       "      <td>5.0</td>\n",
       "      <td>31.3</td>\n",
       "      <td>5</td>\n",
       "      <td>True</td>\n",
       "      <td>...</td>\n",
       "      <td>0.0</td>\n",
       "      <td>Кронштадт</td>\n",
       "      <td>68923.0</td>\n",
       "      <td>50649.0</td>\n",
       "      <td>1.0</td>\n",
       "      <td>417.0</td>\n",
       "      <td>2.0</td>\n",
       "      <td>73.0</td>\n",
       "      <td>NaN</td>\n",
       "      <td>Кронштадт</td>\n",
       "    </tr>\n",
       "    <tr>\n",
       "      <th>7578</th>\n",
       "      <td>17</td>\n",
       "      <td>38000000</td>\n",
       "      <td>143.0</td>\n",
       "      <td>2017-11-02</td>\n",
       "      <td>3</td>\n",
       "      <td>5.50</td>\n",
       "      <td>5.0</td>\n",
       "      <td>83.0</td>\n",
       "      <td>5</td>\n",
       "      <td>True</td>\n",
       "      <td>...</td>\n",
       "      <td>1.0</td>\n",
       "      <td>Санкт-Петербург</td>\n",
       "      <td>26333.0</td>\n",
       "      <td>6448.0</td>\n",
       "      <td>3.0</td>\n",
       "      <td>479.0</td>\n",
       "      <td>0.0</td>\n",
       "      <td>NaN</td>\n",
       "      <td>NaN</td>\n",
       "      <td>Санкт-Петербург</td>\n",
       "    </tr>\n",
       "    <tr>\n",
       "      <th>9379</th>\n",
       "      <td>5</td>\n",
       "      <td>3950000</td>\n",
       "      <td>42.0</td>\n",
       "      <td>2017-03-26</td>\n",
       "      <td>3</td>\n",
       "      <td>25.00</td>\n",
       "      <td>5.0</td>\n",
       "      <td>30.0</td>\n",
       "      <td>2</td>\n",
       "      <td>True</td>\n",
       "      <td>...</td>\n",
       "      <td>0.0</td>\n",
       "      <td>Санкт-Петербург</td>\n",
       "      <td>11647.0</td>\n",
       "      <td>13581.0</td>\n",
       "      <td>0.0</td>\n",
       "      <td>NaN</td>\n",
       "      <td>0.0</td>\n",
       "      <td>NaN</td>\n",
       "      <td>NaN</td>\n",
       "      <td>Санкт-Петербург</td>\n",
       "    </tr>\n",
       "    <tr>\n",
       "      <th>10067</th>\n",
       "      <td>5</td>\n",
       "      <td>2100000</td>\n",
       "      <td>36.1</td>\n",
       "      <td>2016-04-29</td>\n",
       "      <td>1</td>\n",
       "      <td>13.85</td>\n",
       "      <td>5.0</td>\n",
       "      <td>17.5</td>\n",
       "      <td>5</td>\n",
       "      <td>True</td>\n",
       "      <td>...</td>\n",
       "      <td>0.0</td>\n",
       "      <td>поселок Новый Свет</td>\n",
       "      <td>NaN</td>\n",
       "      <td>NaN</td>\n",
       "      <td>NaN</td>\n",
       "      <td>NaN</td>\n",
       "      <td>NaN</td>\n",
       "      <td>NaN</td>\n",
       "      <td>206.0</td>\n",
       "      <td>Новый Свет</td>\n",
       "    </tr>\n",
       "    <tr>\n",
       "      <th>10069</th>\n",
       "      <td>6</td>\n",
       "      <td>2000000</td>\n",
       "      <td>46.0</td>\n",
       "      <td>2017-09-25</td>\n",
       "      <td>2</td>\n",
       "      <td>13.85</td>\n",
       "      <td>5.0</td>\n",
       "      <td>30.0</td>\n",
       "      <td>1</td>\n",
       "      <td>True</td>\n",
       "      <td>...</td>\n",
       "      <td>0.0</td>\n",
       "      <td>поселок Новый Свет</td>\n",
       "      <td>NaN</td>\n",
       "      <td>NaN</td>\n",
       "      <td>NaN</td>\n",
       "      <td>NaN</td>\n",
       "      <td>NaN</td>\n",
       "      <td>NaN</td>\n",
       "      <td>10.0</td>\n",
       "      <td>Новый Свет</td>\n",
       "    </tr>\n",
       "    <tr>\n",
       "      <th>10773</th>\n",
       "      <td>8</td>\n",
       "      <td>3800000</td>\n",
       "      <td>58.0</td>\n",
       "      <td>2017-10-13</td>\n",
       "      <td>2</td>\n",
       "      <td>27.00</td>\n",
       "      <td>10.0</td>\n",
       "      <td>30.1</td>\n",
       "      <td>3</td>\n",
       "      <td>False</td>\n",
       "      <td>...</td>\n",
       "      <td>2.0</td>\n",
       "      <td>посёлок Мурино</td>\n",
       "      <td>NaN</td>\n",
       "      <td>NaN</td>\n",
       "      <td>NaN</td>\n",
       "      <td>NaN</td>\n",
       "      <td>NaN</td>\n",
       "      <td>NaN</td>\n",
       "      <td>71.0</td>\n",
       "      <td>Мурино</td>\n",
       "    </tr>\n",
       "    <tr>\n",
       "      <th>11285</th>\n",
       "      <td>0</td>\n",
       "      <td>1950000</td>\n",
       "      <td>37.0</td>\n",
       "      <td>2019-03-20</td>\n",
       "      <td>1</td>\n",
       "      <td>25.00</td>\n",
       "      <td>5.0</td>\n",
       "      <td>17.0</td>\n",
       "      <td>4</td>\n",
       "      <td>False</td>\n",
       "      <td>...</td>\n",
       "      <td>2.0</td>\n",
       "      <td>Луга</td>\n",
       "      <td>NaN</td>\n",
       "      <td>NaN</td>\n",
       "      <td>NaN</td>\n",
       "      <td>NaN</td>\n",
       "      <td>NaN</td>\n",
       "      <td>NaN</td>\n",
       "      <td>18.0</td>\n",
       "      <td>Луга</td>\n",
       "    </tr>\n",
       "    <tr>\n",
       "      <th>12628</th>\n",
       "      <td>14</td>\n",
       "      <td>3900000</td>\n",
       "      <td>50.0</td>\n",
       "      <td>2018-03-29</td>\n",
       "      <td>1</td>\n",
       "      <td>5.30</td>\n",
       "      <td>5.0</td>\n",
       "      <td>NaN</td>\n",
       "      <td>5</td>\n",
       "      <td>True</td>\n",
       "      <td>...</td>\n",
       "      <td>0.0</td>\n",
       "      <td>Санкт-Петербург</td>\n",
       "      <td>19644.0</td>\n",
       "      <td>3918.0</td>\n",
       "      <td>1.0</td>\n",
       "      <td>505.0</td>\n",
       "      <td>1.0</td>\n",
       "      <td>92.0</td>\n",
       "      <td>8.0</td>\n",
       "      <td>Санкт-Петербург</td>\n",
       "    </tr>\n",
       "    <tr>\n",
       "      <th>14382</th>\n",
       "      <td>9</td>\n",
       "      <td>1700000</td>\n",
       "      <td>35.0</td>\n",
       "      <td>2015-12-04</td>\n",
       "      <td>1</td>\n",
       "      <td>25.00</td>\n",
       "      <td>5.0</td>\n",
       "      <td>20.0</td>\n",
       "      <td>2</td>\n",
       "      <td>False</td>\n",
       "      <td>...</td>\n",
       "      <td>1.0</td>\n",
       "      <td>поселок Новый Свет</td>\n",
       "      <td>NaN</td>\n",
       "      <td>NaN</td>\n",
       "      <td>NaN</td>\n",
       "      <td>NaN</td>\n",
       "      <td>NaN</td>\n",
       "      <td>NaN</td>\n",
       "      <td>206.0</td>\n",
       "      <td>Новый Свет</td>\n",
       "    </tr>\n",
       "    <tr>\n",
       "      <th>15061</th>\n",
       "      <td>19</td>\n",
       "      <td>5600000</td>\n",
       "      <td>56.4</td>\n",
       "      <td>2018-05-11</td>\n",
       "      <td>2</td>\n",
       "      <td>14.00</td>\n",
       "      <td>14.0</td>\n",
       "      <td>32.4</td>\n",
       "      <td>5</td>\n",
       "      <td>True</td>\n",
       "      <td>...</td>\n",
       "      <td>2.0</td>\n",
       "      <td>Санкт-Петербург</td>\n",
       "      <td>14814.0</td>\n",
       "      <td>13610.0</td>\n",
       "      <td>0.0</td>\n",
       "      <td>NaN</td>\n",
       "      <td>0.0</td>\n",
       "      <td>NaN</td>\n",
       "      <td>315.0</td>\n",
       "      <td>Санкт-Петербург</td>\n",
       "    </tr>\n",
       "    <tr>\n",
       "      <th>15743</th>\n",
       "      <td>14</td>\n",
       "      <td>5600000</td>\n",
       "      <td>67.0</td>\n",
       "      <td>2016-11-11</td>\n",
       "      <td>3</td>\n",
       "      <td>8.00</td>\n",
       "      <td>16.0</td>\n",
       "      <td>41.0</td>\n",
       "      <td>1</td>\n",
       "      <td>True</td>\n",
       "      <td>...</td>\n",
       "      <td>0.0</td>\n",
       "      <td>Санкт-Петербург</td>\n",
       "      <td>32691.0</td>\n",
       "      <td>11035.0</td>\n",
       "      <td>1.0</td>\n",
       "      <td>723.0</td>\n",
       "      <td>0.0</td>\n",
       "      <td>NaN</td>\n",
       "      <td>474.0</td>\n",
       "      <td>Санкт-Петербург</td>\n",
       "    </tr>\n",
       "    <tr>\n",
       "      <th>17442</th>\n",
       "      <td>0</td>\n",
       "      <td>5350000</td>\n",
       "      <td>54.0</td>\n",
       "      <td>2015-06-16</td>\n",
       "      <td>2</td>\n",
       "      <td>8.00</td>\n",
       "      <td>5.0</td>\n",
       "      <td>29.0</td>\n",
       "      <td>2</td>\n",
       "      <td>True</td>\n",
       "      <td>...</td>\n",
       "      <td>1.0</td>\n",
       "      <td>Красное Село</td>\n",
       "      <td>24638.0</td>\n",
       "      <td>28062.0</td>\n",
       "      <td>0.0</td>\n",
       "      <td>NaN</td>\n",
       "      <td>0.0</td>\n",
       "      <td>NaN</td>\n",
       "      <td>469.0</td>\n",
       "      <td>Красное Село</td>\n",
       "    </tr>\n",
       "    <tr>\n",
       "      <th>17857</th>\n",
       "      <td>1</td>\n",
       "      <td>3900000</td>\n",
       "      <td>56.0</td>\n",
       "      <td>2017-12-22</td>\n",
       "      <td>3</td>\n",
       "      <td>27.00</td>\n",
       "      <td>5.0</td>\n",
       "      <td>33.0</td>\n",
       "      <td>4</td>\n",
       "      <td>False</td>\n",
       "      <td>...</td>\n",
       "      <td>0.0</td>\n",
       "      <td>Санкт-Петербург</td>\n",
       "      <td>41030.0</td>\n",
       "      <td>15543.0</td>\n",
       "      <td>0.0</td>\n",
       "      <td>NaN</td>\n",
       "      <td>0.0</td>\n",
       "      <td>NaN</td>\n",
       "      <td>73.0</td>\n",
       "      <td>Санкт-Петербург</td>\n",
       "    </tr>\n",
       "    <tr>\n",
       "      <th>18545</th>\n",
       "      <td>6</td>\n",
       "      <td>3750000</td>\n",
       "      <td>43.0</td>\n",
       "      <td>2019-03-18</td>\n",
       "      <td>2</td>\n",
       "      <td>25.00</td>\n",
       "      <td>5.0</td>\n",
       "      <td>29.0</td>\n",
       "      <td>3</td>\n",
       "      <td>False</td>\n",
       "      <td>...</td>\n",
       "      <td>0.0</td>\n",
       "      <td>Санкт-Петербург</td>\n",
       "      <td>27054.0</td>\n",
       "      <td>8033.0</td>\n",
       "      <td>1.0</td>\n",
       "      <td>540.0</td>\n",
       "      <td>0.0</td>\n",
       "      <td>NaN</td>\n",
       "      <td>12.0</td>\n",
       "      <td>Санкт-Петербург</td>\n",
       "    </tr>\n",
       "    <tr>\n",
       "      <th>20264</th>\n",
       "      <td>17</td>\n",
       "      <td>119000000</td>\n",
       "      <td>187.6</td>\n",
       "      <td>2017-07-10</td>\n",
       "      <td>4</td>\n",
       "      <td>6.00</td>\n",
       "      <td>7.0</td>\n",
       "      <td>147.0</td>\n",
       "      <td>7</td>\n",
       "      <td>True</td>\n",
       "      <td>...</td>\n",
       "      <td>0.0</td>\n",
       "      <td>Санкт-Петербург</td>\n",
       "      <td>26902.0</td>\n",
       "      <td>5605.0</td>\n",
       "      <td>3.0</td>\n",
       "      <td>484.0</td>\n",
       "      <td>1.0</td>\n",
       "      <td>305.0</td>\n",
       "      <td>259.0</td>\n",
       "      <td>Санкт-Петербург</td>\n",
       "    </tr>\n",
       "    <tr>\n",
       "      <th>20478</th>\n",
       "      <td>11</td>\n",
       "      <td>8000000</td>\n",
       "      <td>45.0</td>\n",
       "      <td>2017-07-18</td>\n",
       "      <td>1</td>\n",
       "      <td>27.00</td>\n",
       "      <td>4.0</td>\n",
       "      <td>22.0</td>\n",
       "      <td>2</td>\n",
       "      <td>True</td>\n",
       "      <td>...</td>\n",
       "      <td>1.0</td>\n",
       "      <td>Санкт-Петербург</td>\n",
       "      <td>18975.0</td>\n",
       "      <td>3246.0</td>\n",
       "      <td>0.0</td>\n",
       "      <td>NaN</td>\n",
       "      <td>3.0</td>\n",
       "      <td>449.0</td>\n",
       "      <td>429.0</td>\n",
       "      <td>Санкт-Петербург</td>\n",
       "    </tr>\n",
       "    <tr>\n",
       "      <th>20507</th>\n",
       "      <td>12</td>\n",
       "      <td>5950000</td>\n",
       "      <td>60.0</td>\n",
       "      <td>2018-02-19</td>\n",
       "      <td>2</td>\n",
       "      <td>22.60</td>\n",
       "      <td>14.0</td>\n",
       "      <td>35.0</td>\n",
       "      <td>11</td>\n",
       "      <td>True</td>\n",
       "      <td>...</td>\n",
       "      <td>1.0</td>\n",
       "      <td>Санкт-Петербург</td>\n",
       "      <td>27028.0</td>\n",
       "      <td>12570.0</td>\n",
       "      <td>0.0</td>\n",
       "      <td>NaN</td>\n",
       "      <td>0.0</td>\n",
       "      <td>NaN</td>\n",
       "      <td>40.0</td>\n",
       "      <td>Санкт-Петербург</td>\n",
       "    </tr>\n",
       "    <tr>\n",
       "      <th>21377</th>\n",
       "      <td>19</td>\n",
       "      <td>4900000</td>\n",
       "      <td>42.0</td>\n",
       "      <td>2017-04-18</td>\n",
       "      <td>1</td>\n",
       "      <td>27.50</td>\n",
       "      <td>24.0</td>\n",
       "      <td>37.7</td>\n",
       "      <td>19</td>\n",
       "      <td>False</td>\n",
       "      <td>...</td>\n",
       "      <td>2.0</td>\n",
       "      <td>Санкт-Петербург</td>\n",
       "      <td>42742.0</td>\n",
       "      <td>9760.0</td>\n",
       "      <td>0.0</td>\n",
       "      <td>NaN</td>\n",
       "      <td>0.0</td>\n",
       "      <td>NaN</td>\n",
       "      <td>61.0</td>\n",
       "      <td>Санкт-Петербург</td>\n",
       "    </tr>\n",
       "    <tr>\n",
       "      <th>21824</th>\n",
       "      <td>20</td>\n",
       "      <td>2450000</td>\n",
       "      <td>44.0</td>\n",
       "      <td>2019-02-12</td>\n",
       "      <td>2</td>\n",
       "      <td>27.00</td>\n",
       "      <td>2.0</td>\n",
       "      <td>38.0</td>\n",
       "      <td>2</td>\n",
       "      <td>False</td>\n",
       "      <td>...</td>\n",
       "      <td>2.0</td>\n",
       "      <td>городской поселок Большая Ижора</td>\n",
       "      <td>NaN</td>\n",
       "      <td>NaN</td>\n",
       "      <td>NaN</td>\n",
       "      <td>NaN</td>\n",
       "      <td>NaN</td>\n",
       "      <td>NaN</td>\n",
       "      <td>NaN</td>\n",
       "      <td>Большая Ижора</td>\n",
       "    </tr>\n",
       "    <tr>\n",
       "      <th>22309</th>\n",
       "      <td>20</td>\n",
       "      <td>5300000</td>\n",
       "      <td>45.0</td>\n",
       "      <td>2017-09-30</td>\n",
       "      <td>1</td>\n",
       "      <td>10.30</td>\n",
       "      <td>16.0</td>\n",
       "      <td>15.5</td>\n",
       "      <td>15</td>\n",
       "      <td>True</td>\n",
       "      <td>...</td>\n",
       "      <td>0.0</td>\n",
       "      <td>Санкт-Петербург</td>\n",
       "      <td>36353.0</td>\n",
       "      <td>11936.0</td>\n",
       "      <td>2.0</td>\n",
       "      <td>440.0</td>\n",
       "      <td>2.0</td>\n",
       "      <td>450.0</td>\n",
       "      <td>136.0</td>\n",
       "      <td>Санкт-Петербург</td>\n",
       "    </tr>\n",
       "    <tr>\n",
       "      <th>22938</th>\n",
       "      <td>14</td>\n",
       "      <td>4000000</td>\n",
       "      <td>98.0</td>\n",
       "      <td>2018-03-15</td>\n",
       "      <td>4</td>\n",
       "      <td>27.00</td>\n",
       "      <td>2.0</td>\n",
       "      <td>73.0</td>\n",
       "      <td>2</td>\n",
       "      <td>True</td>\n",
       "      <td>...</td>\n",
       "      <td>1.0</td>\n",
       "      <td>деревня Нижняя</td>\n",
       "      <td>NaN</td>\n",
       "      <td>NaN</td>\n",
       "      <td>NaN</td>\n",
       "      <td>NaN</td>\n",
       "      <td>NaN</td>\n",
       "      <td>NaN</td>\n",
       "      <td>27.0</td>\n",
       "      <td>Нижняя</td>\n",
       "    </tr>\n",
       "  </tbody>\n",
       "</table>\n",
       "<p>34 rows × 23 columns</p>\n",
       "</div>"
      ],
      "text/plain": [
       "       total_images  last_price  total_area first_day_exposition  rooms  \\\n",
       "313               1     2450000        49.0           2016-03-09      3   \n",
       "355              17     3600000        55.2           2018-07-12      2   \n",
       "464              15    66571000       280.3           2015-06-11      6   \n",
       "1026             20   155000000       310.0           2018-10-12      5   \n",
       "1388             20    59800000       399.0           2015-01-21      5   \n",
       "2158             15     1500000        42.0           2017-12-23      2   \n",
       "3148             14     2900000        75.0           2018-11-12      3   \n",
       "3474              3     1400000        30.0           2018-03-16      1   \n",
       "4643              0     4300000        45.0           2018-02-01      2   \n",
       "5076              0     3850000        30.5           2018-10-03      1   \n",
       "5246              0     2500000        54.0           2017-10-13      2   \n",
       "5669              4     4400000        50.0           2017-08-08      2   \n",
       "5863             20     5650000        45.0           2018-08-15      1   \n",
       "6246              6     3300000        44.4           2019-03-25      2   \n",
       "7578             17    38000000       143.0           2017-11-02      3   \n",
       "9379              5     3950000        42.0           2017-03-26      3   \n",
       "10067             5     2100000        36.1           2016-04-29      1   \n",
       "10069             6     2000000        46.0           2017-09-25      2   \n",
       "10773             8     3800000        58.0           2017-10-13      2   \n",
       "11285             0     1950000        37.0           2019-03-20      1   \n",
       "12628            14     3900000        50.0           2018-03-29      1   \n",
       "14382             9     1700000        35.0           2015-12-04      1   \n",
       "15061            19     5600000        56.4           2018-05-11      2   \n",
       "15743            14     5600000        67.0           2016-11-11      3   \n",
       "17442             0     5350000        54.0           2015-06-16      2   \n",
       "17857             1     3900000        56.0           2017-12-22      3   \n",
       "18545             6     3750000        43.0           2019-03-18      2   \n",
       "20264            17   119000000       187.6           2017-07-10      4   \n",
       "20478            11     8000000        45.0           2017-07-18      1   \n",
       "20507            12     5950000        60.0           2018-02-19      2   \n",
       "21377            19     4900000        42.0           2017-04-18      1   \n",
       "21824            20     2450000        44.0           2019-02-12      2   \n",
       "22309            20     5300000        45.0           2017-09-30      1   \n",
       "22938            14     4000000        98.0           2018-03-15      4   \n",
       "\n",
       "       ceiling_height  floors_total  living_area  floor  is_apartment  ...  \\\n",
       "313             13.85           5.0         34.0      2          True  ...   \n",
       "355             25.00           5.0         32.0      2         False  ...   \n",
       "464              5.20           8.0        159.5      7          True  ...   \n",
       "1026             5.30           3.0        190.0      3          True  ...   \n",
       "1388             5.60           6.0          NaN      6          True  ...   \n",
       "2158            27.00           2.0         29.0      2          True  ...   \n",
       "3148            32.00           3.0         53.0      2          True  ...   \n",
       "3474             8.00           5.0         15.3      2         False  ...   \n",
       "4643            25.00           9.0         30.0      2          True  ...   \n",
       "5076            24.00           5.0         19.5      1          True  ...   \n",
       "5246            27.00           5.0         30.0      3          True  ...   \n",
       "5669            26.00           9.0         21.3      3          True  ...   \n",
       "5863             8.30          16.0         19.3     14          True  ...   \n",
       "6246            25.00           5.0         31.3      5          True  ...   \n",
       "7578             5.50           5.0         83.0      5          True  ...   \n",
       "9379            25.00           5.0         30.0      2          True  ...   \n",
       "10067           13.85           5.0         17.5      5          True  ...   \n",
       "10069           13.85           5.0         30.0      1          True  ...   \n",
       "10773           27.00          10.0         30.1      3         False  ...   \n",
       "11285           25.00           5.0         17.0      4         False  ...   \n",
       "12628            5.30           5.0          NaN      5          True  ...   \n",
       "14382           25.00           5.0         20.0      2         False  ...   \n",
       "15061           14.00          14.0         32.4      5          True  ...   \n",
       "15743            8.00          16.0         41.0      1          True  ...   \n",
       "17442            8.00           5.0         29.0      2          True  ...   \n",
       "17857           27.00           5.0         33.0      4         False  ...   \n",
       "18545           25.00           5.0         29.0      3         False  ...   \n",
       "20264            6.00           7.0        147.0      7          True  ...   \n",
       "20478           27.00           4.0         22.0      2          True  ...   \n",
       "20507           22.60          14.0         35.0     11          True  ...   \n",
       "21377           27.50          24.0         37.7     19         False  ...   \n",
       "21824           27.00           2.0         38.0      2         False  ...   \n",
       "22309           10.30          16.0         15.5     15          True  ...   \n",
       "22938           27.00           2.0         73.0      2          True  ...   \n",
       "\n",
       "       balcony                    locality_name  airports_nearest  \\\n",
       "313        1.0               поселок Новый Свет               NaN   \n",
       "355        2.0                          Гатчина               NaN   \n",
       "464        0.0                  Санкт-Петербург           26316.0   \n",
       "1026       2.0                  Санкт-Петербург           24899.0   \n",
       "1388       0.0                  Санкт-Петербург           26204.0   \n",
       "2158       0.0                     деревня Мины               NaN   \n",
       "3148       0.0                           Волхов               NaN   \n",
       "3474       0.0                    деревня Нурма               NaN   \n",
       "4643       1.0                  Санкт-Петербург           12016.0   \n",
       "5076       0.0                  Санкт-Петербург           29686.0   \n",
       "5246       2.0                     деревня Мины               NaN   \n",
       "5669       2.0                  Санкт-Петербург           28981.0   \n",
       "5863       1.0                  Санкт-Петербург           13069.0   \n",
       "6246       0.0                        Кронштадт           68923.0   \n",
       "7578       1.0                  Санкт-Петербург           26333.0   \n",
       "9379       0.0                  Санкт-Петербург           11647.0   \n",
       "10067      0.0               поселок Новый Свет               NaN   \n",
       "10069      0.0               поселок Новый Свет               NaN   \n",
       "10773      2.0                   посёлок Мурино               NaN   \n",
       "11285      2.0                             Луга               NaN   \n",
       "12628      0.0                  Санкт-Петербург           19644.0   \n",
       "14382      1.0               поселок Новый Свет               NaN   \n",
       "15061      2.0                  Санкт-Петербург           14814.0   \n",
       "15743      0.0                  Санкт-Петербург           32691.0   \n",
       "17442      1.0                     Красное Село           24638.0   \n",
       "17857      0.0                  Санкт-Петербург           41030.0   \n",
       "18545      0.0                  Санкт-Петербург           27054.0   \n",
       "20264      0.0                  Санкт-Петербург           26902.0   \n",
       "20478      1.0                  Санкт-Петербург           18975.0   \n",
       "20507      1.0                  Санкт-Петербург           27028.0   \n",
       "21377      2.0                  Санкт-Петербург           42742.0   \n",
       "21824      2.0  городской поселок Большая Ижора               NaN   \n",
       "22309      0.0                  Санкт-Петербург           36353.0   \n",
       "22938      1.0                   деревня Нижняя               NaN   \n",
       "\n",
       "       city_centers_nearest parks_around_3000  parks_nearest  \\\n",
       "313                     NaN               NaN            NaN   \n",
       "355                     NaN               NaN            NaN   \n",
       "464                  6655.0               3.0          187.0   \n",
       "1026                 4785.0               0.0            NaN   \n",
       "1388                 6934.0               2.0          149.0   \n",
       "2158                    NaN               NaN            NaN   \n",
       "3148                    NaN               NaN            NaN   \n",
       "3474                    NaN               NaN            NaN   \n",
       "4643                13256.0               1.0          658.0   \n",
       "5076                 8389.0               3.0          397.0   \n",
       "5246                    NaN               NaN            NaN   \n",
       "5669                10912.0               1.0          305.0   \n",
       "5863                10763.0               0.0            NaN   \n",
       "6246                50649.0               1.0          417.0   \n",
       "7578                 6448.0               3.0          479.0   \n",
       "9379                13581.0               0.0            NaN   \n",
       "10067                   NaN               NaN            NaN   \n",
       "10069                   NaN               NaN            NaN   \n",
       "10773                   NaN               NaN            NaN   \n",
       "11285                   NaN               NaN            NaN   \n",
       "12628                3918.0               1.0          505.0   \n",
       "14382                   NaN               NaN            NaN   \n",
       "15061               13610.0               0.0            NaN   \n",
       "15743               11035.0               1.0          723.0   \n",
       "17442               28062.0               0.0            NaN   \n",
       "17857               15543.0               0.0            NaN   \n",
       "18545                8033.0               1.0          540.0   \n",
       "20264                5605.0               3.0          484.0   \n",
       "20478                3246.0               0.0            NaN   \n",
       "20507               12570.0               0.0            NaN   \n",
       "21377                9760.0               0.0            NaN   \n",
       "21824                   NaN               NaN            NaN   \n",
       "22309               11936.0               2.0          440.0   \n",
       "22938                   NaN               NaN            NaN   \n",
       "\n",
       "       ponds_around_3000  ponds_nearest  days_exposition  new_locality_name  \n",
       "313                  NaN            NaN            189.0         Новый Свет  \n",
       "355                  NaN            NaN            259.0            Гатчина  \n",
       "464                  1.0          616.0            578.0    Санкт-Петербург  \n",
       "1026                 1.0          603.0              NaN    Санкт-Петербург  \n",
       "1388                 2.0          577.0            719.0    Санкт-Петербург  \n",
       "2158                 NaN            NaN              NaN               Мины  \n",
       "3148                 NaN            NaN              NaN             Волхов  \n",
       "3474                 NaN            NaN            125.0              Нурма  \n",
       "4643                 1.0          331.0            181.0    Санкт-Петербург  \n",
       "5076                 1.0          578.0              7.0    Санкт-Петербург  \n",
       "5246                 NaN            NaN            540.0               Мины  \n",
       "5669                 0.0            NaN            267.0    Санкт-Петербург  \n",
       "5863                 1.0          613.0             14.0    Санкт-Петербург  \n",
       "6246                 2.0           73.0              NaN          Кронштадт  \n",
       "7578                 0.0            NaN              NaN    Санкт-Петербург  \n",
       "9379                 0.0            NaN              NaN    Санкт-Петербург  \n",
       "10067                NaN            NaN            206.0         Новый Свет  \n",
       "10069                NaN            NaN             10.0         Новый Свет  \n",
       "10773                NaN            NaN             71.0             Мурино  \n",
       "11285                NaN            NaN             18.0               Луга  \n",
       "12628                1.0           92.0              8.0    Санкт-Петербург  \n",
       "14382                NaN            NaN            206.0         Новый Свет  \n",
       "15061                0.0            NaN            315.0    Санкт-Петербург  \n",
       "15743                0.0            NaN            474.0    Санкт-Петербург  \n",
       "17442                0.0            NaN            469.0       Красное Село  \n",
       "17857                0.0            NaN             73.0    Санкт-Петербург  \n",
       "18545                0.0            NaN             12.0    Санкт-Петербург  \n",
       "20264                1.0          305.0            259.0    Санкт-Петербург  \n",
       "20478                3.0          449.0            429.0    Санкт-Петербург  \n",
       "20507                0.0            NaN             40.0    Санкт-Петербург  \n",
       "21377                0.0            NaN             61.0    Санкт-Петербург  \n",
       "21824                NaN            NaN              NaN      Большая Ижора  \n",
       "22309                2.0          450.0            136.0    Санкт-Петербург  \n",
       "22938                NaN            NaN             27.0             Нижняя  \n",
       "\n",
       "[34 rows x 23 columns]"
      ]
     },
     "execution_count": 31,
     "metadata": {},
     "output_type": "execute_result"
    }
   ],
   "source": [
    "df[df['ceiling_height'] > 5]"
   ]
  },
  {
   "cell_type": "markdown",
   "metadata": {},
   "source": [
    "<i>Похоже, здесь закралась ошибка в данных - высота потолков увеличена в 10 раз там, где высота потолков - 20 и больше. Исправим это недоразумение</i>"
   ]
  },
  {
   "cell_type": "code",
   "execution_count": 32,
   "metadata": {},
   "outputs": [],
   "source": [
    "df['ceiling_height'] = df['ceiling_height'].apply(lambda x: x / 10 if x > 20 else x)"
   ]
  },
  {
   "cell_type": "code",
   "execution_count": 33,
   "metadata": {
    "scrolled": true
   },
   "outputs": [
    {
     "data": {
      "text/html": [
       "<div>\n",
       "<style scoped>\n",
       "    .dataframe tbody tr th:only-of-type {\n",
       "        vertical-align: middle;\n",
       "    }\n",
       "\n",
       "    .dataframe tbody tr th {\n",
       "        vertical-align: top;\n",
       "    }\n",
       "\n",
       "    .dataframe thead th {\n",
       "        text-align: right;\n",
       "    }\n",
       "</style>\n",
       "<table border=\"1\" class=\"dataframe\">\n",
       "  <thead>\n",
       "    <tr style=\"text-align: right;\">\n",
       "      <th></th>\n",
       "      <th>total_images</th>\n",
       "      <th>last_price</th>\n",
       "      <th>total_area</th>\n",
       "      <th>first_day_exposition</th>\n",
       "      <th>rooms</th>\n",
       "      <th>ceiling_height</th>\n",
       "      <th>floors_total</th>\n",
       "      <th>living_area</th>\n",
       "      <th>floor</th>\n",
       "      <th>is_apartment</th>\n",
       "      <th>...</th>\n",
       "      <th>balcony</th>\n",
       "      <th>locality_name</th>\n",
       "      <th>airports_nearest</th>\n",
       "      <th>city_centers_nearest</th>\n",
       "      <th>parks_around_3000</th>\n",
       "      <th>parks_nearest</th>\n",
       "      <th>ponds_around_3000</th>\n",
       "      <th>ponds_nearest</th>\n",
       "      <th>days_exposition</th>\n",
       "      <th>new_locality_name</th>\n",
       "    </tr>\n",
       "  </thead>\n",
       "  <tbody>\n",
       "    <tr>\n",
       "      <th>313</th>\n",
       "      <td>1</td>\n",
       "      <td>2450000</td>\n",
       "      <td>49.0</td>\n",
       "      <td>2016-03-09</td>\n",
       "      <td>3</td>\n",
       "      <td>13.85</td>\n",
       "      <td>5.0</td>\n",
       "      <td>34.0</td>\n",
       "      <td>2</td>\n",
       "      <td>True</td>\n",
       "      <td>...</td>\n",
       "      <td>1.0</td>\n",
       "      <td>поселок Новый Свет</td>\n",
       "      <td>NaN</td>\n",
       "      <td>NaN</td>\n",
       "      <td>NaN</td>\n",
       "      <td>NaN</td>\n",
       "      <td>NaN</td>\n",
       "      <td>NaN</td>\n",
       "      <td>189.0</td>\n",
       "      <td>Новый Свет</td>\n",
       "    </tr>\n",
       "    <tr>\n",
       "      <th>464</th>\n",
       "      <td>15</td>\n",
       "      <td>66571000</td>\n",
       "      <td>280.3</td>\n",
       "      <td>2015-06-11</td>\n",
       "      <td>6</td>\n",
       "      <td>5.20</td>\n",
       "      <td>8.0</td>\n",
       "      <td>159.5</td>\n",
       "      <td>7</td>\n",
       "      <td>True</td>\n",
       "      <td>...</td>\n",
       "      <td>0.0</td>\n",
       "      <td>Санкт-Петербург</td>\n",
       "      <td>26316.0</td>\n",
       "      <td>6655.0</td>\n",
       "      <td>3.0</td>\n",
       "      <td>187.0</td>\n",
       "      <td>1.0</td>\n",
       "      <td>616.0</td>\n",
       "      <td>578.0</td>\n",
       "      <td>Санкт-Петербург</td>\n",
       "    </tr>\n",
       "    <tr>\n",
       "      <th>1026</th>\n",
       "      <td>20</td>\n",
       "      <td>155000000</td>\n",
       "      <td>310.0</td>\n",
       "      <td>2018-10-12</td>\n",
       "      <td>5</td>\n",
       "      <td>5.30</td>\n",
       "      <td>3.0</td>\n",
       "      <td>190.0</td>\n",
       "      <td>3</td>\n",
       "      <td>True</td>\n",
       "      <td>...</td>\n",
       "      <td>2.0</td>\n",
       "      <td>Санкт-Петербург</td>\n",
       "      <td>24899.0</td>\n",
       "      <td>4785.0</td>\n",
       "      <td>0.0</td>\n",
       "      <td>NaN</td>\n",
       "      <td>1.0</td>\n",
       "      <td>603.0</td>\n",
       "      <td>NaN</td>\n",
       "      <td>Санкт-Петербург</td>\n",
       "    </tr>\n",
       "    <tr>\n",
       "      <th>1388</th>\n",
       "      <td>20</td>\n",
       "      <td>59800000</td>\n",
       "      <td>399.0</td>\n",
       "      <td>2015-01-21</td>\n",
       "      <td>5</td>\n",
       "      <td>5.60</td>\n",
       "      <td>6.0</td>\n",
       "      <td>NaN</td>\n",
       "      <td>6</td>\n",
       "      <td>True</td>\n",
       "      <td>...</td>\n",
       "      <td>0.0</td>\n",
       "      <td>Санкт-Петербург</td>\n",
       "      <td>26204.0</td>\n",
       "      <td>6934.0</td>\n",
       "      <td>2.0</td>\n",
       "      <td>149.0</td>\n",
       "      <td>2.0</td>\n",
       "      <td>577.0</td>\n",
       "      <td>719.0</td>\n",
       "      <td>Санкт-Петербург</td>\n",
       "    </tr>\n",
       "    <tr>\n",
       "      <th>3474</th>\n",
       "      <td>3</td>\n",
       "      <td>1400000</td>\n",
       "      <td>30.0</td>\n",
       "      <td>2018-03-16</td>\n",
       "      <td>1</td>\n",
       "      <td>8.00</td>\n",
       "      <td>5.0</td>\n",
       "      <td>15.3</td>\n",
       "      <td>2</td>\n",
       "      <td>False</td>\n",
       "      <td>...</td>\n",
       "      <td>0.0</td>\n",
       "      <td>деревня Нурма</td>\n",
       "      <td>NaN</td>\n",
       "      <td>NaN</td>\n",
       "      <td>NaN</td>\n",
       "      <td>NaN</td>\n",
       "      <td>NaN</td>\n",
       "      <td>NaN</td>\n",
       "      <td>125.0</td>\n",
       "      <td>Нурма</td>\n",
       "    </tr>\n",
       "    <tr>\n",
       "      <th>5863</th>\n",
       "      <td>20</td>\n",
       "      <td>5650000</td>\n",
       "      <td>45.0</td>\n",
       "      <td>2018-08-15</td>\n",
       "      <td>1</td>\n",
       "      <td>8.30</td>\n",
       "      <td>16.0</td>\n",
       "      <td>19.3</td>\n",
       "      <td>14</td>\n",
       "      <td>True</td>\n",
       "      <td>...</td>\n",
       "      <td>1.0</td>\n",
       "      <td>Санкт-Петербург</td>\n",
       "      <td>13069.0</td>\n",
       "      <td>10763.0</td>\n",
       "      <td>0.0</td>\n",
       "      <td>NaN</td>\n",
       "      <td>1.0</td>\n",
       "      <td>613.0</td>\n",
       "      <td>14.0</td>\n",
       "      <td>Санкт-Петербург</td>\n",
       "    </tr>\n",
       "    <tr>\n",
       "      <th>7578</th>\n",
       "      <td>17</td>\n",
       "      <td>38000000</td>\n",
       "      <td>143.0</td>\n",
       "      <td>2017-11-02</td>\n",
       "      <td>3</td>\n",
       "      <td>5.50</td>\n",
       "      <td>5.0</td>\n",
       "      <td>83.0</td>\n",
       "      <td>5</td>\n",
       "      <td>True</td>\n",
       "      <td>...</td>\n",
       "      <td>1.0</td>\n",
       "      <td>Санкт-Петербург</td>\n",
       "      <td>26333.0</td>\n",
       "      <td>6448.0</td>\n",
       "      <td>3.0</td>\n",
       "      <td>479.0</td>\n",
       "      <td>0.0</td>\n",
       "      <td>NaN</td>\n",
       "      <td>NaN</td>\n",
       "      <td>Санкт-Петербург</td>\n",
       "    </tr>\n",
       "    <tr>\n",
       "      <th>10067</th>\n",
       "      <td>5</td>\n",
       "      <td>2100000</td>\n",
       "      <td>36.1</td>\n",
       "      <td>2016-04-29</td>\n",
       "      <td>1</td>\n",
       "      <td>13.85</td>\n",
       "      <td>5.0</td>\n",
       "      <td>17.5</td>\n",
       "      <td>5</td>\n",
       "      <td>True</td>\n",
       "      <td>...</td>\n",
       "      <td>0.0</td>\n",
       "      <td>поселок Новый Свет</td>\n",
       "      <td>NaN</td>\n",
       "      <td>NaN</td>\n",
       "      <td>NaN</td>\n",
       "      <td>NaN</td>\n",
       "      <td>NaN</td>\n",
       "      <td>NaN</td>\n",
       "      <td>206.0</td>\n",
       "      <td>Новый Свет</td>\n",
       "    </tr>\n",
       "    <tr>\n",
       "      <th>10069</th>\n",
       "      <td>6</td>\n",
       "      <td>2000000</td>\n",
       "      <td>46.0</td>\n",
       "      <td>2017-09-25</td>\n",
       "      <td>2</td>\n",
       "      <td>13.85</td>\n",
       "      <td>5.0</td>\n",
       "      <td>30.0</td>\n",
       "      <td>1</td>\n",
       "      <td>True</td>\n",
       "      <td>...</td>\n",
       "      <td>0.0</td>\n",
       "      <td>поселок Новый Свет</td>\n",
       "      <td>NaN</td>\n",
       "      <td>NaN</td>\n",
       "      <td>NaN</td>\n",
       "      <td>NaN</td>\n",
       "      <td>NaN</td>\n",
       "      <td>NaN</td>\n",
       "      <td>10.0</td>\n",
       "      <td>Новый Свет</td>\n",
       "    </tr>\n",
       "    <tr>\n",
       "      <th>12628</th>\n",
       "      <td>14</td>\n",
       "      <td>3900000</td>\n",
       "      <td>50.0</td>\n",
       "      <td>2018-03-29</td>\n",
       "      <td>1</td>\n",
       "      <td>5.30</td>\n",
       "      <td>5.0</td>\n",
       "      <td>NaN</td>\n",
       "      <td>5</td>\n",
       "      <td>True</td>\n",
       "      <td>...</td>\n",
       "      <td>0.0</td>\n",
       "      <td>Санкт-Петербург</td>\n",
       "      <td>19644.0</td>\n",
       "      <td>3918.0</td>\n",
       "      <td>1.0</td>\n",
       "      <td>505.0</td>\n",
       "      <td>1.0</td>\n",
       "      <td>92.0</td>\n",
       "      <td>8.0</td>\n",
       "      <td>Санкт-Петербург</td>\n",
       "    </tr>\n",
       "    <tr>\n",
       "      <th>15061</th>\n",
       "      <td>19</td>\n",
       "      <td>5600000</td>\n",
       "      <td>56.4</td>\n",
       "      <td>2018-05-11</td>\n",
       "      <td>2</td>\n",
       "      <td>14.00</td>\n",
       "      <td>14.0</td>\n",
       "      <td>32.4</td>\n",
       "      <td>5</td>\n",
       "      <td>True</td>\n",
       "      <td>...</td>\n",
       "      <td>2.0</td>\n",
       "      <td>Санкт-Петербург</td>\n",
       "      <td>14814.0</td>\n",
       "      <td>13610.0</td>\n",
       "      <td>0.0</td>\n",
       "      <td>NaN</td>\n",
       "      <td>0.0</td>\n",
       "      <td>NaN</td>\n",
       "      <td>315.0</td>\n",
       "      <td>Санкт-Петербург</td>\n",
       "    </tr>\n",
       "    <tr>\n",
       "      <th>15743</th>\n",
       "      <td>14</td>\n",
       "      <td>5600000</td>\n",
       "      <td>67.0</td>\n",
       "      <td>2016-11-11</td>\n",
       "      <td>3</td>\n",
       "      <td>8.00</td>\n",
       "      <td>16.0</td>\n",
       "      <td>41.0</td>\n",
       "      <td>1</td>\n",
       "      <td>True</td>\n",
       "      <td>...</td>\n",
       "      <td>0.0</td>\n",
       "      <td>Санкт-Петербург</td>\n",
       "      <td>32691.0</td>\n",
       "      <td>11035.0</td>\n",
       "      <td>1.0</td>\n",
       "      <td>723.0</td>\n",
       "      <td>0.0</td>\n",
       "      <td>NaN</td>\n",
       "      <td>474.0</td>\n",
       "      <td>Санкт-Петербург</td>\n",
       "    </tr>\n",
       "    <tr>\n",
       "      <th>17442</th>\n",
       "      <td>0</td>\n",
       "      <td>5350000</td>\n",
       "      <td>54.0</td>\n",
       "      <td>2015-06-16</td>\n",
       "      <td>2</td>\n",
       "      <td>8.00</td>\n",
       "      <td>5.0</td>\n",
       "      <td>29.0</td>\n",
       "      <td>2</td>\n",
       "      <td>True</td>\n",
       "      <td>...</td>\n",
       "      <td>1.0</td>\n",
       "      <td>Красное Село</td>\n",
       "      <td>24638.0</td>\n",
       "      <td>28062.0</td>\n",
       "      <td>0.0</td>\n",
       "      <td>NaN</td>\n",
       "      <td>0.0</td>\n",
       "      <td>NaN</td>\n",
       "      <td>469.0</td>\n",
       "      <td>Красное Село</td>\n",
       "    </tr>\n",
       "    <tr>\n",
       "      <th>20264</th>\n",
       "      <td>17</td>\n",
       "      <td>119000000</td>\n",
       "      <td>187.6</td>\n",
       "      <td>2017-07-10</td>\n",
       "      <td>4</td>\n",
       "      <td>6.00</td>\n",
       "      <td>7.0</td>\n",
       "      <td>147.0</td>\n",
       "      <td>7</td>\n",
       "      <td>True</td>\n",
       "      <td>...</td>\n",
       "      <td>0.0</td>\n",
       "      <td>Санкт-Петербург</td>\n",
       "      <td>26902.0</td>\n",
       "      <td>5605.0</td>\n",
       "      <td>3.0</td>\n",
       "      <td>484.0</td>\n",
       "      <td>1.0</td>\n",
       "      <td>305.0</td>\n",
       "      <td>259.0</td>\n",
       "      <td>Санкт-Петербург</td>\n",
       "    </tr>\n",
       "    <tr>\n",
       "      <th>22309</th>\n",
       "      <td>20</td>\n",
       "      <td>5300000</td>\n",
       "      <td>45.0</td>\n",
       "      <td>2017-09-30</td>\n",
       "      <td>1</td>\n",
       "      <td>10.30</td>\n",
       "      <td>16.0</td>\n",
       "      <td>15.5</td>\n",
       "      <td>15</td>\n",
       "      <td>True</td>\n",
       "      <td>...</td>\n",
       "      <td>0.0</td>\n",
       "      <td>Санкт-Петербург</td>\n",
       "      <td>36353.0</td>\n",
       "      <td>11936.0</td>\n",
       "      <td>2.0</td>\n",
       "      <td>440.0</td>\n",
       "      <td>2.0</td>\n",
       "      <td>450.0</td>\n",
       "      <td>136.0</td>\n",
       "      <td>Санкт-Петербург</td>\n",
       "    </tr>\n",
       "  </tbody>\n",
       "</table>\n",
       "<p>15 rows × 23 columns</p>\n",
       "</div>"
      ],
      "text/plain": [
       "       total_images  last_price  total_area first_day_exposition  rooms  \\\n",
       "313               1     2450000        49.0           2016-03-09      3   \n",
       "464              15    66571000       280.3           2015-06-11      6   \n",
       "1026             20   155000000       310.0           2018-10-12      5   \n",
       "1388             20    59800000       399.0           2015-01-21      5   \n",
       "3474              3     1400000        30.0           2018-03-16      1   \n",
       "5863             20     5650000        45.0           2018-08-15      1   \n",
       "7578             17    38000000       143.0           2017-11-02      3   \n",
       "10067             5     2100000        36.1           2016-04-29      1   \n",
       "10069             6     2000000        46.0           2017-09-25      2   \n",
       "12628            14     3900000        50.0           2018-03-29      1   \n",
       "15061            19     5600000        56.4           2018-05-11      2   \n",
       "15743            14     5600000        67.0           2016-11-11      3   \n",
       "17442             0     5350000        54.0           2015-06-16      2   \n",
       "20264            17   119000000       187.6           2017-07-10      4   \n",
       "22309            20     5300000        45.0           2017-09-30      1   \n",
       "\n",
       "       ceiling_height  floors_total  living_area  floor  is_apartment  ...  \\\n",
       "313             13.85           5.0         34.0      2          True  ...   \n",
       "464              5.20           8.0        159.5      7          True  ...   \n",
       "1026             5.30           3.0        190.0      3          True  ...   \n",
       "1388             5.60           6.0          NaN      6          True  ...   \n",
       "3474             8.00           5.0         15.3      2         False  ...   \n",
       "5863             8.30          16.0         19.3     14          True  ...   \n",
       "7578             5.50           5.0         83.0      5          True  ...   \n",
       "10067           13.85           5.0         17.5      5          True  ...   \n",
       "10069           13.85           5.0         30.0      1          True  ...   \n",
       "12628            5.30           5.0          NaN      5          True  ...   \n",
       "15061           14.00          14.0         32.4      5          True  ...   \n",
       "15743            8.00          16.0         41.0      1          True  ...   \n",
       "17442            8.00           5.0         29.0      2          True  ...   \n",
       "20264            6.00           7.0        147.0      7          True  ...   \n",
       "22309           10.30          16.0         15.5     15          True  ...   \n",
       "\n",
       "       balcony       locality_name  airports_nearest  city_centers_nearest  \\\n",
       "313        1.0  поселок Новый Свет               NaN                   NaN   \n",
       "464        0.0     Санкт-Петербург           26316.0                6655.0   \n",
       "1026       2.0     Санкт-Петербург           24899.0                4785.0   \n",
       "1388       0.0     Санкт-Петербург           26204.0                6934.0   \n",
       "3474       0.0       деревня Нурма               NaN                   NaN   \n",
       "5863       1.0     Санкт-Петербург           13069.0               10763.0   \n",
       "7578       1.0     Санкт-Петербург           26333.0                6448.0   \n",
       "10067      0.0  поселок Новый Свет               NaN                   NaN   \n",
       "10069      0.0  поселок Новый Свет               NaN                   NaN   \n",
       "12628      0.0     Санкт-Петербург           19644.0                3918.0   \n",
       "15061      2.0     Санкт-Петербург           14814.0               13610.0   \n",
       "15743      0.0     Санкт-Петербург           32691.0               11035.0   \n",
       "17442      1.0        Красное Село           24638.0               28062.0   \n",
       "20264      0.0     Санкт-Петербург           26902.0                5605.0   \n",
       "22309      0.0     Санкт-Петербург           36353.0               11936.0   \n",
       "\n",
       "      parks_around_3000  parks_nearest  ponds_around_3000  ponds_nearest  \\\n",
       "313                 NaN            NaN                NaN            NaN   \n",
       "464                 3.0          187.0                1.0          616.0   \n",
       "1026                0.0            NaN                1.0          603.0   \n",
       "1388                2.0          149.0                2.0          577.0   \n",
       "3474                NaN            NaN                NaN            NaN   \n",
       "5863                0.0            NaN                1.0          613.0   \n",
       "7578                3.0          479.0                0.0            NaN   \n",
       "10067               NaN            NaN                NaN            NaN   \n",
       "10069               NaN            NaN                NaN            NaN   \n",
       "12628               1.0          505.0                1.0           92.0   \n",
       "15061               0.0            NaN                0.0            NaN   \n",
       "15743               1.0          723.0                0.0            NaN   \n",
       "17442               0.0            NaN                0.0            NaN   \n",
       "20264               3.0          484.0                1.0          305.0   \n",
       "22309               2.0          440.0                2.0          450.0   \n",
       "\n",
       "       days_exposition  new_locality_name  \n",
       "313              189.0         Новый Свет  \n",
       "464              578.0    Санкт-Петербург  \n",
       "1026               NaN    Санкт-Петербург  \n",
       "1388             719.0    Санкт-Петербург  \n",
       "3474             125.0              Нурма  \n",
       "5863              14.0    Санкт-Петербург  \n",
       "7578               NaN    Санкт-Петербург  \n",
       "10067            206.0         Новый Свет  \n",
       "10069             10.0         Новый Свет  \n",
       "12628              8.0    Санкт-Петербург  \n",
       "15061            315.0    Санкт-Петербург  \n",
       "15743            474.0    Санкт-Петербург  \n",
       "17442            469.0       Красное Село  \n",
       "20264            259.0    Санкт-Петербург  \n",
       "22309            136.0    Санкт-Петербург  \n",
       "\n",
       "[15 rows x 23 columns]"
      ]
     },
     "execution_count": 33,
     "metadata": {},
     "output_type": "execute_result"
    }
   ],
   "source": [
    "df.query('ceiling_height > 5')"
   ]
  },
  {
   "cell_type": "markdown",
   "metadata": {},
   "source": [
    "<i>И снова несколько нежилых помещений. Уберём и эти данные</i>"
   ]
  },
  {
   "cell_type": "code",
   "execution_count": 34,
   "metadata": {},
   "outputs": [],
   "source": [
    "df = df.query('(ceiling_height <= 5) or ceiling_height.isna()')"
   ]
  },
  {
   "cell_type": "markdown",
   "metadata": {},
   "source": [
    "<i>Часто в дальнейшем масштаб наших графиков будут искажать очень дорогие квартиры - стоимостью больше 100 миллионов. Посмотрим, сколько их всего в наборе, и, если немного - отбросим и их</i>"
   ]
  },
  {
   "cell_type": "code",
   "execution_count": 35,
   "metadata": {},
   "outputs": [
    {
     "data": {
      "text/plain": [
       "26"
      ]
     },
     "execution_count": 35,
     "metadata": {},
     "output_type": "execute_result"
    }
   ],
   "source": [
    "df.query('last_price > 100000000')['last_price'].count()"
   ]
  },
  {
   "cell_type": "code",
   "execution_count": 36,
   "metadata": {},
   "outputs": [],
   "source": [
    "df = df.query('last_price <= 100000000')"
   ]
  },
  {
   "cell_type": "markdown",
   "metadata": {},
   "source": [
    "<i>Посмотрим статистики по очищенным данным</i>"
   ]
  },
  {
   "cell_type": "code",
   "execution_count": 37,
   "metadata": {},
   "outputs": [
    {
     "data": {
      "text/html": [
       "<div>\n",
       "<style scoped>\n",
       "    .dataframe tbody tr th:only-of-type {\n",
       "        vertical-align: middle;\n",
       "    }\n",
       "\n",
       "    .dataframe tbody tr th {\n",
       "        vertical-align: top;\n",
       "    }\n",
       "\n",
       "    .dataframe thead th {\n",
       "        text-align: right;\n",
       "    }\n",
       "</style>\n",
       "<table border=\"1\" class=\"dataframe\">\n",
       "  <thead>\n",
       "    <tr style=\"text-align: right;\">\n",
       "      <th></th>\n",
       "      <th>total_images</th>\n",
       "      <th>last_price</th>\n",
       "      <th>total_area</th>\n",
       "      <th>rooms</th>\n",
       "      <th>ceiling_height</th>\n",
       "      <th>floors_total</th>\n",
       "      <th>living_area</th>\n",
       "      <th>floor</th>\n",
       "      <th>kitchen_area</th>\n",
       "      <th>balcony</th>\n",
       "      <th>airports_nearest</th>\n",
       "      <th>city_centers_nearest</th>\n",
       "      <th>parks_around_3000</th>\n",
       "      <th>parks_nearest</th>\n",
       "      <th>ponds_around_3000</th>\n",
       "      <th>ponds_nearest</th>\n",
       "      <th>days_exposition</th>\n",
       "    </tr>\n",
       "  </thead>\n",
       "  <tbody>\n",
       "    <tr>\n",
       "      <th>count</th>\n",
       "      <td>22676.000000</td>\n",
       "      <td>2.267600e+04</td>\n",
       "      <td>22676.000000</td>\n",
       "      <td>22676.000000</td>\n",
       "      <td>22676.000000</td>\n",
       "      <td>22676.000000</td>\n",
       "      <td>20868.000000</td>\n",
       "      <td>22676.000000</td>\n",
       "      <td>20682.000000</td>\n",
       "      <td>22676.000000</td>\n",
       "      <td>17354.000000</td>\n",
       "      <td>17441.000000</td>\n",
       "      <td>17377.000000</td>\n",
       "      <td>7693.000000</td>\n",
       "      <td>17377.000000</td>\n",
       "      <td>8666.000000</td>\n",
       "      <td>19659.000000</td>\n",
       "    </tr>\n",
       "    <tr>\n",
       "      <th>mean</th>\n",
       "      <td>9.849753</td>\n",
       "      <td>6.113393e+06</td>\n",
       "      <td>58.929805</td>\n",
       "      <td>2.045952</td>\n",
       "      <td>2.699471</td>\n",
       "      <td>10.601870</td>\n",
       "      <td>33.622009</td>\n",
       "      <td>5.822014</td>\n",
       "      <td>10.410237</td>\n",
       "      <td>0.497045</td>\n",
       "      <td>28813.826150</td>\n",
       "      <td>14242.224270</td>\n",
       "      <td>0.607872</td>\n",
       "      <td>490.271026</td>\n",
       "      <td>0.764919</td>\n",
       "      <td>519.921417</td>\n",
       "      <td>180.665497</td>\n",
       "    </tr>\n",
       "    <tr>\n",
       "      <th>std</th>\n",
       "      <td>5.656149</td>\n",
       "      <td>6.129724e+06</td>\n",
       "      <td>30.550750</td>\n",
       "      <td>0.987421</td>\n",
       "      <td>0.217722</td>\n",
       "      <td>6.568307</td>\n",
       "      <td>19.381845</td>\n",
       "      <td>4.833536</td>\n",
       "      <td>5.558786</td>\n",
       "      <td>0.751413</td>\n",
       "      <td>12662.594171</td>\n",
       "      <td>8632.895742</td>\n",
       "      <td>0.799331</td>\n",
       "      <td>341.991692</td>\n",
       "      <td>0.935251</td>\n",
       "      <td>277.947740</td>\n",
       "      <td>219.615747</td>\n",
       "    </tr>\n",
       "    <tr>\n",
       "      <th>min</th>\n",
       "      <td>0.000000</td>\n",
       "      <td>1.219000e+04</td>\n",
       "      <td>12.000000</td>\n",
       "      <td>1.000000</td>\n",
       "      <td>1.000000</td>\n",
       "      <td>1.000000</td>\n",
       "      <td>2.000000</td>\n",
       "      <td>1.000000</td>\n",
       "      <td>1.300000</td>\n",
       "      <td>0.000000</td>\n",
       "      <td>0.000000</td>\n",
       "      <td>181.000000</td>\n",
       "      <td>0.000000</td>\n",
       "      <td>1.000000</td>\n",
       "      <td>0.000000</td>\n",
       "      <td>13.000000</td>\n",
       "      <td>1.000000</td>\n",
       "    </tr>\n",
       "    <tr>\n",
       "      <th>25%</th>\n",
       "      <td>6.000000</td>\n",
       "      <td>3.400000e+06</td>\n",
       "      <td>40.000000</td>\n",
       "      <td>1.000000</td>\n",
       "      <td>2.550000</td>\n",
       "      <td>5.000000</td>\n",
       "      <td>18.500000</td>\n",
       "      <td>2.000000</td>\n",
       "      <td>7.000000</td>\n",
       "      <td>0.000000</td>\n",
       "      <td>18539.000000</td>\n",
       "      <td>9328.000000</td>\n",
       "      <td>0.000000</td>\n",
       "      <td>288.000000</td>\n",
       "      <td>0.000000</td>\n",
       "      <td>295.250000</td>\n",
       "      <td>45.000000</td>\n",
       "    </tr>\n",
       "    <tr>\n",
       "      <th>50%</th>\n",
       "      <td>9.000000</td>\n",
       "      <td>4.600000e+06</td>\n",
       "      <td>51.390000</td>\n",
       "      <td>2.000000</td>\n",
       "      <td>2.700000</td>\n",
       "      <td>9.000000</td>\n",
       "      <td>30.000000</td>\n",
       "      <td>4.000000</td>\n",
       "      <td>9.000000</td>\n",
       "      <td>0.000000</td>\n",
       "      <td>26764.000000</td>\n",
       "      <td>13107.000000</td>\n",
       "      <td>0.000000</td>\n",
       "      <td>454.000000</td>\n",
       "      <td>0.000000</td>\n",
       "      <td>504.000000</td>\n",
       "      <td>95.000000</td>\n",
       "    </tr>\n",
       "    <tr>\n",
       "      <th>75%</th>\n",
       "      <td>14.000000</td>\n",
       "      <td>6.672500e+06</td>\n",
       "      <td>68.300000</td>\n",
       "      <td>3.000000</td>\n",
       "      <td>2.700000</td>\n",
       "      <td>15.000000</td>\n",
       "      <td>42.000000</td>\n",
       "      <td>8.000000</td>\n",
       "      <td>11.850000</td>\n",
       "      <td>1.000000</td>\n",
       "      <td>37310.000000</td>\n",
       "      <td>16293.000000</td>\n",
       "      <td>1.000000</td>\n",
       "      <td>612.000000</td>\n",
       "      <td>1.000000</td>\n",
       "      <td>731.000000</td>\n",
       "      <td>231.000000</td>\n",
       "    </tr>\n",
       "    <tr>\n",
       "      <th>max</th>\n",
       "      <td>50.000000</td>\n",
       "      <td>9.900000e+07</td>\n",
       "      <td>507.000000</td>\n",
       "      <td>6.000000</td>\n",
       "      <td>5.000000</td>\n",
       "      <td>60.000000</td>\n",
       "      <td>301.500000</td>\n",
       "      <td>33.000000</td>\n",
       "      <td>100.700000</td>\n",
       "      <td>2.000000</td>\n",
       "      <td>84869.000000</td>\n",
       "      <td>65968.000000</td>\n",
       "      <td>3.000000</td>\n",
       "      <td>3190.000000</td>\n",
       "      <td>3.000000</td>\n",
       "      <td>1344.000000</td>\n",
       "      <td>1572.000000</td>\n",
       "    </tr>\n",
       "  </tbody>\n",
       "</table>\n",
       "</div>"
      ],
      "text/plain": [
       "       total_images    last_price    total_area         rooms  ceiling_height  \\\n",
       "count  22676.000000  2.267600e+04  22676.000000  22676.000000    22676.000000   \n",
       "mean       9.849753  6.113393e+06     58.929805      2.045952        2.699471   \n",
       "std        5.656149  6.129724e+06     30.550750      0.987421        0.217722   \n",
       "min        0.000000  1.219000e+04     12.000000      1.000000        1.000000   \n",
       "25%        6.000000  3.400000e+06     40.000000      1.000000        2.550000   \n",
       "50%        9.000000  4.600000e+06     51.390000      2.000000        2.700000   \n",
       "75%       14.000000  6.672500e+06     68.300000      3.000000        2.700000   \n",
       "max       50.000000  9.900000e+07    507.000000      6.000000        5.000000   \n",
       "\n",
       "       floors_total   living_area         floor  kitchen_area       balcony  \\\n",
       "count  22676.000000  20868.000000  22676.000000  20682.000000  22676.000000   \n",
       "mean      10.601870     33.622009      5.822014     10.410237      0.497045   \n",
       "std        6.568307     19.381845      4.833536      5.558786      0.751413   \n",
       "min        1.000000      2.000000      1.000000      1.300000      0.000000   \n",
       "25%        5.000000     18.500000      2.000000      7.000000      0.000000   \n",
       "50%        9.000000     30.000000      4.000000      9.000000      0.000000   \n",
       "75%       15.000000     42.000000      8.000000     11.850000      1.000000   \n",
       "max       60.000000    301.500000     33.000000    100.700000      2.000000   \n",
       "\n",
       "       airports_nearest  city_centers_nearest  parks_around_3000  \\\n",
       "count      17354.000000          17441.000000       17377.000000   \n",
       "mean       28813.826150          14242.224270           0.607872   \n",
       "std        12662.594171           8632.895742           0.799331   \n",
       "min            0.000000            181.000000           0.000000   \n",
       "25%        18539.000000           9328.000000           0.000000   \n",
       "50%        26764.000000          13107.000000           0.000000   \n",
       "75%        37310.000000          16293.000000           1.000000   \n",
       "max        84869.000000          65968.000000           3.000000   \n",
       "\n",
       "       parks_nearest  ponds_around_3000  ponds_nearest  days_exposition  \n",
       "count    7693.000000       17377.000000    8666.000000     19659.000000  \n",
       "mean      490.271026           0.764919     519.921417       180.665497  \n",
       "std       341.991692           0.935251     277.947740       219.615747  \n",
       "min         1.000000           0.000000      13.000000         1.000000  \n",
       "25%       288.000000           0.000000     295.250000        45.000000  \n",
       "50%       454.000000           0.000000     504.000000        95.000000  \n",
       "75%       612.000000           1.000000     731.000000       231.000000  \n",
       "max      3190.000000           3.000000    1344.000000      1572.000000  "
      ]
     },
     "execution_count": 37,
     "metadata": {},
     "output_type": "execute_result"
    }
   ],
   "source": [
    "df.describe()"
   ]
  },
  {
   "cell_type": "code",
   "execution_count": 38,
   "metadata": {
    "scrolled": true
   },
   "outputs": [
    {
     "data": {
      "text/html": [
       "<div>\n",
       "<style scoped>\n",
       "    .dataframe tbody tr th:only-of-type {\n",
       "        vertical-align: middle;\n",
       "    }\n",
       "\n",
       "    .dataframe tbody tr th {\n",
       "        vertical-align: top;\n",
       "    }\n",
       "\n",
       "    .dataframe thead th {\n",
       "        text-align: right;\n",
       "    }\n",
       "</style>\n",
       "<table border=\"1\" class=\"dataframe\">\n",
       "  <thead>\n",
       "    <tr style=\"text-align: right;\">\n",
       "      <th></th>\n",
       "      <th>total_images</th>\n",
       "      <th>last_price</th>\n",
       "      <th>total_area</th>\n",
       "      <th>first_day_exposition</th>\n",
       "      <th>rooms</th>\n",
       "      <th>ceiling_height</th>\n",
       "      <th>floors_total</th>\n",
       "      <th>living_area</th>\n",
       "      <th>floor</th>\n",
       "      <th>is_apartment</th>\n",
       "      <th>...</th>\n",
       "      <th>balcony</th>\n",
       "      <th>locality_name</th>\n",
       "      <th>airports_nearest</th>\n",
       "      <th>city_centers_nearest</th>\n",
       "      <th>parks_around_3000</th>\n",
       "      <th>parks_nearest</th>\n",
       "      <th>ponds_around_3000</th>\n",
       "      <th>ponds_nearest</th>\n",
       "      <th>days_exposition</th>\n",
       "      <th>new_locality_name</th>\n",
       "    </tr>\n",
       "  </thead>\n",
       "  <tbody>\n",
       "  </tbody>\n",
       "</table>\n",
       "<p>0 rows × 23 columns</p>\n",
       "</div>"
      ],
      "text/plain": [
       "Empty DataFrame\n",
       "Columns: [total_images, last_price, total_area, first_day_exposition, rooms, ceiling_height, floors_total, living_area, floor, is_apartment, studio, open_plan, kitchen_area, balcony, locality_name, airports_nearest, city_centers_nearest, parks_around_3000, parks_nearest, ponds_around_3000, ponds_nearest, days_exposition, new_locality_name]\n",
       "Index: []\n",
       "\n",
       "[0 rows x 23 columns]"
      ]
     },
     "execution_count": 38,
     "metadata": {},
     "output_type": "execute_result"
    }
   ],
   "source": [
    "df.query('floors_total.round() != floors_total')"
   ]
  },
  {
   "cell_type": "code",
   "execution_count": 39,
   "metadata": {},
   "outputs": [],
   "source": [
    "df['floors_total'] = df['floors_total'].astype('int64')"
   ]
  },
  {
   "cell_type": "markdown",
   "metadata": {},
   "source": [
    "<div style=\"font-size:2rem; font-weight:bold\">Вывод</div>\n",
    "<p></p>\n",
    "<div style=\"border:solid green 2px; padding: 20px\">\n",
    "<i><b>Благодаря предобработке наши данные стали более пригодными для анализа. Мы почистили данные от выбросов и странных значений. Продолжим работу над датасетом</b></i>\n",
    "</div>"
   ]
  },
  {
   "cell_type": "markdown",
   "metadata": {},
   "source": [
    "### Посчитайте и добавьте в таблицу новые столбцы"
   ]
  },
  {
   "cell_type": "markdown",
   "metadata": {},
   "source": [
    "<i>Посчитаем цену 1 квадратного метра: сохраним данные в столбце m2_price</i>"
   ]
  },
  {
   "cell_type": "code",
   "execution_count": 40,
   "metadata": {
    "scrolled": true
   },
   "outputs": [],
   "source": [
    "df['m2_price'] = df['last_price'] / df['total_area']"
   ]
  },
  {
   "cell_type": "markdown",
   "metadata": {},
   "source": [
    "<i>Добавим столбец weekday_of_exposition - день недели публикации объявления</i>"
   ]
  },
  {
   "cell_type": "code",
   "execution_count": 41,
   "metadata": {},
   "outputs": [],
   "source": [
    "df['weekday_of_exposition'] = df['first_day_exposition'].dt.weekday"
   ]
  },
  {
   "cell_type": "markdown",
   "metadata": {},
   "source": [
    "<i>Аналогично поступим с месяцем (столбец month_of_exposition)</i>"
   ]
  },
  {
   "cell_type": "code",
   "execution_count": 42,
   "metadata": {},
   "outputs": [],
   "source": [
    "df['month_of_exposition'] = df['first_day_exposition'].astype('datetime64[M]')"
   ]
  },
  {
   "cell_type": "markdown",
   "metadata": {},
   "source": [
    "<i>И годом (столбец year_of_exposition)</i>"
   ]
  },
  {
   "cell_type": "code",
   "execution_count": 43,
   "metadata": {},
   "outputs": [],
   "source": [
    "df['year_of_exposition'] = df['first_day_exposition'].dt.year"
   ]
  },
  {
   "cell_type": "markdown",
   "metadata": {},
   "source": [
    "<i>Рассчитаем тип этажа квартиры (столбец floor_type), где это возможно, используя вспомогательную функцию get_floor_type. Заодно сделаем \"оцифрованную\" копию этого столбца</i>"
   ]
  },
  {
   "cell_type": "code",
   "execution_count": 44,
   "metadata": {},
   "outputs": [],
   "source": [
    "def get_floor_type(row):\n",
    "    if (~pd.isna(row['floors_total']) & ~pd.isna(row['floor'])):\n",
    "        if (row['floor'] == 1):\n",
    "            return 'Первый', 0\n",
    "        elif (row['floors_total'] == row['floor']):\n",
    "            return 'Последний', 2\n",
    "        else:\n",
    "            return 'Другой', 1"
   ]
  },
  {
   "cell_type": "code",
   "execution_count": 45,
   "metadata": {
    "scrolled": false
   },
   "outputs": [],
   "source": [
    "df['floor_type'] = df.apply(get_floor_type, axis=1)\n",
    "df['floor_type'], df['floor_type_digit'] = zip(*df['floor_type'])"
   ]
  },
  {
   "cell_type": "markdown",
   "metadata": {},
   "source": [
    "<i>Добавим расстояние до центра города в километрах. Данные положим в столбец city_centers_nearest_km</i>"
   ]
  },
  {
   "cell_type": "code",
   "execution_count": 46,
   "metadata": {
    "scrolled": true
   },
   "outputs": [],
   "source": [
    "df['city_centers_nearest_km'] = (df['city_centers_nearest'] / 1000).round()"
   ]
  },
  {
   "cell_type": "code",
   "execution_count": 47,
   "metadata": {},
   "outputs": [],
   "source": [
    "df['city_centers_nearest_km'] = df['city_centers_nearest_km'].astype('Int64')"
   ]
  },
  {
   "cell_type": "markdown",
   "metadata": {},
   "source": [
    "<i>Посмотрим на полученные данные. Всё сработало как следует</i>"
   ]
  },
  {
   "cell_type": "code",
   "execution_count": 48,
   "metadata": {
    "scrolled": true
   },
   "outputs": [
    {
     "data": {
      "text/html": [
       "<div>\n",
       "<style scoped>\n",
       "    .dataframe tbody tr th:only-of-type {\n",
       "        vertical-align: middle;\n",
       "    }\n",
       "\n",
       "    .dataframe tbody tr th {\n",
       "        vertical-align: top;\n",
       "    }\n",
       "\n",
       "    .dataframe thead th {\n",
       "        text-align: right;\n",
       "    }\n",
       "</style>\n",
       "<table border=\"1\" class=\"dataframe\">\n",
       "  <thead>\n",
       "    <tr style=\"text-align: right;\">\n",
       "      <th></th>\n",
       "      <th>total_images</th>\n",
       "      <th>last_price</th>\n",
       "      <th>total_area</th>\n",
       "      <th>first_day_exposition</th>\n",
       "      <th>rooms</th>\n",
       "      <th>ceiling_height</th>\n",
       "      <th>floors_total</th>\n",
       "      <th>living_area</th>\n",
       "      <th>floor</th>\n",
       "      <th>is_apartment</th>\n",
       "      <th>...</th>\n",
       "      <th>ponds_nearest</th>\n",
       "      <th>days_exposition</th>\n",
       "      <th>new_locality_name</th>\n",
       "      <th>m2_price</th>\n",
       "      <th>weekday_of_exposition</th>\n",
       "      <th>month_of_exposition</th>\n",
       "      <th>year_of_exposition</th>\n",
       "      <th>floor_type</th>\n",
       "      <th>floor_type_digit</th>\n",
       "      <th>city_centers_nearest_km</th>\n",
       "    </tr>\n",
       "  </thead>\n",
       "  <tbody>\n",
       "    <tr>\n",
       "      <th>0</th>\n",
       "      <td>20</td>\n",
       "      <td>13000000</td>\n",
       "      <td>108.00</td>\n",
       "      <td>2019-03-07</td>\n",
       "      <td>3</td>\n",
       "      <td>2.700</td>\n",
       "      <td>16</td>\n",
       "      <td>51.0</td>\n",
       "      <td>8</td>\n",
       "      <td>True</td>\n",
       "      <td>...</td>\n",
       "      <td>755.0</td>\n",
       "      <td>NaN</td>\n",
       "      <td>Санкт-Петербург</td>\n",
       "      <td>120370.370370</td>\n",
       "      <td>3</td>\n",
       "      <td>2019-03-01</td>\n",
       "      <td>2019</td>\n",
       "      <td>Другой</td>\n",
       "      <td>1</td>\n",
       "      <td>16</td>\n",
       "    </tr>\n",
       "    <tr>\n",
       "      <th>1</th>\n",
       "      <td>7</td>\n",
       "      <td>3350000</td>\n",
       "      <td>40.40</td>\n",
       "      <td>2018-12-04</td>\n",
       "      <td>1</td>\n",
       "      <td>2.615</td>\n",
       "      <td>11</td>\n",
       "      <td>18.6</td>\n",
       "      <td>1</td>\n",
       "      <td>True</td>\n",
       "      <td>...</td>\n",
       "      <td>NaN</td>\n",
       "      <td>81.0</td>\n",
       "      <td>Шушары</td>\n",
       "      <td>82920.792079</td>\n",
       "      <td>1</td>\n",
       "      <td>2018-12-01</td>\n",
       "      <td>2018</td>\n",
       "      <td>Первый</td>\n",
       "      <td>0</td>\n",
       "      <td>19</td>\n",
       "    </tr>\n",
       "    <tr>\n",
       "      <th>2</th>\n",
       "      <td>10</td>\n",
       "      <td>5196000</td>\n",
       "      <td>56.00</td>\n",
       "      <td>2015-08-20</td>\n",
       "      <td>2</td>\n",
       "      <td>2.700</td>\n",
       "      <td>5</td>\n",
       "      <td>34.3</td>\n",
       "      <td>4</td>\n",
       "      <td>True</td>\n",
       "      <td>...</td>\n",
       "      <td>574.0</td>\n",
       "      <td>558.0</td>\n",
       "      <td>Санкт-Петербург</td>\n",
       "      <td>92785.714286</td>\n",
       "      <td>3</td>\n",
       "      <td>2015-08-01</td>\n",
       "      <td>2015</td>\n",
       "      <td>Другой</td>\n",
       "      <td>1</td>\n",
       "      <td>14</td>\n",
       "    </tr>\n",
       "    <tr>\n",
       "      <th>3</th>\n",
       "      <td>0</td>\n",
       "      <td>64900000</td>\n",
       "      <td>159.00</td>\n",
       "      <td>2015-07-24</td>\n",
       "      <td>3</td>\n",
       "      <td>2.700</td>\n",
       "      <td>14</td>\n",
       "      <td>NaN</td>\n",
       "      <td>9</td>\n",
       "      <td>True</td>\n",
       "      <td>...</td>\n",
       "      <td>234.0</td>\n",
       "      <td>424.0</td>\n",
       "      <td>Санкт-Петербург</td>\n",
       "      <td>408176.100629</td>\n",
       "      <td>4</td>\n",
       "      <td>2015-07-01</td>\n",
       "      <td>2015</td>\n",
       "      <td>Другой</td>\n",
       "      <td>1</td>\n",
       "      <td>7</td>\n",
       "    </tr>\n",
       "    <tr>\n",
       "      <th>4</th>\n",
       "      <td>2</td>\n",
       "      <td>10000000</td>\n",
       "      <td>100.00</td>\n",
       "      <td>2018-06-19</td>\n",
       "      <td>2</td>\n",
       "      <td>3.030</td>\n",
       "      <td>14</td>\n",
       "      <td>32.0</td>\n",
       "      <td>13</td>\n",
       "      <td>True</td>\n",
       "      <td>...</td>\n",
       "      <td>48.0</td>\n",
       "      <td>121.0</td>\n",
       "      <td>Санкт-Петербург</td>\n",
       "      <td>100000.000000</td>\n",
       "      <td>1</td>\n",
       "      <td>2018-06-01</td>\n",
       "      <td>2018</td>\n",
       "      <td>Другой</td>\n",
       "      <td>1</td>\n",
       "      <td>8</td>\n",
       "    </tr>\n",
       "    <tr>\n",
       "      <th>...</th>\n",
       "      <td>...</td>\n",
       "      <td>...</td>\n",
       "      <td>...</td>\n",
       "      <td>...</td>\n",
       "      <td>...</td>\n",
       "      <td>...</td>\n",
       "      <td>...</td>\n",
       "      <td>...</td>\n",
       "      <td>...</td>\n",
       "      <td>...</td>\n",
       "      <td>...</td>\n",
       "      <td>...</td>\n",
       "      <td>...</td>\n",
       "      <td>...</td>\n",
       "      <td>...</td>\n",
       "      <td>...</td>\n",
       "      <td>...</td>\n",
       "      <td>...</td>\n",
       "      <td>...</td>\n",
       "      <td>...</td>\n",
       "      <td>...</td>\n",
       "    </tr>\n",
       "    <tr>\n",
       "      <th>23694</th>\n",
       "      <td>9</td>\n",
       "      <td>9700000</td>\n",
       "      <td>133.81</td>\n",
       "      <td>2017-03-21</td>\n",
       "      <td>3</td>\n",
       "      <td>3.700</td>\n",
       "      <td>5</td>\n",
       "      <td>73.3</td>\n",
       "      <td>3</td>\n",
       "      <td>True</td>\n",
       "      <td>...</td>\n",
       "      <td>381.0</td>\n",
       "      <td>NaN</td>\n",
       "      <td>Санкт-Петербург</td>\n",
       "      <td>72490.845228</td>\n",
       "      <td>1</td>\n",
       "      <td>2017-03-01</td>\n",
       "      <td>2017</td>\n",
       "      <td>Другой</td>\n",
       "      <td>1</td>\n",
       "      <td>4</td>\n",
       "    </tr>\n",
       "    <tr>\n",
       "      <th>23695</th>\n",
       "      <td>14</td>\n",
       "      <td>3100000</td>\n",
       "      <td>59.00</td>\n",
       "      <td>2018-01-15</td>\n",
       "      <td>3</td>\n",
       "      <td>2.500</td>\n",
       "      <td>5</td>\n",
       "      <td>38.0</td>\n",
       "      <td>4</td>\n",
       "      <td>True</td>\n",
       "      <td>...</td>\n",
       "      <td>NaN</td>\n",
       "      <td>45.0</td>\n",
       "      <td>Тосно</td>\n",
       "      <td>52542.372881</td>\n",
       "      <td>0</td>\n",
       "      <td>2018-01-01</td>\n",
       "      <td>2018</td>\n",
       "      <td>Другой</td>\n",
       "      <td>1</td>\n",
       "      <td>&lt;NA&gt;</td>\n",
       "    </tr>\n",
       "    <tr>\n",
       "      <th>23696</th>\n",
       "      <td>18</td>\n",
       "      <td>2500000</td>\n",
       "      <td>56.70</td>\n",
       "      <td>2018-02-11</td>\n",
       "      <td>2</td>\n",
       "      <td>2.700</td>\n",
       "      <td>3</td>\n",
       "      <td>29.7</td>\n",
       "      <td>1</td>\n",
       "      <td>True</td>\n",
       "      <td>...</td>\n",
       "      <td>NaN</td>\n",
       "      <td>NaN</td>\n",
       "      <td>Рождествено</td>\n",
       "      <td>44091.710758</td>\n",
       "      <td>6</td>\n",
       "      <td>2018-02-01</td>\n",
       "      <td>2018</td>\n",
       "      <td>Первый</td>\n",
       "      <td>0</td>\n",
       "      <td>&lt;NA&gt;</td>\n",
       "    </tr>\n",
       "    <tr>\n",
       "      <th>23697</th>\n",
       "      <td>13</td>\n",
       "      <td>11475000</td>\n",
       "      <td>76.75</td>\n",
       "      <td>2017-03-28</td>\n",
       "      <td>2</td>\n",
       "      <td>3.000</td>\n",
       "      <td>17</td>\n",
       "      <td>NaN</td>\n",
       "      <td>12</td>\n",
       "      <td>True</td>\n",
       "      <td>...</td>\n",
       "      <td>196.0</td>\n",
       "      <td>602.0</td>\n",
       "      <td>Санкт-Петербург</td>\n",
       "      <td>149511.400651</td>\n",
       "      <td>1</td>\n",
       "      <td>2017-03-01</td>\n",
       "      <td>2017</td>\n",
       "      <td>Другой</td>\n",
       "      <td>1</td>\n",
       "      <td>10</td>\n",
       "    </tr>\n",
       "    <tr>\n",
       "      <th>23698</th>\n",
       "      <td>4</td>\n",
       "      <td>1350000</td>\n",
       "      <td>32.30</td>\n",
       "      <td>2017-07-21</td>\n",
       "      <td>1</td>\n",
       "      <td>2.500</td>\n",
       "      <td>5</td>\n",
       "      <td>12.3</td>\n",
       "      <td>1</td>\n",
       "      <td>True</td>\n",
       "      <td>...</td>\n",
       "      <td>NaN</td>\n",
       "      <td>NaN</td>\n",
       "      <td>Новый Учхоз</td>\n",
       "      <td>41795.665635</td>\n",
       "      <td>4</td>\n",
       "      <td>2017-07-01</td>\n",
       "      <td>2017</td>\n",
       "      <td>Первый</td>\n",
       "      <td>0</td>\n",
       "      <td>&lt;NA&gt;</td>\n",
       "    </tr>\n",
       "  </tbody>\n",
       "</table>\n",
       "<p>22676 rows × 30 columns</p>\n",
       "</div>"
      ],
      "text/plain": [
       "       total_images  last_price  total_area first_day_exposition  rooms  \\\n",
       "0                20    13000000      108.00           2019-03-07      3   \n",
       "1                 7     3350000       40.40           2018-12-04      1   \n",
       "2                10     5196000       56.00           2015-08-20      2   \n",
       "3                 0    64900000      159.00           2015-07-24      3   \n",
       "4                 2    10000000      100.00           2018-06-19      2   \n",
       "...             ...         ...         ...                  ...    ...   \n",
       "23694             9     9700000      133.81           2017-03-21      3   \n",
       "23695            14     3100000       59.00           2018-01-15      3   \n",
       "23696            18     2500000       56.70           2018-02-11      2   \n",
       "23697            13    11475000       76.75           2017-03-28      2   \n",
       "23698             4     1350000       32.30           2017-07-21      1   \n",
       "\n",
       "       ceiling_height  floors_total  living_area  floor  is_apartment  ...  \\\n",
       "0               2.700            16         51.0      8          True  ...   \n",
       "1               2.615            11         18.6      1          True  ...   \n",
       "2               2.700             5         34.3      4          True  ...   \n",
       "3               2.700            14          NaN      9          True  ...   \n",
       "4               3.030            14         32.0     13          True  ...   \n",
       "...               ...           ...          ...    ...           ...  ...   \n",
       "23694           3.700             5         73.3      3          True  ...   \n",
       "23695           2.500             5         38.0      4          True  ...   \n",
       "23696           2.700             3         29.7      1          True  ...   \n",
       "23697           3.000            17          NaN     12          True  ...   \n",
       "23698           2.500             5         12.3      1          True  ...   \n",
       "\n",
       "       ponds_nearest  days_exposition  new_locality_name       m2_price  \\\n",
       "0              755.0              NaN    Санкт-Петербург  120370.370370   \n",
       "1                NaN             81.0             Шушары   82920.792079   \n",
       "2              574.0            558.0    Санкт-Петербург   92785.714286   \n",
       "3              234.0            424.0    Санкт-Петербург  408176.100629   \n",
       "4               48.0            121.0    Санкт-Петербург  100000.000000   \n",
       "...              ...              ...                ...            ...   \n",
       "23694          381.0              NaN    Санкт-Петербург   72490.845228   \n",
       "23695            NaN             45.0              Тосно   52542.372881   \n",
       "23696            NaN              NaN        Рождествено   44091.710758   \n",
       "23697          196.0            602.0    Санкт-Петербург  149511.400651   \n",
       "23698            NaN              NaN        Новый Учхоз   41795.665635   \n",
       "\n",
       "      weekday_of_exposition  month_of_exposition  year_of_exposition  \\\n",
       "0                         3           2019-03-01                2019   \n",
       "1                         1           2018-12-01                2018   \n",
       "2                         3           2015-08-01                2015   \n",
       "3                         4           2015-07-01                2015   \n",
       "4                         1           2018-06-01                2018   \n",
       "...                     ...                  ...                 ...   \n",
       "23694                     1           2017-03-01                2017   \n",
       "23695                     0           2018-01-01                2018   \n",
       "23696                     6           2018-02-01                2018   \n",
       "23697                     1           2017-03-01                2017   \n",
       "23698                     4           2017-07-01                2017   \n",
       "\n",
       "       floor_type  floor_type_digit  city_centers_nearest_km  \n",
       "0          Другой                 1                       16  \n",
       "1          Первый                 0                       19  \n",
       "2          Другой                 1                       14  \n",
       "3          Другой                 1                        7  \n",
       "4          Другой                 1                        8  \n",
       "...           ...               ...                      ...  \n",
       "23694      Другой                 1                        4  \n",
       "23695      Другой                 1                     <NA>  \n",
       "23696      Первый                 0                     <NA>  \n",
       "23697      Другой                 1                       10  \n",
       "23698      Первый                 0                     <NA>  \n",
       "\n",
       "[22676 rows x 30 columns]"
      ]
     },
     "execution_count": 48,
     "metadata": {},
     "output_type": "execute_result"
    }
   ],
   "source": [
    "df"
   ]
  },
  {
   "cell_type": "markdown",
   "metadata": {},
   "source": [
    "<div style=\"font-size:2rem; font-weight:bold\">Вывод</div>\n",
    "<p></p>\n",
    "<div style=\"border:solid green 2px; padding: 20px\">\n",
    "<i><b>Мы добавили в таблицу несколько столбцов, которые помогут нам для дальнейшего исследования и анализа. Переходим к нему в следующем разделе</b></i>\n",
    "</div>"
   ]
  },
  {
   "cell_type": "markdown",
   "metadata": {},
   "source": [
    "### Проведите исследовательский анализ данных"
   ]
  },
  {
   "cell_type": "markdown",
   "metadata": {},
   "source": [
    "<h4>Исследование параметров</h4>"
   ]
  },
  {
   "cell_type": "markdown",
   "metadata": {},
   "source": [
    "<i>Выделим нужные нам параметры в отдельный датафрейм, посмотрим статистики по ним и построим гистограммы</i>"
   ]
  },
  {
   "cell_type": "code",
   "execution_count": 49,
   "metadata": {},
   "outputs": [],
   "source": [
    "df_parameters = df[['total_area', 'living_area', 'kitchen_area', 'last_price', 'rooms', 'ceiling_height', \n",
    "                    'floor', 'floor_type_digit', 'floors_total', 'city_centers_nearest', 'airports_nearest', 'parks_nearest', \n",
    "                    'weekday_of_exposition', 'month_of_exposition']]"
   ]
  },
  {
   "cell_type": "code",
   "execution_count": 50,
   "metadata": {
    "scrolled": false
   },
   "outputs": [
    {
     "data": {
      "text/html": [
       "<div>\n",
       "<style scoped>\n",
       "    .dataframe tbody tr th:only-of-type {\n",
       "        vertical-align: middle;\n",
       "    }\n",
       "\n",
       "    .dataframe tbody tr th {\n",
       "        vertical-align: top;\n",
       "    }\n",
       "\n",
       "    .dataframe thead th {\n",
       "        text-align: right;\n",
       "    }\n",
       "</style>\n",
       "<table border=\"1\" class=\"dataframe\">\n",
       "  <thead>\n",
       "    <tr style=\"text-align: right;\">\n",
       "      <th></th>\n",
       "      <th>total_area</th>\n",
       "      <th>living_area</th>\n",
       "      <th>kitchen_area</th>\n",
       "      <th>last_price</th>\n",
       "      <th>rooms</th>\n",
       "      <th>ceiling_height</th>\n",
       "      <th>floor</th>\n",
       "      <th>floor_type_digit</th>\n",
       "      <th>floors_total</th>\n",
       "      <th>city_centers_nearest</th>\n",
       "      <th>airports_nearest</th>\n",
       "      <th>parks_nearest</th>\n",
       "      <th>weekday_of_exposition</th>\n",
       "    </tr>\n",
       "  </thead>\n",
       "  <tbody>\n",
       "    <tr>\n",
       "      <th>count</th>\n",
       "      <td>22676.000000</td>\n",
       "      <td>20868.000000</td>\n",
       "      <td>20682.000000</td>\n",
       "      <td>2.267600e+04</td>\n",
       "      <td>22676.000000</td>\n",
       "      <td>22676.000000</td>\n",
       "      <td>22676.000000</td>\n",
       "      <td>22676.000000</td>\n",
       "      <td>22676.000000</td>\n",
       "      <td>17441.000000</td>\n",
       "      <td>17354.000000</td>\n",
       "      <td>7693.000000</td>\n",
       "      <td>22676.000000</td>\n",
       "    </tr>\n",
       "    <tr>\n",
       "      <th>mean</th>\n",
       "      <td>58.929805</td>\n",
       "      <td>33.622009</td>\n",
       "      <td>10.410237</td>\n",
       "      <td>6.113393e+06</td>\n",
       "      <td>2.045952</td>\n",
       "      <td>2.699471</td>\n",
       "      <td>5.822014</td>\n",
       "      <td>1.015567</td>\n",
       "      <td>10.601870</td>\n",
       "      <td>14242.224270</td>\n",
       "      <td>28813.826150</td>\n",
       "      <td>490.271026</td>\n",
       "      <td>2.566590</td>\n",
       "    </tr>\n",
       "    <tr>\n",
       "      <th>std</th>\n",
       "      <td>30.550750</td>\n",
       "      <td>19.381845</td>\n",
       "      <td>5.558786</td>\n",
       "      <td>6.129724e+06</td>\n",
       "      <td>0.987421</td>\n",
       "      <td>0.217722</td>\n",
       "      <td>4.833536</td>\n",
       "      <td>0.516860</td>\n",
       "      <td>6.568307</td>\n",
       "      <td>8632.895742</td>\n",
       "      <td>12662.594171</td>\n",
       "      <td>341.991692</td>\n",
       "      <td>1.788416</td>\n",
       "    </tr>\n",
       "    <tr>\n",
       "      <th>min</th>\n",
       "      <td>12.000000</td>\n",
       "      <td>2.000000</td>\n",
       "      <td>1.300000</td>\n",
       "      <td>1.219000e+04</td>\n",
       "      <td>1.000000</td>\n",
       "      <td>1.000000</td>\n",
       "      <td>1.000000</td>\n",
       "      <td>0.000000</td>\n",
       "      <td>1.000000</td>\n",
       "      <td>181.000000</td>\n",
       "      <td>0.000000</td>\n",
       "      <td>1.000000</td>\n",
       "      <td>0.000000</td>\n",
       "    </tr>\n",
       "    <tr>\n",
       "      <th>25%</th>\n",
       "      <td>40.000000</td>\n",
       "      <td>18.500000</td>\n",
       "      <td>7.000000</td>\n",
       "      <td>3.400000e+06</td>\n",
       "      <td>1.000000</td>\n",
       "      <td>2.550000</td>\n",
       "      <td>2.000000</td>\n",
       "      <td>1.000000</td>\n",
       "      <td>5.000000</td>\n",
       "      <td>9328.000000</td>\n",
       "      <td>18539.000000</td>\n",
       "      <td>288.000000</td>\n",
       "      <td>1.000000</td>\n",
       "    </tr>\n",
       "    <tr>\n",
       "      <th>50%</th>\n",
       "      <td>51.390000</td>\n",
       "      <td>30.000000</td>\n",
       "      <td>9.000000</td>\n",
       "      <td>4.600000e+06</td>\n",
       "      <td>2.000000</td>\n",
       "      <td>2.700000</td>\n",
       "      <td>4.000000</td>\n",
       "      <td>1.000000</td>\n",
       "      <td>9.000000</td>\n",
       "      <td>13107.000000</td>\n",
       "      <td>26764.000000</td>\n",
       "      <td>454.000000</td>\n",
       "      <td>3.000000</td>\n",
       "    </tr>\n",
       "    <tr>\n",
       "      <th>75%</th>\n",
       "      <td>68.300000</td>\n",
       "      <td>42.000000</td>\n",
       "      <td>11.850000</td>\n",
       "      <td>6.672500e+06</td>\n",
       "      <td>3.000000</td>\n",
       "      <td>2.700000</td>\n",
       "      <td>8.000000</td>\n",
       "      <td>1.000000</td>\n",
       "      <td>15.000000</td>\n",
       "      <td>16293.000000</td>\n",
       "      <td>37310.000000</td>\n",
       "      <td>612.000000</td>\n",
       "      <td>4.000000</td>\n",
       "    </tr>\n",
       "    <tr>\n",
       "      <th>max</th>\n",
       "      <td>507.000000</td>\n",
       "      <td>301.500000</td>\n",
       "      <td>100.700000</td>\n",
       "      <td>9.900000e+07</td>\n",
       "      <td>6.000000</td>\n",
       "      <td>5.000000</td>\n",
       "      <td>33.000000</td>\n",
       "      <td>2.000000</td>\n",
       "      <td>60.000000</td>\n",
       "      <td>65968.000000</td>\n",
       "      <td>84869.000000</td>\n",
       "      <td>3190.000000</td>\n",
       "      <td>6.000000</td>\n",
       "    </tr>\n",
       "  </tbody>\n",
       "</table>\n",
       "</div>"
      ],
      "text/plain": [
       "         total_area   living_area  kitchen_area    last_price         rooms  \\\n",
       "count  22676.000000  20868.000000  20682.000000  2.267600e+04  22676.000000   \n",
       "mean      58.929805     33.622009     10.410237  6.113393e+06      2.045952   \n",
       "std       30.550750     19.381845      5.558786  6.129724e+06      0.987421   \n",
       "min       12.000000      2.000000      1.300000  1.219000e+04      1.000000   \n",
       "25%       40.000000     18.500000      7.000000  3.400000e+06      1.000000   \n",
       "50%       51.390000     30.000000      9.000000  4.600000e+06      2.000000   \n",
       "75%       68.300000     42.000000     11.850000  6.672500e+06      3.000000   \n",
       "max      507.000000    301.500000    100.700000  9.900000e+07      6.000000   \n",
       "\n",
       "       ceiling_height         floor  floor_type_digit  floors_total  \\\n",
       "count    22676.000000  22676.000000      22676.000000  22676.000000   \n",
       "mean         2.699471      5.822014          1.015567     10.601870   \n",
       "std          0.217722      4.833536          0.516860      6.568307   \n",
       "min          1.000000      1.000000          0.000000      1.000000   \n",
       "25%          2.550000      2.000000          1.000000      5.000000   \n",
       "50%          2.700000      4.000000          1.000000      9.000000   \n",
       "75%          2.700000      8.000000          1.000000     15.000000   \n",
       "max          5.000000     33.000000          2.000000     60.000000   \n",
       "\n",
       "       city_centers_nearest  airports_nearest  parks_nearest  \\\n",
       "count          17441.000000      17354.000000    7693.000000   \n",
       "mean           14242.224270      28813.826150     490.271026   \n",
       "std             8632.895742      12662.594171     341.991692   \n",
       "min              181.000000          0.000000       1.000000   \n",
       "25%             9328.000000      18539.000000     288.000000   \n",
       "50%            13107.000000      26764.000000     454.000000   \n",
       "75%            16293.000000      37310.000000     612.000000   \n",
       "max            65968.000000      84869.000000    3190.000000   \n",
       "\n",
       "       weekday_of_exposition  \n",
       "count           22676.000000  \n",
       "mean                2.566590  \n",
       "std                 1.788416  \n",
       "min                 0.000000  \n",
       "25%                 1.000000  \n",
       "50%                 3.000000  \n",
       "75%                 4.000000  \n",
       "max                 6.000000  "
      ]
     },
     "execution_count": 50,
     "metadata": {},
     "output_type": "execute_result"
    }
   ],
   "source": [
    "df_parameters.describe()"
   ]
  },
  {
   "cell_type": "code",
   "execution_count": 51,
   "metadata": {},
   "outputs": [
    {
     "data": {
      "image/png": "[encoded data removed]",
      "text/plain": [
       "<Figure size 720x360 with 1 Axes>"
      ]
     },
     "metadata": {
      "needs_background": "light"
     },
     "output_type": "display_data"
    }
   ],
   "source": [
    "df_parameters.hist(column='total_area', bins=30, figsize=(10, 5));"
   ]
  },
  {
   "cell_type": "markdown",
   "metadata": {},
   "source": [
    "<i>Распределение общей выглядит естественно - ничего подозрительного</i>"
   ]
  },
  {
   "cell_type": "code",
   "execution_count": 52,
   "metadata": {},
   "outputs": [
    {
     "data": {
      "image/png": "[encoded data removed]",
      "text/plain": [
       "<Figure size 720x360 with 1 Axes>"
      ]
     },
     "metadata": {
      "needs_background": "light"
     },
     "output_type": "display_data"
    }
   ],
   "source": [
    "df_parameters.hist(column='living_area', bins=30, figsize=(10, 5));"
   ]
  },
  {
   "cell_type": "markdown",
   "metadata": {},
   "source": [
    "<i>Логично предположить, что в таком случае жилая площадь и площадь кухни также будут естественно распределены (по Пуассону с разным средним)</i>"
   ]
  },
  {
   "cell_type": "code",
   "execution_count": 53,
   "metadata": {},
   "outputs": [
    {
     "data": {
      "image/png": "[encoded data removed]",
      "text/plain": [
       "<Figure size 720x360 with 1 Axes>"
      ]
     },
     "metadata": {
      "needs_background": "light"
     },
     "output_type": "display_data"
    }
   ],
   "source": [
    "df_parameters.hist(column='kitchen_area', bins=30, figsize=(10, 5));"
   ]
  },
  {
   "cell_type": "markdown",
   "metadata": {},
   "source": [
    "<i>Так и есть</i>"
   ]
  },
  {
   "cell_type": "code",
   "execution_count": 54,
   "metadata": {
    "scrolled": false
   },
   "outputs": [
    {
     "data": {
      "image/png": "[encoded data removed]",
      "text/plain": [
       "<Figure size 720x360 with 1 Axes>"
      ]
     },
     "metadata": {
      "needs_background": "light"
     },
     "output_type": "display_data"
    }
   ],
   "source": [
    "df_parameters[df_parameters['last_price'] <= 30000000].hist(column='last_price', bins=30, figsize=(10, 5));"
   ]
  },
  {
   "cell_type": "markdown",
   "metadata": {},
   "source": [
    "<i>Здесь для наглядности графика убрали очень высокие значения, чтобы лучше рассмотреть распределение. Выглядит закономерно, самое большое число квартир - стоимостью до 5-6 миллионов рублей (чаще всего встречаются цифры в районе 3-4 миллионов)</i>"
   ]
  },
  {
   "cell_type": "code",
   "execution_count": 55,
   "metadata": {
    "scrolled": true
   },
   "outputs": [
    {
     "data": {
      "image/png": "[encoded data removed]",
      "text/plain": [
       "<Figure size 720x360 with 1 Axes>"
      ]
     },
     "metadata": {
      "needs_background": "light"
     },
     "output_type": "display_data"
    }
   ],
   "source": [
    "df_parameters.hist(column='rooms', bins=50, figsize=(10, 5));"
   ]
  },
  {
   "cell_type": "markdown",
   "metadata": {},
   "source": [
    "<i>Количество объявлений убывает с увеличением количества числа комнат. Это верно, ведь гораздо чаще встречаются однокомнатные или двухкомнатные квартиры (в наших данных их количество почти одинаково). Квартир с 4 и более комнатами - очень маленький процент</i>"
   ]
  },
  {
   "cell_type": "code",
   "execution_count": 56,
   "metadata": {},
   "outputs": [
    {
     "data": {
      "image/png": "[encoded data removed]",
      "text/plain": [
       "<Figure size 720x360 with 1 Axes>"
      ]
     },
     "metadata": {
      "needs_background": "light"
     },
     "output_type": "display_data"
    }
   ],
   "source": [
    "df_parameters[(df_parameters['ceiling_height'] >= 2.5) & (df_parameters['ceiling_height'] <= 3.5)].hist(column='ceiling_height', bins=30, figsize=(10, 5));"
   ]
  },
  {
   "cell_type": "markdown",
   "metadata": {},
   "source": [
    "<i>В массовом сегменте высота потолков 2.7 м - это стандарт, который мы видим и на нашем графике. Есть ещё большая доля около 2.5 м - такие потолки делали в \"хрущёвках\"</i>"
   ]
  },
  {
   "cell_type": "code",
   "execution_count": 57,
   "metadata": {},
   "outputs": [
    {
     "data": {
      "image/png": "[encoded data removed]",
      "text/plain": [
       "<Figure size 720x360 with 1 Axes>"
      ]
     },
     "metadata": {
      "needs_background": "light"
     },
     "output_type": "display_data"
    }
   ],
   "source": [
    "df_parameters.hist(column='floor', bins=30, figsize=(10, 5));"
   ]
  },
  {
   "cell_type": "code",
   "execution_count": 58,
   "metadata": {
    "scrolled": true
   },
   "outputs": [
    {
     "data": {
      "image/png": "[encoded data removed]",
      "text/plain": [
       "<Figure size 720x360 with 1 Axes>"
      ]
     },
     "metadata": {
      "needs_background": "light"
     },
     "output_type": "display_data"
    }
   ],
   "source": [
    "df_parameters[df_parameters['floor'] < 10].hist(column='floor', bins=30, figsize=(10, 5));"
   ]
  },
  {
   "cell_type": "markdown",
   "metadata": {},
   "source": [
    "<i>Чаще всего продавались квартиры на 1-5 этажах, после 6 этажа и выше - гораздо меньше объявлений. Это тоже объяснимо, ведь 1-5 этажи есть почти в любом многоэтажном доме, а вот 9 этажа, например, нет в тех же пятиэтажках</i>"
   ]
  },
  {
   "cell_type": "code",
   "execution_count": 59,
   "metadata": {},
   "outputs": [
    {
     "data": {
      "image/png": "[encoded data removed]",
      "text/plain": [
       "<Figure size 720x360 with 1 Axes>"
      ]
     },
     "metadata": {
      "needs_background": "light"
     },
     "output_type": "display_data"
    }
   ],
   "source": [
    "df_parameters.hist(column='floor_type_digit', bins=50, figsize=(10, 5));"
   ]
  },
  {
   "cell_type": "markdown",
   "metadata": {},
   "source": [
    "<i>Тип этажа \"Другой\" превалирует над остальными (первым и последним). Это логично, так как в многоэтажных домах таких квартир больше</i>"
   ]
  },
  {
   "cell_type": "code",
   "execution_count": 60,
   "metadata": {},
   "outputs": [
    {
     "data": {
      "image/png": "[encoded data removed]",
      "text/plain": [
       "<Figure size 720x360 with 1 Axes>"
      ]
     },
     "metadata": {
      "needs_background": "light"
     },
     "output_type": "display_data"
    }
   ],
   "source": [
    "df_parameters.hist(column='floors_total', bins=30, figsize=(10, 5));"
   ]
  },
  {
   "cell_type": "markdown",
   "metadata": {},
   "source": [
    "<i>В гистограмме по общему количеству этажей есть два пика - это 5- и 9-этажные дома. Тоже ничего удивительного, учитывая массовость построек таких домов в недалёком прошлом (местами - и в настоящем)</i>"
   ]
  },
  {
   "cell_type": "code",
   "execution_count": 61,
   "metadata": {},
   "outputs": [
    {
     "data": {
      "image/png": "[encoded data removed]",
      "text/plain": [
       "<Figure size 720x360 with 1 Axes>"
      ]
     },
     "metadata": {
      "needs_background": "light"
     },
     "output_type": "display_data"
    }
   ],
   "source": [
    "df_parameters.hist(column='city_centers_nearest', bins=50, figsize=(10, 5));"
   ]
  },
  {
   "cell_type": "markdown",
   "metadata": {},
   "source": [
    "<i>Больше всего квартир в пределах от 10 до 20 км от центра</i>"
   ]
  },
  {
   "cell_type": "code",
   "execution_count": 62,
   "metadata": {},
   "outputs": [
    {
     "data": {
      "image/png": "[encoded data removed]",
      "text/plain": [
       "<Figure size 720x360 with 1 Axes>"
      ]
     },
     "metadata": {
      "needs_background": "light"
     },
     "output_type": "display_data"
    }
   ],
   "source": [
    "df_parameters.hist(column='airports_nearest', bins=50, figsize=(10, 5));"
   ]
  },
  {
   "cell_type": "markdown",
   "metadata": {},
   "source": [
    "<i>Здесь среднее больше 20 км, что тоже неудивительно - аэропорты находятся в относительной удалённости от городов</i>"
   ]
  },
  {
   "cell_type": "code",
   "execution_count": 63,
   "metadata": {
    "scrolled": true
   },
   "outputs": [
    {
     "data": {
      "image/png": "[encoded data removed]",
      "text/plain": [
       "<Figure size 720x360 with 1 Axes>"
      ]
     },
     "metadata": {
      "needs_background": "light"
     },
     "output_type": "display_data"
    }
   ],
   "source": [
    "df_parameters.hist(column='parks_nearest', bins=50, figsize=(10, 5));"
   ]
  },
  {
   "cell_type": "code",
   "execution_count": 64,
   "metadata": {},
   "outputs": [
    {
     "data": {
      "image/png": "[encoded data removed]",
      "text/plain": [
       "<Figure size 720x360 with 1 Axes>"
      ]
     },
     "metadata": {
      "needs_background": "light"
     },
     "output_type": "display_data"
    }
   ],
   "source": [
    "df_parameters[df['new_locality_name'] == 'Санкт-Петербург'].hist(column='parks_nearest', bins=50, figsize=(10, 5));"
   ]
  },
  {
   "cell_type": "markdown",
   "metadata": {},
   "source": [
    "<i>В подавляющем большинстве объявлений есть парки в пределах одного километра. Для области это естественно, а вот то, что почти такой же результат и для Санкт-Петербурга - приятное открытие</i>"
   ]
  },
  {
   "cell_type": "code",
   "execution_count": 65,
   "metadata": {},
   "outputs": [
    {
     "data": {
      "image/png": "[encoded data removed]",
      "text/plain": [
       "<Figure size 720x360 with 1 Axes>"
      ]
     },
     "metadata": {
      "needs_background": "light"
     },
     "output_type": "display_data"
    }
   ],
   "source": [
    "df_parameters.hist(column='weekday_of_exposition', bins=50, figsize=(10, 5));"
   ]
  },
  {
   "cell_type": "markdown",
   "metadata": {},
   "source": [
    "<i>Значительно меньшее количество объявлений публикуется по выходным. Возможно, это связано с тем, что владельцы квартир заняты в эти дни другими делами</i>"
   ]
  },
  {
   "cell_type": "code",
   "execution_count": 66,
   "metadata": {},
   "outputs": [
    {
     "data": {
      "image/png": "[encoded data removed]",
      "text/plain": [
       "<Figure size 720x360 with 1 Axes>"
      ]
     },
     "metadata": {
      "needs_background": "light"
     },
     "output_type": "display_data"
    }
   ],
   "source": [
    "df_parameters.hist(column='month_of_exposition', bins=50, xrot=45, figsize=(10, 5));"
   ]
  },
  {
   "cell_type": "markdown",
   "metadata": {},
   "source": [
    "<i>Наблюдаем стабильный рост числа объявлений до 2018 года, потом - небольшое снижение. Здесь ещё примечателен провал во второй половине 2016 года - возможно, были выгружены не все данные за этот период</i>"
   ]
  },
  {
   "cell_type": "markdown",
   "metadata": {},
   "source": [
    "<h4>Изучение времени продажи квартиры</h4>"
   ]
  },
  {
   "cell_type": "markdown",
   "metadata": {},
   "source": [
    "<i>Построим гистограмму по столбцу days_exposition</i>"
   ]
  },
  {
   "cell_type": "code",
   "execution_count": 67,
   "metadata": {
    "scrolled": true
   },
   "outputs": [
    {
     "data": {
      "image/png": "[encoded data removed]",
      "text/plain": [
       "<Figure size 432x288 with 1 Axes>"
      ]
     },
     "metadata": {
      "needs_background": "light"
     },
     "output_type": "display_data"
    }
   ],
   "source": [
    "df.hist(column='days_exposition', bins=30);"
   ]
  },
  {
   "cell_type": "markdown",
   "metadata": {},
   "source": [
    "<i>Подавляющее большинство сделок осуществляется за 200 дней и быстрее, что логично, ведь это довольно большой срок - более полугода. Рассмотрим этот срез отдельно</i>"
   ]
  },
  {
   "cell_type": "code",
   "execution_count": 68,
   "metadata": {
    "scrolled": false
   },
   "outputs": [
    {
     "data": {
      "image/png": "[encoded data removed]",
      "text/plain": [
       "<Figure size 432x288 with 1 Axes>"
      ]
     },
     "metadata": {
      "needs_background": "light"
     },
     "output_type": "display_data"
    }
   ],
   "source": [
    "df[df['days_exposition'] < 200].hist(column='days_exposition', bins=20);"
   ]
  },
  {
   "cell_type": "markdown",
   "metadata": {},
   "source": [
    "<i>В целом, закономерность просматривается (чем больше проходит времени - тем меньше остаётся объявлений). Есть довольно много объявлений с очень небольшим сроком (меньше 10 дней), посмотрим на них более пристально</i>"
   ]
  },
  {
   "cell_type": "code",
   "execution_count": 69,
   "metadata": {
    "scrolled": true
   },
   "outputs": [
    {
     "data": {
      "image/png": "[encoded data removed]",
      "text/plain": [
       "<Figure size 432x288 with 1 Axes>"
      ]
     },
     "metadata": {
      "needs_background": "light"
     },
     "output_type": "display_data"
    }
   ],
   "source": [
    "df[df['days_exposition'] < 10].hist(column='days_exposition', bins=20);"
   ]
  },
  {
   "cell_type": "markdown",
   "metadata": {},
   "source": [
    "<i>Есть несколько объявлений, закрывшихся за 1-2 дня - это очень мало. У остальных распределение примерно одинаковое. Посмотрим на общие статистики по столбцу</i>"
   ]
  },
  {
   "cell_type": "code",
   "execution_count": 70,
   "metadata": {
    "scrolled": true
   },
   "outputs": [
    {
     "data": {
      "text/plain": [
       "count    19659.000000\n",
       "mean       180.665497\n",
       "std        219.615747\n",
       "min          1.000000\n",
       "25%         45.000000\n",
       "50%         95.000000\n",
       "75%        231.000000\n",
       "max       1572.000000\n",
       "Name: days_exposition, dtype: float64"
      ]
     },
     "execution_count": 70,
     "metadata": {},
     "output_type": "execute_result"
    }
   ],
   "source": [
    "df['days_exposition'].describe()"
   ]
  },
  {
   "cell_type": "markdown",
   "metadata": {},
   "source": [
    "<i>Среднее время продажи квартиры - 180 дней, около полугода. Это довольно большое число, на которое явно влияют выбросы - некоторые объявления висят около 5 лет. Однако на самом деле большинство сделок закрывается за несколько месяцев (больше половины - в пределах 3 месяцев), а объявления, висящие больше года - необычно долгие</i>"
   ]
  },
  {
   "cell_type": "markdown",
   "metadata": {},
   "source": [
    "<h4>Зависимость стоимости объекта от различных факторов</h4>"
   ]
  },
  {
   "cell_type": "markdown",
   "metadata": {},
   "source": [
    "<i>Посчитаем коэффициент корелляции (там, где это имеет смысл) и построим графики зависимости стоимости жилья от различных факторов</i>"
   ]
  },
  {
   "cell_type": "code",
   "execution_count": 71,
   "metadata": {
    "scrolled": true
   },
   "outputs": [
    {
     "name": "stdout",
     "output_type": "stream",
     "text": [
      "Коэффициент корреляции с параметром total_area равен 0.7566903906483441\n",
      "Коэффициент корреляции с параметром living_area равен 0.6675683564442311\n",
      "Коэффициент корреляции с параметром kitchen_area равен 0.5843891289279342\n",
      "Коэффициент корреляции с параметром rooms равен 0.4447020114922195\n"
     ]
    }
   ],
   "source": [
    "for factor in ['total_area', 'living_area', 'kitchen_area', 'rooms']:\n",
    "    print('Коэффициент корреляции с параметром {} равен {}'.format(factor, df['last_price'].corr(df[factor])))    "
   ]
  },
  {
   "cell_type": "markdown",
   "metadata": {},
   "source": [
    "<i>Самая сильная зависимость стоимости жилья - с общей площадью, что закономерно. Жильё большей площади будет стоить дороже, и связаны эти факторы крепко - на общую площадь смотрят в первую очередь. От жилой площади и площади кухни по отдельности зависимость меньше. С общим числом комнат корреляция тоже слабая</i>"
   ]
  },
  {
   "cell_type": "code",
   "execution_count": 72,
   "metadata": {
    "scrolled": true
   },
   "outputs": [
    {
     "data": {
      "image/png": "[encoded data removed]",
      "text/plain": [
       "<Figure size 432x288 with 1 Axes>"
      ]
     },
     "metadata": {
      "needs_background": "light"
     },
     "output_type": "display_data"
    },
    {
     "data": {
      "image/png": "[encoded data removed]",
      "text/plain": [
       "<Figure size 432x288 with 1 Axes>"
      ]
     },
     "metadata": {
      "needs_background": "light"
     },
     "output_type": "display_data"
    },
    {
     "data": {
      "image/png": "[encoded data removed]",
      "text/plain": [
       "<Figure size 432x288 with 1 Axes>"
      ]
     },
     "metadata": {
      "needs_background": "light"
     },
     "output_type": "display_data"
    },
    {
     "data": {
      "image/png": "[encoded data removed]",
      "text/plain": [
       "<Figure size 432x288 with 1 Axes>"
      ]
     },
     "metadata": {
      "needs_background": "light"
     },
     "output_type": "display_data"
    },
    {
     "data": {
      "image/png": "[encoded data removed]",
      "text/plain": [
       "<Figure size 432x288 with 1 Axes>"
      ]
     },
     "metadata": {
      "needs_background": "light"
     },
     "output_type": "display_data"
    },
    {
     "data": {
      "image/png": "[encoded data removed]",
      "text/plain": [
       "<Figure size 432x288 with 1 Axes>"
      ]
     },
     "metadata": {
      "needs_background": "light"
     },
     "output_type": "display_data"
    },
    {
     "data": {
      "image/png": "[encoded data removed]",
      "text/plain": [
       "<Figure size 432x288 with 1 Axes>"
      ]
     },
     "metadata": {
      "needs_background": "light"
     },
     "output_type": "display_data"
    },
    {
     "data": {
      "image/png": "[encoded data removed]",
      "text/plain": [
       "<Figure size 432x288 with 1 Axes>"
      ]
     },
     "metadata": {
      "needs_background": "light"
     },
     "output_type": "display_data"
    }
   ],
   "source": [
    "for factor in ['total_area', 'living_area', 'kitchen_area', 'rooms', \n",
    "               'floor_type_digit', 'weekday_of_exposition', 'month_of_exposition', 'year_of_exposition']:    \n",
    "    df.plot(x=factor, y='last_price', kind='scatter')"
   ]
  },
  {
   "cell_type": "markdown",
   "metadata": {},
   "source": [
    "<i>Графики подтвердили наш вывод касательно первых трёх факторов. \n",
    "    <ul>\n",
    "        <li>Что касается количества комнат - цена квартиры растёт с ростом числом комнат, но не постоянно. Большее количество дорогих квартир находится среди трёх- и четырёхкомнатных - наверное, потому что таких квартир в принципе больше, чем пятикомнатных и далее</li>\n",
    "        <li>Стоимость квартиры наибольшая, если это не первый и не последний этаж. Самые недорогие квартиры - на первом этаже</li>\n",
    "        <li>Зависимость от дня неделя следующая: наибольшая средняя стоимость квартиры в объявлениях, опубликованных в понедельник и четверг, на выходных наблюдается спад</li>\n",
    "        <li>Что касается месяца объявления - чёткой тенденции не прослеживается, есть лишь некоторые локальные пики в середине года (июнь) и конце года (ноябрь-декабрь). В эти месяцы продаётся больше дорогих квартир</li>\n",
    "        <li>По году объявления - наблюдался рост до 2017 года и падение после него</li>\n",
    "    </ul>\n",
    "</i>"
   ]
  },
  {
   "cell_type": "code",
   "execution_count": 73,
   "metadata": {
    "scrolled": true
   },
   "outputs": [
    {
     "data": {
      "image/png": "[encoded data removed]",
      "text/plain": [
       "<Figure size 432x288 with 1 Axes>"
      ]
     },
     "metadata": {
      "needs_background": "light"
     },
     "output_type": "display_data"
    }
   ],
   "source": [
    "df.plot(x='year_of_exposition', y='total_area', kind='scatter');"
   ]
  },
  {
   "cell_type": "markdown",
   "metadata": {},
   "source": [
    "<h4>Подсчёт средней цены квадратного метра среди населённых пунктов с наибольшим числом объявлений</h4>"
   ]
  },
  {
   "cell_type": "markdown",
   "metadata": {},
   "source": [
    "<i>Сгруппируем данные по названию населённого пункта, сразу посчитаем количество объявлений и среднюю цену за квадратный метр для каждого из них. Переименуем \"двухэтажные\" столбцы</i>"
   ]
  },
  {
   "cell_type": "code",
   "execution_count": 74,
   "metadata": {},
   "outputs": [],
   "source": [
    "df_top10 = df.pivot_table(index='new_locality_name', values='m2_price', aggfunc=['count', 'median'])\n",
    "df_top10.columns = ['total', 'median_m2_price']"
   ]
  },
  {
   "cell_type": "markdown",
   "metadata": {},
   "source": [
    "<i>Отсортируем данные по убыванию количества объявлений и возьмём первые 10 строк</i>"
   ]
  },
  {
   "cell_type": "code",
   "execution_count": 75,
   "metadata": {},
   "outputs": [],
   "source": [
    "df_top10 = df_top10.sort_values(by='total', ascending=False).head(10)"
   ]
  },
  {
   "cell_type": "markdown",
   "metadata": {},
   "source": [
    "<i>Отсортируем по убыванию средней цены за квадратный метр</i>"
   ]
  },
  {
   "cell_type": "code",
   "execution_count": 76,
   "metadata": {
    "scrolled": true
   },
   "outputs": [
    {
     "data": {
      "text/html": [
       "<div>\n",
       "<style scoped>\n",
       "    .dataframe tbody tr th:only-of-type {\n",
       "        vertical-align: middle;\n",
       "    }\n",
       "\n",
       "    .dataframe tbody tr th {\n",
       "        vertical-align: top;\n",
       "    }\n",
       "\n",
       "    .dataframe thead th {\n",
       "        text-align: right;\n",
       "    }\n",
       "</style>\n",
       "<table border=\"1\" class=\"dataframe\">\n",
       "  <thead>\n",
       "    <tr style=\"text-align: right;\">\n",
       "      <th></th>\n",
       "      <th>total</th>\n",
       "      <th>median_m2_price</th>\n",
       "    </tr>\n",
       "    <tr>\n",
       "      <th>new_locality_name</th>\n",
       "      <th></th>\n",
       "      <th></th>\n",
       "    </tr>\n",
       "  </thead>\n",
       "  <tbody>\n",
       "    <tr>\n",
       "      <th>Санкт-Петербург</th>\n",
       "      <td>15035</td>\n",
       "      <td>104411.764706</td>\n",
       "    </tr>\n",
       "    <tr>\n",
       "      <th>Пушкин</th>\n",
       "      <td>357</td>\n",
       "      <td>99744.245524</td>\n",
       "    </tr>\n",
       "    <tr>\n",
       "      <th>Кудрово</th>\n",
       "      <td>442</td>\n",
       "      <td>95267.011197</td>\n",
       "    </tr>\n",
       "    <tr>\n",
       "      <th>Парголово</th>\n",
       "      <td>322</td>\n",
       "      <td>91984.436588</td>\n",
       "    </tr>\n",
       "    <tr>\n",
       "      <th>Мурино</th>\n",
       "      <td>545</td>\n",
       "      <td>85428.571429</td>\n",
       "    </tr>\n",
       "    <tr>\n",
       "      <th>Шушары</th>\n",
       "      <td>425</td>\n",
       "      <td>76923.076923</td>\n",
       "    </tr>\n",
       "    <tr>\n",
       "      <th>Колпино</th>\n",
       "      <td>326</td>\n",
       "      <td>74516.267123</td>\n",
       "    </tr>\n",
       "    <tr>\n",
       "      <th>Гатчина</th>\n",
       "      <td>296</td>\n",
       "      <td>67671.510409</td>\n",
       "    </tr>\n",
       "    <tr>\n",
       "      <th>Всеволожск</th>\n",
       "      <td>376</td>\n",
       "      <td>65789.473684</td>\n",
       "    </tr>\n",
       "    <tr>\n",
       "      <th>Выборг</th>\n",
       "      <td>235</td>\n",
       "      <td>58307.692308</td>\n",
       "    </tr>\n",
       "  </tbody>\n",
       "</table>\n",
       "</div>"
      ],
      "text/plain": [
       "                   total  median_m2_price\n",
       "new_locality_name                        \n",
       "Санкт-Петербург    15035    104411.764706\n",
       "Пушкин               357     99744.245524\n",
       "Кудрово              442     95267.011197\n",
       "Парголово            322     91984.436588\n",
       "Мурино               545     85428.571429\n",
       "Шушары               425     76923.076923\n",
       "Колпино              326     74516.267123\n",
       "Гатчина              296     67671.510409\n",
       "Всеволожск           376     65789.473684\n",
       "Выборг               235     58307.692308"
      ]
     },
     "execution_count": 76,
     "metadata": {},
     "output_type": "execute_result"
    }
   ],
   "source": [
    "df_top10.sort_values(by='median_m2_price', ascending=False)"
   ]
  },
  {
   "cell_type": "markdown",
   "metadata": {},
   "source": [
    "<i>Неудивительно, что самая высокая цена за квадратный метр - в областном центре, Санкт-Петербурге, однако и в ближайших пригородах она вполне сопоставима. Дешевле всего квадратный метр стоит в Выборге - почти в два раза меньше, чем в Санкт-Петербурге</i>"
   ]
  },
  {
   "cell_type": "markdown",
   "metadata": {},
   "source": [
    "<h4>Определение средней цены за километр расстояния от центра в Санкт-Петербурге</h4>"
   ]
  },
  {
   "cell_type": "markdown",
   "metadata": {},
   "source": [
    "<i>Изменим формат отображения дробных чисел до двух знаков после запятой</i>"
   ]
  },
  {
   "cell_type": "code",
   "execution_count": 77,
   "metadata": {},
   "outputs": [],
   "source": [
    "pd.options.display.float_format = '{:,.2f}'.format"
   ]
  },
  {
   "cell_type": "markdown",
   "metadata": {},
   "source": [
    "<i>Рассчитаем цену 1 км до центра для всех объявлений из Санкт-Петербурга, исключая те, где расстояния до центра меньше 1 км - при округлении мы получили тут 0, а значит, надо избежать деления на него</i>"
   ]
  },
  {
   "cell_type": "code",
   "execution_count": 78,
   "metadata": {},
   "outputs": [],
   "source": [
    "df.loc[(df['new_locality_name'] == 'Санкт-Петербург') & (df['city_centers_nearest_km'] > 0), 'to_center_1km_price'] = df['last_price'] / df['city_centers_nearest_km']"
   ]
  },
  {
   "cell_type": "code",
   "execution_count": 79,
   "metadata": {},
   "outputs": [],
   "source": [
    "df_spb = df[(df['new_locality_name'] == 'Санкт-Петербург') & (df['city_centers_nearest_km'] > 0)]"
   ]
  },
  {
   "cell_type": "code",
   "execution_count": 80,
   "metadata": {
    "scrolled": true
   },
   "outputs": [
    {
     "data": {
      "text/html": [
       "<div>\n",
       "<style scoped>\n",
       "    .dataframe tbody tr th:only-of-type {\n",
       "        vertical-align: middle;\n",
       "    }\n",
       "\n",
       "    .dataframe tbody tr th {\n",
       "        vertical-align: top;\n",
       "    }\n",
       "\n",
       "    .dataframe thead th {\n",
       "        text-align: right;\n",
       "    }\n",
       "</style>\n",
       "<table border=\"1\" class=\"dataframe\">\n",
       "  <thead>\n",
       "    <tr style=\"text-align: right;\">\n",
       "      <th></th>\n",
       "      <th>total_images</th>\n",
       "      <th>last_price</th>\n",
       "      <th>total_area</th>\n",
       "      <th>first_day_exposition</th>\n",
       "      <th>rooms</th>\n",
       "      <th>ceiling_height</th>\n",
       "      <th>floors_total</th>\n",
       "      <th>living_area</th>\n",
       "      <th>floor</th>\n",
       "      <th>is_apartment</th>\n",
       "      <th>...</th>\n",
       "      <th>days_exposition</th>\n",
       "      <th>new_locality_name</th>\n",
       "      <th>m2_price</th>\n",
       "      <th>weekday_of_exposition</th>\n",
       "      <th>month_of_exposition</th>\n",
       "      <th>year_of_exposition</th>\n",
       "      <th>floor_type</th>\n",
       "      <th>floor_type_digit</th>\n",
       "      <th>city_centers_nearest_km</th>\n",
       "      <th>to_center_1km_price</th>\n",
       "    </tr>\n",
       "  </thead>\n",
       "  <tbody>\n",
       "    <tr>\n",
       "      <th>0</th>\n",
       "      <td>20</td>\n",
       "      <td>13000000</td>\n",
       "      <td>108.00</td>\n",
       "      <td>2019-03-07</td>\n",
       "      <td>3</td>\n",
       "      <td>2.70</td>\n",
       "      <td>16</td>\n",
       "      <td>51.00</td>\n",
       "      <td>8</td>\n",
       "      <td>True</td>\n",
       "      <td>...</td>\n",
       "      <td>NaN</td>\n",
       "      <td>Санкт-Петербург</td>\n",
       "      <td>120,370.37</td>\n",
       "      <td>3</td>\n",
       "      <td>2019-03-01</td>\n",
       "      <td>2019</td>\n",
       "      <td>Другой</td>\n",
       "      <td>1</td>\n",
       "      <td>16</td>\n",
       "      <td>812,500.00</td>\n",
       "    </tr>\n",
       "    <tr>\n",
       "      <th>2</th>\n",
       "      <td>10</td>\n",
       "      <td>5196000</td>\n",
       "      <td>56.00</td>\n",
       "      <td>2015-08-20</td>\n",
       "      <td>2</td>\n",
       "      <td>2.70</td>\n",
       "      <td>5</td>\n",
       "      <td>34.30</td>\n",
       "      <td>4</td>\n",
       "      <td>True</td>\n",
       "      <td>...</td>\n",
       "      <td>558.00</td>\n",
       "      <td>Санкт-Петербург</td>\n",
       "      <td>92,785.71</td>\n",
       "      <td>3</td>\n",
       "      <td>2015-08-01</td>\n",
       "      <td>2015</td>\n",
       "      <td>Другой</td>\n",
       "      <td>1</td>\n",
       "      <td>14</td>\n",
       "      <td>371,142.86</td>\n",
       "    </tr>\n",
       "    <tr>\n",
       "      <th>3</th>\n",
       "      <td>0</td>\n",
       "      <td>64900000</td>\n",
       "      <td>159.00</td>\n",
       "      <td>2015-07-24</td>\n",
       "      <td>3</td>\n",
       "      <td>2.70</td>\n",
       "      <td>14</td>\n",
       "      <td>NaN</td>\n",
       "      <td>9</td>\n",
       "      <td>True</td>\n",
       "      <td>...</td>\n",
       "      <td>424.00</td>\n",
       "      <td>Санкт-Петербург</td>\n",
       "      <td>408,176.10</td>\n",
       "      <td>4</td>\n",
       "      <td>2015-07-01</td>\n",
       "      <td>2015</td>\n",
       "      <td>Другой</td>\n",
       "      <td>1</td>\n",
       "      <td>7</td>\n",
       "      <td>9,271,428.57</td>\n",
       "    </tr>\n",
       "    <tr>\n",
       "      <th>4</th>\n",
       "      <td>2</td>\n",
       "      <td>10000000</td>\n",
       "      <td>100.00</td>\n",
       "      <td>2018-06-19</td>\n",
       "      <td>2</td>\n",
       "      <td>3.03</td>\n",
       "      <td>14</td>\n",
       "      <td>32.00</td>\n",
       "      <td>13</td>\n",
       "      <td>True</td>\n",
       "      <td>...</td>\n",
       "      <td>121.00</td>\n",
       "      <td>Санкт-Петербург</td>\n",
       "      <td>100,000.00</td>\n",
       "      <td>1</td>\n",
       "      <td>2018-06-01</td>\n",
       "      <td>2018</td>\n",
       "      <td>Другой</td>\n",
       "      <td>1</td>\n",
       "      <td>8</td>\n",
       "      <td>1,250,000.00</td>\n",
       "    </tr>\n",
       "    <tr>\n",
       "      <th>7</th>\n",
       "      <td>5</td>\n",
       "      <td>7915000</td>\n",
       "      <td>71.60</td>\n",
       "      <td>2019-04-18</td>\n",
       "      <td>2</td>\n",
       "      <td>2.70</td>\n",
       "      <td>24</td>\n",
       "      <td>NaN</td>\n",
       "      <td>22</td>\n",
       "      <td>True</td>\n",
       "      <td>...</td>\n",
       "      <td>NaN</td>\n",
       "      <td>Санкт-Петербург</td>\n",
       "      <td>110,544.69</td>\n",
       "      <td>3</td>\n",
       "      <td>2019-04-01</td>\n",
       "      <td>2019</td>\n",
       "      <td>Другой</td>\n",
       "      <td>1</td>\n",
       "      <td>12</td>\n",
       "      <td>659,583.33</td>\n",
       "    </tr>\n",
       "    <tr>\n",
       "      <th>...</th>\n",
       "      <td>...</td>\n",
       "      <td>...</td>\n",
       "      <td>...</td>\n",
       "      <td>...</td>\n",
       "      <td>...</td>\n",
       "      <td>...</td>\n",
       "      <td>...</td>\n",
       "      <td>...</td>\n",
       "      <td>...</td>\n",
       "      <td>...</td>\n",
       "      <td>...</td>\n",
       "      <td>...</td>\n",
       "      <td>...</td>\n",
       "      <td>...</td>\n",
       "      <td>...</td>\n",
       "      <td>...</td>\n",
       "      <td>...</td>\n",
       "      <td>...</td>\n",
       "      <td>...</td>\n",
       "      <td>...</td>\n",
       "      <td>...</td>\n",
       "    </tr>\n",
       "    <tr>\n",
       "      <th>23689</th>\n",
       "      <td>13</td>\n",
       "      <td>3550000</td>\n",
       "      <td>35.30</td>\n",
       "      <td>2018-02-28</td>\n",
       "      <td>1</td>\n",
       "      <td>2.86</td>\n",
       "      <td>15</td>\n",
       "      <td>16.30</td>\n",
       "      <td>4</td>\n",
       "      <td>True</td>\n",
       "      <td>...</td>\n",
       "      <td>29.00</td>\n",
       "      <td>Санкт-Петербург</td>\n",
       "      <td>100,566.57</td>\n",
       "      <td>2</td>\n",
       "      <td>2018-02-01</td>\n",
       "      <td>2018</td>\n",
       "      <td>Другой</td>\n",
       "      <td>1</td>\n",
       "      <td>16</td>\n",
       "      <td>221,875.00</td>\n",
       "    </tr>\n",
       "    <tr>\n",
       "      <th>23690</th>\n",
       "      <td>3</td>\n",
       "      <td>5500000</td>\n",
       "      <td>52.00</td>\n",
       "      <td>2018-07-19</td>\n",
       "      <td>2</td>\n",
       "      <td>2.70</td>\n",
       "      <td>5</td>\n",
       "      <td>31.00</td>\n",
       "      <td>2</td>\n",
       "      <td>True</td>\n",
       "      <td>...</td>\n",
       "      <td>15.00</td>\n",
       "      <td>Санкт-Петербург</td>\n",
       "      <td>105,769.23</td>\n",
       "      <td>3</td>\n",
       "      <td>2018-07-01</td>\n",
       "      <td>2018</td>\n",
       "      <td>Другой</td>\n",
       "      <td>1</td>\n",
       "      <td>6</td>\n",
       "      <td>916,666.67</td>\n",
       "    </tr>\n",
       "    <tr>\n",
       "      <th>23691</th>\n",
       "      <td>11</td>\n",
       "      <td>9470000</td>\n",
       "      <td>72.90</td>\n",
       "      <td>2016-10-13</td>\n",
       "      <td>2</td>\n",
       "      <td>2.75</td>\n",
       "      <td>25</td>\n",
       "      <td>40.30</td>\n",
       "      <td>7</td>\n",
       "      <td>True</td>\n",
       "      <td>...</td>\n",
       "      <td>519.00</td>\n",
       "      <td>Санкт-Петербург</td>\n",
       "      <td>129,903.98</td>\n",
       "      <td>3</td>\n",
       "      <td>2016-10-01</td>\n",
       "      <td>2016</td>\n",
       "      <td>Другой</td>\n",
       "      <td>1</td>\n",
       "      <td>4</td>\n",
       "      <td>2,367,500.00</td>\n",
       "    </tr>\n",
       "    <tr>\n",
       "      <th>23694</th>\n",
       "      <td>9</td>\n",
       "      <td>9700000</td>\n",
       "      <td>133.81</td>\n",
       "      <td>2017-03-21</td>\n",
       "      <td>3</td>\n",
       "      <td>3.70</td>\n",
       "      <td>5</td>\n",
       "      <td>73.30</td>\n",
       "      <td>3</td>\n",
       "      <td>True</td>\n",
       "      <td>...</td>\n",
       "      <td>NaN</td>\n",
       "      <td>Санкт-Петербург</td>\n",
       "      <td>72,490.85</td>\n",
       "      <td>1</td>\n",
       "      <td>2017-03-01</td>\n",
       "      <td>2017</td>\n",
       "      <td>Другой</td>\n",
       "      <td>1</td>\n",
       "      <td>4</td>\n",
       "      <td>2,425,000.00</td>\n",
       "    </tr>\n",
       "    <tr>\n",
       "      <th>23697</th>\n",
       "      <td>13</td>\n",
       "      <td>11475000</td>\n",
       "      <td>76.75</td>\n",
       "      <td>2017-03-28</td>\n",
       "      <td>2</td>\n",
       "      <td>3.00</td>\n",
       "      <td>17</td>\n",
       "      <td>NaN</td>\n",
       "      <td>12</td>\n",
       "      <td>True</td>\n",
       "      <td>...</td>\n",
       "      <td>602.00</td>\n",
       "      <td>Санкт-Петербург</td>\n",
       "      <td>149,511.40</td>\n",
       "      <td>1</td>\n",
       "      <td>2017-03-01</td>\n",
       "      <td>2017</td>\n",
       "      <td>Другой</td>\n",
       "      <td>1</td>\n",
       "      <td>10</td>\n",
       "      <td>1,147,500.00</td>\n",
       "    </tr>\n",
       "  </tbody>\n",
       "</table>\n",
       "<p>15010 rows × 31 columns</p>\n",
       "</div>"
      ],
      "text/plain": [
       "       total_images  last_price  total_area first_day_exposition  rooms  \\\n",
       "0                20    13000000      108.00           2019-03-07      3   \n",
       "2                10     5196000       56.00           2015-08-20      2   \n",
       "3                 0    64900000      159.00           2015-07-24      3   \n",
       "4                 2    10000000      100.00           2018-06-19      2   \n",
       "7                 5     7915000       71.60           2019-04-18      2   \n",
       "...             ...         ...         ...                  ...    ...   \n",
       "23689            13     3550000       35.30           2018-02-28      1   \n",
       "23690             3     5500000       52.00           2018-07-19      2   \n",
       "23691            11     9470000       72.90           2016-10-13      2   \n",
       "23694             9     9700000      133.81           2017-03-21      3   \n",
       "23697            13    11475000       76.75           2017-03-28      2   \n",
       "\n",
       "       ceiling_height  floors_total  living_area  floor  is_apartment  ...  \\\n",
       "0                2.70            16        51.00      8          True  ...   \n",
       "2                2.70             5        34.30      4          True  ...   \n",
       "3                2.70            14          NaN      9          True  ...   \n",
       "4                3.03            14        32.00     13          True  ...   \n",
       "7                2.70            24          NaN     22          True  ...   \n",
       "...               ...           ...          ...    ...           ...  ...   \n",
       "23689            2.86            15        16.30      4          True  ...   \n",
       "23690            2.70             5        31.00      2          True  ...   \n",
       "23691            2.75            25        40.30      7          True  ...   \n",
       "23694            3.70             5        73.30      3          True  ...   \n",
       "23697            3.00            17          NaN     12          True  ...   \n",
       "\n",
       "       days_exposition  new_locality_name   m2_price  weekday_of_exposition  \\\n",
       "0                  NaN    Санкт-Петербург 120,370.37                      3   \n",
       "2               558.00    Санкт-Петербург  92,785.71                      3   \n",
       "3               424.00    Санкт-Петербург 408,176.10                      4   \n",
       "4               121.00    Санкт-Петербург 100,000.00                      1   \n",
       "7                  NaN    Санкт-Петербург 110,544.69                      3   \n",
       "...                ...                ...        ...                    ...   \n",
       "23689            29.00    Санкт-Петербург 100,566.57                      2   \n",
       "23690            15.00    Санкт-Петербург 105,769.23                      3   \n",
       "23691           519.00    Санкт-Петербург 129,903.98                      3   \n",
       "23694              NaN    Санкт-Петербург  72,490.85                      1   \n",
       "23697           602.00    Санкт-Петербург 149,511.40                      1   \n",
       "\n",
       "      month_of_exposition  year_of_exposition  floor_type  floor_type_digit  \\\n",
       "0              2019-03-01                2019      Другой                 1   \n",
       "2              2015-08-01                2015      Другой                 1   \n",
       "3              2015-07-01                2015      Другой                 1   \n",
       "4              2018-06-01                2018      Другой                 1   \n",
       "7              2019-04-01                2019      Другой                 1   \n",
       "...                   ...                 ...         ...               ...   \n",
       "23689          2018-02-01                2018      Другой                 1   \n",
       "23690          2018-07-01                2018      Другой                 1   \n",
       "23691          2016-10-01                2016      Другой                 1   \n",
       "23694          2017-03-01                2017      Другой                 1   \n",
       "23697          2017-03-01                2017      Другой                 1   \n",
       "\n",
       "       city_centers_nearest_km  to_center_1km_price  \n",
       "0                           16           812,500.00  \n",
       "2                           14           371,142.86  \n",
       "3                            7         9,271,428.57  \n",
       "4                            8         1,250,000.00  \n",
       "7                           12           659,583.33  \n",
       "...                        ...                  ...  \n",
       "23689                       16           221,875.00  \n",
       "23690                        6           916,666.67  \n",
       "23691                        4         2,367,500.00  \n",
       "23694                        4         2,425,000.00  \n",
       "23697                       10         1,147,500.00  \n",
       "\n",
       "[15010 rows x 31 columns]"
      ]
     },
     "execution_count": 80,
     "metadata": {},
     "output_type": "execute_result"
    }
   ],
   "source": [
    "df_spb"
   ]
  },
  {
   "cell_type": "markdown",
   "metadata": {},
   "source": [
    "<i>Построим график зависимости стоимости жилья от расстояния до центра. По идее, должны получить что-то похожее на график обратной пропорциональности, так как эти величины так и связаны</i>"
   ]
  },
  {
   "cell_type": "code",
   "execution_count": 81,
   "metadata": {
    "scrolled": false
   },
   "outputs": [
    {
     "data": {
      "image/png": "[encoded data removed]",
      "text/plain": [
       "<Figure size 432x288 with 1 Axes>"
      ]
     },
     "metadata": {
      "needs_background": "light"
     },
     "output_type": "display_data"
    }
   ],
   "source": [
    "df_spb.plot(x='city_centers_nearest_km', y='last_price', style='o', xlabel='км до центра', ylabel='десятков млн. рублей', grid=True);"
   ]
  },
  {
   "cell_type": "markdown",
   "metadata": {},
   "source": [
    "<i>Так и есть, форма графика ожидаема. Логично, что чем ближе ты к центру - тем дороже жильё, а значит, стоимость жилья будет выше. Хотя в среднем, похоже, с 20 до 40 километров от центра стоимость не сильно меняется (и даже есть выбросы в этой категории). В целом, это тоже ожидаемо, так как в любом случае расстояние больше 20 км - это уже сильно далеко от центра, и поэтому здесь влияние этого фактора угасает. Рассчитаем среднюю цену за 1 километр от центра</i>"
   ]
  },
  {
   "cell_type": "code",
   "execution_count": 82,
   "metadata": {
    "scrolled": true
   },
   "outputs": [
    {
     "data": {
      "text/plain": [
       "1177768.644399531"
      ]
     },
     "execution_count": 82,
     "metadata": {},
     "output_type": "execute_result"
    }
   ],
   "source": [
    "df_spb['to_center_1km_price'].mean()"
   ]
  },
  {
   "cell_type": "markdown",
   "metadata": {},
   "source": [
    "<i>Ого, больше миллиона за 1 километр! Это довольно большое значение, на которое наверняка влияют выбросы. Рассмотрим медиану - более информативную в нашем случае характеристику</i>"
   ]
  },
  {
   "cell_type": "code",
   "execution_count": 83,
   "metadata": {},
   "outputs": [
    {
     "data": {
      "text/plain": [
       "442540.10695187165"
      ]
     },
     "execution_count": 83,
     "metadata": {},
     "output_type": "execute_result"
    }
   ],
   "source": [
    "df_spb['to_center_1km_price'].median()"
   ]
  },
  {
   "cell_type": "markdown",
   "metadata": {},
   "source": [
    "<i>Да, меньше полумиллиона - уже более адекватное значение. Но все равно цифра довольно высока. Что и говорить, жить близко к центру мегаполиса - удовольствие не из дешёвых!</i>"
   ]
  },
  {
   "cell_type": "code",
   "execution_count": 84,
   "metadata": {},
   "outputs": [],
   "source": [
    "df_spb_pivot = df_spb.pivot_table(index='city_centers_nearest_km', values='to_center_1km_price', aggfunc='median')"
   ]
  },
  {
   "cell_type": "code",
   "execution_count": 88,
   "metadata": {
    "scrolled": true
   },
   "outputs": [
    {
     "data": {
      "image/png": "[encoded data removed]",
      "text/plain": [
       "<Figure size 432x288 with 1 Axes>"
      ]
     },
     "metadata": {
      "needs_background": "light"
     },
     "output_type": "display_data"
    }
   ],
   "source": [
    "df_spb_pivot.plot(grid = True, title='Зависимость цены от расстояния до центра');"
   ]
  },
  {
   "cell_type": "code",
   "execution_count": 87,
   "metadata": {
    "scrolled": true
   },
   "outputs": [
    {
     "data": {
      "text/html": [
       "<div>\n",
       "<style scoped>\n",
       "    .dataframe tbody tr th:only-of-type {\n",
       "        vertical-align: middle;\n",
       "    }\n",
       "\n",
       "    .dataframe tbody tr th {\n",
       "        vertical-align: top;\n",
       "    }\n",
       "\n",
       "    .dataframe thead th {\n",
       "        text-align: right;\n",
       "    }\n",
       "</style>\n",
       "<table border=\"1\" class=\"dataframe\">\n",
       "  <thead>\n",
       "    <tr style=\"text-align: right;\">\n",
       "      <th></th>\n",
       "      <th>total_images</th>\n",
       "      <th>last_price</th>\n",
       "      <th>total_area</th>\n",
       "      <th>first_day_exposition</th>\n",
       "      <th>rooms</th>\n",
       "      <th>ceiling_height</th>\n",
       "      <th>floors_total</th>\n",
       "      <th>living_area</th>\n",
       "      <th>floor</th>\n",
       "      <th>is_apartment</th>\n",
       "      <th>...</th>\n",
       "      <th>days_exposition</th>\n",
       "      <th>new_locality_name</th>\n",
       "      <th>m2_price</th>\n",
       "      <th>weekday_of_exposition</th>\n",
       "      <th>month_of_exposition</th>\n",
       "      <th>year_of_exposition</th>\n",
       "      <th>floor_type</th>\n",
       "      <th>floor_type_digit</th>\n",
       "      <th>city_centers_nearest_km</th>\n",
       "      <th>to_center_1km_price</th>\n",
       "    </tr>\n",
       "  </thead>\n",
       "  <tbody>\n",
       "    <tr>\n",
       "      <th>748</th>\n",
       "      <td>13</td>\n",
       "      <td>14350000</td>\n",
       "      <td>74.00</td>\n",
       "      <td>2017-11-28</td>\n",
       "      <td>2</td>\n",
       "      <td>3.13</td>\n",
       "      <td>5</td>\n",
       "      <td>30.00</td>\n",
       "      <td>3</td>\n",
       "      <td>True</td>\n",
       "      <td>...</td>\n",
       "      <td>128.00</td>\n",
       "      <td>Санкт-Петербург</td>\n",
       "      <td>193,918.92</td>\n",
       "      <td>1</td>\n",
       "      <td>2017-11-01</td>\n",
       "      <td>2017</td>\n",
       "      <td>Другой</td>\n",
       "      <td>1</td>\n",
       "      <td>27</td>\n",
       "      <td>531,481.48</td>\n",
       "    </tr>\n",
       "    <tr>\n",
       "      <th>5961</th>\n",
       "      <td>6</td>\n",
       "      <td>2250000</td>\n",
       "      <td>32.00</td>\n",
       "      <td>2018-02-27</td>\n",
       "      <td>1</td>\n",
       "      <td>2.70</td>\n",
       "      <td>2</td>\n",
       "      <td>16.50</td>\n",
       "      <td>2</td>\n",
       "      <td>True</td>\n",
       "      <td>...</td>\n",
       "      <td>178.00</td>\n",
       "      <td>Санкт-Петербург</td>\n",
       "      <td>70,312.50</td>\n",
       "      <td>1</td>\n",
       "      <td>2018-02-01</td>\n",
       "      <td>2018</td>\n",
       "      <td>Последний</td>\n",
       "      <td>2</td>\n",
       "      <td>27</td>\n",
       "      <td>83,333.33</td>\n",
       "    </tr>\n",
       "  </tbody>\n",
       "</table>\n",
       "<p>2 rows × 31 columns</p>\n",
       "</div>"
      ],
      "text/plain": [
       "      total_images  last_price  total_area first_day_exposition  rooms  \\\n",
       "748             13    14350000       74.00           2017-11-28      2   \n",
       "5961             6     2250000       32.00           2018-02-27      1   \n",
       "\n",
       "      ceiling_height  floors_total  living_area  floor  is_apartment  ...  \\\n",
       "748             3.13             5        30.00      3          True  ...   \n",
       "5961            2.70             2        16.50      2          True  ...   \n",
       "\n",
       "      days_exposition  new_locality_name   m2_price  weekday_of_exposition  \\\n",
       "748            128.00    Санкт-Петербург 193,918.92                      1   \n",
       "5961           178.00    Санкт-Петербург  70,312.50                      1   \n",
       "\n",
       "     month_of_exposition  year_of_exposition  floor_type  floor_type_digit  \\\n",
       "748           2017-11-01                2017      Другой                 1   \n",
       "5961          2018-02-01                2018   Последний                 2   \n",
       "\n",
       "      city_centers_nearest_km  to_center_1km_price  \n",
       "748                        27           531,481.48  \n",
       "5961                       27            83,333.33  \n",
       "\n",
       "[2 rows x 31 columns]"
      ]
     },
     "execution_count": 87,
     "metadata": {},
     "output_type": "execute_result"
    }
   ],
   "source": [
    "df_spb.query('city_centers_nearest_km == 27', engine='python')"
   ]
  },
  {
   "cell_type": "markdown",
   "metadata": {},
   "source": [
    "<div style=\"font-size:2rem; font-weight:bold\">Вывод</div>\n",
    "<p></p>\n",
    "<div style=\"border:solid green 2px; padding: 20px\">\n",
    "    <i><b>Мы исследовали большое количество параметров. Все из них распределены естественно, в соответствии со здравым смыслом. Сделали несколько выводов, например, о том, что стоимость жилья наибольшим образом зависит от его площади, а с параметром \"количество комнат\" коррелирует в куда меньшей степени. Изучили, как распределено количество квартир по времени продажи, нашли среднюю стоимость квадратного метра. Подробнее об этом - в общем выводе</b></i>\n",
    "</div>"
   ]
  },
  {
   "cell_type": "markdown",
   "metadata": {},
   "source": [
    "### Общий вывод"
   ]
  },
  {
   "cell_type": "markdown",
   "metadata": {},
   "source": [
    "<div style=\"border:solid green 4px; padding: 20px\">\n",
    "    <i><b>\n",
    "        Для получения репрезентативных, неискажённых данных для начала была проведена предобработка датасета - удалены выбросы, заполнены пропуски там, где это возможно, исправлены некоторые некорректные значения. В дальнейшем работа велась уже с такими, \"нормальными\" данными, на основании которых были сделаны следующие выводы:\n",
    "        <ul>\n",
    "            <li>Большинство данных имеет пуассоновское распределение - это естественная ситуация для дискретных величин</li>\n",
    "            <li>Больше всего объявлений о продаже квартир в 5- и 9-этажных домах. Чаще всего они публикуются в будние дни, по месяцам - пики в начале и конце года</li>\n",
    "            <li>На стоимость квартиры в наибольшей степени влияет общая площадь помещения, в меньшей - отдельные производные: жилая площадь и площадь кухни. Значительный рост цен с увеличением количества комнат наблюдается только до 3-комнатных квартир, дальше рост снижается</li>\n",
    "            <li>Квартиры не на первом и последнем этажах стоят дороже</li>\n",
    "            <li>До 2017 года наблюдался рост общей площади продаваемых квартир, а вместе с ним, что закономерно - и рост цены как зависимого от площади параметра. Впрочем, после они оба стали снижаться. Вероятно, дело в значительном повышении спроса на небольшое жильё (студии, однокомнатные квартиры) в силу постоянного роста цен</li>\n",
    "            <li>Стоимость квадратного метра разнится от населённого пункта и наибольшее значение составляет в Санкт-Петербурге (более 100 тысяч рублей за кв. м.) и Пушкино (почти 100 тысяч рублей за кв. м.)</li>\n",
    "            <li>Больше половины квартир продаётся в течение 3 месяцев, около четверти объявлений висят на сайте больше 200 дней. Есть объявления, не закрывающиеся по нескольку лет - это аномально большие цифры, может быть вызвано разными факторами (плохое состояние жилья, завышенная цена). Некоторые сделки закрывались за 1-2 дня, но их доля мала</li>\n",
    "            <li>Удалённость от центра города (в пределах до 10 км) тоже оказывает влияние на суммарную стоимость жилья. Впрочем, после 10 км и дальше от центра города этот параметр перестаёт вносить существенный вклад</li>\n",
    "        </ul>\n",
    "    </b></i>\n",
    "</div>"
   ]
  }
 ],
 "metadata": {
  "ExecuteTimeLog": [
   {
    "duration": 695,
    "start_time": "2022-09-07T08:02:50.585Z"
   },
   {
    "duration": 15,
    "start_time": "2022-09-07T08:02:52.245Z"
   },
   {
    "duration": 94,
    "start_time": "2022-09-07T08:03:07.853Z"
   },
   {
    "duration": 44,
    "start_time": "2022-09-07T08:03:08.383Z"
   },
   {
    "duration": 14,
    "start_time": "2022-09-07T08:03:25.221Z"
   },
   {
    "duration": 10,
    "start_time": "2022-09-07T08:03:40.474Z"
   },
   {
    "duration": 66,
    "start_time": "2022-09-07T08:12:10.946Z"
   },
   {
    "duration": 8,
    "start_time": "2022-09-07T08:12:17.451Z"
   },
   {
    "duration": 23,
    "start_time": "2022-09-07T08:12:23.350Z"
   },
   {
    "duration": 8,
    "start_time": "2022-09-07T08:20:33.690Z"
   },
   {
    "duration": 86,
    "start_time": "2022-09-07T08:20:39.798Z"
   },
   {
    "duration": 44,
    "start_time": "2022-09-07T08:20:39.886Z"
   },
   {
    "duration": 12,
    "start_time": "2022-09-07T08:20:39.932Z"
   },
   {
    "duration": 15,
    "start_time": "2022-09-07T08:20:45.045Z"
   },
   {
    "duration": 11,
    "start_time": "2022-09-07T08:20:45.831Z"
   },
   {
    "duration": 41,
    "start_time": "2022-09-07T08:20:49.133Z"
   },
   {
    "duration": 11,
    "start_time": "2022-09-07T08:21:42.545Z"
   },
   {
    "duration": 46,
    "start_time": "2022-09-07T08:21:43.282Z"
   },
   {
    "duration": 3,
    "start_time": "2022-09-07T08:22:04.698Z"
   },
   {
    "duration": 44,
    "start_time": "2022-09-07T08:22:05.098Z"
   },
   {
    "duration": 2438,
    "start_time": "2022-09-07T08:24:00.128Z"
   },
   {
    "duration": 1986,
    "start_time": "2022-09-07T08:24:13.396Z"
   },
   {
    "duration": 95,
    "start_time": "2022-09-07T08:30:48.901Z"
   },
   {
    "duration": 52,
    "start_time": "2022-09-07T10:45:36.596Z"
   },
   {
    "duration": 792,
    "start_time": "2022-09-07T10:45:39.624Z"
   },
   {
    "duration": 51,
    "start_time": "2022-09-07T10:45:40.419Z"
   },
   {
    "duration": 19,
    "start_time": "2022-09-07T10:45:40.471Z"
   },
   {
    "duration": 3,
    "start_time": "2022-09-07T10:45:40.493Z"
   },
   {
    "duration": 2526,
    "start_time": "2022-09-07T10:45:42.836Z"
   },
   {
    "duration": 3731,
    "start_time": "2022-09-07T10:45:55.204Z"
   },
   {
    "duration": 3005,
    "start_time": "2022-09-07T10:46:21.497Z"
   },
   {
    "duration": 2704,
    "start_time": "2022-09-07T10:47:12.589Z"
   },
   {
    "duration": 2978,
    "start_time": "2022-09-07T10:47:54.790Z"
   },
   {
    "duration": 1825,
    "start_time": "2022-09-07T10:48:13.004Z"
   },
   {
    "duration": 34,
    "start_time": "2022-09-07T10:56:43.600Z"
   },
   {
    "duration": 13,
    "start_time": "2022-09-07T10:56:53.166Z"
   },
   {
    "duration": 21,
    "start_time": "2022-09-07T11:03:31.787Z"
   },
   {
    "duration": 7,
    "start_time": "2022-09-07T11:06:24.825Z"
   },
   {
    "duration": 8,
    "start_time": "2022-09-07T11:06:46.631Z"
   },
   {
    "duration": 30,
    "start_time": "2022-09-07T11:06:55.901Z"
   },
   {
    "duration": 10,
    "start_time": "2022-09-07T11:08:11.160Z"
   },
   {
    "duration": 30,
    "start_time": "2022-09-07T11:09:07.292Z"
   },
   {
    "duration": 29,
    "start_time": "2022-09-07T11:12:13.290Z"
   },
   {
    "duration": 17,
    "start_time": "2022-09-07T11:12:25.357Z"
   },
   {
    "duration": 10,
    "start_time": "2022-09-07T11:12:30.288Z"
   },
   {
    "duration": 17,
    "start_time": "2022-09-07T11:12:39.391Z"
   },
   {
    "duration": 17,
    "start_time": "2022-09-07T11:12:59.091Z"
   },
   {
    "duration": 13,
    "start_time": "2022-09-07T11:13:48.589Z"
   },
   {
    "duration": 28,
    "start_time": "2022-09-07T11:13:50.638Z"
   },
   {
    "duration": 29,
    "start_time": "2022-09-07T11:13:56.842Z"
   },
   {
    "duration": 17,
    "start_time": "2022-09-07T11:42:59.835Z"
   },
   {
    "duration": 83,
    "start_time": "2022-09-07T12:06:22.368Z"
   },
   {
    "duration": 38,
    "start_time": "2022-09-07T12:06:22.453Z"
   },
   {
    "duration": 25,
    "start_time": "2022-09-07T12:06:22.492Z"
   },
   {
    "duration": 21,
    "start_time": "2022-09-07T12:06:22.519Z"
   },
   {
    "duration": 2023,
    "start_time": "2022-09-07T12:06:22.542Z"
   },
   {
    "duration": 9,
    "start_time": "2022-09-07T12:06:24.566Z"
   },
   {
    "duration": 41,
    "start_time": "2022-09-07T12:06:24.577Z"
   },
   {
    "duration": 22,
    "start_time": "2022-09-07T12:06:27.911Z"
   },
   {
    "duration": 16,
    "start_time": "2022-09-07T12:06:44.611Z"
   },
   {
    "duration": 16,
    "start_time": "2022-09-07T12:06:46.505Z"
   },
   {
    "duration": 3,
    "start_time": "2022-09-07T12:06:56.855Z"
   },
   {
    "duration": 625,
    "start_time": "2022-09-07T12:07:02.312Z"
   },
   {
    "duration": 3,
    "start_time": "2022-09-07T12:07:12.868Z"
   },
   {
    "duration": 462,
    "start_time": "2022-09-07T12:07:13.940Z"
   },
   {
    "duration": 4,
    "start_time": "2022-09-07T12:08:27.221Z"
   },
   {
    "duration": 4,
    "start_time": "2022-09-07T12:08:47.550Z"
   },
   {
    "duration": 8,
    "start_time": "2022-09-07T12:08:55.963Z"
   },
   {
    "duration": 7,
    "start_time": "2022-09-07T12:09:01.420Z"
   },
   {
    "duration": 6,
    "start_time": "2022-09-07T12:09:39.526Z"
   },
   {
    "duration": 232,
    "start_time": "2022-09-07T12:09:47.524Z"
   },
   {
    "duration": 4,
    "start_time": "2022-09-07T12:10:15.791Z"
   },
   {
    "duration": 7,
    "start_time": "2022-09-07T12:10:18.186Z"
   },
   {
    "duration": 464,
    "start_time": "2022-09-07T12:10:21.772Z"
   },
   {
    "duration": 3,
    "start_time": "2022-09-07T12:10:42.329Z"
   },
   {
    "duration": 6,
    "start_time": "2022-09-07T12:10:42.593Z"
   },
   {
    "duration": 623,
    "start_time": "2022-09-07T12:10:43.572Z"
   },
   {
    "duration": 300,
    "start_time": "2022-09-07T12:12:54.469Z"
   },
   {
    "duration": 499,
    "start_time": "2022-09-07T12:13:11.368Z"
   },
   {
    "duration": 4,
    "start_time": "2022-09-07T12:16:25.631Z"
   },
   {
    "duration": 9,
    "start_time": "2022-09-07T12:16:26.923Z"
   },
   {
    "duration": 276,
    "start_time": "2022-09-07T12:16:39.371Z"
   },
   {
    "duration": 4,
    "start_time": "2022-09-07T12:17:04.523Z"
   },
   {
    "duration": 1145,
    "start_time": "2022-09-07T12:17:16.926Z"
   },
   {
    "duration": 1387,
    "start_time": "2022-09-07T12:17:23.469Z"
   },
   {
    "duration": 5,
    "start_time": "2022-09-07T12:17:31.674Z"
   },
   {
    "duration": 2932,
    "start_time": "2022-09-07T12:18:59.248Z"
   },
   {
    "duration": 151,
    "start_time": "2022-09-07T12:19:10.624Z"
   },
   {
    "duration": 4,
    "start_time": "2022-09-07T12:19:45.558Z"
   },
   {
    "duration": 6,
    "start_time": "2022-09-07T12:20:13.770Z"
   },
   {
    "duration": 5,
    "start_time": "2022-09-07T12:20:15.773Z"
   },
   {
    "duration": 160,
    "start_time": "2022-09-07T12:20:22.423Z"
   },
   {
    "duration": 5,
    "start_time": "2022-09-07T12:21:08.226Z"
   },
   {
    "duration": 5,
    "start_time": "2022-09-07T12:21:09.426Z"
   },
   {
    "duration": 4,
    "start_time": "2022-09-07T12:21:12.280Z"
   },
   {
    "duration": 4,
    "start_time": "2022-09-07T12:21:13.037Z"
   },
   {
    "duration": 10,
    "start_time": "2022-09-07T12:25:37.882Z"
   },
   {
    "duration": 5,
    "start_time": "2022-09-07T12:25:45.993Z"
   },
   {
    "duration": 5,
    "start_time": "2022-09-07T12:25:47.642Z"
   },
   {
    "duration": 4,
    "start_time": "2022-09-07T12:25:48.595Z"
   },
   {
    "duration": 5,
    "start_time": "2022-09-07T12:25:56.321Z"
   },
   {
    "duration": 9,
    "start_time": "2022-09-07T12:25:57.426Z"
   },
   {
    "duration": 10,
    "start_time": "2022-09-07T12:25:58.306Z"
   },
   {
    "duration": 4,
    "start_time": "2022-09-07T12:30:14.670Z"
   },
   {
    "duration": 9,
    "start_time": "2022-09-07T12:35:06.861Z"
   },
   {
    "duration": 1461,
    "start_time": "2022-09-07T12:35:07.934Z"
   },
   {
    "duration": 0,
    "start_time": "2022-09-07T12:35:09.397Z"
   },
   {
    "duration": 40,
    "start_time": "2022-09-07T12:35:39.805Z"
   },
   {
    "duration": 4,
    "start_time": "2022-09-07T12:36:44.697Z"
   },
   {
    "duration": 11,
    "start_time": "2022-09-07T12:36:46.747Z"
   },
   {
    "duration": 40,
    "start_time": "2022-09-07T12:36:52.405Z"
   },
   {
    "duration": 6,
    "start_time": "2022-09-07T12:37:22.864Z"
   },
   {
    "duration": 100,
    "start_time": "2022-09-07T12:46:08.442Z"
   },
   {
    "duration": 45,
    "start_time": "2022-09-07T12:46:08.554Z"
   },
   {
    "duration": 25,
    "start_time": "2022-09-07T12:46:08.601Z"
   },
   {
    "duration": 8,
    "start_time": "2022-09-07T12:46:08.629Z"
   },
   {
    "duration": 1884,
    "start_time": "2022-09-07T12:46:08.639Z"
   },
   {
    "duration": 11,
    "start_time": "2022-09-07T12:46:15.723Z"
   },
   {
    "duration": 41,
    "start_time": "2022-09-07T12:48:13.482Z"
   },
   {
    "duration": 40,
    "start_time": "2022-09-07T13:00:15.005Z"
   },
   {
    "duration": 16,
    "start_time": "2022-09-07T13:00:56.661Z"
   },
   {
    "duration": 28,
    "start_time": "2022-09-07T13:01:09.683Z"
   },
   {
    "duration": 24,
    "start_time": "2022-09-07T13:06:49.411Z"
   },
   {
    "duration": 14,
    "start_time": "2022-09-07T13:07:12.182Z"
   },
   {
    "duration": 14,
    "start_time": "2022-09-07T13:07:20.320Z"
   },
   {
    "duration": 31,
    "start_time": "2022-09-07T13:07:25.700Z"
   },
   {
    "duration": 15,
    "start_time": "2022-09-07T13:12:42.552Z"
   },
   {
    "duration": 9,
    "start_time": "2022-09-07T13:12:47.590Z"
   },
   {
    "duration": 6,
    "start_time": "2022-09-07T13:13:44.058Z"
   },
   {
    "duration": 7,
    "start_time": "2022-09-07T13:16:43.830Z"
   },
   {
    "duration": 164,
    "start_time": "2022-09-07T13:19:00.300Z"
   },
   {
    "duration": 13,
    "start_time": "2022-09-07T13:21:33.011Z"
   },
   {
    "duration": 63,
    "start_time": "2022-09-07T13:29:07.104Z"
   },
   {
    "duration": 40,
    "start_time": "2022-09-07T13:30:26.684Z"
   },
   {
    "duration": 56,
    "start_time": "2022-09-07T13:31:22.465Z"
   },
   {
    "duration": 13,
    "start_time": "2022-09-07T14:00:01.545Z"
   },
   {
    "duration": 12,
    "start_time": "2022-09-07T14:00:17.721Z"
   },
   {
    "duration": 7,
    "start_time": "2022-09-07T14:01:32.139Z"
   },
   {
    "duration": 13,
    "start_time": "2022-09-07T14:01:36.348Z"
   },
   {
    "duration": 6,
    "start_time": "2022-09-07T14:06:04.129Z"
   },
   {
    "duration": 16,
    "start_time": "2022-09-07T14:06:07.333Z"
   },
   {
    "duration": 4,
    "start_time": "2022-09-07T14:06:34.195Z"
   },
   {
    "duration": 17,
    "start_time": "2022-09-07T14:06:35.542Z"
   },
   {
    "duration": 5,
    "start_time": "2022-09-07T14:06:51.999Z"
   },
   {
    "duration": 15,
    "start_time": "2022-09-07T14:06:54.031Z"
   },
   {
    "duration": 15,
    "start_time": "2022-09-07T14:07:01.408Z"
   },
   {
    "duration": 4,
    "start_time": "2022-09-07T14:07:09.473Z"
   },
   {
    "duration": 14,
    "start_time": "2022-09-07T14:07:11.262Z"
   },
   {
    "duration": 95,
    "start_time": "2022-09-07T14:07:18.427Z"
   },
   {
    "duration": 38,
    "start_time": "2022-09-07T14:07:18.524Z"
   },
   {
    "duration": 13,
    "start_time": "2022-09-07T14:07:18.563Z"
   },
   {
    "duration": 21,
    "start_time": "2022-09-07T14:07:18.578Z"
   },
   {
    "duration": 1854,
    "start_time": "2022-09-07T14:07:18.601Z"
   },
   {
    "duration": 6,
    "start_time": "2022-09-07T14:07:24.305Z"
   },
   {
    "duration": 15,
    "start_time": "2022-09-07T14:07:25.925Z"
   },
   {
    "duration": 10,
    "start_time": "2022-09-07T14:28:30.636Z"
   },
   {
    "duration": 13,
    "start_time": "2022-09-07T14:28:33.894Z"
   },
   {
    "duration": 5,
    "start_time": "2022-09-07T14:29:08.826Z"
   },
   {
    "duration": 4,
    "start_time": "2022-09-07T14:29:19.000Z"
   },
   {
    "duration": 18,
    "start_time": "2022-09-07T14:29:19.962Z"
   },
   {
    "duration": 1108,
    "start_time": "2022-09-07T18:54:25.015Z"
   },
   {
    "duration": 59,
    "start_time": "2022-09-07T18:54:26.125Z"
   },
   {
    "duration": 22,
    "start_time": "2022-09-07T18:54:26.187Z"
   },
   {
    "duration": 7,
    "start_time": "2022-09-07T18:54:26.211Z"
   },
   {
    "duration": 2322,
    "start_time": "2022-09-07T18:54:26.220Z"
   },
   {
    "duration": 8,
    "start_time": "2022-09-07T18:54:28.544Z"
   },
   {
    "duration": 6,
    "start_time": "2022-09-07T18:54:28.554Z"
   },
   {
    "duration": 58,
    "start_time": "2022-09-07T18:54:41.162Z"
   },
   {
    "duration": 5,
    "start_time": "2022-09-07T19:10:32.013Z"
   },
   {
    "duration": 14,
    "start_time": "2022-09-07T19:10:51.874Z"
   },
   {
    "duration": 19,
    "start_time": "2022-09-07T19:14:51.569Z"
   },
   {
    "duration": 17,
    "start_time": "2022-09-07T19:14:52.870Z"
   },
   {
    "duration": 3,
    "start_time": "2022-09-07T19:15:37.185Z"
   },
   {
    "duration": 439,
    "start_time": "2022-09-07T19:15:37.940Z"
   },
   {
    "duration": 13,
    "start_time": "2022-09-07T19:16:03.509Z"
   },
   {
    "duration": 9,
    "start_time": "2022-09-07T19:16:14.065Z"
   },
   {
    "duration": 13,
    "start_time": "2022-09-07T19:16:18.783Z"
   },
   {
    "duration": 3,
    "start_time": "2022-09-07T19:16:23.337Z"
   },
   {
    "duration": 7,
    "start_time": "2022-09-07T19:16:24.139Z"
   },
   {
    "duration": 9,
    "start_time": "2022-09-07T19:16:25.134Z"
   },
   {
    "duration": 8,
    "start_time": "2022-09-07T19:17:34.306Z"
   },
   {
    "duration": 8,
    "start_time": "2022-09-07T19:17:38.805Z"
   },
   {
    "duration": 24,
    "start_time": "2022-09-07T19:17:52.625Z"
   },
   {
    "duration": 21,
    "start_time": "2022-09-07T19:17:56.195Z"
   },
   {
    "duration": 22,
    "start_time": "2022-09-07T19:17:56.549Z"
   },
   {
    "duration": 4,
    "start_time": "2022-09-07T19:20:24.230Z"
   },
   {
    "duration": 47,
    "start_time": "2022-09-07T19:20:24.974Z"
   },
   {
    "duration": 5,
    "start_time": "2022-09-07T19:20:31.022Z"
   },
   {
    "duration": 18,
    "start_time": "2022-09-07T19:22:15.446Z"
   },
   {
    "duration": 4,
    "start_time": "2022-09-07T19:22:40.205Z"
   },
   {
    "duration": 31,
    "start_time": "2022-09-07T19:22:40.879Z"
   },
   {
    "duration": 66,
    "start_time": "2022-09-07T19:24:57.793Z"
   },
   {
    "duration": 42,
    "start_time": "2022-09-07T19:45:17.219Z"
   },
   {
    "duration": 79,
    "start_time": "2022-09-07T19:45:46.501Z"
   },
   {
    "duration": 7,
    "start_time": "2022-09-07T19:46:56.014Z"
   },
   {
    "duration": 55,
    "start_time": "2022-09-07T19:47:01.335Z"
   },
   {
    "duration": 21,
    "start_time": "2022-09-07T19:47:45.855Z"
   },
   {
    "duration": 4,
    "start_time": "2022-09-07T19:57:27.666Z"
   },
   {
    "duration": 5,
    "start_time": "2022-09-07T20:00:00.682Z"
   },
   {
    "duration": 6,
    "start_time": "2022-09-07T20:02:12.528Z"
   },
   {
    "duration": 6,
    "start_time": "2022-09-07T20:02:13.672Z"
   },
   {
    "duration": 685,
    "start_time": "2022-09-07T20:04:26.722Z"
   },
   {
    "duration": 4,
    "start_time": "2022-09-07T20:04:59.673Z"
   },
   {
    "duration": 39,
    "start_time": "2022-09-07T20:05:02.593Z"
   },
   {
    "duration": 7,
    "start_time": "2022-09-07T20:05:48.617Z"
   },
   {
    "duration": 7,
    "start_time": "2022-09-07T20:05:49.104Z"
   },
   {
    "duration": 7,
    "start_time": "2022-09-07T20:05:49.568Z"
   },
   {
    "duration": 4,
    "start_time": "2022-09-07T20:05:50.492Z"
   },
   {
    "duration": 46,
    "start_time": "2022-09-07T20:05:50.794Z"
   },
   {
    "duration": 4,
    "start_time": "2022-09-07T20:08:03.844Z"
   },
   {
    "duration": 5,
    "start_time": "2022-09-07T20:11:36.146Z"
   },
   {
    "duration": 92,
    "start_time": "2022-09-07T20:11:55.541Z"
   },
   {
    "duration": 5,
    "start_time": "2022-09-07T20:14:29.378Z"
   },
   {
    "duration": 158,
    "start_time": "2022-09-07T20:14:30.958Z"
   },
   {
    "duration": 4,
    "start_time": "2022-09-07T20:14:41.397Z"
   },
   {
    "duration": 122,
    "start_time": "2022-09-07T20:14:42.219Z"
   },
   {
    "duration": 3,
    "start_time": "2022-09-07T20:15:09.438Z"
   },
   {
    "duration": 1413,
    "start_time": "2022-09-07T20:15:10.120Z"
   },
   {
    "duration": 3,
    "start_time": "2022-09-07T20:15:23.167Z"
   },
   {
    "duration": 427,
    "start_time": "2022-09-07T20:15:24.449Z"
   },
   {
    "duration": 521,
    "start_time": "2022-09-07T20:15:32.369Z"
   },
   {
    "duration": 8,
    "start_time": "2022-09-07T20:15:32.916Z"
   },
   {
    "duration": 7,
    "start_time": "2022-09-07T20:15:56.467Z"
   },
   {
    "duration": 121,
    "start_time": "2022-09-07T20:16:22.212Z"
   },
   {
    "duration": 73,
    "start_time": "2022-09-07T20:16:22.336Z"
   },
   {
    "duration": 21,
    "start_time": "2022-09-07T20:16:22.412Z"
   },
   {
    "duration": 5,
    "start_time": "2022-09-07T20:16:22.435Z"
   },
   {
    "duration": 2174,
    "start_time": "2022-09-07T20:16:22.442Z"
   },
   {
    "duration": 9,
    "start_time": "2022-09-07T20:16:24.618Z"
   },
   {
    "duration": 26,
    "start_time": "2022-09-07T20:16:24.629Z"
   },
   {
    "duration": 36,
    "start_time": "2022-09-07T20:16:24.656Z"
   },
   {
    "duration": 16,
    "start_time": "2022-09-07T20:16:24.695Z"
   },
   {
    "duration": 5,
    "start_time": "2022-09-07T20:16:24.715Z"
   },
   {
    "duration": 18,
    "start_time": "2022-09-07T20:16:24.722Z"
   },
   {
    "duration": 9,
    "start_time": "2022-09-07T20:16:24.742Z"
   },
   {
    "duration": 14,
    "start_time": "2022-09-07T20:16:24.752Z"
   },
   {
    "duration": 39,
    "start_time": "2022-09-07T20:16:24.768Z"
   },
   {
    "duration": 18,
    "start_time": "2022-09-07T20:16:24.809Z"
   },
   {
    "duration": 20,
    "start_time": "2022-09-07T20:16:24.829Z"
   },
   {
    "duration": 50,
    "start_time": "2022-09-07T20:16:24.851Z"
   },
   {
    "duration": 94,
    "start_time": "2022-09-07T20:16:24.903Z"
   },
   {
    "duration": 5,
    "start_time": "2022-09-07T20:16:25.000Z"
   },
   {
    "duration": 14,
    "start_time": "2022-09-07T20:16:25.007Z"
   },
   {
    "duration": 28,
    "start_time": "2022-09-07T20:16:25.023Z"
   },
   {
    "duration": 28,
    "start_time": "2022-09-07T20:16:25.054Z"
   },
   {
    "duration": 8,
    "start_time": "2022-09-07T20:16:25.084Z"
   },
   {
    "duration": 436,
    "start_time": "2022-09-07T20:16:29.911Z"
   },
   {
    "duration": 63,
    "start_time": "2022-09-07T20:16:31.367Z"
   },
   {
    "duration": 6,
    "start_time": "2022-09-07T20:17:45.083Z"
   },
   {
    "duration": 708,
    "start_time": "2022-09-07T20:17:46.220Z"
   },
   {
    "duration": 65,
    "start_time": "2022-09-07T20:17:46.978Z"
   },
   {
    "duration": 5,
    "start_time": "2022-09-07T20:18:25.247Z"
   },
   {
    "duration": 731,
    "start_time": "2022-09-07T20:18:25.879Z"
   },
   {
    "duration": 59,
    "start_time": "2022-09-07T20:18:27.806Z"
   },
   {
    "duration": 4,
    "start_time": "2022-09-07T20:18:54.327Z"
   },
   {
    "duration": 51,
    "start_time": "2022-09-07T20:18:57.327Z"
   },
   {
    "duration": 43,
    "start_time": "2022-09-07T20:19:43.719Z"
   },
   {
    "duration": 39,
    "start_time": "2022-09-07T20:22:47.029Z"
   },
   {
    "duration": 26,
    "start_time": "2022-09-07T20:22:57.215Z"
   },
   {
    "duration": 30,
    "start_time": "2022-09-07T20:23:22.219Z"
   },
   {
    "duration": 31,
    "start_time": "2022-09-07T20:23:35.922Z"
   },
   {
    "duration": 43,
    "start_time": "2022-09-07T20:24:27.679Z"
   },
   {
    "duration": 43,
    "start_time": "2022-09-07T20:24:44.333Z"
   },
   {
    "duration": 38,
    "start_time": "2022-09-07T20:24:52.348Z"
   },
   {
    "duration": 15,
    "start_time": "2022-09-07T20:25:36.923Z"
   },
   {
    "duration": 49,
    "start_time": "2022-09-07T20:25:51.225Z"
   },
   {
    "duration": 15,
    "start_time": "2022-09-07T20:25:59.050Z"
   },
   {
    "duration": 43,
    "start_time": "2022-09-07T20:26:09.258Z"
   },
   {
    "duration": 38,
    "start_time": "2022-09-07T20:26:24.657Z"
   },
   {
    "duration": 34,
    "start_time": "2022-09-07T20:26:58.277Z"
   },
   {
    "duration": 37,
    "start_time": "2022-09-07T20:27:12.142Z"
   },
   {
    "duration": 36,
    "start_time": "2022-09-07T20:27:14.817Z"
   },
   {
    "duration": 45,
    "start_time": "2022-09-07T20:27:21.878Z"
   },
   {
    "duration": 36,
    "start_time": "2022-09-07T20:27:26.867Z"
   },
   {
    "duration": 43,
    "start_time": "2022-09-07T20:27:50.497Z"
   },
   {
    "duration": 34,
    "start_time": "2022-09-07T20:27:51.390Z"
   },
   {
    "duration": 7,
    "start_time": "2022-09-07T20:28:11.522Z"
   },
   {
    "duration": 9,
    "start_time": "2022-09-07T20:28:19.543Z"
   },
   {
    "duration": 9,
    "start_time": "2022-09-07T20:28:29.021Z"
   },
   {
    "duration": 9,
    "start_time": "2022-09-07T20:28:42.666Z"
   },
   {
    "duration": 7,
    "start_time": "2022-09-07T20:32:30.540Z"
   },
   {
    "duration": 10,
    "start_time": "2022-09-07T20:33:27.528Z"
   },
   {
    "duration": 37,
    "start_time": "2022-09-07T20:33:37.112Z"
   },
   {
    "duration": 84,
    "start_time": "2022-09-07T20:33:45.877Z"
   },
   {
    "duration": 7,
    "start_time": "2022-09-07T20:34:31.979Z"
   },
   {
    "duration": 94,
    "start_time": "2022-09-07T20:34:39.814Z"
   },
   {
    "duration": 92,
    "start_time": "2022-09-07T20:35:08.394Z"
   },
   {
    "duration": 40,
    "start_time": "2022-09-07T20:35:08.489Z"
   },
   {
    "duration": 13,
    "start_time": "2022-09-07T20:35:08.531Z"
   },
   {
    "duration": 4,
    "start_time": "2022-09-07T20:35:08.546Z"
   },
   {
    "duration": 1995,
    "start_time": "2022-09-07T20:35:08.552Z"
   },
   {
    "duration": 8,
    "start_time": "2022-09-07T20:35:10.549Z"
   },
   {
    "duration": 9,
    "start_time": "2022-09-07T20:35:10.559Z"
   },
   {
    "duration": 21,
    "start_time": "2022-09-07T20:35:10.570Z"
   },
   {
    "duration": 9,
    "start_time": "2022-09-07T20:35:10.592Z"
   },
   {
    "duration": 4,
    "start_time": "2022-09-07T20:35:10.603Z"
   },
   {
    "duration": 10,
    "start_time": "2022-09-07T20:35:10.608Z"
   },
   {
    "duration": 9,
    "start_time": "2022-09-07T20:35:10.619Z"
   },
   {
    "duration": 14,
    "start_time": "2022-09-07T20:35:10.630Z"
   },
   {
    "duration": 64,
    "start_time": "2022-09-07T20:35:10.645Z"
   },
   {
    "duration": 21,
    "start_time": "2022-09-07T20:35:10.710Z"
   },
   {
    "duration": 5,
    "start_time": "2022-09-07T20:35:10.733Z"
   },
   {
    "duration": 53,
    "start_time": "2022-09-07T20:35:10.740Z"
   },
   {
    "duration": 71,
    "start_time": "2022-09-07T20:35:14.864Z"
   },
   {
    "duration": 7,
    "start_time": "2022-09-07T20:35:23.774Z"
   },
   {
    "duration": 7,
    "start_time": "2022-09-07T20:35:32.938Z"
   },
   {
    "duration": 66,
    "start_time": "2022-09-07T20:35:33.482Z"
   },
   {
    "duration": 15,
    "start_time": "2022-09-07T20:35:45.015Z"
   },
   {
    "duration": 44,
    "start_time": "2022-09-07T20:36:41.492Z"
   },
   {
    "duration": 38,
    "start_time": "2022-09-07T20:36:52.366Z"
   },
   {
    "duration": 10,
    "start_time": "2022-09-07T20:37:49.100Z"
   },
   {
    "duration": 7,
    "start_time": "2022-09-07T20:37:58.430Z"
   },
   {
    "duration": 16,
    "start_time": "2022-09-07T20:38:07.555Z"
   },
   {
    "duration": 108,
    "start_time": "2022-09-07T20:38:16.285Z"
   },
   {
    "duration": 48,
    "start_time": "2022-09-07T20:39:07.940Z"
   },
   {
    "duration": 52,
    "start_time": "2022-09-07T20:39:16.539Z"
   },
   {
    "duration": 36,
    "start_time": "2022-09-07T20:39:35.609Z"
   },
   {
    "duration": 97,
    "start_time": "2022-09-07T20:40:49.989Z"
   },
   {
    "duration": 42,
    "start_time": "2022-09-07T20:40:50.088Z"
   },
   {
    "duration": 13,
    "start_time": "2022-09-07T20:40:50.132Z"
   },
   {
    "duration": 4,
    "start_time": "2022-09-07T20:40:50.148Z"
   },
   {
    "duration": 1968,
    "start_time": "2022-09-07T20:40:50.153Z"
   },
   {
    "duration": 8,
    "start_time": "2022-09-07T20:40:52.123Z"
   },
   {
    "duration": 8,
    "start_time": "2022-09-07T20:40:52.133Z"
   },
   {
    "duration": 11,
    "start_time": "2022-09-07T20:40:52.143Z"
   },
   {
    "duration": 11,
    "start_time": "2022-09-07T20:40:52.156Z"
   },
   {
    "duration": 4,
    "start_time": "2022-09-07T20:40:52.187Z"
   },
   {
    "duration": 8,
    "start_time": "2022-09-07T20:40:52.193Z"
   },
   {
    "duration": 10,
    "start_time": "2022-09-07T20:40:52.202Z"
   },
   {
    "duration": 14,
    "start_time": "2022-09-07T20:40:52.213Z"
   },
   {
    "duration": 23,
    "start_time": "2022-09-07T20:40:52.229Z"
   },
   {
    "duration": 35,
    "start_time": "2022-09-07T20:40:52.254Z"
   },
   {
    "duration": 4,
    "start_time": "2022-09-07T20:40:52.291Z"
   },
   {
    "duration": 41,
    "start_time": "2022-09-07T20:40:52.296Z"
   },
   {
    "duration": 84,
    "start_time": "2022-09-07T20:40:52.339Z"
   },
   {
    "duration": 36,
    "start_time": "2022-09-07T20:40:59.393Z"
   },
   {
    "duration": 8,
    "start_time": "2022-09-07T20:43:12.176Z"
   },
   {
    "duration": 51,
    "start_time": "2022-09-07T20:44:15.314Z"
   },
   {
    "duration": 12,
    "start_time": "2022-09-07T20:46:05.317Z"
   },
   {
    "duration": 82,
    "start_time": "2022-09-07T20:46:07.547Z"
   },
   {
    "duration": 133,
    "start_time": "2022-09-07T20:46:49.873Z"
   },
   {
    "duration": 11,
    "start_time": "2022-09-07T20:46:55.528Z"
   },
   {
    "duration": 92,
    "start_time": "2022-09-07T20:47:19.572Z"
   },
   {
    "duration": 53,
    "start_time": "2022-09-07T20:47:19.667Z"
   },
   {
    "duration": 14,
    "start_time": "2022-09-07T20:47:19.721Z"
   },
   {
    "duration": 4,
    "start_time": "2022-09-07T20:47:19.737Z"
   },
   {
    "duration": 1862,
    "start_time": "2022-09-07T20:47:19.742Z"
   },
   {
    "duration": 9,
    "start_time": "2022-09-07T20:47:21.606Z"
   },
   {
    "duration": 22,
    "start_time": "2022-09-07T20:47:21.616Z"
   },
   {
    "duration": 14,
    "start_time": "2022-09-07T20:47:21.639Z"
   },
   {
    "duration": 10,
    "start_time": "2022-09-07T20:47:21.654Z"
   },
   {
    "duration": 5,
    "start_time": "2022-09-07T20:47:21.686Z"
   },
   {
    "duration": 9,
    "start_time": "2022-09-07T20:47:21.693Z"
   },
   {
    "duration": 12,
    "start_time": "2022-09-07T20:47:21.703Z"
   },
   {
    "duration": 11,
    "start_time": "2022-09-07T20:47:21.716Z"
   },
   {
    "duration": 30,
    "start_time": "2022-09-07T20:47:21.728Z"
   },
   {
    "duration": 32,
    "start_time": "2022-09-07T20:47:21.787Z"
   },
   {
    "duration": 5,
    "start_time": "2022-09-07T20:47:21.821Z"
   },
   {
    "duration": 67,
    "start_time": "2022-09-07T20:47:21.829Z"
   },
   {
    "duration": 70,
    "start_time": "2022-09-07T20:47:21.897Z"
   },
   {
    "duration": 22,
    "start_time": "2022-09-07T20:47:21.969Z"
   },
   {
    "duration": 42,
    "start_time": "2022-09-07T20:47:25.835Z"
   },
   {
    "duration": 11,
    "start_time": "2022-09-07T20:47:31.667Z"
   },
   {
    "duration": 12,
    "start_time": "2022-09-07T20:47:36.083Z"
   },
   {
    "duration": 13,
    "start_time": "2022-09-07T20:48:52.440Z"
   },
   {
    "duration": 12,
    "start_time": "2022-09-07T20:49:27.064Z"
   },
   {
    "duration": 45,
    "start_time": "2022-09-07T20:50:31.996Z"
   },
   {
    "duration": 14,
    "start_time": "2022-09-07T20:53:07.786Z"
   },
   {
    "duration": 77,
    "start_time": "2022-09-07T20:53:17.700Z"
   },
   {
    "duration": 11,
    "start_time": "2022-09-07T20:54:20.116Z"
   },
   {
    "duration": 106,
    "start_time": "2022-09-07T20:54:29.001Z"
   },
   {
    "duration": 50,
    "start_time": "2022-09-07T20:54:29.110Z"
   },
   {
    "duration": 31,
    "start_time": "2022-09-07T20:54:29.162Z"
   },
   {
    "duration": 4,
    "start_time": "2022-09-07T20:54:29.195Z"
   },
   {
    "duration": 2102,
    "start_time": "2022-09-07T20:54:29.201Z"
   },
   {
    "duration": 8,
    "start_time": "2022-09-07T20:54:31.305Z"
   },
   {
    "duration": 25,
    "start_time": "2022-09-07T20:54:31.315Z"
   },
   {
    "duration": 21,
    "start_time": "2022-09-07T20:54:31.342Z"
   },
   {
    "duration": 15,
    "start_time": "2022-09-07T20:54:31.366Z"
   },
   {
    "duration": 15,
    "start_time": "2022-09-07T20:54:31.384Z"
   },
   {
    "duration": 20,
    "start_time": "2022-09-07T20:54:31.401Z"
   },
   {
    "duration": 16,
    "start_time": "2022-09-07T20:54:31.423Z"
   },
   {
    "duration": 25,
    "start_time": "2022-09-07T20:54:31.441Z"
   },
   {
    "duration": 27,
    "start_time": "2022-09-07T20:54:31.468Z"
   },
   {
    "duration": 22,
    "start_time": "2022-09-07T20:54:31.497Z"
   },
   {
    "duration": 8,
    "start_time": "2022-09-07T20:54:31.521Z"
   },
   {
    "duration": 61,
    "start_time": "2022-09-07T20:54:31.532Z"
   },
   {
    "duration": 95,
    "start_time": "2022-09-07T20:54:31.595Z"
   },
   {
    "duration": 10,
    "start_time": "2022-09-07T20:54:31.692Z"
   },
   {
    "duration": 51,
    "start_time": "2022-09-07T20:54:31.704Z"
   },
   {
    "duration": 7,
    "start_time": "2022-09-07T20:54:40.438Z"
   },
   {
    "duration": 11,
    "start_time": "2022-09-07T20:54:42.935Z"
   },
   {
    "duration": 11,
    "start_time": "2022-09-07T20:54:45.213Z"
   },
   {
    "duration": 9,
    "start_time": "2022-09-07T20:54:46.544Z"
   },
   {
    "duration": 56,
    "start_time": "2022-09-07T20:54:56.024Z"
   },
   {
    "duration": 47,
    "start_time": "2022-09-07T20:55:57.118Z"
   },
   {
    "duration": 9,
    "start_time": "2022-09-07T20:56:57.656Z"
   },
   {
    "duration": 69,
    "start_time": "2022-09-07T20:56:58.487Z"
   },
   {
    "duration": 93,
    "start_time": "2022-09-07T21:02:56.933Z"
   },
   {
    "duration": 65,
    "start_time": "2022-09-07T21:02:57.028Z"
   },
   {
    "duration": 21,
    "start_time": "2022-09-07T21:02:57.095Z"
   },
   {
    "duration": 4,
    "start_time": "2022-09-07T21:02:57.119Z"
   },
   {
    "duration": 2060,
    "start_time": "2022-09-07T21:02:57.125Z"
   },
   {
    "duration": 8,
    "start_time": "2022-09-07T21:02:59.188Z"
   },
   {
    "duration": 12,
    "start_time": "2022-09-07T21:02:59.197Z"
   },
   {
    "duration": 12,
    "start_time": "2022-09-07T21:02:59.210Z"
   },
   {
    "duration": 14,
    "start_time": "2022-09-07T21:02:59.223Z"
   },
   {
    "duration": 4,
    "start_time": "2022-09-07T21:02:59.240Z"
   },
   {
    "duration": 12,
    "start_time": "2022-09-07T21:02:59.245Z"
   },
   {
    "duration": 29,
    "start_time": "2022-09-07T21:02:59.259Z"
   },
   {
    "duration": 12,
    "start_time": "2022-09-07T21:02:59.290Z"
   },
   {
    "duration": 36,
    "start_time": "2022-09-07T21:02:59.304Z"
   },
   {
    "duration": 55,
    "start_time": "2022-09-07T21:02:59.342Z"
   },
   {
    "duration": 3,
    "start_time": "2022-09-07T21:02:59.399Z"
   },
   {
    "duration": 38,
    "start_time": "2022-09-07T21:02:59.404Z"
   },
   {
    "duration": 95,
    "start_time": "2022-09-07T21:02:59.443Z"
   },
   {
    "duration": 8,
    "start_time": "2022-09-07T21:02:59.539Z"
   },
   {
    "duration": 58,
    "start_time": "2022-09-07T21:02:59.549Z"
   },
   {
    "duration": 7,
    "start_time": "2022-09-07T21:02:59.609Z"
   },
   {
    "duration": 10,
    "start_time": "2022-09-07T21:02:59.618Z"
   },
   {
    "duration": 8,
    "start_time": "2022-09-07T21:02:59.630Z"
   },
   {
    "duration": 10,
    "start_time": "2022-09-07T21:02:59.640Z"
   },
   {
    "duration": 75,
    "start_time": "2022-09-07T21:02:59.652Z"
   },
   {
    "duration": 9,
    "start_time": "2022-09-07T21:02:59.729Z"
   },
   {
    "duration": 15,
    "start_time": "2022-09-07T21:03:02.028Z"
   },
   {
    "duration": 35,
    "start_time": "2022-09-07T21:03:02.857Z"
   },
   {
    "duration": 9,
    "start_time": "2022-09-07T21:04:17.734Z"
   },
   {
    "duration": 79,
    "start_time": "2022-09-07T21:04:18.517Z"
   },
   {
    "duration": 960,
    "start_time": "2022-09-07T21:05:17.022Z"
   },
   {
    "duration": 0,
    "start_time": "2022-09-07T21:05:17.984Z"
   },
   {
    "duration": 8,
    "start_time": "2022-09-07T21:05:33.830Z"
   },
   {
    "duration": 57,
    "start_time": "2022-09-07T21:05:34.539Z"
   },
   {
    "duration": 107,
    "start_time": "2022-09-07T21:05:42.338Z"
   },
   {
    "duration": 86,
    "start_time": "2022-09-07T21:36:58.184Z"
   },
   {
    "duration": 16,
    "start_time": "2022-09-07T21:37:13.503Z"
   },
   {
    "duration": 4,
    "start_time": "2022-09-07T21:38:18.695Z"
   },
   {
    "duration": 23,
    "start_time": "2022-09-07T21:39:04.766Z"
   },
   {
    "duration": 1059,
    "start_time": "2022-09-08T08:14:39.375Z"
   },
   {
    "duration": 65,
    "start_time": "2022-09-08T08:14:40.437Z"
   },
   {
    "duration": 17,
    "start_time": "2022-09-08T08:14:40.503Z"
   },
   {
    "duration": 4,
    "start_time": "2022-09-08T08:14:40.522Z"
   },
   {
    "duration": 2092,
    "start_time": "2022-09-08T08:14:40.529Z"
   },
   {
    "duration": 8,
    "start_time": "2022-09-08T08:14:42.623Z"
   },
   {
    "duration": 31,
    "start_time": "2022-09-08T08:14:42.633Z"
   },
   {
    "duration": 47,
    "start_time": "2022-09-08T08:14:42.665Z"
   },
   {
    "duration": 13,
    "start_time": "2022-09-08T08:14:42.713Z"
   },
   {
    "duration": 20,
    "start_time": "2022-09-08T08:14:42.727Z"
   },
   {
    "duration": 19,
    "start_time": "2022-09-08T08:14:42.748Z"
   },
   {
    "duration": 20,
    "start_time": "2022-09-08T08:14:42.768Z"
   },
   {
    "duration": 13,
    "start_time": "2022-09-08T08:14:42.790Z"
   },
   {
    "duration": 26,
    "start_time": "2022-09-08T08:14:42.805Z"
   },
   {
    "duration": 19,
    "start_time": "2022-09-08T08:14:42.832Z"
   },
   {
    "duration": 18,
    "start_time": "2022-09-08T08:14:42.853Z"
   },
   {
    "duration": 54,
    "start_time": "2022-09-08T08:14:42.872Z"
   },
   {
    "duration": 92,
    "start_time": "2022-09-08T08:14:42.927Z"
   },
   {
    "duration": 7,
    "start_time": "2022-09-08T08:14:43.021Z"
   },
   {
    "duration": 47,
    "start_time": "2022-09-08T08:14:43.029Z"
   },
   {
    "duration": 6,
    "start_time": "2022-09-08T08:14:43.078Z"
   },
   {
    "duration": 15,
    "start_time": "2022-09-08T08:14:43.085Z"
   },
   {
    "duration": 29,
    "start_time": "2022-09-08T08:14:43.101Z"
   },
   {
    "duration": 35,
    "start_time": "2022-09-08T08:14:43.132Z"
   },
   {
    "duration": 46,
    "start_time": "2022-09-08T08:14:43.169Z"
   },
   {
    "duration": 8,
    "start_time": "2022-09-08T08:14:43.217Z"
   },
   {
    "duration": 41,
    "start_time": "2022-09-08T08:14:43.226Z"
   },
   {
    "duration": 5,
    "start_time": "2022-09-08T08:14:43.268Z"
   },
   {
    "duration": 80,
    "start_time": "2022-09-08T08:14:43.275Z"
   },
   {
    "duration": 4,
    "start_time": "2022-09-08T08:14:43.357Z"
   },
   {
    "duration": 18,
    "start_time": "2022-09-08T08:14:43.363Z"
   },
   {
    "duration": 22,
    "start_time": "2022-09-08T08:14:43.383Z"
   },
   {
    "duration": 29,
    "start_time": "2022-09-08T08:14:43.406Z"
   },
   {
    "duration": 14,
    "start_time": "2022-09-08T08:14:43.437Z"
   },
   {
    "duration": 302,
    "start_time": "2022-09-08T08:14:43.452Z"
   },
   {
    "duration": 4,
    "start_time": "2022-09-08T08:14:43.755Z"
   },
   {
    "duration": 38,
    "start_time": "2022-09-08T08:15:25.731Z"
   },
   {
    "duration": 86,
    "start_time": "2022-09-08T08:16:14.112Z"
   },
   {
    "duration": 36,
    "start_time": "2022-09-08T08:16:14.201Z"
   },
   {
    "duration": 17,
    "start_time": "2022-09-08T08:16:14.238Z"
   },
   {
    "duration": 3,
    "start_time": "2022-09-08T08:16:14.257Z"
   },
   {
    "duration": 1779,
    "start_time": "2022-09-08T08:16:14.261Z"
   },
   {
    "duration": 8,
    "start_time": "2022-09-08T08:16:16.041Z"
   },
   {
    "duration": 8,
    "start_time": "2022-09-08T08:16:16.050Z"
   },
   {
    "duration": 11,
    "start_time": "2022-09-08T08:16:16.059Z"
   },
   {
    "duration": 27,
    "start_time": "2022-09-08T08:16:16.071Z"
   },
   {
    "duration": 4,
    "start_time": "2022-09-08T08:16:16.101Z"
   },
   {
    "duration": 9,
    "start_time": "2022-09-08T08:16:16.106Z"
   },
   {
    "duration": 7,
    "start_time": "2022-09-08T08:16:16.116Z"
   },
   {
    "duration": 9,
    "start_time": "2022-09-08T08:16:16.124Z"
   },
   {
    "duration": 19,
    "start_time": "2022-09-08T08:16:16.135Z"
   },
   {
    "duration": 49,
    "start_time": "2022-09-08T08:16:16.155Z"
   },
   {
    "duration": 4,
    "start_time": "2022-09-08T08:16:16.205Z"
   },
   {
    "duration": 39,
    "start_time": "2022-09-08T08:16:16.210Z"
   },
   {
    "duration": 71,
    "start_time": "2022-09-08T08:16:19.011Z"
   },
   {
    "duration": 7,
    "start_time": "2022-09-08T08:16:32.776Z"
   },
   {
    "duration": 12,
    "start_time": "2022-09-08T08:16:33.403Z"
   },
   {
    "duration": 84,
    "start_time": "2022-09-08T08:17:02.516Z"
   },
   {
    "duration": 35,
    "start_time": "2022-09-08T08:17:02.603Z"
   },
   {
    "duration": 13,
    "start_time": "2022-09-08T08:17:02.640Z"
   },
   {
    "duration": 10,
    "start_time": "2022-09-08T08:17:02.655Z"
   },
   {
    "duration": 1729,
    "start_time": "2022-09-08T08:17:02.667Z"
   },
   {
    "duration": 12,
    "start_time": "2022-09-08T08:17:04.398Z"
   },
   {
    "duration": 35,
    "start_time": "2022-09-08T08:17:04.411Z"
   },
   {
    "duration": 21,
    "start_time": "2022-09-08T08:17:04.449Z"
   },
   {
    "duration": 16,
    "start_time": "2022-09-08T08:17:04.472Z"
   },
   {
    "duration": 4,
    "start_time": "2022-09-08T08:17:04.491Z"
   },
   {
    "duration": 19,
    "start_time": "2022-09-08T08:17:04.496Z"
   },
   {
    "duration": 33,
    "start_time": "2022-09-08T08:17:04.517Z"
   },
   {
    "duration": 17,
    "start_time": "2022-09-08T08:17:04.551Z"
   },
   {
    "duration": 29,
    "start_time": "2022-09-08T08:17:04.570Z"
   },
   {
    "duration": 22,
    "start_time": "2022-09-08T08:17:04.601Z"
   },
   {
    "duration": 13,
    "start_time": "2022-09-08T08:17:04.625Z"
   },
   {
    "duration": 43,
    "start_time": "2022-09-08T08:17:04.640Z"
   },
   {
    "duration": 67,
    "start_time": "2022-09-08T08:17:04.685Z"
   },
   {
    "duration": 7,
    "start_time": "2022-09-08T08:17:04.753Z"
   },
   {
    "duration": 53,
    "start_time": "2022-09-08T08:17:04.761Z"
   },
   {
    "duration": 6,
    "start_time": "2022-09-08T08:17:04.816Z"
   },
   {
    "duration": 10,
    "start_time": "2022-09-08T08:17:04.824Z"
   },
   {
    "duration": 7,
    "start_time": "2022-09-08T08:17:04.836Z"
   },
   {
    "duration": 29,
    "start_time": "2022-09-08T08:17:04.845Z"
   },
   {
    "duration": 9,
    "start_time": "2022-09-08T08:17:07.975Z"
   },
   {
    "duration": 14,
    "start_time": "2022-09-08T08:17:15.188Z"
   },
   {
    "duration": 49,
    "start_time": "2022-09-08T08:17:54.162Z"
   },
   {
    "duration": 8,
    "start_time": "2022-09-08T08:18:10.859Z"
   },
   {
    "duration": 31,
    "start_time": "2022-09-08T08:18:12.735Z"
   },
   {
    "duration": 12,
    "start_time": "2022-09-08T08:18:29.876Z"
   },
   {
    "duration": 7,
    "start_time": "2022-09-08T08:18:47.551Z"
   },
   {
    "duration": 54,
    "start_time": "2022-09-08T08:18:50.113Z"
   },
   {
    "duration": 101,
    "start_time": "2022-09-08T08:19:04.421Z"
   },
   {
    "duration": 47,
    "start_time": "2022-09-08T08:19:04.524Z"
   },
   {
    "duration": 27,
    "start_time": "2022-09-08T08:19:04.574Z"
   },
   {
    "duration": 5,
    "start_time": "2022-09-08T08:19:04.603Z"
   },
   {
    "duration": 1802,
    "start_time": "2022-09-08T08:19:04.611Z"
   },
   {
    "duration": 8,
    "start_time": "2022-09-08T08:19:06.414Z"
   },
   {
    "duration": 10,
    "start_time": "2022-09-08T08:19:06.423Z"
   },
   {
    "duration": 9,
    "start_time": "2022-09-08T08:19:06.434Z"
   },
   {
    "duration": 9,
    "start_time": "2022-09-08T08:19:06.445Z"
   },
   {
    "duration": 6,
    "start_time": "2022-09-08T08:19:06.455Z"
   },
   {
    "duration": 13,
    "start_time": "2022-09-08T08:19:06.462Z"
   },
   {
    "duration": 9,
    "start_time": "2022-09-08T08:19:06.476Z"
   },
   {
    "duration": 8,
    "start_time": "2022-09-08T08:19:06.501Z"
   },
   {
    "duration": 20,
    "start_time": "2022-09-08T08:19:06.511Z"
   },
   {
    "duration": 17,
    "start_time": "2022-09-08T08:19:06.532Z"
   },
   {
    "duration": 4,
    "start_time": "2022-09-08T08:19:06.550Z"
   },
   {
    "duration": 55,
    "start_time": "2022-09-08T08:19:06.556Z"
   },
   {
    "duration": 64,
    "start_time": "2022-09-08T08:19:06.612Z"
   },
   {
    "duration": 22,
    "start_time": "2022-09-08T08:19:06.678Z"
   },
   {
    "duration": 40,
    "start_time": "2022-09-08T08:19:06.702Z"
   },
   {
    "duration": 6,
    "start_time": "2022-09-08T08:19:06.744Z"
   },
   {
    "duration": 14,
    "start_time": "2022-09-08T08:19:06.751Z"
   },
   {
    "duration": 32,
    "start_time": "2022-09-08T08:19:06.767Z"
   },
   {
    "duration": 6,
    "start_time": "2022-09-08T08:19:06.800Z"
   },
   {
    "duration": 46,
    "start_time": "2022-09-08T08:19:06.807Z"
   },
   {
    "duration": 8,
    "start_time": "2022-09-08T08:19:06.854Z"
   },
   {
    "duration": 31,
    "start_time": "2022-09-08T08:19:11.027Z"
   },
   {
    "duration": 12,
    "start_time": "2022-09-08T08:19:19.897Z"
   },
   {
    "duration": 38,
    "start_time": "2022-09-08T08:19:38.755Z"
   },
   {
    "duration": 44,
    "start_time": "2022-09-08T08:20:17.809Z"
   },
   {
    "duration": 42,
    "start_time": "2022-09-08T08:20:40.655Z"
   },
   {
    "duration": 11,
    "start_time": "2022-09-08T08:20:49.876Z"
   },
   {
    "duration": 62,
    "start_time": "2022-09-08T08:20:53.442Z"
   },
   {
    "duration": 90,
    "start_time": "2022-09-08T08:22:53.243Z"
   },
   {
    "duration": 38,
    "start_time": "2022-09-08T08:22:53.335Z"
   },
   {
    "duration": 14,
    "start_time": "2022-09-08T08:22:53.397Z"
   },
   {
    "duration": 26,
    "start_time": "2022-09-08T08:22:53.414Z"
   },
   {
    "duration": 1795,
    "start_time": "2022-09-08T08:22:53.441Z"
   },
   {
    "duration": 10,
    "start_time": "2022-09-08T08:22:55.239Z"
   },
   {
    "duration": 17,
    "start_time": "2022-09-08T08:22:55.251Z"
   },
   {
    "duration": 11,
    "start_time": "2022-09-08T08:22:55.269Z"
   },
   {
    "duration": 7,
    "start_time": "2022-09-08T08:22:55.282Z"
   },
   {
    "duration": 9,
    "start_time": "2022-09-08T08:22:55.300Z"
   },
   {
    "duration": 11,
    "start_time": "2022-09-08T08:22:55.311Z"
   },
   {
    "duration": 13,
    "start_time": "2022-09-08T08:22:55.324Z"
   },
   {
    "duration": 18,
    "start_time": "2022-09-08T08:22:55.338Z"
   },
   {
    "duration": 23,
    "start_time": "2022-09-08T08:22:55.357Z"
   },
   {
    "duration": 17,
    "start_time": "2022-09-08T08:22:55.382Z"
   },
   {
    "duration": 5,
    "start_time": "2022-09-08T08:22:55.401Z"
   },
   {
    "duration": 49,
    "start_time": "2022-09-08T08:22:55.407Z"
   },
   {
    "duration": 73,
    "start_time": "2022-09-08T08:22:55.458Z"
   },
   {
    "duration": 7,
    "start_time": "2022-09-08T08:22:55.533Z"
   },
   {
    "duration": 39,
    "start_time": "2022-09-08T08:22:55.541Z"
   },
   {
    "duration": 18,
    "start_time": "2022-09-08T08:22:55.581Z"
   },
   {
    "duration": 15,
    "start_time": "2022-09-08T08:22:55.601Z"
   },
   {
    "duration": 22,
    "start_time": "2022-09-08T08:22:55.618Z"
   },
   {
    "duration": 8,
    "start_time": "2022-09-08T08:22:55.642Z"
   },
   {
    "duration": 49,
    "start_time": "2022-09-08T08:22:55.652Z"
   },
   {
    "duration": 8,
    "start_time": "2022-09-08T08:22:55.703Z"
   },
   {
    "duration": 63,
    "start_time": "2022-09-08T08:22:55.713Z"
   },
   {
    "duration": 7,
    "start_time": "2022-09-08T08:22:55.779Z"
   },
   {
    "duration": 65,
    "start_time": "2022-09-08T08:22:55.787Z"
   },
   {
    "duration": 3,
    "start_time": "2022-09-08T08:22:55.854Z"
   },
   {
    "duration": 21,
    "start_time": "2022-09-08T08:22:55.859Z"
   },
   {
    "duration": 6,
    "start_time": "2022-09-08T08:22:55.881Z"
   },
   {
    "duration": 24,
    "start_time": "2022-09-08T08:22:55.888Z"
   },
   {
    "duration": 5,
    "start_time": "2022-09-08T08:22:55.913Z"
   },
   {
    "duration": 568,
    "start_time": "2022-09-08T08:22:55.919Z"
   },
   {
    "duration": 3,
    "start_time": "2022-09-08T08:22:56.489Z"
   },
   {
    "duration": 38,
    "start_time": "2022-09-08T08:22:58.684Z"
   },
   {
    "duration": 113,
    "start_time": "2022-09-08T08:25:22.521Z"
   },
   {
    "duration": 146,
    "start_time": "2022-09-08T08:25:31.821Z"
   },
   {
    "duration": 147,
    "start_time": "2022-09-08T08:25:38.384Z"
   },
   {
    "duration": 121,
    "start_time": "2022-09-08T08:25:49.629Z"
   },
   {
    "duration": 2,
    "start_time": "2022-09-08T08:28:52.153Z"
   },
   {
    "duration": 625,
    "start_time": "2022-09-08T08:29:32.585Z"
   },
   {
    "duration": 199,
    "start_time": "2022-09-08T08:29:43.833Z"
   },
   {
    "duration": 102,
    "start_time": "2022-09-08T08:29:54.933Z"
   },
   {
    "duration": 109,
    "start_time": "2022-09-08T08:30:24.289Z"
   },
   {
    "duration": 116,
    "start_time": "2022-09-08T08:30:50.695Z"
   },
   {
    "duration": 132,
    "start_time": "2022-09-08T08:31:06.662Z"
   },
   {
    "duration": 121,
    "start_time": "2022-09-08T08:31:13.847Z"
   },
   {
    "duration": 145,
    "start_time": "2022-09-08T08:31:18.178Z"
   },
   {
    "duration": 114,
    "start_time": "2022-09-08T08:33:06.693Z"
   },
   {
    "duration": 100,
    "start_time": "2022-09-08T08:33:21.285Z"
   },
   {
    "duration": 98,
    "start_time": "2022-09-08T08:33:26.743Z"
   },
   {
    "duration": 111,
    "start_time": "2022-09-08T08:33:31.851Z"
   },
   {
    "duration": 138,
    "start_time": "2022-09-08T08:38:09.414Z"
   },
   {
    "duration": 430,
    "start_time": "2022-09-08T08:39:33.978Z"
   },
   {
    "duration": 382,
    "start_time": "2022-09-08T08:40:04.648Z"
   },
   {
    "duration": 382,
    "start_time": "2022-09-08T08:40:19.958Z"
   },
   {
    "duration": 162,
    "start_time": "2022-09-08T08:40:34.454Z"
   },
   {
    "duration": 130,
    "start_time": "2022-09-08T08:41:03.150Z"
   },
   {
    "duration": 123,
    "start_time": "2022-09-08T08:41:10.799Z"
   },
   {
    "duration": 125,
    "start_time": "2022-09-08T08:43:25.921Z"
   },
   {
    "duration": 176,
    "start_time": "2022-09-08T08:43:41.997Z"
   },
   {
    "duration": 196,
    "start_time": "2022-09-08T08:43:56.041Z"
   },
   {
    "duration": 512,
    "start_time": "2022-09-08T08:44:24.447Z"
   },
   {
    "duration": 14,
    "start_time": "2022-09-08T09:54:28.566Z"
   },
   {
    "duration": 3,
    "start_time": "2022-09-08T09:54:42.660Z"
   },
   {
    "duration": 4,
    "start_time": "2022-09-08T09:54:47.328Z"
   },
   {
    "duration": 3,
    "start_time": "2022-09-08T09:55:02.983Z"
   },
   {
    "duration": 3,
    "start_time": "2022-09-08T09:55:07.639Z"
   },
   {
    "duration": 22,
    "start_time": "2022-09-08T09:55:24.180Z"
   },
   {
    "duration": 38,
    "start_time": "2022-09-08T09:55:30.695Z"
   },
   {
    "duration": 27,
    "start_time": "2022-09-08T09:55:35.373Z"
   },
   {
    "duration": 4,
    "start_time": "2022-09-08T09:58:07.158Z"
   },
   {
    "duration": 25,
    "start_time": "2022-09-08T09:58:29.617Z"
   },
   {
    "duration": 9,
    "start_time": "2022-09-08T09:59:12.704Z"
   },
   {
    "duration": 8,
    "start_time": "2022-09-08T09:59:32.300Z"
   },
   {
    "duration": 8,
    "start_time": "2022-09-08T09:59:44.289Z"
   },
   {
    "duration": 8,
    "start_time": "2022-09-08T10:00:05.837Z"
   },
   {
    "duration": 8,
    "start_time": "2022-09-08T10:00:11.006Z"
   },
   {
    "duration": 30,
    "start_time": "2022-09-08T10:06:04.504Z"
   },
   {
    "duration": 25,
    "start_time": "2022-09-08T10:06:32.776Z"
   },
   {
    "duration": 18,
    "start_time": "2022-09-08T10:06:59.076Z"
   },
   {
    "duration": 17,
    "start_time": "2022-09-08T10:07:39.131Z"
   },
   {
    "duration": 9,
    "start_time": "2022-09-08T10:07:39.639Z"
   },
   {
    "duration": 9,
    "start_time": "2022-09-08T10:07:47.345Z"
   },
   {
    "duration": 15,
    "start_time": "2022-09-08T10:08:37.405Z"
   },
   {
    "duration": 3,
    "start_time": "2022-09-08T10:09:08.755Z"
   },
   {
    "duration": 7,
    "start_time": "2022-09-08T10:09:13.946Z"
   },
   {
    "duration": 16,
    "start_time": "2022-09-08T10:10:32.201Z"
   },
   {
    "duration": 4,
    "start_time": "2022-09-08T10:10:32.800Z"
   },
   {
    "duration": 8,
    "start_time": "2022-09-08T10:10:33.268Z"
   },
   {
    "duration": 8,
    "start_time": "2022-09-08T10:10:43.608Z"
   },
   {
    "duration": 159,
    "start_time": "2022-09-08T10:11:52.938Z"
   },
   {
    "duration": 17,
    "start_time": "2022-09-08T10:15:54.153Z"
   },
   {
    "duration": 3,
    "start_time": "2022-09-08T10:15:55.169Z"
   },
   {
    "duration": 7,
    "start_time": "2022-09-08T10:15:57.409Z"
   },
   {
    "duration": 10,
    "start_time": "2022-09-08T10:23:48.276Z"
   },
   {
    "duration": 13,
    "start_time": "2022-09-08T10:23:58.142Z"
   },
   {
    "duration": 38,
    "start_time": "2022-09-08T10:24:03.743Z"
   },
   {
    "duration": 45,
    "start_time": "2022-09-08T10:26:05.095Z"
   },
   {
    "duration": 12,
    "start_time": "2022-09-08T10:27:06.921Z"
   },
   {
    "duration": 5,
    "start_time": "2022-09-08T10:27:10.859Z"
   },
   {
    "duration": 3,
    "start_time": "2022-09-08T10:27:37.830Z"
   },
   {
    "duration": 4,
    "start_time": "2022-09-08T10:29:41.879Z"
   },
   {
    "duration": 7,
    "start_time": "2022-09-08T10:29:51.386Z"
   },
   {
    "duration": 18,
    "start_time": "2022-09-08T10:30:59.507Z"
   },
   {
    "duration": 8,
    "start_time": "2022-09-08T10:31:44.358Z"
   },
   {
    "duration": 18,
    "start_time": "2022-09-08T10:31:45.502Z"
   },
   {
    "duration": 6,
    "start_time": "2022-09-08T10:31:48.950Z"
   },
   {
    "duration": 5,
    "start_time": "2022-09-08T10:32:02.773Z"
   },
   {
    "duration": 4,
    "start_time": "2022-09-08T10:32:47.898Z"
   },
   {
    "duration": 3,
    "start_time": "2022-09-08T10:35:11.148Z"
   },
   {
    "duration": 6,
    "start_time": "2022-09-08T10:35:12.060Z"
   },
   {
    "duration": 13,
    "start_time": "2022-09-08T10:35:12.732Z"
   },
   {
    "duration": 4,
    "start_time": "2022-09-08T10:35:15.499Z"
   },
   {
    "duration": 32,
    "start_time": "2022-09-08T10:35:52.268Z"
   },
   {
    "duration": 33,
    "start_time": "2022-09-08T10:36:12.730Z"
   },
   {
    "duration": 8,
    "start_time": "2022-09-08T10:37:00.573Z"
   },
   {
    "duration": 14,
    "start_time": "2022-09-08T10:37:01.398Z"
   },
   {
    "duration": 5,
    "start_time": "2022-09-08T10:37:03.269Z"
   },
   {
    "duration": 18,
    "start_time": "2022-09-08T10:37:09.789Z"
   },
   {
    "duration": 947,
    "start_time": "2022-09-08T10:37:23.182Z"
   },
   {
    "duration": 970,
    "start_time": "2022-09-08T10:37:49.700Z"
   },
   {
    "duration": 1124,
    "start_time": "2022-09-08T10:38:08.850Z"
   },
   {
    "duration": 53,
    "start_time": "2022-09-08T10:38:16.580Z"
   },
   {
    "duration": 7,
    "start_time": "2022-09-08T10:40:59.909Z"
   },
   {
    "duration": 31,
    "start_time": "2022-09-08T10:41:07.921Z"
   },
   {
    "duration": 102,
    "start_time": "2022-09-08T10:43:33.400Z"
   },
   {
    "duration": 29,
    "start_time": "2022-09-08T10:43:33.505Z"
   },
   {
    "duration": 18,
    "start_time": "2022-09-08T10:43:33.535Z"
   },
   {
    "duration": 3,
    "start_time": "2022-09-08T10:43:33.555Z"
   },
   {
    "duration": 2240,
    "start_time": "2022-09-08T10:43:33.560Z"
   },
   {
    "duration": 14,
    "start_time": "2022-09-08T10:43:35.801Z"
   },
   {
    "duration": 30,
    "start_time": "2022-09-08T10:43:35.821Z"
   },
   {
    "duration": 13,
    "start_time": "2022-09-08T10:43:35.852Z"
   },
   {
    "duration": 10,
    "start_time": "2022-09-08T10:43:35.867Z"
   },
   {
    "duration": 3,
    "start_time": "2022-09-08T10:43:35.878Z"
   },
   {
    "duration": 7,
    "start_time": "2022-09-08T10:43:35.883Z"
   },
   {
    "duration": 7,
    "start_time": "2022-09-08T10:43:35.891Z"
   },
   {
    "duration": 9,
    "start_time": "2022-09-08T10:43:35.899Z"
   },
   {
    "duration": 28,
    "start_time": "2022-09-08T10:43:35.925Z"
   },
   {
    "duration": 17,
    "start_time": "2022-09-08T10:43:35.954Z"
   },
   {
    "duration": 3,
    "start_time": "2022-09-08T10:43:35.973Z"
   },
   {
    "duration": 44,
    "start_time": "2022-09-08T10:43:35.977Z"
   },
   {
    "duration": 63,
    "start_time": "2022-09-08T10:43:36.022Z"
   },
   {
    "duration": 9,
    "start_time": "2022-09-08T10:43:36.087Z"
   },
   {
    "duration": 51,
    "start_time": "2022-09-08T10:43:36.097Z"
   },
   {
    "duration": 6,
    "start_time": "2022-09-08T10:43:36.149Z"
   },
   {
    "duration": 9,
    "start_time": "2022-09-08T10:43:36.157Z"
   },
   {
    "duration": 14,
    "start_time": "2022-09-08T10:43:36.167Z"
   },
   {
    "duration": 10,
    "start_time": "2022-09-08T10:43:36.182Z"
   },
   {
    "duration": 44,
    "start_time": "2022-09-08T10:43:36.193Z"
   },
   {
    "duration": 11,
    "start_time": "2022-09-08T10:43:36.239Z"
   },
   {
    "duration": 32,
    "start_time": "2022-09-08T10:43:36.251Z"
   },
   {
    "duration": 8,
    "start_time": "2022-09-08T10:43:36.285Z"
   },
   {
    "duration": 75,
    "start_time": "2022-09-08T10:43:36.294Z"
   },
   {
    "duration": 4,
    "start_time": "2022-09-08T10:43:36.370Z"
   },
   {
    "duration": 8,
    "start_time": "2022-09-08T10:43:36.376Z"
   },
   {
    "duration": 12,
    "start_time": "2022-09-08T10:43:36.385Z"
   },
   {
    "duration": 22,
    "start_time": "2022-09-08T10:43:36.398Z"
   },
   {
    "duration": 4,
    "start_time": "2022-09-08T10:43:36.421Z"
   },
   {
    "duration": 512,
    "start_time": "2022-09-08T10:43:36.427Z"
   },
   {
    "duration": 4,
    "start_time": "2022-09-08T10:43:36.941Z"
   },
   {
    "duration": 39,
    "start_time": "2022-09-08T10:43:36.946Z"
   },
   {
    "duration": 2,
    "start_time": "2022-09-08T10:43:36.986Z"
   },
   {
    "duration": 133,
    "start_time": "2022-09-08T10:43:36.989Z"
   },
   {
    "duration": 176,
    "start_time": "2022-09-08T10:43:37.124Z"
   },
   {
    "duration": 20,
    "start_time": "2022-09-08T10:43:37.311Z"
   },
   {
    "duration": 7,
    "start_time": "2022-09-08T10:43:37.332Z"
   },
   {
    "duration": 12,
    "start_time": "2022-09-08T10:43:37.340Z"
   },
   {
    "duration": 6,
    "start_time": "2022-09-08T10:43:37.353Z"
   },
   {
    "duration": 6,
    "start_time": "2022-09-08T10:43:48.445Z"
   },
   {
    "duration": 5,
    "start_time": "2022-09-08T10:44:49.059Z"
   },
   {
    "duration": 36,
    "start_time": "2022-09-08T10:45:04.920Z"
   },
   {
    "duration": 545,
    "start_time": "2022-09-08T10:45:44.275Z"
   },
   {
    "duration": 46,
    "start_time": "2022-09-08T10:45:44.822Z"
   },
   {
    "duration": 12,
    "start_time": "2022-09-08T10:45:44.870Z"
   },
   {
    "duration": 13,
    "start_time": "2022-09-08T10:45:44.884Z"
   },
   {
    "duration": 2150,
    "start_time": "2022-09-08T10:45:44.898Z"
   },
   {
    "duration": 10,
    "start_time": "2022-09-08T10:45:47.050Z"
   },
   {
    "duration": 15,
    "start_time": "2022-09-08T10:45:47.062Z"
   },
   {
    "duration": 15,
    "start_time": "2022-09-08T10:45:47.079Z"
   },
   {
    "duration": 24,
    "start_time": "2022-09-08T10:45:47.095Z"
   },
   {
    "duration": 3,
    "start_time": "2022-09-08T10:45:47.122Z"
   },
   {
    "duration": 11,
    "start_time": "2022-09-08T10:45:47.127Z"
   },
   {
    "duration": 11,
    "start_time": "2022-09-08T10:45:47.139Z"
   },
   {
    "duration": 14,
    "start_time": "2022-09-08T10:45:47.152Z"
   },
   {
    "duration": 29,
    "start_time": "2022-09-08T10:45:47.167Z"
   },
   {
    "duration": 27,
    "start_time": "2022-09-08T10:45:47.198Z"
   },
   {
    "duration": 13,
    "start_time": "2022-09-08T10:45:47.226Z"
   },
   {
    "duration": 40,
    "start_time": "2022-09-08T10:45:47.240Z"
   },
   {
    "duration": 76,
    "start_time": "2022-09-08T10:45:47.282Z"
   },
   {
    "duration": 9,
    "start_time": "2022-09-08T10:45:47.360Z"
   },
   {
    "duration": 61,
    "start_time": "2022-09-08T10:45:47.370Z"
   },
   {
    "duration": 6,
    "start_time": "2022-09-08T10:45:47.432Z"
   },
   {
    "duration": 13,
    "start_time": "2022-09-08T10:45:47.439Z"
   },
   {
    "duration": 8,
    "start_time": "2022-09-08T10:45:47.454Z"
   },
   {
    "duration": 8,
    "start_time": "2022-09-08T10:45:47.464Z"
   },
   {
    "duration": 56,
    "start_time": "2022-09-08T10:45:47.473Z"
   },
   {
    "duration": 7,
    "start_time": "2022-09-08T10:45:47.531Z"
   },
   {
    "duration": 32,
    "start_time": "2022-09-08T10:45:47.540Z"
   },
   {
    "duration": 7,
    "start_time": "2022-09-08T10:45:47.575Z"
   },
   {
    "duration": 92,
    "start_time": "2022-09-08T10:45:47.583Z"
   },
   {
    "duration": 4,
    "start_time": "2022-09-08T10:45:47.676Z"
   },
   {
    "duration": 12,
    "start_time": "2022-09-08T10:45:47.681Z"
   },
   {
    "duration": 5,
    "start_time": "2022-09-08T10:45:47.694Z"
   },
   {
    "duration": 19,
    "start_time": "2022-09-08T10:45:47.700Z"
   },
   {
    "duration": 6,
    "start_time": "2022-09-08T10:45:47.720Z"
   },
   {
    "duration": 464,
    "start_time": "2022-09-08T10:45:47.728Z"
   },
   {
    "duration": 4,
    "start_time": "2022-09-08T10:45:48.194Z"
   },
   {
    "duration": 83,
    "start_time": "2022-09-08T10:45:48.199Z"
   },
   {
    "duration": 3,
    "start_time": "2022-09-08T10:45:48.284Z"
   },
   {
    "duration": 133,
    "start_time": "2022-09-08T10:45:48.288Z"
   },
   {
    "duration": 168,
    "start_time": "2022-09-08T10:45:48.423Z"
   },
   {
    "duration": 18,
    "start_time": "2022-09-08T10:45:48.592Z"
   },
   {
    "duration": 6,
    "start_time": "2022-09-08T10:45:48.612Z"
   },
   {
    "duration": 16,
    "start_time": "2022-09-08T10:45:48.619Z"
   },
   {
    "duration": 11,
    "start_time": "2022-09-08T10:45:48.637Z"
   },
   {
    "duration": 10,
    "start_time": "2022-09-08T10:45:55.911Z"
   },
   {
    "duration": 6,
    "start_time": "2022-09-08T10:45:56.396Z"
   },
   {
    "duration": 36,
    "start_time": "2022-09-08T10:45:56.824Z"
   },
   {
    "duration": 115,
    "start_time": "2022-09-08T10:47:19.478Z"
   },
   {
    "duration": 289,
    "start_time": "2022-09-08T10:48:01.365Z"
   },
   {
    "duration": 178,
    "start_time": "2022-09-08T10:48:29.651Z"
   },
   {
    "duration": 179,
    "start_time": "2022-09-08T10:49:16.740Z"
   },
   {
    "duration": 182,
    "start_time": "2022-09-08T10:50:35.670Z"
   },
   {
    "duration": 179,
    "start_time": "2022-09-08T10:50:40.875Z"
   },
   {
    "duration": 189,
    "start_time": "2022-09-08T10:50:54.638Z"
   },
   {
    "duration": 100,
    "start_time": "2022-09-08T10:51:15.971Z"
   },
   {
    "duration": 186,
    "start_time": "2022-09-08T10:51:21.234Z"
   },
   {
    "duration": 3,
    "start_time": "2022-09-08T10:52:39.352Z"
   },
   {
    "duration": 6,
    "start_time": "2022-09-08T10:52:39.787Z"
   },
   {
    "duration": 269,
    "start_time": "2022-09-08T10:52:40.207Z"
   },
   {
    "duration": 5,
    "start_time": "2022-09-08T10:52:43.258Z"
   },
   {
    "duration": 31,
    "start_time": "2022-09-08T10:52:51.533Z"
   },
   {
    "duration": 166,
    "start_time": "2022-09-08T10:53:20.635Z"
   },
   {
    "duration": 222,
    "start_time": "2022-09-08T10:53:28.559Z"
   },
   {
    "duration": 227,
    "start_time": "2022-09-08T10:53:43.942Z"
   },
   {
    "duration": 51,
    "start_time": "2022-09-08T10:54:25.405Z"
   },
   {
    "duration": 215,
    "start_time": "2022-09-08T10:55:50.845Z"
   },
   {
    "duration": 5,
    "start_time": "2022-09-08T10:56:10.138Z"
   },
   {
    "duration": 5,
    "start_time": "2022-09-08T11:26:30.895Z"
   },
   {
    "duration": 219,
    "start_time": "2022-09-08T11:31:51.428Z"
   },
   {
    "duration": 31,
    "start_time": "2022-09-08T11:32:38.363Z"
   },
   {
    "duration": 4,
    "start_time": "2022-09-08T11:33:25.895Z"
   },
   {
    "duration": 182,
    "start_time": "2022-09-08T11:36:38.065Z"
   },
   {
    "duration": 173,
    "start_time": "2022-09-08T11:36:49.325Z"
   },
   {
    "duration": 275,
    "start_time": "2022-09-08T11:37:06.300Z"
   },
   {
    "duration": 155,
    "start_time": "2022-09-08T11:37:16.532Z"
   },
   {
    "duration": 196,
    "start_time": "2022-09-08T11:37:27.351Z"
   },
   {
    "duration": 191,
    "start_time": "2022-09-08T11:37:39.350Z"
   },
   {
    "duration": 168,
    "start_time": "2022-09-08T11:40:45.237Z"
   },
   {
    "duration": 156,
    "start_time": "2022-09-08T11:42:08.495Z"
   },
   {
    "duration": 159,
    "start_time": "2022-09-08T11:43:43.549Z"
   },
   {
    "duration": 5,
    "start_time": "2022-09-08T11:44:54.238Z"
   },
   {
    "duration": 5,
    "start_time": "2022-09-08T11:44:57.147Z"
   },
   {
    "duration": 4,
    "start_time": "2022-09-08T11:45:03.712Z"
   },
   {
    "duration": 6,
    "start_time": "2022-09-08T11:45:33.294Z"
   },
   {
    "duration": 148,
    "start_time": "2022-09-08T11:59:19.326Z"
   },
   {
    "duration": 130,
    "start_time": "2022-09-08T11:59:27.085Z"
   },
   {
    "duration": 177,
    "start_time": "2022-09-08T11:59:30.537Z"
   },
   {
    "duration": 159,
    "start_time": "2022-09-08T11:59:53.994Z"
   },
   {
    "duration": 5,
    "start_time": "2022-09-08T12:01:31.881Z"
   },
   {
    "duration": 6,
    "start_time": "2022-09-08T12:01:44.117Z"
   },
   {
    "duration": 10,
    "start_time": "2022-09-08T12:02:00.431Z"
   },
   {
    "duration": 157,
    "start_time": "2022-09-08T12:03:43.796Z"
   },
   {
    "duration": 130,
    "start_time": "2022-09-08T12:04:01.399Z"
   },
   {
    "duration": 135,
    "start_time": "2022-09-08T12:04:16.195Z"
   },
   {
    "duration": 247,
    "start_time": "2022-09-08T12:04:31.022Z"
   },
   {
    "duration": 153,
    "start_time": "2022-09-08T12:05:43.361Z"
   },
   {
    "duration": 163,
    "start_time": "2022-09-08T12:06:39.555Z"
   },
   {
    "duration": 158,
    "start_time": "2022-09-08T12:06:45.490Z"
   },
   {
    "duration": 146,
    "start_time": "2022-09-08T12:07:03.567Z"
   },
   {
    "duration": 142,
    "start_time": "2022-09-08T12:07:28.459Z"
   },
   {
    "duration": 171,
    "start_time": "2022-09-08T12:10:51.271Z"
   },
   {
    "duration": 192,
    "start_time": "2022-09-08T12:11:01.021Z"
   },
   {
    "duration": 131,
    "start_time": "2022-09-08T12:11:32.927Z"
   },
   {
    "duration": 129,
    "start_time": "2022-09-08T12:12:42.338Z"
   },
   {
    "duration": 177,
    "start_time": "2022-09-08T12:12:56.388Z"
   },
   {
    "duration": 137,
    "start_time": "2022-09-08T12:13:03.851Z"
   },
   {
    "duration": 165,
    "start_time": "2022-09-08T12:20:43.272Z"
   },
   {
    "duration": 11,
    "start_time": "2022-09-08T12:23:46.385Z"
   },
   {
    "duration": 10,
    "start_time": "2022-09-08T12:27:54.927Z"
   },
   {
    "duration": 756,
    "start_time": "2022-09-08T12:28:22.554Z"
   },
   {
    "duration": 98,
    "start_time": "2022-09-08T12:29:15.642Z"
   },
   {
    "duration": 13,
    "start_time": "2022-09-08T12:29:38.544Z"
   },
   {
    "duration": 12,
    "start_time": "2022-09-08T12:30:21.221Z"
   },
   {
    "duration": 805,
    "start_time": "2022-09-08T12:30:23.107Z"
   },
   {
    "duration": 13,
    "start_time": "2022-09-08T12:32:08.233Z"
   },
   {
    "duration": 21,
    "start_time": "2022-09-08T12:32:32.386Z"
   },
   {
    "duration": 14,
    "start_time": "2022-09-08T12:32:32.904Z"
   },
   {
    "duration": 973,
    "start_time": "2022-09-08T12:33:31.986Z"
   },
   {
    "duration": 10,
    "start_time": "2022-09-08T12:34:38.315Z"
   },
   {
    "duration": 15,
    "start_time": "2022-09-08T12:36:27.626Z"
   },
   {
    "duration": 12,
    "start_time": "2022-09-08T12:38:02.307Z"
   },
   {
    "duration": 8,
    "start_time": "2022-09-08T12:38:05.519Z"
   },
   {
    "duration": 368,
    "start_time": "2022-09-08T12:39:30.028Z"
   },
   {
    "duration": 513,
    "start_time": "2022-09-08T12:40:30.008Z"
   },
   {
    "duration": 591,
    "start_time": "2022-09-08T12:41:17.525Z"
   },
   {
    "duration": 735,
    "start_time": "2022-09-08T12:41:42.002Z"
   },
   {
    "duration": 1333,
    "start_time": "2022-09-08T12:44:13.247Z"
   },
   {
    "duration": 1339,
    "start_time": "2022-09-08T12:44:44.556Z"
   },
   {
    "duration": 1158,
    "start_time": "2022-09-08T12:45:51.829Z"
   },
   {
    "duration": 319,
    "start_time": "2022-09-08T12:46:06.264Z"
   },
   {
    "duration": 3,
    "start_time": "2022-09-08T12:54:19.995Z"
   },
   {
    "duration": 4,
    "start_time": "2022-09-08T12:55:00.630Z"
   },
   {
    "duration": 457,
    "start_time": "2022-09-08T12:55:02.088Z"
   },
   {
    "duration": 29,
    "start_time": "2022-09-08T12:55:04.744Z"
   },
   {
    "duration": 651,
    "start_time": "2022-09-08T12:55:26.010Z"
   },
   {
    "duration": 464,
    "start_time": "2022-09-08T12:57:14.041Z"
   },
   {
    "duration": 34,
    "start_time": "2022-09-08T12:57:17.825Z"
   },
   {
    "duration": 10,
    "start_time": "2022-09-08T12:58:15.945Z"
   },
   {
    "duration": 1738,
    "start_time": "2022-09-08T13:00:33.164Z"
   },
   {
    "duration": 32,
    "start_time": "2022-09-08T13:00:38.414Z"
   },
   {
    "duration": 1573,
    "start_time": "2022-09-08T13:00:54.186Z"
   },
   {
    "duration": 30,
    "start_time": "2022-09-08T13:00:58.976Z"
   },
   {
    "duration": 4,
    "start_time": "2022-09-08T13:02:14.827Z"
   },
   {
    "duration": 1652,
    "start_time": "2022-09-08T13:02:16.837Z"
   },
   {
    "duration": 28,
    "start_time": "2022-09-08T13:02:21.512Z"
   },
   {
    "duration": 3,
    "start_time": "2022-09-08T13:04:03.848Z"
   },
   {
    "duration": 645,
    "start_time": "2022-09-08T13:04:17.769Z"
   },
   {
    "duration": 31,
    "start_time": "2022-09-08T13:04:20.905Z"
   },
   {
    "duration": 86,
    "start_time": "2022-09-08T13:04:39.050Z"
   },
   {
    "duration": 33,
    "start_time": "2022-09-08T13:04:39.138Z"
   },
   {
    "duration": 36,
    "start_time": "2022-09-08T13:04:39.173Z"
   },
   {
    "duration": 2,
    "start_time": "2022-09-08T13:04:39.212Z"
   },
   {
    "duration": 1784,
    "start_time": "2022-09-08T13:04:39.216Z"
   },
   {
    "duration": 8,
    "start_time": "2022-09-08T13:04:41.002Z"
   },
   {
    "duration": 11,
    "start_time": "2022-09-08T13:04:41.011Z"
   },
   {
    "duration": 9,
    "start_time": "2022-09-08T13:04:41.024Z"
   },
   {
    "duration": 8,
    "start_time": "2022-09-08T13:04:41.035Z"
   },
   {
    "duration": 3,
    "start_time": "2022-09-08T13:04:41.046Z"
   },
   {
    "duration": 8,
    "start_time": "2022-09-08T13:04:41.050Z"
   },
   {
    "duration": 6,
    "start_time": "2022-09-08T13:04:41.059Z"
   },
   {
    "duration": 7,
    "start_time": "2022-09-08T13:04:41.066Z"
   },
   {
    "duration": 50,
    "start_time": "2022-09-08T13:04:41.075Z"
   },
   {
    "duration": 16,
    "start_time": "2022-09-08T13:04:41.126Z"
   },
   {
    "duration": 4,
    "start_time": "2022-09-08T13:04:41.144Z"
   },
   {
    "duration": 36,
    "start_time": "2022-09-08T13:04:41.149Z"
   },
   {
    "duration": 75,
    "start_time": "2022-09-08T13:04:41.187Z"
   },
   {
    "duration": 8,
    "start_time": "2022-09-08T13:04:41.264Z"
   },
   {
    "duration": 42,
    "start_time": "2022-09-08T13:04:41.274Z"
   },
   {
    "duration": 7,
    "start_time": "2022-09-08T13:04:41.318Z"
   },
   {
    "duration": 9,
    "start_time": "2022-09-08T13:04:41.327Z"
   },
   {
    "duration": 6,
    "start_time": "2022-09-08T13:04:41.338Z"
   },
   {
    "duration": 6,
    "start_time": "2022-09-08T13:04:41.345Z"
   },
   {
    "duration": 26,
    "start_time": "2022-09-08T13:04:41.352Z"
   },
   {
    "duration": 8,
    "start_time": "2022-09-08T13:04:41.408Z"
   },
   {
    "duration": 25,
    "start_time": "2022-09-08T13:04:41.418Z"
   },
   {
    "duration": 8,
    "start_time": "2022-09-08T13:04:41.447Z"
   },
   {
    "duration": 72,
    "start_time": "2022-09-08T13:04:41.456Z"
   },
   {
    "duration": 4,
    "start_time": "2022-09-08T13:04:41.531Z"
   },
   {
    "duration": 9,
    "start_time": "2022-09-08T13:04:41.536Z"
   },
   {
    "duration": 6,
    "start_time": "2022-09-08T13:04:41.547Z"
   },
   {
    "duration": 12,
    "start_time": "2022-09-08T13:04:41.555Z"
   },
   {
    "duration": 3,
    "start_time": "2022-09-08T13:04:45.128Z"
   },
   {
    "duration": 29,
    "start_time": "2022-09-08T13:04:49.610Z"
   },
   {
    "duration": 10535,
    "start_time": "2022-09-08T13:04:57.553Z"
   },
   {
    "duration": 32,
    "start_time": "2022-09-08T13:05:17.979Z"
   },
   {
    "duration": 4,
    "start_time": "2022-09-08T13:07:14.207Z"
   },
   {
    "duration": 10393,
    "start_time": "2022-09-08T13:07:16.968Z"
   },
   {
    "duration": 29,
    "start_time": "2022-09-08T13:07:30.538Z"
   },
   {
    "duration": 3,
    "start_time": "2022-09-08T13:08:13.770Z"
   },
   {
    "duration": 491,
    "start_time": "2022-09-08T13:08:14.250Z"
   },
   {
    "duration": 31,
    "start_time": "2022-09-08T13:08:17.088Z"
   },
   {
    "duration": 10,
    "start_time": "2022-09-08T13:08:46.310Z"
   },
   {
    "duration": 10,
    "start_time": "2022-09-08T13:08:53.305Z"
   },
   {
    "duration": 136,
    "start_time": "2022-09-08T13:20:19.649Z"
   },
   {
    "duration": 34,
    "start_time": "2022-09-08T13:20:22.585Z"
   },
   {
    "duration": 92,
    "start_time": "2022-09-08T13:20:47.580Z"
   },
   {
    "duration": 39,
    "start_time": "2022-09-08T13:20:47.674Z"
   },
   {
    "duration": 13,
    "start_time": "2022-09-08T13:20:47.714Z"
   },
   {
    "duration": 3,
    "start_time": "2022-09-08T13:20:47.728Z"
   },
   {
    "duration": 1706,
    "start_time": "2022-09-08T13:20:47.733Z"
   },
   {
    "duration": 7,
    "start_time": "2022-09-08T13:20:49.440Z"
   },
   {
    "duration": 6,
    "start_time": "2022-09-08T13:20:49.449Z"
   },
   {
    "duration": 8,
    "start_time": "2022-09-08T13:20:49.456Z"
   },
   {
    "duration": 7,
    "start_time": "2022-09-08T13:20:49.466Z"
   },
   {
    "duration": 3,
    "start_time": "2022-09-08T13:20:49.475Z"
   },
   {
    "duration": 31,
    "start_time": "2022-09-08T13:20:49.479Z"
   },
   {
    "duration": 6,
    "start_time": "2022-09-08T13:20:49.511Z"
   },
   {
    "duration": 9,
    "start_time": "2022-09-08T13:20:49.518Z"
   },
   {
    "duration": 19,
    "start_time": "2022-09-08T13:20:49.529Z"
   },
   {
    "duration": 16,
    "start_time": "2022-09-08T13:20:49.549Z"
   },
   {
    "duration": 3,
    "start_time": "2022-09-08T13:20:49.567Z"
   },
   {
    "duration": 61,
    "start_time": "2022-09-08T13:20:49.571Z"
   },
   {
    "duration": 61,
    "start_time": "2022-09-08T13:20:49.633Z"
   },
   {
    "duration": 16,
    "start_time": "2022-09-08T13:20:49.696Z"
   },
   {
    "duration": 27,
    "start_time": "2022-09-08T13:20:49.714Z"
   },
   {
    "duration": 6,
    "start_time": "2022-09-08T13:20:49.742Z"
   },
   {
    "duration": 7,
    "start_time": "2022-09-08T13:20:49.750Z"
   },
   {
    "duration": 8,
    "start_time": "2022-09-08T13:20:49.758Z"
   },
   {
    "duration": 42,
    "start_time": "2022-09-08T13:20:49.767Z"
   },
   {
    "duration": 25,
    "start_time": "2022-09-08T13:20:49.810Z"
   },
   {
    "duration": 8,
    "start_time": "2022-09-08T13:20:49.836Z"
   },
   {
    "duration": 31,
    "start_time": "2022-09-08T13:20:49.845Z"
   },
   {
    "duration": 7,
    "start_time": "2022-09-08T13:20:49.879Z"
   },
   {
    "duration": 72,
    "start_time": "2022-09-08T13:20:49.888Z"
   },
   {
    "duration": 3,
    "start_time": "2022-09-08T13:20:49.962Z"
   },
   {
    "duration": 9,
    "start_time": "2022-09-08T13:20:49.967Z"
   },
   {
    "duration": 9,
    "start_time": "2022-09-08T13:20:49.977Z"
   },
   {
    "duration": 5,
    "start_time": "2022-09-08T13:20:49.987Z"
   },
   {
    "duration": 4,
    "start_time": "2022-09-08T13:20:52.017Z"
   },
   {
    "duration": 633,
    "start_time": "2022-09-08T13:20:53.837Z"
   },
   {
    "duration": 40,
    "start_time": "2022-09-08T13:20:56.521Z"
   },
   {
    "duration": 7,
    "start_time": "2022-09-08T13:21:39.186Z"
   },
   {
    "duration": 9,
    "start_time": "2022-09-08T13:21:53.930Z"
   },
   {
    "duration": 1309,
    "start_time": "2022-09-08T13:22:09.792Z"
   },
   {
    "duration": 1366,
    "start_time": "2022-09-08T13:22:25.005Z"
   },
   {
    "duration": 7,
    "start_time": "2022-09-08T13:25:08.254Z"
   },
   {
    "duration": 7512,
    "start_time": "2022-09-08T13:25:19.287Z"
   },
   {
    "duration": 1301,
    "start_time": "2022-09-08T13:26:42.414Z"
   },
   {
    "duration": 983,
    "start_time": "2022-09-08T13:30:16.486Z"
   },
   {
    "duration": 1554,
    "start_time": "2022-09-08T13:30:27.377Z"
   },
   {
    "duration": 6,
    "start_time": "2022-09-08T13:31:41.452Z"
   },
   {
    "duration": 1206,
    "start_time": "2022-09-08T13:31:42.354Z"
   },
   {
    "duration": 1275,
    "start_time": "2022-09-08T13:33:16.353Z"
   },
   {
    "duration": 6,
    "start_time": "2022-09-08T13:37:02.652Z"
   },
   {
    "duration": 8,
    "start_time": "2022-09-08T13:37:03.088Z"
   },
   {
    "duration": 1281,
    "start_time": "2022-09-08T13:37:04.111Z"
   },
   {
    "duration": 10,
    "start_time": "2022-09-08T13:42:59.840Z"
   },
   {
    "duration": 8,
    "start_time": "2022-09-08T13:44:47.199Z"
   },
   {
    "duration": 7,
    "start_time": "2022-09-08T13:45:01.233Z"
   },
   {
    "duration": 1248,
    "start_time": "2022-09-08T13:45:02.939Z"
   },
   {
    "duration": 8,
    "start_time": "2022-09-08T13:49:40.163Z"
   },
   {
    "duration": 11,
    "start_time": "2022-09-08T14:07:48.483Z"
   },
   {
    "duration": 7,
    "start_time": "2022-09-08T14:08:02.946Z"
   },
   {
    "duration": 58,
    "start_time": "2022-09-08T14:08:04.261Z"
   },
   {
    "duration": 1027,
    "start_time": "2022-09-08T14:08:52.197Z"
   },
   {
    "duration": 5,
    "start_time": "2022-09-08T14:10:05.589Z"
   },
   {
    "duration": 55,
    "start_time": "2022-09-08T14:10:06.280Z"
   },
   {
    "duration": 2413,
    "start_time": "2022-09-08T14:10:09.240Z"
   },
   {
    "duration": 13,
    "start_time": "2022-09-08T14:12:29.752Z"
   },
   {
    "duration": 7,
    "start_time": "2022-09-08T14:12:41.428Z"
   },
   {
    "duration": 6,
    "start_time": "2022-09-08T14:13:04.751Z"
   },
   {
    "duration": 543,
    "start_time": "2022-09-08T14:14:48.878Z"
   },
   {
    "duration": 51,
    "start_time": "2022-09-08T14:14:49.423Z"
   },
   {
    "duration": 14,
    "start_time": "2022-09-08T14:14:49.476Z"
   },
   {
    "duration": 3,
    "start_time": "2022-09-08T14:14:49.492Z"
   },
   {
    "duration": 2071,
    "start_time": "2022-09-08T14:14:49.497Z"
   },
   {
    "duration": 10,
    "start_time": "2022-09-08T14:14:51.570Z"
   },
   {
    "duration": 18,
    "start_time": "2022-09-08T14:14:51.581Z"
   },
   {
    "duration": 20,
    "start_time": "2022-09-08T14:14:51.600Z"
   },
   {
    "duration": 12,
    "start_time": "2022-09-08T14:14:51.622Z"
   },
   {
    "duration": 14,
    "start_time": "2022-09-08T14:14:51.635Z"
   },
   {
    "duration": 19,
    "start_time": "2022-09-08T14:14:51.650Z"
   },
   {
    "duration": 12,
    "start_time": "2022-09-08T14:14:51.670Z"
   },
   {
    "duration": 8,
    "start_time": "2022-09-08T14:14:51.684Z"
   },
   {
    "duration": 33,
    "start_time": "2022-09-08T14:14:51.695Z"
   },
   {
    "duration": 23,
    "start_time": "2022-09-08T14:14:51.729Z"
   },
   {
    "duration": 25,
    "start_time": "2022-09-08T14:14:51.753Z"
   },
   {
    "duration": 57,
    "start_time": "2022-09-08T14:14:51.780Z"
   },
   {
    "duration": 82,
    "start_time": "2022-09-08T14:14:51.838Z"
   },
   {
    "duration": 8,
    "start_time": "2022-09-08T14:14:51.922Z"
   },
   {
    "duration": 42,
    "start_time": "2022-09-08T14:14:51.931Z"
   },
   {
    "duration": 5,
    "start_time": "2022-09-08T14:14:51.975Z"
   },
   {
    "duration": 19,
    "start_time": "2022-09-08T14:14:51.981Z"
   },
   {
    "duration": 14,
    "start_time": "2022-09-08T14:14:52.002Z"
   },
   {
    "duration": 10,
    "start_time": "2022-09-08T14:14:52.017Z"
   },
   {
    "duration": 48,
    "start_time": "2022-09-08T14:14:52.030Z"
   },
   {
    "duration": 8,
    "start_time": "2022-09-08T14:14:52.079Z"
   },
   {
    "duration": 75,
    "start_time": "2022-09-08T14:14:52.089Z"
   },
   {
    "duration": 7,
    "start_time": "2022-09-08T14:14:52.166Z"
   },
   {
    "duration": 29,
    "start_time": "2022-09-08T14:14:52.175Z"
   },
   {
    "duration": 9,
    "start_time": "2022-09-08T14:14:52.205Z"
   },
   {
    "duration": 68,
    "start_time": "2022-09-08T14:14:52.215Z"
   },
   {
    "duration": 3,
    "start_time": "2022-09-08T14:14:52.284Z"
   },
   {
    "duration": 36,
    "start_time": "2022-09-08T14:14:52.288Z"
   },
   {
    "duration": 9,
    "start_time": "2022-09-08T14:14:52.326Z"
   },
   {
    "duration": 5,
    "start_time": "2022-09-08T14:14:52.337Z"
   },
   {
    "duration": 4,
    "start_time": "2022-09-08T14:14:52.344Z"
   },
   {
    "duration": 514,
    "start_time": "2022-09-08T14:14:52.350Z"
   },
   {
    "duration": 4,
    "start_time": "2022-09-08T14:14:52.866Z"
   },
   {
    "duration": 48,
    "start_time": "2022-09-08T14:14:52.871Z"
   },
   {
    "duration": 7,
    "start_time": "2022-09-08T14:14:52.921Z"
   },
   {
    "duration": 55,
    "start_time": "2022-09-08T14:14:52.931Z"
   },
   {
    "duration": 2264,
    "start_time": "2022-09-08T14:14:53.009Z"
   },
   {
    "duration": 269,
    "start_time": "2022-09-08T14:14:55.274Z"
   },
   {
    "duration": 178,
    "start_time": "2022-09-08T14:14:55.544Z"
   },
   {
    "duration": 164,
    "start_time": "2022-09-08T14:14:55.724Z"
   },
   {
    "duration": 143,
    "start_time": "2022-09-08T14:14:55.890Z"
   },
   {
    "duration": 9,
    "start_time": "2022-09-08T14:14:56.035Z"
   },
   {
    "duration": 16,
    "start_time": "2022-09-08T14:14:56.046Z"
   },
   {
    "duration": 1380,
    "start_time": "2022-09-08T14:14:56.064Z"
   },
   {
    "duration": 17,
    "start_time": "2022-09-08T14:15:03.021Z"
   },
   {
    "duration": 12,
    "start_time": "2022-09-08T14:15:04.007Z"
   },
   {
    "duration": 8,
    "start_time": "2022-09-08T14:15:05.221Z"
   },
   {
    "duration": 2,
    "start_time": "2022-09-08T14:15:25.590Z"
   },
   {
    "duration": 7,
    "start_time": "2022-09-08T14:15:27.178Z"
   },
   {
    "duration": 38,
    "start_time": "2022-09-08T14:15:27.647Z"
   },
   {
    "duration": 182,
    "start_time": "2022-09-08T14:15:34.098Z"
   },
   {
    "duration": 182,
    "start_time": "2022-09-08T14:15:42.437Z"
   },
   {
    "duration": 5,
    "start_time": "2022-09-08T14:15:50.432Z"
   },
   {
    "duration": 5,
    "start_time": "2022-09-08T14:16:26.921Z"
   },
   {
    "duration": 2141,
    "start_time": "2022-09-08T14:19:53.270Z"
   },
   {
    "duration": 74,
    "start_time": "2022-09-08T15:34:50.288Z"
   },
   {
    "duration": 144,
    "start_time": "2022-09-08T15:34:58.377Z"
   },
   {
    "duration": 240,
    "start_time": "2022-09-08T15:35:24.033Z"
   },
   {
    "duration": 494,
    "start_time": "2022-09-08T16:06:18.758Z"
   },
   {
    "duration": 56,
    "start_time": "2022-09-08T16:06:19.254Z"
   },
   {
    "duration": 15,
    "start_time": "2022-09-08T16:06:19.312Z"
   },
   {
    "duration": 4,
    "start_time": "2022-09-08T16:06:19.330Z"
   },
   {
    "duration": 1948,
    "start_time": "2022-09-08T16:06:19.336Z"
   },
   {
    "duration": 10,
    "start_time": "2022-09-08T16:06:21.286Z"
   },
   {
    "duration": 8,
    "start_time": "2022-09-08T16:06:21.297Z"
   },
   {
    "duration": 13,
    "start_time": "2022-09-08T16:06:21.306Z"
   },
   {
    "duration": 11,
    "start_time": "2022-09-08T16:06:21.320Z"
   },
   {
    "duration": 6,
    "start_time": "2022-09-08T16:06:21.333Z"
   },
   {
    "duration": 7,
    "start_time": "2022-09-08T16:06:21.340Z"
   },
   {
    "duration": 5,
    "start_time": "2022-09-08T16:06:21.348Z"
   },
   {
    "duration": 11,
    "start_time": "2022-09-08T16:06:21.354Z"
   },
   {
    "duration": 30,
    "start_time": "2022-09-08T16:06:21.366Z"
   },
   {
    "duration": 22,
    "start_time": "2022-09-08T16:06:21.398Z"
   },
   {
    "duration": 3,
    "start_time": "2022-09-08T16:06:21.422Z"
   },
   {
    "duration": 39,
    "start_time": "2022-09-08T16:06:21.426Z"
   },
   {
    "duration": 80,
    "start_time": "2022-09-08T16:06:21.467Z"
   },
   {
    "duration": 7,
    "start_time": "2022-09-08T16:06:21.548Z"
   },
   {
    "duration": 32,
    "start_time": "2022-09-08T16:06:21.556Z"
   },
   {
    "duration": 19,
    "start_time": "2022-09-08T16:06:21.590Z"
   },
   {
    "duration": 7,
    "start_time": "2022-09-08T16:06:21.610Z"
   },
   {
    "duration": 7,
    "start_time": "2022-09-08T16:06:21.618Z"
   },
   {
    "duration": 7,
    "start_time": "2022-09-08T16:06:21.626Z"
   },
   {
    "duration": 42,
    "start_time": "2022-09-08T16:06:21.634Z"
   },
   {
    "duration": 38,
    "start_time": "2022-09-08T16:06:21.678Z"
   },
   {
    "duration": 31,
    "start_time": "2022-09-08T16:06:21.717Z"
   },
   {
    "duration": 7,
    "start_time": "2022-09-08T16:06:21.751Z"
   },
   {
    "duration": 7,
    "start_time": "2022-09-08T16:06:21.759Z"
   },
   {
    "duration": 7,
    "start_time": "2022-09-08T16:06:21.767Z"
   },
   {
    "duration": 85,
    "start_time": "2022-09-08T16:06:21.775Z"
   },
   {
    "duration": 3,
    "start_time": "2022-09-08T16:06:21.861Z"
   },
   {
    "duration": 6,
    "start_time": "2022-09-08T16:06:21.866Z"
   },
   {
    "duration": 4,
    "start_time": "2022-09-08T16:06:21.873Z"
   },
   {
    "duration": 5,
    "start_time": "2022-09-08T16:06:21.878Z"
   },
   {
    "duration": 5,
    "start_time": "2022-09-08T16:06:21.884Z"
   },
   {
    "duration": 459,
    "start_time": "2022-09-08T16:06:21.911Z"
   },
   {
    "duration": 3,
    "start_time": "2022-09-08T16:06:22.372Z"
   },
   {
    "duration": 42,
    "start_time": "2022-09-08T16:06:22.377Z"
   },
   {
    "duration": 6,
    "start_time": "2022-09-08T16:06:22.420Z"
   },
   {
    "duration": 48,
    "start_time": "2022-09-08T16:06:22.427Z"
   },
   {
    "duration": 2003,
    "start_time": "2022-09-08T16:06:22.477Z"
   },
   {
    "duration": 276,
    "start_time": "2022-09-08T16:06:24.482Z"
   },
   {
    "duration": 159,
    "start_time": "2022-09-08T16:06:24.760Z"
   },
   {
    "duration": 134,
    "start_time": "2022-09-08T16:06:24.921Z"
   },
   {
    "duration": 7,
    "start_time": "2022-09-08T16:06:25.057Z"
   },
   {
    "duration": 6,
    "start_time": "2022-09-08T16:06:25.066Z"
   },
   {
    "duration": 1336,
    "start_time": "2022-09-08T16:06:25.073Z"
   },
   {
    "duration": 18,
    "start_time": "2022-09-08T16:06:26.411Z"
   },
   {
    "duration": 5,
    "start_time": "2022-09-08T16:06:26.430Z"
   },
   {
    "duration": 13,
    "start_time": "2022-09-08T16:06:26.436Z"
   },
   {
    "duration": 6,
    "start_time": "2022-09-08T16:06:26.450Z"
   },
   {
    "duration": 12,
    "start_time": "2022-09-08T16:06:26.457Z"
   },
   {
    "duration": 48,
    "start_time": "2022-09-08T16:06:26.471Z"
   },
   {
    "duration": 203,
    "start_time": "2022-09-08T16:06:26.521Z"
   },
   {
    "duration": 5,
    "start_time": "2022-09-08T16:06:26.726Z"
   },
   {
    "duration": 16,
    "start_time": "2022-09-08T16:06:26.732Z"
   },
   {
    "duration": 437,
    "start_time": "2022-09-08T21:10:38.203Z"
   },
   {
    "duration": 44,
    "start_time": "2022-09-08T21:10:38.642Z"
   },
   {
    "duration": 12,
    "start_time": "2022-09-08T21:10:38.688Z"
   },
   {
    "duration": 3,
    "start_time": "2022-09-08T21:10:38.701Z"
   },
   {
    "duration": 1926,
    "start_time": "2022-09-08T21:10:38.706Z"
   },
   {
    "duration": 7,
    "start_time": "2022-09-08T21:10:40.634Z"
   },
   {
    "duration": 12,
    "start_time": "2022-09-08T21:10:40.643Z"
   },
   {
    "duration": 7,
    "start_time": "2022-09-08T21:10:40.657Z"
   },
   {
    "duration": 12,
    "start_time": "2022-09-08T21:10:40.665Z"
   },
   {
    "duration": 3,
    "start_time": "2022-09-08T21:10:40.679Z"
   },
   {
    "duration": 8,
    "start_time": "2022-09-08T21:10:40.683Z"
   },
   {
    "duration": 5,
    "start_time": "2022-09-08T21:10:40.692Z"
   },
   {
    "duration": 8,
    "start_time": "2022-09-08T21:10:40.699Z"
   },
   {
    "duration": 54,
    "start_time": "2022-09-08T21:10:40.708Z"
   },
   {
    "duration": 15,
    "start_time": "2022-09-08T21:10:40.764Z"
   },
   {
    "duration": 3,
    "start_time": "2022-09-08T21:10:40.781Z"
   },
   {
    "duration": 35,
    "start_time": "2022-09-08T21:10:40.786Z"
   },
   {
    "duration": 88,
    "start_time": "2022-09-08T21:10:40.823Z"
   },
   {
    "duration": 7,
    "start_time": "2022-09-08T21:10:40.913Z"
   },
   {
    "duration": 50,
    "start_time": "2022-09-08T21:10:40.922Z"
   },
   {
    "duration": 5,
    "start_time": "2022-09-08T21:10:40.974Z"
   },
   {
    "duration": 7,
    "start_time": "2022-09-08T21:10:40.981Z"
   },
   {
    "duration": 7,
    "start_time": "2022-09-08T21:10:40.989Z"
   },
   {
    "duration": 8,
    "start_time": "2022-09-08T21:10:40.997Z"
   },
   {
    "duration": 65,
    "start_time": "2022-09-08T21:10:41.007Z"
   },
   {
    "duration": 9,
    "start_time": "2022-09-08T21:10:41.073Z"
   },
   {
    "duration": 31,
    "start_time": "2022-09-08T21:10:41.084Z"
   },
   {
    "duration": 8,
    "start_time": "2022-09-08T21:10:41.119Z"
   },
   {
    "duration": 27,
    "start_time": "2022-09-08T21:10:41.129Z"
   },
   {
    "duration": 7,
    "start_time": "2022-09-08T21:10:41.158Z"
   },
   {
    "duration": 63,
    "start_time": "2022-09-08T21:10:41.166Z"
   },
   {
    "duration": 4,
    "start_time": "2022-09-08T21:10:41.231Z"
   },
   {
    "duration": 7,
    "start_time": "2022-09-08T21:10:41.255Z"
   },
   {
    "duration": 6,
    "start_time": "2022-09-08T21:10:41.264Z"
   },
   {
    "duration": 5,
    "start_time": "2022-09-08T21:10:41.272Z"
   },
   {
    "duration": 7,
    "start_time": "2022-09-08T21:10:41.279Z"
   },
   {
    "duration": 449,
    "start_time": "2022-09-08T21:10:41.287Z"
   },
   {
    "duration": 3,
    "start_time": "2022-09-08T21:10:41.738Z"
   },
   {
    "duration": 47,
    "start_time": "2022-09-08T21:10:41.742Z"
   },
   {
    "duration": 6,
    "start_time": "2022-09-08T21:10:41.790Z"
   },
   {
    "duration": 61,
    "start_time": "2022-09-08T21:10:41.798Z"
   },
   {
    "duration": 1977,
    "start_time": "2022-09-08T21:10:41.860Z"
   },
   {
    "duration": 241,
    "start_time": "2022-09-08T21:10:43.839Z"
   },
   {
    "duration": 147,
    "start_time": "2022-09-08T21:10:44.081Z"
   },
   {
    "duration": 140,
    "start_time": "2022-09-08T21:10:44.230Z"
   },
   {
    "duration": 8,
    "start_time": "2022-09-08T21:10:44.372Z"
   },
   {
    "duration": 7,
    "start_time": "2022-09-08T21:10:44.381Z"
   },
   {
    "duration": 1180,
    "start_time": "2022-09-08T21:10:44.389Z"
   },
   {
    "duration": 16,
    "start_time": "2022-09-08T21:10:45.570Z"
   },
   {
    "duration": 4,
    "start_time": "2022-09-08T21:10:45.587Z"
   },
   {
    "duration": 12,
    "start_time": "2022-09-08T21:10:45.592Z"
   },
   {
    "duration": 4,
    "start_time": "2022-09-08T21:10:45.605Z"
   },
   {
    "duration": 10,
    "start_time": "2022-09-08T21:10:45.611Z"
   },
   {
    "duration": 49,
    "start_time": "2022-09-08T21:10:45.623Z"
   },
   {
    "duration": 175,
    "start_time": "2022-09-08T21:10:45.673Z"
   },
   {
    "duration": 8,
    "start_time": "2022-09-08T21:10:45.849Z"
   },
   {
    "duration": 5,
    "start_time": "2022-09-08T21:10:45.858Z"
   },
   {
    "duration": 15,
    "start_time": "2022-09-08T21:30:52.556Z"
   },
   {
    "duration": 1034,
    "start_time": "2022-09-09T11:04:54.642Z"
   },
   {
    "duration": 54,
    "start_time": "2022-09-09T11:04:55.678Z"
   },
   {
    "duration": 14,
    "start_time": "2022-09-09T11:04:55.733Z"
   },
   {
    "duration": 3,
    "start_time": "2022-09-09T11:04:55.749Z"
   },
   {
    "duration": 2286,
    "start_time": "2022-09-09T11:05:00.866Z"
   },
   {
    "duration": 115,
    "start_time": "2022-09-09T11:07:40.903Z"
   },
   {
    "duration": 2,
    "start_time": "2022-09-09T11:08:02.194Z"
   },
   {
    "duration": 33,
    "start_time": "2022-09-09T11:08:02.805Z"
   },
   {
    "duration": 2,
    "start_time": "2022-09-09T11:08:08.671Z"
   },
   {
    "duration": 92,
    "start_time": "2022-09-09T11:08:11.179Z"
   },
   {
    "duration": 66,
    "start_time": "2022-09-09T11:08:11.273Z"
   },
   {
    "duration": 13,
    "start_time": "2022-09-09T11:08:11.341Z"
   },
   {
    "duration": 3,
    "start_time": "2022-09-09T11:08:11.356Z"
   },
   {
    "duration": 1873,
    "start_time": "2022-09-09T11:08:11.361Z"
   },
   {
    "duration": 8,
    "start_time": "2022-09-09T11:08:13.236Z"
   },
   {
    "duration": 8,
    "start_time": "2022-09-09T11:08:13.245Z"
   },
   {
    "duration": 11,
    "start_time": "2022-09-09T11:08:13.254Z"
   },
   {
    "duration": 11,
    "start_time": "2022-09-09T11:08:13.266Z"
   },
   {
    "duration": 4,
    "start_time": "2022-09-09T11:08:13.279Z"
   },
   {
    "duration": 9,
    "start_time": "2022-09-09T11:08:13.309Z"
   },
   {
    "duration": 25,
    "start_time": "2022-09-09T11:08:13.320Z"
   },
   {
    "duration": 12,
    "start_time": "2022-09-09T11:08:13.346Z"
   },
   {
    "duration": 19,
    "start_time": "2022-09-09T11:08:13.359Z"
   },
   {
    "duration": 17,
    "start_time": "2022-09-09T11:08:13.379Z"
   },
   {
    "duration": 13,
    "start_time": "2022-09-09T11:08:13.398Z"
   },
   {
    "duration": 43,
    "start_time": "2022-09-09T11:08:13.412Z"
   },
   {
    "duration": 78,
    "start_time": "2022-09-09T11:08:13.457Z"
   },
   {
    "duration": 8,
    "start_time": "2022-09-09T11:08:13.537Z"
   },
   {
    "duration": 35,
    "start_time": "2022-09-09T11:08:13.547Z"
   },
   {
    "duration": 6,
    "start_time": "2022-09-09T11:08:13.583Z"
   },
   {
    "duration": 32,
    "start_time": "2022-09-09T11:08:13.590Z"
   },
   {
    "duration": 2,
    "start_time": "2022-09-09T11:08:13.624Z"
   },
   {
    "duration": 2,
    "start_time": "2022-09-09T11:08:16.057Z"
   },
   {
    "duration": 34,
    "start_time": "2022-09-09T11:08:16.602Z"
   },
   {
    "duration": 16,
    "start_time": "2022-09-09T11:09:00.731Z"
   },
   {
    "duration": 17,
    "start_time": "2022-09-09T11:09:09.064Z"
   },
   {
    "duration": 71,
    "start_time": "2022-09-09T11:09:17.261Z"
   },
   {
    "duration": 41,
    "start_time": "2022-09-09T11:09:59.767Z"
   },
   {
    "duration": 16,
    "start_time": "2022-09-09T11:10:22.109Z"
   },
   {
    "duration": 4,
    "start_time": "2022-09-09T11:10:54.679Z"
   },
   {
    "duration": 45,
    "start_time": "2022-09-09T11:10:59.649Z"
   },
   {
    "duration": 16,
    "start_time": "2022-09-09T11:11:40.269Z"
   },
   {
    "duration": 3,
    "start_time": "2022-09-09T11:12:32.646Z"
   },
   {
    "duration": 62,
    "start_time": "2022-09-09T11:17:27.985Z"
   },
   {
    "duration": 1214,
    "start_time": "2022-09-09T11:41:17.260Z"
   },
   {
    "duration": 96,
    "start_time": "2022-09-09T11:41:30.954Z"
   },
   {
    "duration": 45,
    "start_time": "2022-09-09T11:41:31.051Z"
   },
   {
    "duration": 32,
    "start_time": "2022-09-09T11:41:31.098Z"
   },
   {
    "duration": 19,
    "start_time": "2022-09-09T11:41:31.131Z"
   },
   {
    "duration": 1868,
    "start_time": "2022-09-09T11:41:31.152Z"
   },
   {
    "duration": 9,
    "start_time": "2022-09-09T11:41:33.024Z"
   },
   {
    "duration": 13,
    "start_time": "2022-09-09T11:41:33.034Z"
   },
   {
    "duration": 11,
    "start_time": "2022-09-09T11:41:33.049Z"
   },
   {
    "duration": 15,
    "start_time": "2022-09-09T11:41:33.061Z"
   },
   {
    "duration": 8,
    "start_time": "2022-09-09T11:41:33.078Z"
   },
   {
    "duration": 5,
    "start_time": "2022-09-09T11:41:33.087Z"
   },
   {
    "duration": 22,
    "start_time": "2022-09-09T11:41:33.093Z"
   },
   {
    "duration": 18,
    "start_time": "2022-09-09T11:41:33.116Z"
   },
   {
    "duration": 13,
    "start_time": "2022-09-09T11:41:33.136Z"
   },
   {
    "duration": 1242,
    "start_time": "2022-09-09T11:41:36.821Z"
   },
   {
    "duration": 969,
    "start_time": "2022-09-09T11:41:52.853Z"
   },
   {
    "duration": 961,
    "start_time": "2022-09-09T11:42:06.723Z"
   },
   {
    "duration": 1362,
    "start_time": "2022-09-09T11:42:14.607Z"
   },
   {
    "duration": 8,
    "start_time": "2022-09-09T11:44:07.545Z"
   },
   {
    "duration": 2,
    "start_time": "2022-09-09T11:44:25.657Z"
   },
   {
    "duration": 1217,
    "start_time": "2022-09-09T11:44:26.285Z"
   },
   {
    "duration": 1205,
    "start_time": "2022-09-09T11:44:39.229Z"
   },
   {
    "duration": 16,
    "start_time": "2022-09-09T11:51:29.974Z"
   },
   {
    "duration": 15,
    "start_time": "2022-09-09T11:51:50.822Z"
   },
   {
    "duration": 5,
    "start_time": "2022-09-09T11:52:44.578Z"
   },
   {
    "duration": 16,
    "start_time": "2022-09-09T11:52:51.138Z"
   },
   {
    "duration": 20,
    "start_time": "2022-09-09T11:53:08.757Z"
   },
   {
    "duration": 5,
    "start_time": "2022-09-09T11:53:10.354Z"
   },
   {
    "duration": 481,
    "start_time": "2022-09-09T12:00:36.550Z"
   },
   {
    "duration": 51,
    "start_time": "2022-09-09T12:00:37.033Z"
   },
   {
    "duration": 34,
    "start_time": "2022-09-09T12:00:37.085Z"
   },
   {
    "duration": 7,
    "start_time": "2022-09-09T12:00:37.120Z"
   },
   {
    "duration": 2119,
    "start_time": "2022-09-09T12:00:37.129Z"
   },
   {
    "duration": 9,
    "start_time": "2022-09-09T12:00:39.250Z"
   },
   {
    "duration": 31,
    "start_time": "2022-09-09T12:00:39.260Z"
   },
   {
    "duration": 23,
    "start_time": "2022-09-09T12:00:39.293Z"
   },
   {
    "duration": 64,
    "start_time": "2022-09-09T12:00:39.317Z"
   },
   {
    "duration": 10,
    "start_time": "2022-09-09T12:00:39.383Z"
   },
   {
    "duration": 5,
    "start_time": "2022-09-09T12:00:39.394Z"
   },
   {
    "duration": 32,
    "start_time": "2022-09-09T12:00:39.400Z"
   },
   {
    "duration": 16,
    "start_time": "2022-09-09T12:00:39.434Z"
   },
   {
    "duration": 10,
    "start_time": "2022-09-09T12:00:39.453Z"
   },
   {
    "duration": 14,
    "start_time": "2022-09-09T12:00:39.464Z"
   },
   {
    "duration": 1284,
    "start_time": "2022-09-09T12:00:39.480Z"
   },
   {
    "duration": 1214,
    "start_time": "2022-09-09T12:00:40.765Z"
   },
   {
    "duration": 22,
    "start_time": "2022-09-09T12:00:41.980Z"
   },
   {
    "duration": 25,
    "start_time": "2022-09-09T12:00:42.009Z"
   },
   {
    "duration": 4,
    "start_time": "2022-09-09T12:00:42.035Z"
   },
   {
    "duration": 39,
    "start_time": "2022-09-09T12:00:42.040Z"
   },
   {
    "duration": 83,
    "start_time": "2022-09-09T12:00:42.080Z"
   },
   {
    "duration": 8,
    "start_time": "2022-09-09T12:00:42.165Z"
   },
   {
    "duration": 53,
    "start_time": "2022-09-09T12:00:42.175Z"
   },
   {
    "duration": 6,
    "start_time": "2022-09-09T12:00:42.230Z"
   },
   {
    "duration": 8,
    "start_time": "2022-09-09T12:00:42.238Z"
   },
   {
    "duration": 16,
    "start_time": "2022-09-09T12:00:42.248Z"
   },
   {
    "duration": 4,
    "start_time": "2022-09-09T12:00:42.266Z"
   },
   {
    "duration": 52,
    "start_time": "2022-09-09T12:00:42.272Z"
   },
   {
    "duration": 11,
    "start_time": "2022-09-09T12:00:42.326Z"
   },
   {
    "duration": 54,
    "start_time": "2022-09-09T12:00:42.338Z"
   },
   {
    "duration": 8,
    "start_time": "2022-09-09T12:00:42.393Z"
   },
   {
    "duration": 70,
    "start_time": "2022-09-09T12:00:42.402Z"
   },
   {
    "duration": 8,
    "start_time": "2022-09-09T12:00:42.473Z"
   },
   {
    "duration": 15,
    "start_time": "2022-09-09T12:00:42.482Z"
   },
   {
    "duration": 16,
    "start_time": "2022-09-09T12:00:42.499Z"
   },
   {
    "duration": 83,
    "start_time": "2022-09-09T12:00:42.522Z"
   },
   {
    "duration": 26,
    "start_time": "2022-09-09T12:00:42.607Z"
   },
   {
    "duration": 7,
    "start_time": "2022-09-09T12:00:42.635Z"
   },
   {
    "duration": 11,
    "start_time": "2022-09-09T12:00:42.643Z"
   },
   {
    "duration": 17,
    "start_time": "2022-09-09T12:00:42.658Z"
   },
   {
    "duration": 11,
    "start_time": "2022-09-09T12:00:42.676Z"
   },
   {
    "duration": 16,
    "start_time": "2022-09-09T12:00:42.689Z"
   },
   {
    "duration": 22,
    "start_time": "2022-09-09T12:00:42.707Z"
   },
   {
    "duration": 594,
    "start_time": "2022-09-09T12:00:42.731Z"
   },
   {
    "duration": 4,
    "start_time": "2022-09-09T12:00:45.856Z"
   },
   {
    "duration": 46,
    "start_time": "2022-09-09T12:00:47.395Z"
   },
   {
    "duration": 95,
    "start_time": "2022-09-09T12:01:06.189Z"
   },
   {
    "duration": 14,
    "start_time": "2022-09-09T12:01:19.058Z"
   },
   {
    "duration": 5,
    "start_time": "2022-09-09T12:01:34.450Z"
   },
   {
    "duration": 52,
    "start_time": "2022-09-09T12:01:37.271Z"
   },
   {
    "duration": 8,
    "start_time": "2022-09-09T12:03:47.426Z"
   },
   {
    "duration": 39,
    "start_time": "2022-09-09T12:03:48.607Z"
   },
   {
    "duration": 21,
    "start_time": "2022-09-09T12:04:00.057Z"
   },
   {
    "duration": 4,
    "start_time": "2022-09-09T12:04:28.924Z"
   },
   {
    "duration": 308,
    "start_time": "2022-09-09T12:04:29.621Z"
   },
   {
    "duration": 22,
    "start_time": "2022-09-09T12:05:51.074Z"
   },
   {
    "duration": 13,
    "start_time": "2022-09-09T12:06:18.359Z"
   },
   {
    "duration": 53,
    "start_time": "2022-09-09T12:06:19.987Z"
   },
   {
    "duration": 28,
    "start_time": "2022-09-09T12:06:22.000Z"
   },
   {
    "duration": 585,
    "start_time": "2022-09-09T12:07:13.029Z"
   },
   {
    "duration": 1286,
    "start_time": "2022-09-09T12:07:35.173Z"
   },
   {
    "duration": 499,
    "start_time": "2022-09-09T12:08:23.440Z"
   },
   {
    "duration": 5,
    "start_time": "2022-09-09T12:08:24.798Z"
   },
   {
    "duration": 14,
    "start_time": "2022-09-09T12:08:25.732Z"
   },
   {
    "duration": 51,
    "start_time": "2022-09-09T12:08:29.701Z"
   },
   {
    "duration": 16,
    "start_time": "2022-09-09T12:08:34.525Z"
   },
   {
    "duration": 4,
    "start_time": "2022-09-09T12:09:32.639Z"
   },
   {
    "duration": 303,
    "start_time": "2022-09-09T12:09:33.229Z"
   },
   {
    "duration": 252,
    "start_time": "2022-09-09T12:09:43.822Z"
   },
   {
    "duration": 4,
    "start_time": "2022-09-09T12:11:00.974Z"
   },
   {
    "duration": 2463,
    "start_time": "2022-09-09T12:11:01.801Z"
   },
   {
    "duration": 3,
    "start_time": "2022-09-09T12:11:13.199Z"
   },
   {
    "duration": 2091,
    "start_time": "2022-09-09T12:11:15.996Z"
   },
   {
    "duration": 5,
    "start_time": "2022-09-09T12:12:40.677Z"
   },
   {
    "duration": 49,
    "start_time": "2022-09-09T12:12:41.821Z"
   },
   {
    "duration": 6,
    "start_time": "2022-09-09T12:13:55.329Z"
   },
   {
    "duration": 66,
    "start_time": "2022-09-09T12:13:56.791Z"
   },
   {
    "duration": 2345,
    "start_time": "2022-09-09T12:14:00.855Z"
   },
   {
    "duration": 104,
    "start_time": "2022-09-09T12:28:40.459Z"
   },
   {
    "duration": 64,
    "start_time": "2022-09-09T12:28:40.565Z"
   },
   {
    "duration": 13,
    "start_time": "2022-09-09T12:28:40.630Z"
   },
   {
    "duration": 16,
    "start_time": "2022-09-09T12:28:40.645Z"
   },
   {
    "duration": 1861,
    "start_time": "2022-09-09T12:28:40.663Z"
   },
   {
    "duration": 8,
    "start_time": "2022-09-09T12:28:42.525Z"
   },
   {
    "duration": 14,
    "start_time": "2022-09-09T12:28:42.535Z"
   },
   {
    "duration": 16,
    "start_time": "2022-09-09T12:28:42.551Z"
   },
   {
    "duration": 18,
    "start_time": "2022-09-09T12:28:42.568Z"
   },
   {
    "duration": 10,
    "start_time": "2022-09-09T12:28:42.589Z"
   },
   {
    "duration": 4,
    "start_time": "2022-09-09T12:28:42.600Z"
   },
   {
    "duration": 16,
    "start_time": "2022-09-09T12:28:42.605Z"
   },
   {
    "duration": 10,
    "start_time": "2022-09-09T12:28:42.623Z"
   },
   {
    "duration": 7,
    "start_time": "2022-09-09T12:28:42.634Z"
   },
   {
    "duration": 3,
    "start_time": "2022-09-09T12:28:42.642Z"
   },
   {
    "duration": 1230,
    "start_time": "2022-09-09T12:28:42.646Z"
   },
   {
    "duration": 1264,
    "start_time": "2022-09-09T12:28:43.878Z"
   },
   {
    "duration": 19,
    "start_time": "2022-09-09T12:28:45.144Z"
   },
   {
    "duration": 17,
    "start_time": "2022-09-09T12:28:45.165Z"
   },
   {
    "duration": 6,
    "start_time": "2022-09-09T12:28:45.183Z"
   },
   {
    "duration": 65,
    "start_time": "2022-09-09T12:28:45.190Z"
   },
   {
    "duration": 74,
    "start_time": "2022-09-09T12:28:45.257Z"
   },
   {
    "duration": 7,
    "start_time": "2022-09-09T12:28:45.332Z"
   },
   {
    "duration": 43,
    "start_time": "2022-09-09T12:28:45.340Z"
   },
   {
    "duration": 6,
    "start_time": "2022-09-09T12:28:45.384Z"
   },
   {
    "duration": 24,
    "start_time": "2022-09-09T12:28:45.391Z"
   },
   {
    "duration": 18,
    "start_time": "2022-09-09T12:28:45.416Z"
   },
   {
    "duration": 6,
    "start_time": "2022-09-09T12:28:45.437Z"
   },
   {
    "duration": 18,
    "start_time": "2022-09-09T12:28:45.444Z"
   },
   {
    "duration": 6,
    "start_time": "2022-09-09T12:28:45.464Z"
   },
   {
    "duration": 59,
    "start_time": "2022-09-09T12:28:45.472Z"
   },
   {
    "duration": 8,
    "start_time": "2022-09-09T12:28:45.533Z"
   },
   {
    "duration": 42,
    "start_time": "2022-09-09T12:28:45.542Z"
   },
   {
    "duration": 7,
    "start_time": "2022-09-09T12:28:45.586Z"
   },
   {
    "duration": 8,
    "start_time": "2022-09-09T12:28:45.595Z"
   },
   {
    "duration": 21,
    "start_time": "2022-09-09T12:28:45.611Z"
   },
   {
    "duration": 63,
    "start_time": "2022-09-09T12:28:45.633Z"
   },
   {
    "duration": 24,
    "start_time": "2022-09-09T12:28:45.697Z"
   },
   {
    "duration": 9,
    "start_time": "2022-09-09T12:28:45.723Z"
   },
   {
    "duration": 5,
    "start_time": "2022-09-09T12:28:45.733Z"
   },
   {
    "duration": 7,
    "start_time": "2022-09-09T12:28:45.739Z"
   },
   {
    "duration": 6,
    "start_time": "2022-09-09T12:28:45.747Z"
   },
   {
    "duration": 5,
    "start_time": "2022-09-09T12:28:45.755Z"
   },
   {
    "duration": 17,
    "start_time": "2022-09-09T12:28:45.761Z"
   },
   {
    "duration": 576,
    "start_time": "2022-09-09T12:28:45.780Z"
   },
   {
    "duration": 3,
    "start_time": "2022-09-09T12:28:46.358Z"
   },
   {
    "duration": 60,
    "start_time": "2022-09-09T12:28:46.362Z"
   },
   {
    "duration": 6,
    "start_time": "2022-09-09T12:28:46.424Z"
   },
   {
    "duration": 55,
    "start_time": "2022-09-09T12:28:46.431Z"
   },
   {
    "duration": 2156,
    "start_time": "2022-09-09T12:28:46.488Z"
   },
   {
    "duration": 150,
    "start_time": "2022-09-09T12:28:48.646Z"
   },
   {
    "duration": 257,
    "start_time": "2022-09-09T12:28:48.798Z"
   },
   {
    "duration": 137,
    "start_time": "2022-09-09T12:28:49.057Z"
   },
   {
    "duration": 19,
    "start_time": "2022-09-09T12:28:49.196Z"
   },
   {
    "duration": 8,
    "start_time": "2022-09-09T12:28:49.224Z"
   },
   {
    "duration": 1328,
    "start_time": "2022-09-09T12:28:49.233Z"
   },
   {
    "duration": 25,
    "start_time": "2022-09-09T12:28:54.649Z"
   },
   {
    "duration": 4,
    "start_time": "2022-09-09T12:28:55.655Z"
   },
   {
    "duration": 14,
    "start_time": "2022-09-09T12:28:57.308Z"
   },
   {
    "duration": 172,
    "start_time": "2022-09-09T12:31:53.386Z"
   },
   {
    "duration": 169,
    "start_time": "2022-09-09T12:32:00.199Z"
   },
   {
    "duration": 173,
    "start_time": "2022-09-09T12:32:20.998Z"
   },
   {
    "duration": 20,
    "start_time": "2022-09-09T12:35:24.729Z"
   },
   {
    "duration": 16,
    "start_time": "2022-09-09T12:36:04.225Z"
   },
   {
    "duration": 500,
    "start_time": "2022-09-09T12:37:18.977Z"
   },
   {
    "duration": 53,
    "start_time": "2022-09-09T12:37:19.479Z"
   },
   {
    "duration": 19,
    "start_time": "2022-09-09T12:37:19.533Z"
   },
   {
    "duration": 17,
    "start_time": "2022-09-09T12:37:19.555Z"
   },
   {
    "duration": 2135,
    "start_time": "2022-09-09T12:37:19.573Z"
   },
   {
    "duration": 12,
    "start_time": "2022-09-09T12:37:21.709Z"
   },
   {
    "duration": 23,
    "start_time": "2022-09-09T12:37:21.723Z"
   },
   {
    "duration": 16,
    "start_time": "2022-09-09T12:37:21.747Z"
   },
   {
    "duration": 60,
    "start_time": "2022-09-09T12:37:21.765Z"
   },
   {
    "duration": 11,
    "start_time": "2022-09-09T12:37:21.827Z"
   },
   {
    "duration": 3,
    "start_time": "2022-09-09T12:37:21.840Z"
   },
   {
    "duration": 14,
    "start_time": "2022-09-09T12:37:21.845Z"
   },
   {
    "duration": 12,
    "start_time": "2022-09-09T12:37:21.861Z"
   },
   {
    "duration": 12,
    "start_time": "2022-09-09T12:37:21.875Z"
   },
   {
    "duration": 5,
    "start_time": "2022-09-09T12:37:21.888Z"
   },
   {
    "duration": 1251,
    "start_time": "2022-09-09T12:37:21.894Z"
   },
   {
    "duration": 1210,
    "start_time": "2022-09-09T12:37:23.147Z"
   },
   {
    "duration": 23,
    "start_time": "2022-09-09T12:37:24.358Z"
   },
   {
    "duration": 48,
    "start_time": "2022-09-09T12:37:24.383Z"
   },
   {
    "duration": 4,
    "start_time": "2022-09-09T12:37:24.433Z"
   },
   {
    "duration": 50,
    "start_time": "2022-09-09T12:37:24.438Z"
   },
   {
    "duration": 78,
    "start_time": "2022-09-09T12:37:24.490Z"
   },
   {
    "duration": 10,
    "start_time": "2022-09-09T12:37:24.570Z"
   },
   {
    "duration": 62,
    "start_time": "2022-09-09T12:37:24.581Z"
   },
   {
    "duration": 9,
    "start_time": "2022-09-09T12:37:24.645Z"
   },
   {
    "duration": 27,
    "start_time": "2022-09-09T12:37:24.655Z"
   },
   {
    "duration": 28,
    "start_time": "2022-09-09T12:37:24.687Z"
   },
   {
    "duration": 13,
    "start_time": "2022-09-09T12:37:24.718Z"
   },
   {
    "duration": 13,
    "start_time": "2022-09-09T12:37:24.733Z"
   },
   {
    "duration": 12,
    "start_time": "2022-09-09T12:37:24.748Z"
   },
   {
    "duration": 89,
    "start_time": "2022-09-09T12:37:24.762Z"
   },
   {
    "duration": 7,
    "start_time": "2022-09-09T12:37:24.853Z"
   },
   {
    "duration": 37,
    "start_time": "2022-09-09T12:37:24.861Z"
   },
   {
    "duration": 23,
    "start_time": "2022-09-09T12:37:24.899Z"
   },
   {
    "duration": 8,
    "start_time": "2022-09-09T12:37:24.927Z"
   },
   {
    "duration": 7,
    "start_time": "2022-09-09T12:37:24.937Z"
   },
   {
    "duration": 79,
    "start_time": "2022-09-09T12:37:24.946Z"
   },
   {
    "duration": 22,
    "start_time": "2022-09-09T12:37:25.026Z"
   },
   {
    "duration": 25,
    "start_time": "2022-09-09T12:37:25.050Z"
   },
   {
    "duration": 19,
    "start_time": "2022-09-09T12:37:25.077Z"
   },
   {
    "duration": 11,
    "start_time": "2022-09-09T12:37:25.097Z"
   },
   {
    "duration": 20,
    "start_time": "2022-09-09T12:37:25.112Z"
   },
   {
    "duration": 9,
    "start_time": "2022-09-09T12:37:25.133Z"
   },
   {
    "duration": 7,
    "start_time": "2022-09-09T12:37:25.143Z"
   },
   {
    "duration": 574,
    "start_time": "2022-09-09T12:37:25.151Z"
   },
   {
    "duration": 121,
    "start_time": "2022-09-09T12:37:30.202Z"
   },
   {
    "duration": 43,
    "start_time": "2022-09-09T12:38:29.517Z"
   },
   {
    "duration": 40,
    "start_time": "2022-09-09T12:38:40.732Z"
   },
   {
    "duration": 4,
    "start_time": "2022-09-09T12:38:47.381Z"
   },
   {
    "duration": 3,
    "start_time": "2022-09-09T12:38:59.662Z"
   },
   {
    "duration": 15,
    "start_time": "2022-09-09T12:39:00.473Z"
   },
   {
    "duration": 4,
    "start_time": "2022-09-09T12:39:13.133Z"
   },
   {
    "duration": 4,
    "start_time": "2022-09-09T12:39:14.017Z"
   },
   {
    "duration": 35,
    "start_time": "2022-09-09T12:39:16.070Z"
   },
   {
    "duration": 14,
    "start_time": "2022-09-09T12:39:26.774Z"
   },
   {
    "duration": 2,
    "start_time": "2022-09-09T12:40:39.636Z"
   },
   {
    "duration": 10,
    "start_time": "2022-09-09T12:40:40.649Z"
   },
   {
    "duration": 40,
    "start_time": "2022-09-09T12:40:42.060Z"
   },
   {
    "duration": 184,
    "start_time": "2022-09-09T12:40:52.496Z"
   },
   {
    "duration": 171,
    "start_time": "2022-09-09T12:40:59.335Z"
   },
   {
    "duration": 5,
    "start_time": "2022-09-09T12:41:02.548Z"
   },
   {
    "duration": 5,
    "start_time": "2022-09-09T12:41:10.132Z"
   },
   {
    "duration": 14,
    "start_time": "2022-09-09T12:41:28.200Z"
   },
   {
    "duration": 4,
    "start_time": "2022-09-09T12:42:10.351Z"
   },
   {
    "duration": 3,
    "start_time": "2022-09-09T12:42:26.025Z"
   },
   {
    "duration": 6,
    "start_time": "2022-09-09T12:42:26.940Z"
   },
   {
    "duration": 34,
    "start_time": "2022-09-09T12:42:31.621Z"
   },
   {
    "duration": 181,
    "start_time": "2022-09-09T12:42:35.265Z"
   },
   {
    "duration": 5,
    "start_time": "2022-09-09T12:42:46.048Z"
   },
   {
    "duration": 5,
    "start_time": "2022-09-09T12:42:48.891Z"
   },
   {
    "duration": 5,
    "start_time": "2022-09-09T12:42:51.271Z"
   },
   {
    "duration": 33,
    "start_time": "2022-09-09T12:43:02.850Z"
   },
   {
    "duration": 509,
    "start_time": "2022-09-09T12:43:22.031Z"
   },
   {
    "duration": 47,
    "start_time": "2022-09-09T12:43:22.542Z"
   },
   {
    "duration": 14,
    "start_time": "2022-09-09T12:43:22.591Z"
   },
   {
    "duration": 14,
    "start_time": "2022-09-09T12:43:22.615Z"
   },
   {
    "duration": 2123,
    "start_time": "2022-09-09T12:43:22.637Z"
   },
   {
    "duration": 8,
    "start_time": "2022-09-09T12:43:24.762Z"
   },
   {
    "duration": 6,
    "start_time": "2022-09-09T12:43:24.772Z"
   },
   {
    "duration": 10,
    "start_time": "2022-09-09T12:43:24.779Z"
   },
   {
    "duration": 52,
    "start_time": "2022-09-09T12:43:24.790Z"
   },
   {
    "duration": 11,
    "start_time": "2022-09-09T12:43:24.843Z"
   },
   {
    "duration": 3,
    "start_time": "2022-09-09T12:43:24.855Z"
   },
   {
    "duration": 7,
    "start_time": "2022-09-09T12:43:24.860Z"
   },
   {
    "duration": 17,
    "start_time": "2022-09-09T12:43:24.868Z"
   },
   {
    "duration": 35,
    "start_time": "2022-09-09T12:43:24.888Z"
   },
   {
    "duration": 6,
    "start_time": "2022-09-09T12:43:24.925Z"
   },
   {
    "duration": 1276,
    "start_time": "2022-09-09T12:43:24.933Z"
   },
   {
    "duration": 1286,
    "start_time": "2022-09-09T12:43:26.215Z"
   },
   {
    "duration": 32,
    "start_time": "2022-09-09T12:43:27.503Z"
   },
   {
    "duration": 17,
    "start_time": "2022-09-09T12:43:27.536Z"
   },
   {
    "duration": 3,
    "start_time": "2022-09-09T12:43:27.555Z"
   },
   {
    "duration": 63,
    "start_time": "2022-09-09T12:43:27.560Z"
   },
   {
    "duration": 69,
    "start_time": "2022-09-09T12:43:27.625Z"
   },
   {
    "duration": 28,
    "start_time": "2022-09-09T12:43:27.696Z"
   },
   {
    "duration": 52,
    "start_time": "2022-09-09T12:43:27.726Z"
   },
   {
    "duration": 7,
    "start_time": "2022-09-09T12:43:27.780Z"
   },
   {
    "duration": 17,
    "start_time": "2022-09-09T12:43:27.789Z"
   },
   {
    "duration": 40,
    "start_time": "2022-09-09T12:43:27.808Z"
   },
   {
    "duration": 4,
    "start_time": "2022-09-09T12:43:27.850Z"
   },
   {
    "duration": 19,
    "start_time": "2022-09-09T12:43:27.855Z"
   },
   {
    "duration": 8,
    "start_time": "2022-09-09T12:43:27.876Z"
   },
   {
    "duration": 55,
    "start_time": "2022-09-09T12:43:27.886Z"
   },
   {
    "duration": 14,
    "start_time": "2022-09-09T12:43:27.942Z"
   },
   {
    "duration": 37,
    "start_time": "2022-09-09T12:43:27.958Z"
   },
   {
    "duration": 23,
    "start_time": "2022-09-09T12:43:27.997Z"
   },
   {
    "duration": 28,
    "start_time": "2022-09-09T12:43:28.021Z"
   },
   {
    "duration": 9,
    "start_time": "2022-09-09T12:43:28.050Z"
   },
   {
    "duration": 82,
    "start_time": "2022-09-09T12:43:28.061Z"
   },
   {
    "duration": 17,
    "start_time": "2022-09-09T12:43:28.144Z"
   },
   {
    "duration": 4,
    "start_time": "2022-09-09T12:43:28.163Z"
   },
   {
    "duration": 11,
    "start_time": "2022-09-09T12:43:28.168Z"
   },
   {
    "duration": 6,
    "start_time": "2022-09-09T12:43:28.182Z"
   },
   {
    "duration": 22,
    "start_time": "2022-09-09T12:43:28.189Z"
   },
   {
    "duration": 34,
    "start_time": "2022-09-09T12:43:28.213Z"
   },
   {
    "duration": 23,
    "start_time": "2022-09-09T12:43:28.249Z"
   },
   {
    "duration": 599,
    "start_time": "2022-09-09T12:43:28.274Z"
   },
   {
    "duration": 5,
    "start_time": "2022-09-09T12:43:28.875Z"
   },
   {
    "duration": 50,
    "start_time": "2022-09-09T12:43:28.882Z"
   },
   {
    "duration": 70,
    "start_time": "2022-09-09T12:43:28.933Z"
   },
   {
    "duration": 17,
    "start_time": "2022-09-09T12:43:29.005Z"
   },
   {
    "duration": 73,
    "start_time": "2022-09-09T12:43:29.024Z"
   },
   {
    "duration": 2241,
    "start_time": "2022-09-09T12:43:29.099Z"
   },
   {
    "duration": 178,
    "start_time": "2022-09-09T12:43:31.341Z"
   },
   {
    "duration": 159,
    "start_time": "2022-09-09T12:43:31.524Z"
   },
   {
    "duration": 141,
    "start_time": "2022-09-09T12:43:31.685Z"
   },
   {
    "duration": 9,
    "start_time": "2022-09-09T12:43:31.828Z"
   },
   {
    "duration": 11,
    "start_time": "2022-09-09T12:43:31.838Z"
   },
   {
    "duration": 1398,
    "start_time": "2022-09-09T12:43:31.850Z"
   },
   {
    "duration": 172,
    "start_time": "2022-09-09T12:43:33.250Z"
   },
   {
    "duration": 26,
    "start_time": "2022-09-09T12:43:33.424Z"
   },
   {
    "duration": 3,
    "start_time": "2022-09-09T12:43:33.452Z"
   },
   {
    "duration": 19,
    "start_time": "2022-09-09T12:43:33.457Z"
   },
   {
    "duration": 4,
    "start_time": "2022-09-09T12:43:33.477Z"
   },
   {
    "duration": 12,
    "start_time": "2022-09-09T12:43:33.483Z"
   },
   {
    "duration": 47,
    "start_time": "2022-09-09T12:43:33.496Z"
   },
   {
    "duration": 195,
    "start_time": "2022-09-09T12:43:33.545Z"
   },
   {
    "duration": 4,
    "start_time": "2022-09-09T12:43:33.742Z"
   },
   {
    "duration": 9,
    "start_time": "2022-09-09T12:43:33.748Z"
   },
   {
    "duration": 9,
    "start_time": "2022-09-09T12:46:00.748Z"
   },
   {
    "duration": 48,
    "start_time": "2022-09-09T12:46:02.556Z"
   },
   {
    "duration": 190,
    "start_time": "2022-09-09T12:46:08.407Z"
   },
   {
    "duration": 5,
    "start_time": "2022-09-09T12:46:12.080Z"
   },
   {
    "duration": 35,
    "start_time": "2022-09-09T12:48:27.731Z"
   },
   {
    "duration": 62,
    "start_time": "2022-09-09T12:48:46.781Z"
   },
   {
    "duration": 283,
    "start_time": "2022-09-09T12:48:55.754Z"
   },
   {
    "duration": 5,
    "start_time": "2022-09-09T12:49:05.186Z"
   },
   {
    "duration": 2,
    "start_time": "2022-09-09T12:49:45.288Z"
   },
   {
    "duration": 6,
    "start_time": "2022-09-09T12:49:50.959Z"
   },
   {
    "duration": 7,
    "start_time": "2022-09-09T12:49:58.131Z"
   },
   {
    "duration": 9,
    "start_time": "2022-09-09T12:49:58.600Z"
   },
   {
    "duration": 31,
    "start_time": "2022-09-09T12:49:59.321Z"
   },
   {
    "duration": 158,
    "start_time": "2022-09-09T12:50:13.736Z"
   },
   {
    "duration": 165,
    "start_time": "2022-09-09T12:50:21.700Z"
   },
   {
    "duration": 5,
    "start_time": "2022-09-09T12:50:23.894Z"
   },
   {
    "duration": 5,
    "start_time": "2022-09-09T12:50:42.342Z"
   },
   {
    "duration": 6,
    "start_time": "2022-09-09T12:50:49.425Z"
   },
   {
    "duration": 15,
    "start_time": "2022-09-09T12:52:22.230Z"
   },
   {
    "duration": 142,
    "start_time": "2022-09-09T12:52:34.180Z"
   },
   {
    "duration": 8,
    "start_time": "2022-09-09T12:52:59.997Z"
   },
   {
    "duration": 10,
    "start_time": "2022-09-09T12:53:31.522Z"
   },
   {
    "duration": 8,
    "start_time": "2022-09-09T12:53:32.155Z"
   },
   {
    "duration": 128,
    "start_time": "2022-09-09T12:53:47.225Z"
   },
   {
    "duration": 131,
    "start_time": "2022-09-09T12:53:52.490Z"
   },
   {
    "duration": 461,
    "start_time": "2022-09-09T12:55:02.567Z"
   },
   {
    "duration": 46,
    "start_time": "2022-09-09T12:55:03.030Z"
   },
   {
    "duration": 12,
    "start_time": "2022-09-09T12:55:03.077Z"
   },
   {
    "duration": 29,
    "start_time": "2022-09-09T12:55:03.091Z"
   },
   {
    "duration": 2143,
    "start_time": "2022-09-09T12:55:03.121Z"
   },
   {
    "duration": 10,
    "start_time": "2022-09-09T12:55:05.267Z"
   },
   {
    "duration": 52,
    "start_time": "2022-09-09T12:55:05.279Z"
   },
   {
    "duration": 30,
    "start_time": "2022-09-09T12:55:05.333Z"
   },
   {
    "duration": 71,
    "start_time": "2022-09-09T12:55:05.364Z"
   },
   {
    "duration": 10,
    "start_time": "2022-09-09T12:55:05.439Z"
   },
   {
    "duration": 16,
    "start_time": "2022-09-09T12:55:05.450Z"
   },
   {
    "duration": 26,
    "start_time": "2022-09-09T12:55:05.467Z"
   },
   {
    "duration": 34,
    "start_time": "2022-09-09T12:55:05.494Z"
   },
   {
    "duration": 30,
    "start_time": "2022-09-09T12:55:05.529Z"
   },
   {
    "duration": 21,
    "start_time": "2022-09-09T12:55:05.561Z"
   },
   {
    "duration": 1263,
    "start_time": "2022-09-09T12:55:05.583Z"
   },
   {
    "duration": 1246,
    "start_time": "2022-09-09T12:55:06.848Z"
   },
   {
    "duration": 34,
    "start_time": "2022-09-09T12:55:08.095Z"
   },
   {
    "duration": 16,
    "start_time": "2022-09-09T12:55:08.130Z"
   },
   {
    "duration": 13,
    "start_time": "2022-09-09T12:55:08.148Z"
   },
   {
    "duration": 42,
    "start_time": "2022-09-09T12:55:08.163Z"
   },
   {
    "duration": 73,
    "start_time": "2022-09-09T12:55:08.207Z"
   },
   {
    "duration": 7,
    "start_time": "2022-09-09T12:55:08.282Z"
   },
   {
    "duration": 47,
    "start_time": "2022-09-09T12:55:08.291Z"
   },
   {
    "duration": 6,
    "start_time": "2022-09-09T12:55:08.339Z"
   },
   {
    "duration": 8,
    "start_time": "2022-09-09T12:55:08.346Z"
   },
   {
    "duration": 20,
    "start_time": "2022-09-09T12:55:08.355Z"
   },
   {
    "duration": 3,
    "start_time": "2022-09-09T12:55:08.379Z"
   },
   {
    "duration": 31,
    "start_time": "2022-09-09T12:55:08.384Z"
   },
   {
    "duration": 10,
    "start_time": "2022-09-09T12:55:08.416Z"
   },
   {
    "duration": 50,
    "start_time": "2022-09-09T12:55:08.428Z"
   },
   {
    "duration": 11,
    "start_time": "2022-09-09T12:55:08.479Z"
   },
   {
    "duration": 45,
    "start_time": "2022-09-09T12:55:08.492Z"
   },
   {
    "duration": 8,
    "start_time": "2022-09-09T12:55:08.539Z"
   },
   {
    "duration": 8,
    "start_time": "2022-09-09T12:55:08.548Z"
   },
   {
    "duration": 9,
    "start_time": "2022-09-09T12:55:08.557Z"
   },
   {
    "duration": 75,
    "start_time": "2022-09-09T12:55:08.568Z"
   },
   {
    "duration": 14,
    "start_time": "2022-09-09T12:55:08.645Z"
   },
   {
    "duration": 3,
    "start_time": "2022-09-09T12:55:08.661Z"
   },
   {
    "duration": 8,
    "start_time": "2022-09-09T12:55:08.666Z"
   },
   {
    "duration": 7,
    "start_time": "2022-09-09T12:55:08.675Z"
   },
   {
    "duration": 32,
    "start_time": "2022-09-09T12:55:08.683Z"
   },
   {
    "duration": 15,
    "start_time": "2022-09-09T12:55:08.716Z"
   },
   {
    "duration": 8,
    "start_time": "2022-09-09T12:55:08.733Z"
   },
   {
    "duration": 614,
    "start_time": "2022-09-09T12:55:08.742Z"
   },
   {
    "duration": 6,
    "start_time": "2022-09-09T12:55:09.357Z"
   },
   {
    "duration": 4,
    "start_time": "2022-09-09T12:55:09.365Z"
   },
   {
    "duration": 52,
    "start_time": "2022-09-09T12:55:09.371Z"
   },
   {
    "duration": 7,
    "start_time": "2022-09-09T12:55:09.424Z"
   },
   {
    "duration": 61,
    "start_time": "2022-09-09T12:55:09.432Z"
   },
   {
    "duration": 2133,
    "start_time": "2022-09-09T12:55:09.495Z"
   },
   {
    "duration": 157,
    "start_time": "2022-09-09T12:55:11.630Z"
   },
   {
    "duration": 158,
    "start_time": "2022-09-09T12:55:11.790Z"
   },
   {
    "duration": 131,
    "start_time": "2022-09-09T12:55:11.949Z"
   },
   {
    "duration": 8,
    "start_time": "2022-09-09T12:55:12.082Z"
   },
   {
    "duration": 48,
    "start_time": "2022-09-09T12:55:12.092Z"
   },
   {
    "duration": 1298,
    "start_time": "2022-09-09T12:55:12.142Z"
   },
   {
    "duration": 162,
    "start_time": "2022-09-09T12:55:13.441Z"
   },
   {
    "duration": 30,
    "start_time": "2022-09-09T12:55:13.605Z"
   },
   {
    "duration": 3,
    "start_time": "2022-09-09T12:55:13.637Z"
   },
   {
    "duration": 13,
    "start_time": "2022-09-09T12:55:13.642Z"
   },
   {
    "duration": 8,
    "start_time": "2022-09-09T12:55:13.656Z"
   },
   {
    "duration": 14,
    "start_time": "2022-09-09T12:55:13.665Z"
   },
   {
    "duration": 10,
    "start_time": "2022-09-09T12:55:13.680Z"
   },
   {
    "duration": 49,
    "start_time": "2022-09-09T12:55:13.691Z"
   },
   {
    "duration": 159,
    "start_time": "2022-09-09T12:55:13.741Z"
   },
   {
    "duration": 18,
    "start_time": "2022-09-09T12:55:13.901Z"
   },
   {
    "duration": 8,
    "start_time": "2022-09-09T12:55:13.925Z"
   },
   {
    "duration": 9,
    "start_time": "2022-09-09T12:55:13.934Z"
   },
   {
    "duration": 125,
    "start_time": "2022-09-09T12:55:13.945Z"
   },
   {
    "duration": 102,
    "start_time": "2022-09-09T12:59:07.224Z"
   },
   {
    "duration": 165,
    "start_time": "2022-09-09T12:59:14.371Z"
   },
   {
    "duration": 28,
    "start_time": "2022-09-09T12:59:41.405Z"
   },
   {
    "duration": 9,
    "start_time": "2022-09-09T12:59:57.482Z"
   },
   {
    "duration": 139,
    "start_time": "2022-09-09T12:59:57.939Z"
   },
   {
    "duration": 34,
    "start_time": "2022-09-09T13:00:02.587Z"
   },
   {
    "duration": 8,
    "start_time": "2022-09-09T13:00:12.849Z"
   },
   {
    "duration": 9,
    "start_time": "2022-09-09T13:01:49.162Z"
   },
   {
    "duration": 7,
    "start_time": "2022-09-09T13:01:49.492Z"
   },
   {
    "duration": 128,
    "start_time": "2022-09-09T13:01:54.925Z"
   },
   {
    "duration": 21,
    "start_time": "2022-09-09T13:01:57.685Z"
   },
   {
    "duration": 35,
    "start_time": "2022-09-09T13:08:08.541Z"
   },
   {
    "duration": 11,
    "start_time": "2022-09-09T13:08:28.803Z"
   },
   {
    "duration": 54,
    "start_time": "2022-09-09T13:08:29.991Z"
   },
   {
    "duration": 5,
    "start_time": "2022-09-09T13:08:47.044Z"
   },
   {
    "duration": 36,
    "start_time": "2022-09-09T13:08:49.026Z"
   },
   {
    "duration": 147,
    "start_time": "2022-09-09T13:12:42.557Z"
   },
   {
    "duration": 99,
    "start_time": "2022-09-09T13:13:01.690Z"
   },
   {
    "duration": 44,
    "start_time": "2022-09-09T13:13:01.791Z"
   },
   {
    "duration": 19,
    "start_time": "2022-09-09T13:13:01.836Z"
   },
   {
    "duration": 17,
    "start_time": "2022-09-09T13:13:01.857Z"
   },
   {
    "duration": 1804,
    "start_time": "2022-09-09T13:13:01.875Z"
   },
   {
    "duration": 8,
    "start_time": "2022-09-09T13:13:03.680Z"
   },
   {
    "duration": 8,
    "start_time": "2022-09-09T13:13:03.690Z"
   },
   {
    "duration": 16,
    "start_time": "2022-09-09T13:13:03.715Z"
   },
   {
    "duration": 25,
    "start_time": "2022-09-09T13:13:03.733Z"
   },
   {
    "duration": 8,
    "start_time": "2022-09-09T13:13:03.760Z"
   },
   {
    "duration": 19,
    "start_time": "2022-09-09T13:13:03.770Z"
   },
   {
    "duration": 9,
    "start_time": "2022-09-09T13:13:03.790Z"
   },
   {
    "duration": 27,
    "start_time": "2022-09-09T13:13:03.800Z"
   },
   {
    "duration": 11,
    "start_time": "2022-09-09T13:13:03.828Z"
   },
   {
    "duration": 2,
    "start_time": "2022-09-09T13:13:03.840Z"
   },
   {
    "duration": 1295,
    "start_time": "2022-09-09T13:13:03.844Z"
   },
   {
    "duration": 1261,
    "start_time": "2022-09-09T13:13:05.141Z"
   },
   {
    "duration": 30,
    "start_time": "2022-09-09T13:13:06.404Z"
   },
   {
    "duration": 26,
    "start_time": "2022-09-09T13:13:06.436Z"
   },
   {
    "duration": 4,
    "start_time": "2022-09-09T13:13:06.464Z"
   },
   {
    "duration": 72,
    "start_time": "2022-09-09T13:13:06.469Z"
   },
   {
    "duration": 86,
    "start_time": "2022-09-09T13:13:06.543Z"
   },
   {
    "duration": 8,
    "start_time": "2022-09-09T13:13:06.630Z"
   },
   {
    "duration": 31,
    "start_time": "2022-09-09T13:13:06.639Z"
   },
   {
    "duration": 5,
    "start_time": "2022-09-09T13:13:06.672Z"
   },
   {
    "duration": 18,
    "start_time": "2022-09-09T13:13:06.678Z"
   },
   {
    "duration": 28,
    "start_time": "2022-09-09T13:13:06.698Z"
   },
   {
    "duration": 4,
    "start_time": "2022-09-09T13:13:06.729Z"
   },
   {
    "duration": 10,
    "start_time": "2022-09-09T13:13:06.735Z"
   },
   {
    "duration": 9,
    "start_time": "2022-09-09T13:13:06.747Z"
   },
   {
    "duration": 32,
    "start_time": "2022-09-09T13:13:06.757Z"
   },
   {
    "duration": 32,
    "start_time": "2022-09-09T13:13:06.791Z"
   },
   {
    "duration": 30,
    "start_time": "2022-09-09T13:13:06.825Z"
   },
   {
    "duration": 8,
    "start_time": "2022-09-09T13:13:06.857Z"
   },
   {
    "duration": 11,
    "start_time": "2022-09-09T13:13:06.866Z"
   },
   {
    "duration": 40,
    "start_time": "2022-09-09T13:13:06.879Z"
   },
   {
    "duration": 107,
    "start_time": "2022-09-09T13:13:06.921Z"
   },
   {
    "duration": 17,
    "start_time": "2022-09-09T13:13:07.030Z"
   },
   {
    "duration": 4,
    "start_time": "2022-09-09T13:13:07.049Z"
   },
   {
    "duration": 6,
    "start_time": "2022-09-09T13:13:07.054Z"
   },
   {
    "duration": 8,
    "start_time": "2022-09-09T13:13:07.061Z"
   },
   {
    "duration": 6,
    "start_time": "2022-09-09T13:13:07.070Z"
   },
   {
    "duration": 64,
    "start_time": "2022-09-09T13:13:07.077Z"
   },
   {
    "duration": 5,
    "start_time": "2022-09-09T13:13:07.143Z"
   },
   {
    "duration": 7,
    "start_time": "2022-09-09T13:13:07.149Z"
   },
   {
    "duration": 588,
    "start_time": "2022-09-09T13:13:07.158Z"
   },
   {
    "duration": 4,
    "start_time": "2022-09-09T13:13:07.748Z"
   },
   {
    "duration": 9,
    "start_time": "2022-09-09T13:13:07.754Z"
   },
   {
    "duration": 62,
    "start_time": "2022-09-09T13:13:07.764Z"
   },
   {
    "duration": 7,
    "start_time": "2022-09-09T13:13:07.827Z"
   },
   {
    "duration": 45,
    "start_time": "2022-09-09T13:13:07.836Z"
   },
   {
    "duration": 398,
    "start_time": "2022-09-09T13:13:25.039Z"
   },
   {
    "duration": 216,
    "start_time": "2022-09-09T13:13:45.765Z"
   },
   {
    "duration": 223,
    "start_time": "2022-09-09T13:13:52.228Z"
   },
   {
    "duration": 187,
    "start_time": "2022-09-09T13:14:20.895Z"
   },
   {
    "duration": 251,
    "start_time": "2022-09-09T13:14:28.078Z"
   },
   {
    "duration": 427,
    "start_time": "2022-09-09T13:23:34.468Z"
   },
   {
    "duration": 300,
    "start_time": "2022-09-09T13:23:42.325Z"
   },
   {
    "duration": 229,
    "start_time": "2022-09-09T13:23:53.240Z"
   },
   {
    "duration": 15,
    "start_time": "2022-09-09T13:24:32.774Z"
   },
   {
    "duration": 237,
    "start_time": "2022-09-09T13:28:13.937Z"
   },
   {
    "duration": 376,
    "start_time": "2022-09-09T13:28:28.126Z"
   },
   {
    "duration": 245,
    "start_time": "2022-09-09T13:28:41.474Z"
   },
   {
    "duration": 262,
    "start_time": "2022-09-09T13:28:45.684Z"
   },
   {
    "duration": 231,
    "start_time": "2022-09-09T13:28:52.032Z"
   },
   {
    "duration": 182,
    "start_time": "2022-09-09T13:29:01.422Z"
   },
   {
    "duration": 248,
    "start_time": "2022-09-09T13:29:07.839Z"
   },
   {
    "duration": 217,
    "start_time": "2022-09-09T13:30:44.546Z"
   },
   {
    "duration": 28,
    "start_time": "2022-09-09T13:33:33.598Z"
   },
   {
    "duration": 192,
    "start_time": "2022-09-09T13:33:42.046Z"
   },
   {
    "duration": 5,
    "start_time": "2022-09-09T13:34:34.239Z"
   },
   {
    "duration": 136,
    "start_time": "2022-09-09T13:34:35.126Z"
   },
   {
    "duration": 167,
    "start_time": "2022-09-09T13:34:41.369Z"
   },
   {
    "duration": 182,
    "start_time": "2022-09-09T13:37:19.086Z"
   },
   {
    "duration": 82,
    "start_time": "2022-09-09T13:37:32.282Z"
   },
   {
    "duration": 182,
    "start_time": "2022-09-09T13:37:36.986Z"
   },
   {
    "duration": 160,
    "start_time": "2022-09-09T13:37:43.688Z"
   },
   {
    "duration": 162,
    "start_time": "2022-09-09T13:38:33.626Z"
   },
   {
    "duration": 158,
    "start_time": "2022-09-09T13:38:38.428Z"
   },
   {
    "duration": 210,
    "start_time": "2022-09-09T13:38:48.995Z"
   },
   {
    "duration": 155,
    "start_time": "2022-09-09T13:38:53.471Z"
   },
   {
    "duration": 176,
    "start_time": "2022-09-09T13:39:08.862Z"
   },
   {
    "duration": 274,
    "start_time": "2022-09-09T13:39:34.641Z"
   },
   {
    "duration": 137,
    "start_time": "2022-09-09T13:40:21.290Z"
   },
   {
    "duration": 244,
    "start_time": "2022-09-09T13:40:28.337Z"
   },
   {
    "duration": 165,
    "start_time": "2022-09-09T13:40:36.480Z"
   },
   {
    "duration": 181,
    "start_time": "2022-09-09T13:40:40.700Z"
   },
   {
    "duration": 244,
    "start_time": "2022-09-09T13:40:49.484Z"
   },
   {
    "duration": 275,
    "start_time": "2022-09-09T13:40:59.180Z"
   },
   {
    "duration": 163,
    "start_time": "2022-09-09T13:41:23.264Z"
   },
   {
    "duration": 152,
    "start_time": "2022-09-09T13:41:50.631Z"
   },
   {
    "duration": 164,
    "start_time": "2022-09-09T13:41:57.093Z"
   },
   {
    "duration": 187,
    "start_time": "2022-09-09T13:42:02.947Z"
   },
   {
    "duration": 235,
    "start_time": "2022-09-09T13:42:41.892Z"
   },
   {
    "duration": 5,
    "start_time": "2022-09-09T13:43:10.348Z"
   },
   {
    "duration": 186,
    "start_time": "2022-09-09T13:45:08.778Z"
   },
   {
    "duration": 240,
    "start_time": "2022-09-09T13:45:14.383Z"
   },
   {
    "duration": 186,
    "start_time": "2022-09-09T13:46:53.852Z"
   },
   {
    "duration": 166,
    "start_time": "2022-09-09T13:47:00.579Z"
   },
   {
    "duration": 9,
    "start_time": "2022-09-09T13:47:32.433Z"
   },
   {
    "duration": 162,
    "start_time": "2022-09-09T13:47:46.238Z"
   },
   {
    "duration": 183,
    "start_time": "2022-09-09T13:48:13.959Z"
   },
   {
    "duration": 168,
    "start_time": "2022-09-09T13:48:29.658Z"
   },
   {
    "duration": 237,
    "start_time": "2022-09-09T13:48:35.697Z"
   },
   {
    "duration": 165,
    "start_time": "2022-09-09T13:48:45.337Z"
   },
   {
    "duration": 186,
    "start_time": "2022-09-09T13:50:31.277Z"
   },
   {
    "duration": 247,
    "start_time": "2022-09-09T13:50:38.339Z"
   },
   {
    "duration": 184,
    "start_time": "2022-09-09T13:50:46.766Z"
   },
   {
    "duration": 193,
    "start_time": "2022-09-09T13:50:52.345Z"
   },
   {
    "duration": 181,
    "start_time": "2022-09-09T13:51:19.798Z"
   },
   {
    "duration": 148,
    "start_time": "2022-09-09T13:51:38.949Z"
   },
   {
    "duration": 163,
    "start_time": "2022-09-09T13:51:39.940Z"
   },
   {
    "duration": 197,
    "start_time": "2022-09-09T13:53:08.156Z"
   },
   {
    "duration": 182,
    "start_time": "2022-09-09T13:53:12.645Z"
   },
   {
    "duration": 156,
    "start_time": "2022-09-09T13:53:20.135Z"
   },
   {
    "duration": 230,
    "start_time": "2022-09-09T13:53:24.746Z"
   },
   {
    "duration": 258,
    "start_time": "2022-09-09T13:54:25.398Z"
   },
   {
    "duration": 193,
    "start_time": "2022-09-09T13:55:29.857Z"
   },
   {
    "duration": 194,
    "start_time": "2022-09-09T13:56:39.531Z"
   },
   {
    "duration": 202,
    "start_time": "2022-09-09T13:57:19.782Z"
   },
   {
    "duration": 515,
    "start_time": "2022-09-09T15:16:21.040Z"
   },
   {
    "duration": 48,
    "start_time": "2022-09-09T15:16:21.557Z"
   },
   {
    "duration": 14,
    "start_time": "2022-09-09T15:16:21.606Z"
   },
   {
    "duration": 3,
    "start_time": "2022-09-09T15:16:21.622Z"
   },
   {
    "duration": 2086,
    "start_time": "2022-09-09T15:16:21.627Z"
   },
   {
    "duration": 11,
    "start_time": "2022-09-09T15:16:23.715Z"
   },
   {
    "duration": 7,
    "start_time": "2022-09-09T15:16:23.728Z"
   },
   {
    "duration": 19,
    "start_time": "2022-09-09T15:16:23.737Z"
   },
   {
    "duration": 44,
    "start_time": "2022-09-09T15:16:23.758Z"
   },
   {
    "duration": 9,
    "start_time": "2022-09-09T15:16:23.805Z"
   },
   {
    "duration": 3,
    "start_time": "2022-09-09T15:16:23.815Z"
   },
   {
    "duration": 9,
    "start_time": "2022-09-09T15:16:23.820Z"
   },
   {
    "duration": 25,
    "start_time": "2022-09-09T15:16:23.830Z"
   },
   {
    "duration": 6,
    "start_time": "2022-09-09T15:16:23.857Z"
   },
   {
    "duration": 2,
    "start_time": "2022-09-09T15:16:23.865Z"
   },
   {
    "duration": 1059,
    "start_time": "2022-09-09T15:16:23.868Z"
   },
   {
    "duration": 1007,
    "start_time": "2022-09-09T15:16:24.929Z"
   },
   {
    "duration": 27,
    "start_time": "2022-09-09T15:16:25.937Z"
   },
   {
    "duration": 14,
    "start_time": "2022-09-09T15:16:25.965Z"
   },
   {
    "duration": 3,
    "start_time": "2022-09-09T15:16:25.981Z"
   },
   {
    "duration": 32,
    "start_time": "2022-09-09T15:16:25.985Z"
   },
   {
    "duration": 80,
    "start_time": "2022-09-09T15:16:26.018Z"
   },
   {
    "duration": 7,
    "start_time": "2022-09-09T15:16:26.099Z"
   },
   {
    "duration": 34,
    "start_time": "2022-09-09T15:16:26.107Z"
   },
   {
    "duration": 17,
    "start_time": "2022-09-09T15:16:26.142Z"
   },
   {
    "duration": 8,
    "start_time": "2022-09-09T15:16:26.160Z"
   },
   {
    "duration": 15,
    "start_time": "2022-09-09T15:16:26.170Z"
   },
   {
    "duration": 4,
    "start_time": "2022-09-09T15:16:26.189Z"
   },
   {
    "duration": 8,
    "start_time": "2022-09-09T15:16:26.194Z"
   },
   {
    "duration": 7,
    "start_time": "2022-09-09T15:16:26.203Z"
   },
   {
    "duration": 74,
    "start_time": "2022-09-09T15:16:26.211Z"
   },
   {
    "duration": 9,
    "start_time": "2022-09-09T15:16:26.287Z"
   },
   {
    "duration": 47,
    "start_time": "2022-09-09T15:16:26.298Z"
   },
   {
    "duration": 14,
    "start_time": "2022-09-09T15:16:26.347Z"
   },
   {
    "duration": 7,
    "start_time": "2022-09-09T15:16:26.362Z"
   },
   {
    "duration": 6,
    "start_time": "2022-09-09T15:16:26.370Z"
   },
   {
    "duration": 79,
    "start_time": "2022-09-09T15:16:26.377Z"
   },
   {
    "duration": 15,
    "start_time": "2022-09-09T15:16:26.457Z"
   },
   {
    "duration": 4,
    "start_time": "2022-09-09T15:16:26.473Z"
   },
   {
    "duration": 6,
    "start_time": "2022-09-09T15:16:26.478Z"
   },
   {
    "duration": 10,
    "start_time": "2022-09-09T15:16:26.485Z"
   },
   {
    "duration": 8,
    "start_time": "2022-09-09T15:16:26.497Z"
   },
   {
    "duration": 5,
    "start_time": "2022-09-09T15:16:26.506Z"
   },
   {
    "duration": 3,
    "start_time": "2022-09-09T15:16:26.513Z"
   },
   {
    "duration": 564,
    "start_time": "2022-09-09T15:16:26.517Z"
   },
   {
    "duration": 3,
    "start_time": "2022-09-09T15:16:27.083Z"
   },
   {
    "duration": 7,
    "start_time": "2022-09-09T15:16:27.088Z"
   },
   {
    "duration": 39,
    "start_time": "2022-09-09T15:16:27.097Z"
   },
   {
    "duration": 18,
    "start_time": "2022-09-09T15:16:27.137Z"
   },
   {
    "duration": 45,
    "start_time": "2022-09-09T15:16:27.156Z"
   },
   {
    "duration": 165,
    "start_time": "2022-09-09T15:16:27.202Z"
   },
   {
    "duration": 209,
    "start_time": "2022-09-09T15:16:27.369Z"
   },
   {
    "duration": 156,
    "start_time": "2022-09-09T15:16:27.580Z"
   },
   {
    "duration": 144,
    "start_time": "2022-09-09T15:16:27.738Z"
   },
   {
    "duration": 173,
    "start_time": "2022-09-09T15:16:27.884Z"
   },
   {
    "duration": 168,
    "start_time": "2022-09-09T15:16:28.058Z"
   },
   {
    "duration": 143,
    "start_time": "2022-09-09T15:16:28.228Z"
   },
   {
    "duration": 209,
    "start_time": "2022-09-09T15:16:28.373Z"
   },
   {
    "duration": 195,
    "start_time": "2022-09-09T15:16:28.584Z"
   },
   {
    "duration": 164,
    "start_time": "2022-09-09T15:16:28.781Z"
   },
   {
    "duration": 194,
    "start_time": "2022-09-09T15:16:28.947Z"
   },
   {
    "duration": 164,
    "start_time": "2022-09-09T15:16:29.142Z"
   },
   {
    "duration": 183,
    "start_time": "2022-09-09T15:16:29.308Z"
   },
   {
    "duration": 182,
    "start_time": "2022-09-09T15:16:29.492Z"
   },
   {
    "duration": 176,
    "start_time": "2022-09-09T15:16:29.675Z"
   },
   {
    "duration": 384,
    "start_time": "2022-09-09T15:16:29.852Z"
   },
   {
    "duration": 157,
    "start_time": "2022-09-09T15:16:30.238Z"
   },
   {
    "duration": 147,
    "start_time": "2022-09-09T15:16:30.397Z"
   },
   {
    "duration": 123,
    "start_time": "2022-09-09T15:16:30.546Z"
   },
   {
    "duration": 8,
    "start_time": "2022-09-09T15:16:30.670Z"
   },
   {
    "duration": 14,
    "start_time": "2022-09-09T15:16:30.680Z"
   },
   {
    "duration": 1265,
    "start_time": "2022-09-09T15:16:30.695Z"
   },
   {
    "duration": 163,
    "start_time": "2022-09-09T15:16:31.961Z"
   },
   {
    "duration": 15,
    "start_time": "2022-09-09T15:16:32.126Z"
   },
   {
    "duration": 3,
    "start_time": "2022-09-09T15:16:32.143Z"
   },
   {
    "duration": 8,
    "start_time": "2022-09-09T15:16:32.155Z"
   },
   {
    "duration": 5,
    "start_time": "2022-09-09T15:16:32.164Z"
   },
   {
    "duration": 12,
    "start_time": "2022-09-09T15:16:32.170Z"
   },
   {
    "duration": 8,
    "start_time": "2022-09-09T15:16:32.184Z"
   },
   {
    "duration": 35,
    "start_time": "2022-09-09T15:16:32.193Z"
   },
   {
    "duration": 171,
    "start_time": "2022-09-09T15:16:32.230Z"
   },
   {
    "duration": 4,
    "start_time": "2022-09-09T15:16:32.405Z"
   },
   {
    "duration": 7,
    "start_time": "2022-09-09T15:16:32.410Z"
   },
   {
    "duration": 12,
    "start_time": "2022-09-09T15:16:32.418Z"
   },
   {
    "duration": 192,
    "start_time": "2022-09-09T15:16:32.431Z"
   },
   {
    "duration": 21,
    "start_time": "2022-09-09T15:16:32.624Z"
   },
   {
    "duration": 120,
    "start_time": "2022-09-09T15:34:31.398Z"
   }
  ],
  "kernelspec": {
   "display_name": "Python 3 (ipykernel)",
   "language": "python",
   "name": "python3"
  },
  "language_info": {
   "codemirror_mode": {
    "name": "ipython",
    "version": 3
   },
   "file_extension": ".py",
   "mimetype": "text/x-python",
   "name": "python",
   "nbconvert_exporter": "python",
   "pygments_lexer": "ipython3",
   "version": "3.9.12"
  },
  "toc": {
   "base_numbering": 1,
   "nav_menu": {},
   "number_sections": true,
   "sideBar": true,
   "skip_h1_title": true,
   "title_cell": "Table of Contents",
   "title_sidebar": "Contents",
   "toc_cell": false,
   "toc_position": {},
   "toc_section_display": true,
   "toc_window_display": true
  }
 },
 "nbformat": 4,
 "nbformat_minor": 2
}
